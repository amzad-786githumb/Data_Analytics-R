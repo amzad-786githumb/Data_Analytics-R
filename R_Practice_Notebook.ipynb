{
  "nbformat": 4,
  "nbformat_minor": 0,
  "metadata": {
    "colab": {
      "provenance": [],
      "authorship_tag": "ABX9TyPEHDbaTFNY7JZAbannpCYe",
      "include_colab_link": true
    },
    "kernelspec": {
      "name": "ir",
      "display_name": "R"
    },
    "language_info": {
      "name": "R"
    }
  },
  "cells": [
    {
      "cell_type": "markdown",
      "metadata": {
        "id": "view-in-github",
        "colab_type": "text"
      },
      "source": [
        "<a href=\"https://colab.research.google.com/github/amzad-786githumb/Data_Analytics-R/blob/main/R_Practice_Notebook.ipynb\" target=\"_parent\"><img src=\"https://colab.research.google.com/assets/colab-badge.svg\" alt=\"Open In Colab\"/></a>"
      ]
    },
    {
      "cell_type": "markdown",
      "source": [
        "# R Nuts and Bolts"
      ],
      "metadata": {
        "id": "VKCkFshX8DED"
      }
    },
    {
      "cell_type": "code",
      "execution_count": null,
      "metadata": {
        "id": "XEXO5Eb07z0b"
      },
      "outputs": [],
      "source": [
        "x <- 1"
      ]
    },
    {
      "cell_type": "code",
      "source": [
        "print(x)"
      ],
      "metadata": {
        "colab": {
          "base_uri": "https://localhost:8080/"
        },
        "id": "qSAzxgRK8Nwb",
        "outputId": "406b0935-98bf-4989-941e-8e4bba004c3c"
      },
      "execution_count": null,
      "outputs": [
        {
          "output_type": "stream",
          "name": "stdout",
          "text": [
            "[1] 1\n"
          ]
        }
      ]
    },
    {
      "cell_type": "code",
      "source": [
        "x"
      ],
      "metadata": {
        "colab": {
          "base_uri": "https://localhost:8080/",
          "height": 34
        },
        "id": "j3XevqM48PIu",
        "outputId": "456b4b60-db30-4e68-9a42-3ad0970526a0"
      },
      "execution_count": null,
      "outputs": [
        {
          "output_type": "display_data",
          "data": {
            "text/html": [
              "1"
            ],
            "text/markdown": "1",
            "text/latex": "1",
            "text/plain": [
              "[1] 1"
            ]
          },
          "metadata": {}
        }
      ]
    },
    {
      "cell_type": "code",
      "source": [
        "x <- 10:30"
      ],
      "metadata": {
        "id": "LKe-BQ6v8hwb"
      },
      "execution_count": null,
      "outputs": []
    },
    {
      "cell_type": "code",
      "source": [
        "x"
      ],
      "metadata": {
        "colab": {
          "base_uri": "https://localhost:8080/",
          "height": 34
        },
        "id": "u-gFmj2J9FZp",
        "outputId": "3edcb790-5f2e-4fbd-bb66-f672c3d17c6b"
      },
      "execution_count": null,
      "outputs": [
        {
          "output_type": "display_data",
          "data": {
            "text/html": [
              "<style>\n",
              ".list-inline {list-style: none; margin:0; padding: 0}\n",
              ".list-inline>li {display: inline-block}\n",
              ".list-inline>li:not(:last-child)::after {content: \"\\00b7\"; padding: 0 .5ex}\n",
              "</style>\n",
              "<ol class=list-inline><li>10</li><li>11</li><li>12</li><li>13</li><li>14</li><li>15</li><li>16</li><li>17</li><li>18</li><li>19</li><li>20</li><li>21</li><li>22</li><li>23</li><li>24</li><li>25</li><li>26</li><li>27</li><li>28</li><li>29</li><li>30</li></ol>\n"
            ],
            "text/markdown": "1. 10\n2. 11\n3. 12\n4. 13\n5. 14\n6. 15\n7. 16\n8. 17\n9. 18\n10. 19\n11. 20\n12. 21\n13. 22\n14. 23\n15. 24\n16. 25\n17. 26\n18. 27\n19. 28\n20. 29\n21. 30\n\n\n",
            "text/latex": "\\begin{enumerate*}\n\\item 10\n\\item 11\n\\item 12\n\\item 13\n\\item 14\n\\item 15\n\\item 16\n\\item 17\n\\item 18\n\\item 19\n\\item 20\n\\item 21\n\\item 22\n\\item 23\n\\item 24\n\\item 25\n\\item 26\n\\item 27\n\\item 28\n\\item 29\n\\item 30\n\\end{enumerate*}\n",
            "text/plain": [
              " [1] 10 11 12 13 14 15 16 17 18 19 20 21 22 23 24 25 26 27 28 29 30"
            ]
          },
          "metadata": {}
        }
      ]
    },
    {
      "cell_type": "markdown",
      "source": [
        "# R Objects\n",
        "\n",
        "- character\n",
        "-numeric (real number)\n",
        "-integer\n",
        "-complex\n",
        "-logical (True/False)"
      ],
      "metadata": {
        "id": "zR-KgShh9VG5"
      }
    },
    {
      "cell_type": "markdown",
      "source": [
        "## Creating vectors\n"
      ],
      "metadata": {
        "id": "_M2MP8gM-ZNH"
      }
    },
    {
      "cell_type": "code",
      "source": [
        "x1 <- c(0.5, 0.6)  ##numeric"
      ],
      "metadata": {
        "id": "haKS9mLM9GU9"
      },
      "execution_count": null,
      "outputs": []
    },
    {
      "cell_type": "code",
      "source": [
        "x2 <- c(TRUE, FALSE) ##logical"
      ],
      "metadata": {
        "id": "Ffe-PbrV-htH"
      },
      "execution_count": null,
      "outputs": []
    },
    {
      "cell_type": "code",
      "source": [
        "x3 <- c(T, F) ##logical"
      ],
      "metadata": {
        "id": "LVE47iFT-mKd"
      },
      "execution_count": null,
      "outputs": []
    },
    {
      "cell_type": "code",
      "source": [
        "x4 <- c(\"a\", \"b\", \"c\") ##character"
      ],
      "metadata": {
        "id": "ib4Vbv6S-v3T"
      },
      "execution_count": null,
      "outputs": []
    },
    {
      "cell_type": "code",
      "source": [
        "x5 <- 9:29"
      ],
      "metadata": {
        "id": "s8nlZOmT-2XV"
      },
      "execution_count": null,
      "outputs": []
    },
    {
      "cell_type": "code",
      "source": [
        "x6 <- c(1+0i, 2+4i) ##complex"
      ],
      "metadata": {
        "id": "MnfS-9Fl-41d"
      },
      "execution_count": null,
      "outputs": []
    },
    {
      "cell_type": "code",
      "source": [
        "print(x1)"
      ],
      "metadata": {
        "colab": {
          "base_uri": "https://localhost:8080/"
        },
        "id": "slsj9ova_AKZ",
        "outputId": "55f2e4fb-eee6-4adf-fbe9-704d87185b77"
      },
      "execution_count": null,
      "outputs": [
        {
          "output_type": "stream",
          "name": "stdout",
          "text": [
            "[1] 0.5 0.6\n"
          ]
        }
      ]
    },
    {
      "cell_type": "code",
      "source": [
        "print(x2)"
      ],
      "metadata": {
        "colab": {
          "base_uri": "https://localhost:8080/"
        },
        "id": "I-Lgn9Mw_Ho2",
        "outputId": "2378f0c6-ce7c-4e76-dc51-69e1ac8d9546"
      },
      "execution_count": null,
      "outputs": [
        {
          "output_type": "stream",
          "name": "stdout",
          "text": [
            "[1]  TRUE FALSE\n"
          ]
        }
      ]
    },
    {
      "cell_type": "code",
      "source": [
        "print(x3)"
      ],
      "metadata": {
        "colab": {
          "base_uri": "https://localhost:8080/"
        },
        "id": "s4CRKmtb_Ses",
        "outputId": "d4611d8a-97e4-4a46-bb05-b11627663c76"
      },
      "execution_count": null,
      "outputs": [
        {
          "output_type": "stream",
          "name": "stdout",
          "text": [
            "[1]  TRUE FALSE\n"
          ]
        }
      ]
    },
    {
      "cell_type": "code",
      "source": [
        "print(x4)"
      ],
      "metadata": {
        "colab": {
          "base_uri": "https://localhost:8080/"
        },
        "id": "u5kXw2bl_T9i",
        "outputId": "2adc8e28-3b86-45dd-d069-388c3ab9a48b"
      },
      "execution_count": null,
      "outputs": [
        {
          "output_type": "stream",
          "name": "stdout",
          "text": [
            "[1] \"a\" \"b\" \"c\"\n"
          ]
        }
      ]
    },
    {
      "cell_type": "code",
      "source": [
        "print(x5)"
      ],
      "metadata": {
        "colab": {
          "base_uri": "https://localhost:8080/"
        },
        "id": "wE-PvFG6_VcF",
        "outputId": "8ab307cb-a501-40d3-fbc4-3bf9b7b1ee31"
      },
      "execution_count": null,
      "outputs": [
        {
          "output_type": "stream",
          "name": "stdout",
          "text": [
            " [1]  9 10 11 12 13 14 15 16 17 18 19 20 21 22 23 24 25 26 27 28 29\n"
          ]
        }
      ]
    },
    {
      "cell_type": "code",
      "source": [
        "print(x6)"
      ],
      "metadata": {
        "colab": {
          "base_uri": "https://localhost:8080/"
        },
        "id": "FdexDw7L_XWu",
        "outputId": "c7adb35b-3728-4f85-814e-8641e8286370"
      },
      "execution_count": null,
      "outputs": [
        {
          "output_type": "stream",
          "name": "stdout",
          "text": [
            "[1] 1+0i 2+4i\n"
          ]
        }
      ]
    },
    {
      "cell_type": "code",
      "source": [
        "#initialize vector\n",
        "\n",
        "y <- vector(\"numeric\", length=10)\n",
        "y"
      ],
      "metadata": {
        "colab": {
          "base_uri": "https://localhost:8080/",
          "height": 34
        },
        "id": "vZmMn5T7_aRi",
        "outputId": "f98ca7ec-8711-4f97-8b1c-b459cf78c78b"
      },
      "execution_count": null,
      "outputs": [
        {
          "output_type": "display_data",
          "data": {
            "text/html": [
              "<style>\n",
              ".list-inline {list-style: none; margin:0; padding: 0}\n",
              ".list-inline>li {display: inline-block}\n",
              ".list-inline>li:not(:last-child)::after {content: \"\\00b7\"; padding: 0 .5ex}\n",
              "</style>\n",
              "<ol class=list-inline><li>0</li><li>0</li><li>0</li><li>0</li><li>0</li><li>0</li><li>0</li><li>0</li><li>0</li><li>0</li></ol>\n"
            ],
            "text/markdown": "1. 0\n2. 0\n3. 0\n4. 0\n5. 0\n6. 0\n7. 0\n8. 0\n9. 0\n10. 0\n\n\n",
            "text/latex": "\\begin{enumerate*}\n\\item 0\n\\item 0\n\\item 0\n\\item 0\n\\item 0\n\\item 0\n\\item 0\n\\item 0\n\\item 0\n\\item 0\n\\end{enumerate*}\n",
            "text/plain": [
              " [1] 0 0 0 0 0 0 0 0 0 0"
            ]
          },
          "metadata": {}
        }
      ]
    },
    {
      "cell_type": "markdown",
      "source": [
        "## Mixing Objects"
      ],
      "metadata": {
        "id": "QXZjOkOq_t_M"
      }
    },
    {
      "cell_type": "code",
      "source": [
        "y1 <- c(1.7, \"a\") ##character\n",
        "y2 <- c(TRUE, 2) ##numeric\n",
        "y3 <- c(\"a\", TRUE) ## character"
      ],
      "metadata": {
        "id": "PCz89-kP_prs"
      },
      "execution_count": null,
      "outputs": []
    },
    {
      "cell_type": "code",
      "source": [
        "print(y1)\n",
        "print(y2)\n",
        "print(y3)"
      ],
      "metadata": {
        "colab": {
          "base_uri": "https://localhost:8080/"
        },
        "id": "lpIzVUp0AA3U",
        "outputId": "1246d6dc-6bfa-4263-c52f-af7e85b74fa0"
      },
      "execution_count": null,
      "outputs": [
        {
          "output_type": "stream",
          "name": "stdout",
          "text": [
            "[1] \"1.7\" \"a\"  \n",
            "[1] 1 2\n",
            "[1] \"a\"    \"TRUE\"\n"
          ]
        }
      ]
    },
    {
      "cell_type": "markdown",
      "source": [
        "## Explicit Coercion"
      ],
      "metadata": {
        "id": "xZGuXbfpAUtQ"
      }
    },
    {
      "cell_type": "code",
      "source": [
        "x <- 0:6\n",
        "class(x)"
      ],
      "metadata": {
        "colab": {
          "base_uri": "https://localhost:8080/",
          "height": 34
        },
        "id": "2oY7iuAtAEuG",
        "outputId": "e27aeadd-366f-48d6-97c1-8354f90087a6"
      },
      "execution_count": null,
      "outputs": [
        {
          "output_type": "display_data",
          "data": {
            "text/html": [
              "'integer'"
            ],
            "text/markdown": "'integer'",
            "text/latex": "'integer'",
            "text/plain": [
              "[1] \"integer\""
            ]
          },
          "metadata": {}
        }
      ]
    },
    {
      "cell_type": "code",
      "source": [
        "as.numeric(x)"
      ],
      "metadata": {
        "colab": {
          "base_uri": "https://localhost:8080/",
          "height": 34
        },
        "id": "F_RPfTt5Aees",
        "outputId": "c10ab447-c5c0-49d0-dbf0-360e15842332"
      },
      "execution_count": null,
      "outputs": [
        {
          "output_type": "display_data",
          "data": {
            "text/html": [
              "<style>\n",
              ".list-inline {list-style: none; margin:0; padding: 0}\n",
              ".list-inline>li {display: inline-block}\n",
              ".list-inline>li:not(:last-child)::after {content: \"\\00b7\"; padding: 0 .5ex}\n",
              "</style>\n",
              "<ol class=list-inline><li>0</li><li>1</li><li>2</li><li>3</li><li>4</li><li>5</li><li>6</li></ol>\n"
            ],
            "text/markdown": "1. 0\n2. 1\n3. 2\n4. 3\n5. 4\n6. 5\n7. 6\n\n\n",
            "text/latex": "\\begin{enumerate*}\n\\item 0\n\\item 1\n\\item 2\n\\item 3\n\\item 4\n\\item 5\n\\item 6\n\\end{enumerate*}\n",
            "text/plain": [
              "[1] 0 1 2 3 4 5 6"
            ]
          },
          "metadata": {}
        }
      ]
    },
    {
      "cell_type": "code",
      "source": [
        "as.logical(x)"
      ],
      "metadata": {
        "colab": {
          "base_uri": "https://localhost:8080/",
          "height": 34
        },
        "id": "KxeZ0P2PAhKk",
        "outputId": "fc800e8b-77a1-4f06-e747-a523e1c2167e"
      },
      "execution_count": null,
      "outputs": [
        {
          "output_type": "display_data",
          "data": {
            "text/html": [
              "<style>\n",
              ".list-inline {list-style: none; margin:0; padding: 0}\n",
              ".list-inline>li {display: inline-block}\n",
              ".list-inline>li:not(:last-child)::after {content: \"\\00b7\"; padding: 0 .5ex}\n",
              "</style>\n",
              "<ol class=list-inline><li>FALSE</li><li>TRUE</li><li>TRUE</li><li>TRUE</li><li>TRUE</li><li>TRUE</li><li>TRUE</li></ol>\n"
            ],
            "text/markdown": "1. FALSE\n2. TRUE\n3. TRUE\n4. TRUE\n5. TRUE\n6. TRUE\n7. TRUE\n\n\n",
            "text/latex": "\\begin{enumerate*}\n\\item FALSE\n\\item TRUE\n\\item TRUE\n\\item TRUE\n\\item TRUE\n\\item TRUE\n\\item TRUE\n\\end{enumerate*}\n",
            "text/plain": [
              "[1] FALSE  TRUE  TRUE  TRUE  TRUE  TRUE  TRUE"
            ]
          },
          "metadata": {}
        }
      ]
    },
    {
      "cell_type": "code",
      "source": [
        "as.character(x)"
      ],
      "metadata": {
        "colab": {
          "base_uri": "https://localhost:8080/",
          "height": 34
        },
        "id": "ZAsBb2UuAkiz",
        "outputId": "6b874cd8-ff3d-4f4a-c5c3-444dfd93fa8b"
      },
      "execution_count": null,
      "outputs": [
        {
          "output_type": "display_data",
          "data": {
            "text/html": [
              "<style>\n",
              ".list-inline {list-style: none; margin:0; padding: 0}\n",
              ".list-inline>li {display: inline-block}\n",
              ".list-inline>li:not(:last-child)::after {content: \"\\00b7\"; padding: 0 .5ex}\n",
              "</style>\n",
              "<ol class=list-inline><li>'0'</li><li>'1'</li><li>'2'</li><li>'3'</li><li>'4'</li><li>'5'</li><li>'6'</li></ol>\n"
            ],
            "text/markdown": "1. '0'\n2. '1'\n3. '2'\n4. '3'\n5. '4'\n6. '5'\n7. '6'\n\n\n",
            "text/latex": "\\begin{enumerate*}\n\\item '0'\n\\item '1'\n\\item '2'\n\\item '3'\n\\item '4'\n\\item '5'\n\\item '6'\n\\end{enumerate*}\n",
            "text/plain": [
              "[1] \"0\" \"1\" \"2\" \"3\" \"4\" \"5\" \"6\""
            ]
          },
          "metadata": {}
        }
      ]
    },
    {
      "cell_type": "code",
      "source": [
        "x <- c(\"a\", \"b\", \"c\")\n",
        "as.numeric(x)"
      ],
      "metadata": {
        "colab": {
          "base_uri": "https://localhost:8080/",
          "height": 69
        },
        "id": "WLcyWzPoAmuv",
        "outputId": "e96f2997-5d09-4900-d0fe-3d5d77c0ab6e"
      },
      "execution_count": null,
      "outputs": [
        {
          "output_type": "stream",
          "name": "stderr",
          "text": [
            "Warning message:\n",
            "“NAs introduced by coercion”\n"
          ]
        },
        {
          "output_type": "display_data",
          "data": {
            "text/html": [
              "<style>\n",
              ".list-inline {list-style: none; margin:0; padding: 0}\n",
              ".list-inline>li {display: inline-block}\n",
              ".list-inline>li:not(:last-child)::after {content: \"\\00b7\"; padding: 0 .5ex}\n",
              "</style>\n",
              "<ol class=list-inline><li>&lt;NA&gt;</li><li>&lt;NA&gt;</li><li>&lt;NA&gt;</li></ol>\n"
            ],
            "text/markdown": "1. &lt;NA&gt;\n2. &lt;NA&gt;\n3. &lt;NA&gt;\n\n\n",
            "text/latex": "\\begin{enumerate*}\n\\item <NA>\n\\item <NA>\n\\item <NA>\n\\end{enumerate*}\n",
            "text/plain": [
              "[1] NA NA NA"
            ]
          },
          "metadata": {}
        }
      ]
    },
    {
      "cell_type": "code",
      "source": [
        "as.logical(x)"
      ],
      "metadata": {
        "colab": {
          "base_uri": "https://localhost:8080/",
          "height": 34
        },
        "id": "nEuJic71AyWs",
        "outputId": "70c92cb5-b3c5-4999-dbe9-b143e5f6bfed"
      },
      "execution_count": null,
      "outputs": [
        {
          "output_type": "display_data",
          "data": {
            "text/html": [
              "<style>\n",
              ".list-inline {list-style: none; margin:0; padding: 0}\n",
              ".list-inline>li {display: inline-block}\n",
              ".list-inline>li:not(:last-child)::after {content: \"\\00b7\"; padding: 0 .5ex}\n",
              "</style>\n",
              "<ol class=list-inline><li>&lt;NA&gt;</li><li>&lt;NA&gt;</li><li>&lt;NA&gt;</li></ol>\n"
            ],
            "text/markdown": "1. &lt;NA&gt;\n2. &lt;NA&gt;\n3. &lt;NA&gt;\n\n\n",
            "text/latex": "\\begin{enumerate*}\n\\item <NA>\n\\item <NA>\n\\item <NA>\n\\end{enumerate*}\n",
            "text/plain": [
              "[1] NA NA NA"
            ]
          },
          "metadata": {}
        }
      ]
    },
    {
      "cell_type": "code",
      "source": [
        "as.complex(x)"
      ],
      "metadata": {
        "colab": {
          "base_uri": "https://localhost:8080/",
          "height": 69
        },
        "id": "q0wPvADTA1pI",
        "outputId": "502eb550-067b-4a68-a5e5-b1999069ab9a"
      },
      "execution_count": null,
      "outputs": [
        {
          "output_type": "stream",
          "name": "stderr",
          "text": [
            "Warning message:\n",
            "“NAs introduced by coercion”\n"
          ]
        },
        {
          "output_type": "display_data",
          "data": {
            "text/html": [
              "<style>\n",
              ".list-inline {list-style: none; margin:0; padding: 0}\n",
              ".list-inline>li {display: inline-block}\n",
              ".list-inline>li:not(:last-child)::after {content: \"\\00b7\"; padding: 0 .5ex}\n",
              "</style>\n",
              "<ol class=list-inline><li>&lt;NA&gt;</li><li>&lt;NA&gt;</li><li>&lt;NA&gt;</li></ol>\n"
            ],
            "text/markdown": "1. &lt;NA&gt;\n2. &lt;NA&gt;\n3. &lt;NA&gt;\n\n\n",
            "text/latex": "\\begin{enumerate*}\n\\item <NA>\n\\item <NA>\n\\item <NA>\n\\end{enumerate*}\n",
            "text/plain": [
              "[1] NA NA NA"
            ]
          },
          "metadata": {}
        }
      ]
    },
    {
      "cell_type": "markdown",
      "source": [
        "# Matrices\n",
        "\n",
        "Matrices are vectors with a dimension attribute"
      ],
      "metadata": {
        "id": "dlqx83tpA99n"
      }
    },
    {
      "cell_type": "code",
      "source": [
        "m <- matrix(nrow=2, ncol=3)\n",
        "m"
      ],
      "metadata": {
        "colab": {
          "base_uri": "https://localhost:8080/",
          "height": 114
        },
        "id": "9alPL6zCA3m_",
        "outputId": "5cc3e8b7-4fd8-43a1-a9d0-9739ffe75132"
      },
      "execution_count": null,
      "outputs": [
        {
          "output_type": "display_data",
          "data": {
            "text/html": [
              "<table class=\"dataframe\">\n",
              "<caption>A matrix: 2 × 3 of type lgl</caption>\n",
              "<tbody>\n",
              "\t<tr><td>NA</td><td>NA</td><td>NA</td></tr>\n",
              "\t<tr><td>NA</td><td>NA</td><td>NA</td></tr>\n",
              "</tbody>\n",
              "</table>\n"
            ],
            "text/markdown": "\nA matrix: 2 × 3 of type lgl\n\n| NA | NA | NA |\n| NA | NA | NA |\n\n",
            "text/latex": "A matrix: 2 × 3 of type lgl\n\\begin{tabular}{lll}\n\t NA & NA & NA\\\\\n\t NA & NA & NA\\\\\n\\end{tabular}\n",
            "text/plain": [
              "     [,1] [,2] [,3]\n",
              "[1,] NA   NA   NA  \n",
              "[2,] NA   NA   NA  "
            ]
          },
          "metadata": {}
        }
      ]
    },
    {
      "cell_type": "code",
      "source": [
        "dim(m)"
      ],
      "metadata": {
        "colab": {
          "base_uri": "https://localhost:8080/",
          "height": 34
        },
        "id": "uUltB5_BBMyu",
        "outputId": "11df7bff-1c0d-4e0a-8e26-8a419ee98c7a"
      },
      "execution_count": null,
      "outputs": [
        {
          "output_type": "display_data",
          "data": {
            "text/html": [
              "<style>\n",
              ".list-inline {list-style: none; margin:0; padding: 0}\n",
              ".list-inline>li {display: inline-block}\n",
              ".list-inline>li:not(:last-child)::after {content: \"\\00b7\"; padding: 0 .5ex}\n",
              "</style>\n",
              "<ol class=list-inline><li>2</li><li>3</li></ol>\n"
            ],
            "text/markdown": "1. 2\n2. 3\n\n\n",
            "text/latex": "\\begin{enumerate*}\n\\item 2\n\\item 3\n\\end{enumerate*}\n",
            "text/plain": [
              "[1] 2 3"
            ]
          },
          "metadata": {}
        }
      ]
    },
    {
      "cell_type": "code",
      "source": [
        "attributes(m)"
      ],
      "metadata": {
        "colab": {
          "base_uri": "https://localhost:8080/",
          "height": 52
        },
        "id": "vZ8bFGxVBTrP",
        "outputId": "cdbfe4a9-65d7-4af4-9f25-66f49baa122f"
      },
      "execution_count": null,
      "outputs": [
        {
          "output_type": "display_data",
          "data": {
            "text/html": [
              "<strong>$dim</strong> = <style>\n",
              ".list-inline {list-style: none; margin:0; padding: 0}\n",
              ".list-inline>li {display: inline-block}\n",
              ".list-inline>li:not(:last-child)::after {content: \"\\00b7\"; padding: 0 .5ex}\n",
              "</style>\n",
              "<ol class=list-inline><li>2</li><li>3</li></ol>\n"
            ],
            "text/markdown": "**$dim** = 1. 2\n2. 3\n\n\n",
            "text/latex": "\\textbf{\\$dim} = \\begin{enumerate*}\n\\item 2\n\\item 3\n\\end{enumerate*}\n",
            "text/plain": [
              "$dim\n",
              "[1] 2 3\n"
            ]
          },
          "metadata": {}
        }
      ]
    },
    {
      "cell_type": "code",
      "source": [
        "n <- matrix(1:6, nrow=2, ncol=3)\n",
        "n"
      ],
      "metadata": {
        "colab": {
          "base_uri": "https://localhost:8080/",
          "height": 132
        },
        "id": "8EQfB3AtBVci",
        "outputId": "dec4e2dd-be6d-4840-e429-a20d1ca1ff07"
      },
      "execution_count": null,
      "outputs": [
        {
          "output_type": "display_data",
          "data": {
            "text/html": [
              "<table class=\"dataframe\">\n",
              "<caption>A matrix: 2 × 3 of type int</caption>\n",
              "<tbody>\n",
              "\t<tr><td>1</td><td>3</td><td>5</td></tr>\n",
              "\t<tr><td>2</td><td>4</td><td>6</td></tr>\n",
              "</tbody>\n",
              "</table>\n"
            ],
            "text/markdown": "\nA matrix: 2 × 3 of type int\n\n| 1 | 3 | 5 |\n| 2 | 4 | 6 |\n\n",
            "text/latex": "A matrix: 2 × 3 of type int\n\\begin{tabular}{lll}\n\t 1 & 3 & 5\\\\\n\t 2 & 4 & 6\\\\\n\\end{tabular}\n",
            "text/plain": [
              "     [,1] [,2] [,3]\n",
              "[1,] 1    3    5   \n",
              "[2,] 2    4    6   "
            ]
          },
          "metadata": {}
        }
      ]
    },
    {
      "cell_type": "markdown",
      "source": [
        "Matrices can also be created directly from vectors by adding a dimension attribute."
      ],
      "metadata": {
        "id": "D298B3ojBi7y"
      }
    },
    {
      "cell_type": "code",
      "source": [
        "m <- 1:10\n",
        "m"
      ],
      "metadata": {
        "colab": {
          "base_uri": "https://localhost:8080/",
          "height": 34
        },
        "id": "njWwhTSpBfLR",
        "outputId": "1dc2ba98-b4f0-44c9-deb1-14f3369087a5"
      },
      "execution_count": null,
      "outputs": [
        {
          "output_type": "display_data",
          "data": {
            "text/html": [
              "<style>\n",
              ".list-inline {list-style: none; margin:0; padding: 0}\n",
              ".list-inline>li {display: inline-block}\n",
              ".list-inline>li:not(:last-child)::after {content: \"\\00b7\"; padding: 0 .5ex}\n",
              "</style>\n",
              "<ol class=list-inline><li>1</li><li>2</li><li>3</li><li>4</li><li>5</li><li>6</li><li>7</li><li>8</li><li>9</li><li>10</li></ol>\n"
            ],
            "text/markdown": "1. 1\n2. 2\n3. 3\n4. 4\n5. 5\n6. 6\n7. 7\n8. 8\n9. 9\n10. 10\n\n\n",
            "text/latex": "\\begin{enumerate*}\n\\item 1\n\\item 2\n\\item 3\n\\item 4\n\\item 5\n\\item 6\n\\item 7\n\\item 8\n\\item 9\n\\item 10\n\\end{enumerate*}\n",
            "text/plain": [
              " [1]  1  2  3  4  5  6  7  8  9 10"
            ]
          },
          "metadata": {}
        }
      ]
    },
    {
      "cell_type": "code",
      "source": [
        "dim(m) <-c(2,5)\n",
        "m"
      ],
      "metadata": {
        "colab": {
          "base_uri": "https://localhost:8080/",
          "height": 114
        },
        "id": "btHsntu1BmtV",
        "outputId": "7a9ebd6e-c566-4c93-8c2e-057d2e257ffc"
      },
      "execution_count": null,
      "outputs": [
        {
          "output_type": "display_data",
          "data": {
            "text/html": [
              "<table class=\"dataframe\">\n",
              "<caption>A matrix: 2 × 5 of type int</caption>\n",
              "<tbody>\n",
              "\t<tr><td>1</td><td>3</td><td>5</td><td>7</td><td> 9</td></tr>\n",
              "\t<tr><td>2</td><td>4</td><td>6</td><td>8</td><td>10</td></tr>\n",
              "</tbody>\n",
              "</table>\n"
            ],
            "text/markdown": "\nA matrix: 2 × 5 of type int\n\n| 1 | 3 | 5 | 7 |  9 |\n| 2 | 4 | 6 | 8 | 10 |\n\n",
            "text/latex": "A matrix: 2 × 5 of type int\n\\begin{tabular}{lllll}\n\t 1 & 3 & 5 & 7 &  9\\\\\n\t 2 & 4 & 6 & 8 & 10\\\\\n\\end{tabular}\n",
            "text/plain": [
              "     [,1] [,2] [,3] [,4] [,5]\n",
              "[1,] 1    3    5    7     9  \n",
              "[2,] 2    4    6    8    10  "
            ]
          },
          "metadata": {}
        }
      ]
    },
    {
      "cell_type": "code",
      "source": [
        "x < - 1:3\n",
        "y <- 10:12\n",
        "cbind(x,y)"
      ],
      "metadata": {
        "colab": {
          "base_uri": "https://localhost:8080/",
          "height": 265
        },
        "id": "jOLcX4qaBquQ",
        "outputId": "2f199348-ce86-4997-d9d9-6ce1bb1df1ad"
      },
      "execution_count": null,
      "outputs": [
        {
          "output_type": "stream",
          "name": "stderr",
          "text": [
            "Warning message in x < -1:3:\n",
            "“longer object length is not a multiple of shorter object length”\n"
          ]
        },
        {
          "output_type": "display_data",
          "data": {
            "text/html": [
              "<style>\n",
              ".list-inline {list-style: none; margin:0; padding: 0}\n",
              ".list-inline>li {display: inline-block}\n",
              ".list-inline>li:not(:last-child)::after {content: \"\\00b7\"; padding: 0 .5ex}\n",
              "</style>\n",
              "<ol class=list-inline><li>FALSE</li><li>FALSE</li><li>FALSE</li><li>FALSE</li><li>FALSE</li></ol>\n"
            ],
            "text/markdown": "1. FALSE\n2. FALSE\n3. FALSE\n4. FALSE\n5. FALSE\n\n\n",
            "text/latex": "\\begin{enumerate*}\n\\item FALSE\n\\item FALSE\n\\item FALSE\n\\item FALSE\n\\item FALSE\n\\end{enumerate*}\n",
            "text/plain": [
              "[1] FALSE FALSE FALSE FALSE FALSE"
            ]
          },
          "metadata": {}
        },
        {
          "output_type": "display_data",
          "data": {
            "text/html": [
              "<table class=\"dataframe\">\n",
              "<caption>A matrix: 3 × 2 of type chr</caption>\n",
              "<thead>\n",
              "\t<tr><th scope=col>x</th><th scope=col>y</th></tr>\n",
              "</thead>\n",
              "<tbody>\n",
              "\t<tr><td>a</td><td>10</td></tr>\n",
              "\t<tr><td>b</td><td>11</td></tr>\n",
              "\t<tr><td>c</td><td>12</td></tr>\n",
              "</tbody>\n",
              "</table>\n"
            ],
            "text/markdown": "\nA matrix: 3 × 2 of type chr\n\n| x | y |\n|---|---|\n| a | 10 |\n| b | 11 |\n| c | 12 |\n\n",
            "text/latex": "A matrix: 3 × 2 of type chr\n\\begin{tabular}{ll}\n x & y\\\\\n\\hline\n\t a & 10\\\\\n\t b & 11\\\\\n\t c & 12\\\\\n\\end{tabular}\n",
            "text/plain": [
              "     x y \n",
              "[1,] a 10\n",
              "[2,] b 11\n",
              "[3,] c 12"
            ]
          },
          "metadata": {}
        }
      ]
    },
    {
      "cell_type": "code",
      "source": [
        "rbind(x,y)"
      ],
      "metadata": {
        "colab": {
          "base_uri": "https://localhost:8080/",
          "height": 114
        },
        "id": "wN3uIIcvBz9M",
        "outputId": "1a8de61d-9911-4c32-c6e4-42857b0cc1f0"
      },
      "execution_count": null,
      "outputs": [
        {
          "output_type": "display_data",
          "data": {
            "text/html": [
              "<table class=\"dataframe\">\n",
              "<caption>A matrix: 2 × 3 of type chr</caption>\n",
              "<tbody>\n",
              "\t<tr><th scope=row>x</th><td>a </td><td>b </td><td>c </td></tr>\n",
              "\t<tr><th scope=row>y</th><td>10</td><td>11</td><td>12</td></tr>\n",
              "</tbody>\n",
              "</table>\n"
            ],
            "text/markdown": "\nA matrix: 2 × 3 of type chr\n\n| x | a  | b  | c  |\n| y | 10 | 11 | 12 |\n\n",
            "text/latex": "A matrix: 2 × 3 of type chr\n\\begin{tabular}{r|lll}\n\tx & a  & b  & c \\\\\n\ty & 10 & 11 & 12\\\\\n\\end{tabular}\n",
            "text/plain": [
              "  [,1] [,2] [,3]\n",
              "x a    b    c   \n",
              "y 10   11   12  "
            ]
          },
          "metadata": {}
        }
      ]
    },
    {
      "cell_type": "markdown",
      "source": [
        "# Lists\n",
        "\n",
        "Lists are special type of vector that can contain elements of different classes."
      ],
      "metadata": {
        "id": "VV5ZuAp_B7Bt"
      }
    },
    {
      "cell_type": "code",
      "source": [
        "x <- list(1, \"a\", TRUE, 1+4i)\n",
        "x"
      ],
      "metadata": {
        "colab": {
          "base_uri": "https://localhost:8080/",
          "height": 114
        },
        "id": "zMTSLTCQB4mR",
        "outputId": "c4f79cbb-8121-4066-cb8d-44550165a7a6"
      },
      "execution_count": null,
      "outputs": [
        {
          "output_type": "display_data",
          "data": {
            "text/html": [
              "<ol>\n",
              "\t<li>1</li>\n",
              "\t<li>'a'</li>\n",
              "\t<li>TRUE</li>\n",
              "\t<li>1+4i</li>\n",
              "</ol>\n"
            ],
            "text/markdown": "1. 1\n2. 'a'\n3. TRUE\n4. 1+4i\n\n\n",
            "text/latex": "\\begin{enumerate}\n\\item 1\n\\item 'a'\n\\item TRUE\n\\item 1+4i\n\\end{enumerate}\n",
            "text/plain": [
              "[[1]]\n",
              "[1] 1\n",
              "\n",
              "[[2]]\n",
              "[1] \"a\"\n",
              "\n",
              "[[3]]\n",
              "[1] TRUE\n",
              "\n",
              "[[4]]\n",
              "[1] 1+4i\n"
            ]
          },
          "metadata": {}
        }
      ]
    },
    {
      "cell_type": "code",
      "source": [
        "x <- vector(\"list\", length=5)\n",
        "x"
      ],
      "metadata": {
        "colab": {
          "base_uri": "https://localhost:8080/",
          "height": 132
        },
        "id": "A2y2PhTcCTST",
        "outputId": "4299ff45-b8fe-42a3-f4dd-de05ccb2ab39"
      },
      "execution_count": null,
      "outputs": [
        {
          "output_type": "display_data",
          "data": {
            "text/html": [
              "<ol>\n",
              "\t<li>NULL</li>\n",
              "\t<li>NULL</li>\n",
              "\t<li>NULL</li>\n",
              "\t<li>NULL</li>\n",
              "\t<li>NULL</li>\n",
              "</ol>\n"
            ],
            "text/markdown": "1. NULL\n2. NULL\n3. NULL\n4. NULL\n5. NULL\n\n\n",
            "text/latex": "\\begin{enumerate}\n\\item NULL\n\\item NULL\n\\item NULL\n\\item NULL\n\\item NULL\n\\end{enumerate}\n",
            "text/plain": [
              "[[1]]\n",
              "NULL\n",
              "\n",
              "[[2]]\n",
              "NULL\n",
              "\n",
              "[[3]]\n",
              "NULL\n",
              "\n",
              "[[4]]\n",
              "NULL\n",
              "\n",
              "[[5]]\n",
              "NULL\n"
            ]
          },
          "metadata": {}
        }
      ]
    },
    {
      "cell_type": "markdown",
      "source": [
        "#Factors\n",
        "\n",
        "Factors are used to represent categorical data and can be unordered or ordered."
      ],
      "metadata": {
        "id": "Fjl-ju6gCdy-"
      }
    },
    {
      "cell_type": "code",
      "source": [
        "x <- factor(c(\"yes\", \"yes\", \"no\", \"yes\", \"no\"))\n",
        "x"
      ],
      "metadata": {
        "colab": {
          "base_uri": "https://localhost:8080/",
          "height": 69
        },
        "id": "YzYMAggrCbHQ",
        "outputId": "2ab47d70-3b0a-46ca-85e4-829cde18c783"
      },
      "execution_count": null,
      "outputs": [
        {
          "output_type": "display_data",
          "data": {
            "text/html": [
              "<style>\n",
              ".list-inline {list-style: none; margin:0; padding: 0}\n",
              ".list-inline>li {display: inline-block}\n",
              ".list-inline>li:not(:last-child)::after {content: \"\\00b7\"; padding: 0 .5ex}\n",
              "</style>\n",
              "<ol class=list-inline><li>yes</li><li>yes</li><li>no</li><li>yes</li><li>no</li></ol>\n",
              "\n",
              "<details>\n",
              "\t<summary style=display:list-item;cursor:pointer>\n",
              "\t\t<strong>Levels</strong>:\n",
              "\t</summary>\n",
              "\t<style>\n",
              "\t.list-inline {list-style: none; margin:0; padding: 0}\n",
              "\t.list-inline>li {display: inline-block}\n",
              "\t.list-inline>li:not(:last-child)::after {content: \"\\00b7\"; padding: 0 .5ex}\n",
              "\t</style>\n",
              "\t<ol class=list-inline><li>'no'</li><li>'yes'</li></ol>\n",
              "</details>"
            ],
            "text/markdown": "1. yes\n2. yes\n3. no\n4. yes\n5. no\n\n\n\n**Levels**: 1. 'no'\n2. 'yes'\n\n\n",
            "text/latex": "\\begin{enumerate*}\n\\item yes\n\\item yes\n\\item no\n\\item yes\n\\item no\n\\end{enumerate*}\n\n\\emph{Levels}: \\begin{enumerate*}\n\\item 'no'\n\\item 'yes'\n\\end{enumerate*}\n",
            "text/plain": [
              "[1] yes yes no  yes no \n",
              "Levels: no yes"
            ]
          },
          "metadata": {}
        }
      ]
    },
    {
      "cell_type": "code",
      "source": [
        "table(x)"
      ],
      "metadata": {
        "colab": {
          "base_uri": "https://localhost:8080/",
          "height": 69
        },
        "id": "iyU0cPhdC4_7",
        "outputId": "7d17164c-7bfd-432e-e084-61b2b3742e91"
      },
      "execution_count": null,
      "outputs": [
        {
          "output_type": "display_data",
          "data": {
            "text/plain": [
              "x\n",
              " no yes \n",
              "  2   3 "
            ]
          },
          "metadata": {}
        }
      ]
    },
    {
      "cell_type": "code",
      "source": [
        "#see the underlying representation of factor\n",
        "\n",
        "unclass(x)"
      ],
      "metadata": {
        "colab": {
          "base_uri": "https://localhost:8080/",
          "height": 34
        },
        "id": "IB-WXeaPC70G",
        "outputId": "33621ad4-15a0-459c-9c55-426c8168ec58"
      },
      "execution_count": null,
      "outputs": [
        {
          "output_type": "display_data",
          "data": {
            "text/html": [
              "<style>\n",
              ".list-inline {list-style: none; margin:0; padding: 0}\n",
              ".list-inline>li {display: inline-block}\n",
              ".list-inline>li:not(:last-child)::after {content: \"\\00b7\"; padding: 0 .5ex}\n",
              "</style>\n",
              "<ol class=list-inline><li>2</li><li>2</li><li>1</li><li>2</li><li>1</li></ol>\n"
            ],
            "text/markdown": "1. 2\n2. 2\n3. 1\n4. 2\n5. 1\n\n\n",
            "text/latex": "\\begin{enumerate*}\n\\item 2\n\\item 2\n\\item 1\n\\item 2\n\\item 1\n\\end{enumerate*}\n",
            "text/plain": [
              "[1] 2 2 1 2 1\n",
              "attr(,\"levels\")\n",
              "[1] \"no\"  \"yes\""
            ]
          },
          "metadata": {}
        }
      ]
    },
    {
      "cell_type": "code",
      "source": [
        "x <- factor(c(\"yes\", \"yes\", \"no\", \"yes\",\"no\"))\n",
        "x"
      ],
      "metadata": {
        "colab": {
          "base_uri": "https://localhost:8080/",
          "height": 52
        },
        "id": "0bDasLNrDIbG",
        "outputId": "0650f861-1ddf-4862-b3b2-84b4c12ff0eb"
      },
      "execution_count": null,
      "outputs": [
        {
          "output_type": "display_data",
          "data": {
            "text/html": [
              "<style>\n",
              ".list-inline {list-style: none; margin:0; padding: 0}\n",
              ".list-inline>li {display: inline-block}\n",
              ".list-inline>li:not(:last-child)::after {content: \"\\00b7\"; padding: 0 .5ex}\n",
              "</style>\n",
              "<ol class=list-inline><li>yes</li><li>yes</li><li>no</li><li>yes</li><li>no</li></ol>\n",
              "\n",
              "<details>\n",
              "\t<summary style=display:list-item;cursor:pointer>\n",
              "\t\t<strong>Levels</strong>:\n",
              "\t</summary>\n",
              "\t<style>\n",
              "\t.list-inline {list-style: none; margin:0; padding: 0}\n",
              "\t.list-inline>li {display: inline-block}\n",
              "\t.list-inline>li:not(:last-child)::after {content: \"\\00b7\"; padding: 0 .5ex}\n",
              "\t</style>\n",
              "\t<ol class=list-inline><li>'no'</li><li>'yes'</li></ol>\n",
              "</details>"
            ],
            "text/markdown": "1. yes\n2. yes\n3. no\n4. yes\n5. no\n\n\n\n**Levels**: 1. 'no'\n2. 'yes'\n\n\n",
            "text/latex": "\\begin{enumerate*}\n\\item yes\n\\item yes\n\\item no\n\\item yes\n\\item no\n\\end{enumerate*}\n\n\\emph{Levels}: \\begin{enumerate*}\n\\item 'no'\n\\item 'yes'\n\\end{enumerate*}\n",
            "text/plain": [
              "[1] yes yes no  yes no \n",
              "Levels: no yes"
            ]
          },
          "metadata": {}
        }
      ]
    },
    {
      "cell_type": "code",
      "source": [
        "x <- factor(c(\"yes\", \"yes\", \"no\", \"yes\",\"np\"),\n",
        "levels=c(\"yes\",\"no\"))\n",
        "\n",
        "x"
      ],
      "metadata": {
        "colab": {
          "base_uri": "https://localhost:8080/",
          "height": 52
        },
        "id": "nrb0IjNLDfKI",
        "outputId": "bb34df9d-2f56-4f58-d540-002d486466c1"
      },
      "execution_count": null,
      "outputs": [
        {
          "output_type": "display_data",
          "data": {
            "text/html": [
              "<style>\n",
              ".list-inline {list-style: none; margin:0; padding: 0}\n",
              ".list-inline>li {display: inline-block}\n",
              ".list-inline>li:not(:last-child)::after {content: \"\\00b7\"; padding: 0 .5ex}\n",
              "</style>\n",
              "<ol class=list-inline><li>yes</li><li>yes</li><li>no</li><li>yes</li><li>&lt;NA&gt;</li></ol>\n",
              "\n",
              "<details>\n",
              "\t<summary style=display:list-item;cursor:pointer>\n",
              "\t\t<strong>Levels</strong>:\n",
              "\t</summary>\n",
              "\t<style>\n",
              "\t.list-inline {list-style: none; margin:0; padding: 0}\n",
              "\t.list-inline>li {display: inline-block}\n",
              "\t.list-inline>li:not(:last-child)::after {content: \"\\00b7\"; padding: 0 .5ex}\n",
              "\t</style>\n",
              "\t<ol class=list-inline><li>'yes'</li><li>'no'</li></ol>\n",
              "</details>"
            ],
            "text/markdown": "1. yes\n2. yes\n3. no\n4. yes\n5. &lt;NA&gt;\n\n\n\n**Levels**: 1. 'yes'\n2. 'no'\n\n\n",
            "text/latex": "\\begin{enumerate*}\n\\item yes\n\\item yes\n\\item no\n\\item yes\n\\item <NA>\n\\end{enumerate*}\n\n\\emph{Levels}: \\begin{enumerate*}\n\\item 'yes'\n\\item 'no'\n\\end{enumerate*}\n",
            "text/plain": [
              "[1] yes  yes  no   yes  <NA>\n",
              "Levels: yes no"
            ]
          },
          "metadata": {}
        }
      ]
    },
    {
      "cell_type": "markdown",
      "source": [
        "#Missing Values"
      ],
      "metadata": {
        "id": "PXi9T7LtDz5M"
      }
    },
    {
      "cell_type": "code",
      "source": [
        "x <- c(1, 2, NA, 10, 3)\n",
        "is.na(x)"
      ],
      "metadata": {
        "colab": {
          "base_uri": "https://localhost:8080/",
          "height": 34
        },
        "id": "aaKbtwp6Ds02",
        "outputId": "7bb2f06d-e0a8-4965-a796-1996b6dcacc0"
      },
      "execution_count": null,
      "outputs": [
        {
          "output_type": "display_data",
          "data": {
            "text/html": [
              "<style>\n",
              ".list-inline {list-style: none; margin:0; padding: 0}\n",
              ".list-inline>li {display: inline-block}\n",
              ".list-inline>li:not(:last-child)::after {content: \"\\00b7\"; padding: 0 .5ex}\n",
              "</style>\n",
              "<ol class=list-inline><li>FALSE</li><li>FALSE</li><li>TRUE</li><li>FALSE</li><li>FALSE</li></ol>\n"
            ],
            "text/markdown": "1. FALSE\n2. FALSE\n3. TRUE\n4. FALSE\n5. FALSE\n\n\n",
            "text/latex": "\\begin{enumerate*}\n\\item FALSE\n\\item FALSE\n\\item TRUE\n\\item FALSE\n\\item FALSE\n\\end{enumerate*}\n",
            "text/plain": [
              "[1] FALSE FALSE  TRUE FALSE FALSE"
            ]
          },
          "metadata": {}
        }
      ]
    },
    {
      "cell_type": "code",
      "source": [
        "is.nan(x)"
      ],
      "metadata": {
        "colab": {
          "base_uri": "https://localhost:8080/",
          "height": 34
        },
        "id": "_3DyuoXeD-k-",
        "outputId": "2ea5ec0b-6595-4ef0-be7d-496b36159ff6"
      },
      "execution_count": null,
      "outputs": [
        {
          "output_type": "display_data",
          "data": {
            "text/html": [
              "<style>\n",
              ".list-inline {list-style: none; margin:0; padding: 0}\n",
              ".list-inline>li {display: inline-block}\n",
              ".list-inline>li:not(:last-child)::after {content: \"\\00b7\"; padding: 0 .5ex}\n",
              "</style>\n",
              "<ol class=list-inline><li>FALSE</li><li>FALSE</li><li>FALSE</li><li>FALSE</li><li>FALSE</li></ol>\n"
            ],
            "text/markdown": "1. FALSE\n2. FALSE\n3. FALSE\n4. FALSE\n5. FALSE\n\n\n",
            "text/latex": "\\begin{enumerate*}\n\\item FALSE\n\\item FALSE\n\\item FALSE\n\\item FALSE\n\\item FALSE\n\\end{enumerate*}\n",
            "text/plain": [
              "[1] FALSE FALSE FALSE FALSE FALSE"
            ]
          },
          "metadata": {}
        }
      ]
    },
    {
      "cell_type": "code",
      "source": [
        "y <- c(1,2, NaN, NA, 4)\n",
        "is.na(y)"
      ],
      "metadata": {
        "colab": {
          "base_uri": "https://localhost:8080/",
          "height": 34
        },
        "id": "vzJ0R0t4EBaT",
        "outputId": "c80a5419-eead-4ae0-a7cd-041a0604921e"
      },
      "execution_count": null,
      "outputs": [
        {
          "output_type": "display_data",
          "data": {
            "text/html": [
              "<style>\n",
              ".list-inline {list-style: none; margin:0; padding: 0}\n",
              ".list-inline>li {display: inline-block}\n",
              ".list-inline>li:not(:last-child)::after {content: \"\\00b7\"; padding: 0 .5ex}\n",
              "</style>\n",
              "<ol class=list-inline><li>FALSE</li><li>FALSE</li><li>TRUE</li><li>TRUE</li><li>FALSE</li></ol>\n"
            ],
            "text/markdown": "1. FALSE\n2. FALSE\n3. TRUE\n4. TRUE\n5. FALSE\n\n\n",
            "text/latex": "\\begin{enumerate*}\n\\item FALSE\n\\item FALSE\n\\item TRUE\n\\item TRUE\n\\item FALSE\n\\end{enumerate*}\n",
            "text/plain": [
              "[1] FALSE FALSE  TRUE  TRUE FALSE"
            ]
          },
          "metadata": {}
        }
      ]
    },
    {
      "cell_type": "code",
      "source": [
        "is.nan(y)"
      ],
      "metadata": {
        "colab": {
          "base_uri": "https://localhost:8080/",
          "height": 34
        },
        "id": "ozldAKhPEJ0g",
        "outputId": "ea7e7748-5201-4609-d627-046e403459c2"
      },
      "execution_count": null,
      "outputs": [
        {
          "output_type": "display_data",
          "data": {
            "text/html": [
              "<style>\n",
              ".list-inline {list-style: none; margin:0; padding: 0}\n",
              ".list-inline>li {display: inline-block}\n",
              ".list-inline>li:not(:last-child)::after {content: \"\\00b7\"; padding: 0 .5ex}\n",
              "</style>\n",
              "<ol class=list-inline><li>FALSE</li><li>FALSE</li><li>TRUE</li><li>FALSE</li><li>FALSE</li></ol>\n"
            ],
            "text/markdown": "1. FALSE\n2. FALSE\n3. TRUE\n4. FALSE\n5. FALSE\n\n\n",
            "text/latex": "\\begin{enumerate*}\n\\item FALSE\n\\item FALSE\n\\item TRUE\n\\item FALSE\n\\item FALSE\n\\end{enumerate*}\n",
            "text/plain": [
              "[1] FALSE FALSE  TRUE FALSE FALSE"
            ]
          },
          "metadata": {}
        }
      ]
    },
    {
      "cell_type": "markdown",
      "source": [
        "#Dataframes\n",
        "\n",
        "Dataframes are used to store tabular data in R."
      ],
      "metadata": {
        "id": "w55JJw5SEQhT"
      }
    },
    {
      "cell_type": "code",
      "source": [
        "x <- data.frame(foo=1:4, bar=c(T,T,F,F))\n",
        "x"
      ],
      "metadata": {
        "colab": {
          "base_uri": "https://localhost:8080/",
          "height": 241
        },
        "id": "k5HlMepOENTC",
        "outputId": "a0a9ca98-32bf-4dcb-ac1b-9e529b1b418b"
      },
      "execution_count": null,
      "outputs": [
        {
          "output_type": "display_data",
          "data": {
            "text/html": [
              "<table class=\"dataframe\">\n",
              "<caption>A data.frame: 4 × 2</caption>\n",
              "<thead>\n",
              "\t<tr><th scope=col>foo</th><th scope=col>bar</th></tr>\n",
              "\t<tr><th scope=col>&lt;int&gt;</th><th scope=col>&lt;lgl&gt;</th></tr>\n",
              "</thead>\n",
              "<tbody>\n",
              "\t<tr><td>1</td><td> TRUE</td></tr>\n",
              "\t<tr><td>2</td><td> TRUE</td></tr>\n",
              "\t<tr><td>3</td><td>FALSE</td></tr>\n",
              "\t<tr><td>4</td><td>FALSE</td></tr>\n",
              "</tbody>\n",
              "</table>\n"
            ],
            "text/markdown": "\nA data.frame: 4 × 2\n\n| foo &lt;int&gt; | bar &lt;lgl&gt; |\n|---|---|\n| 1 |  TRUE |\n| 2 |  TRUE |\n| 3 | FALSE |\n| 4 | FALSE |\n\n",
            "text/latex": "A data.frame: 4 × 2\n\\begin{tabular}{ll}\n foo & bar\\\\\n <int> & <lgl>\\\\\n\\hline\n\t 1 &  TRUE\\\\\n\t 2 &  TRUE\\\\\n\t 3 & FALSE\\\\\n\t 4 & FALSE\\\\\n\\end{tabular}\n",
            "text/plain": [
              "  foo bar  \n",
              "1 1    TRUE\n",
              "2 2    TRUE\n",
              "3 3   FALSE\n",
              "4 4   FALSE"
            ]
          },
          "metadata": {}
        }
      ]
    },
    {
      "cell_type": "code",
      "source": [
        "nrow(x)"
      ],
      "metadata": {
        "colab": {
          "base_uri": "https://localhost:8080/",
          "height": 34
        },
        "id": "1JG7YnsYE7B3",
        "outputId": "d3d80549-bedb-46ad-f909-2374c8306cc4"
      },
      "execution_count": null,
      "outputs": [
        {
          "output_type": "display_data",
          "data": {
            "text/html": [
              "4"
            ],
            "text/markdown": "4",
            "text/latex": "4",
            "text/plain": [
              "[1] 4"
            ]
          },
          "metadata": {}
        }
      ]
    },
    {
      "cell_type": "code",
      "source": [
        "ncol(x)"
      ],
      "metadata": {
        "colab": {
          "base_uri": "https://localhost:8080/",
          "height": 34
        },
        "id": "07WNUy1ME9fz",
        "outputId": "37ec391e-4a5d-4534-a51f-02160c530532"
      },
      "execution_count": null,
      "outputs": [
        {
          "output_type": "display_data",
          "data": {
            "text/html": [
              "2"
            ],
            "text/markdown": "2",
            "text/latex": "2",
            "text/plain": [
              "[1] 2"
            ]
          },
          "metadata": {}
        }
      ]
    },
    {
      "cell_type": "markdown",
      "source": [
        "#Names"
      ],
      "metadata": {
        "id": "CELksg41FFBL"
      }
    },
    {
      "cell_type": "code",
      "source": [
        "x <- 1:3\n",
        "names(x)"
      ],
      "metadata": {
        "colab": {
          "base_uri": "https://localhost:8080/",
          "height": 34
        },
        "id": "jD8hii6tFAn6",
        "outputId": "7e7fb326-e7da-4c7f-c3bb-5a04996e1086"
      },
      "execution_count": null,
      "outputs": [
        {
          "output_type": "display_data",
          "data": {
            "text/plain": [
              "NULL"
            ]
          },
          "metadata": {}
        }
      ]
    },
    {
      "cell_type": "code",
      "source": [
        "names(x) <- c(\"New York\", \"Seattle\", \"Los Angeles\")\n",
        "x"
      ],
      "metadata": {
        "colab": {
          "base_uri": "https://localhost:8080/",
          "height": 34
        },
        "id": "iv6njoFzFI5G",
        "outputId": "3108f4e3-f42c-4278-8793-e8f5bb38b782"
      },
      "execution_count": null,
      "outputs": [
        {
          "output_type": "display_data",
          "data": {
            "text/html": [
              "<style>\n",
              ".dl-inline {width: auto; margin:0; padding: 0}\n",
              ".dl-inline>dt, .dl-inline>dd {float: none; width: auto; display: inline-block}\n",
              ".dl-inline>dt::after {content: \":\\0020\"; padding-right: .5ex}\n",
              ".dl-inline>dt:not(:first-of-type) {padding-left: .5ex}\n",
              "</style><dl class=dl-inline><dt>New York</dt><dd>1</dd><dt>Seattle</dt><dd>2</dd><dt>Los Angeles</dt><dd>3</dd></dl>\n"
            ],
            "text/markdown": "New York\n:   1Seattle\n:   2Los Angeles\n:   3\n\n",
            "text/latex": "\\begin{description*}\n\\item[New York] 1\n\\item[Seattle] 2\n\\item[Los Angeles] 3\n\\end{description*}\n",
            "text/plain": [
              "   New York     Seattle Los Angeles \n",
              "          1           2           3 "
            ]
          },
          "metadata": {}
        }
      ]
    },
    {
      "cell_type": "code",
      "source": [
        "names(x)"
      ],
      "metadata": {
        "colab": {
          "base_uri": "https://localhost:8080/",
          "height": 34
        },
        "id": "ooCI4_9RFQp4",
        "outputId": "7fd0e33f-49ec-4d66-ae11-46575f690c2e"
      },
      "execution_count": null,
      "outputs": [
        {
          "output_type": "display_data",
          "data": {
            "text/html": [
              "<style>\n",
              ".list-inline {list-style: none; margin:0; padding: 0}\n",
              ".list-inline>li {display: inline-block}\n",
              ".list-inline>li:not(:last-child)::after {content: \"\\00b7\"; padding: 0 .5ex}\n",
              "</style>\n",
              "<ol class=list-inline><li>'New York'</li><li>'Seattle'</li><li>'Los Angeles'</li></ol>\n"
            ],
            "text/markdown": "1. 'New York'\n2. 'Seattle'\n3. 'Los Angeles'\n\n\n",
            "text/latex": "\\begin{enumerate*}\n\\item 'New York'\n\\item 'Seattle'\n\\item 'Los Angeles'\n\\end{enumerate*}\n",
            "text/plain": [
              "[1] \"New York\"    \"Seattle\"     \"Los Angeles\""
            ]
          },
          "metadata": {}
        }
      ]
    },
    {
      "cell_type": "code",
      "source": [
        "x <- list(\"Los Angeles\"=1, Boston=2, London=3)\n",
        "x"
      ],
      "metadata": {
        "colab": {
          "base_uri": "https://localhost:8080/",
          "height": 149
        },
        "id": "ekHSE7yDFVey",
        "outputId": "f5f850c4-f6b1-49c6-90af-48d205fbe86d"
      },
      "execution_count": null,
      "outputs": [
        {
          "output_type": "display_data",
          "data": {
            "text/html": [
              "<dl>\n",
              "\t<dt>$`Los Angeles`</dt>\n",
              "\t\t<dd>1</dd>\n",
              "\t<dt>$Boston</dt>\n",
              "\t\t<dd>2</dd>\n",
              "\t<dt>$London</dt>\n",
              "\t\t<dd>3</dd>\n",
              "</dl>\n"
            ],
            "text/markdown": "$`Los Angeles`\n:   1\n$Boston\n:   2\n$London\n:   3\n\n\n",
            "text/latex": "\\begin{description}\n\\item[\\$`Los Angeles`] 1\n\\item[\\$Boston] 2\n\\item[\\$London] 3\n\\end{description}\n",
            "text/plain": [
              "$`Los Angeles`\n",
              "[1] 1\n",
              "\n",
              "$Boston\n",
              "[1] 2\n",
              "\n",
              "$London\n",
              "[1] 3\n"
            ]
          },
          "metadata": {}
        }
      ]
    },
    {
      "cell_type": "code",
      "source": [
        "names(x)"
      ],
      "metadata": {
        "colab": {
          "base_uri": "https://localhost:8080/",
          "height": 34
        },
        "id": "JC1PVCLgFhA_",
        "outputId": "6d754158-f743-42a5-9fae-18105eb1739d"
      },
      "execution_count": null,
      "outputs": [
        {
          "output_type": "display_data",
          "data": {
            "text/html": [
              "<style>\n",
              ".list-inline {list-style: none; margin:0; padding: 0}\n",
              ".list-inline>li {display: inline-block}\n",
              ".list-inline>li:not(:last-child)::after {content: \"\\00b7\"; padding: 0 .5ex}\n",
              "</style>\n",
              "<ol class=list-inline><li>'Los Angeles'</li><li>'Boston'</li><li>'London'</li></ol>\n"
            ],
            "text/markdown": "1. 'Los Angeles'\n2. 'Boston'\n3. 'London'\n\n\n",
            "text/latex": "\\begin{enumerate*}\n\\item 'Los Angeles'\n\\item 'Boston'\n\\item 'London'\n\\end{enumerate*}\n",
            "text/plain": [
              "[1] \"Los Angeles\" \"Boston\"      \"London\"     "
            ]
          },
          "metadata": {}
        }
      ]
    },
    {
      "cell_type": "code",
      "source": [
        "m <- matrix(1:4, nrow=2, ncol=2)\n",
        "dimnames(m) <- list(c(\"a\", \"b\"), c(\"c\", \"d\"))\n",
        "m"
      ],
      "metadata": {
        "colab": {
          "base_uri": "https://localhost:8080/",
          "height": 164
        },
        "id": "jf9-oMM6FjWu",
        "outputId": "e031997f-c4c3-4b93-f974-0337f0c8ad2d"
      },
      "execution_count": null,
      "outputs": [
        {
          "output_type": "display_data",
          "data": {
            "text/html": [
              "<table class=\"dataframe\">\n",
              "<caption>A matrix: 2 × 2 of type int</caption>\n",
              "<thead>\n",
              "\t<tr><th></th><th scope=col>c</th><th scope=col>d</th></tr>\n",
              "</thead>\n",
              "<tbody>\n",
              "\t<tr><th scope=row>a</th><td>1</td><td>3</td></tr>\n",
              "\t<tr><th scope=row>b</th><td>2</td><td>4</td></tr>\n",
              "</tbody>\n",
              "</table>\n"
            ],
            "text/markdown": "\nA matrix: 2 × 2 of type int\n\n| <!--/--> | c | d |\n|---|---|---|\n| a | 1 | 3 |\n| b | 2 | 4 |\n\n",
            "text/latex": "A matrix: 2 × 2 of type int\n\\begin{tabular}{r|ll}\n  & c & d\\\\\n\\hline\n\ta & 1 & 3\\\\\n\tb & 2 & 4\\\\\n\\end{tabular}\n",
            "text/plain": [
              "  c d\n",
              "a 1 3\n",
              "b 2 4"
            ]
          },
          "metadata": {}
        }
      ]
    },
    {
      "cell_type": "code",
      "source": [
        "colnames(m) <- c(\"h\", \"f\")\n",
        "rownames(m) <- c(\"x\", \"z\")\n",
        "m"
      ],
      "metadata": {
        "colab": {
          "base_uri": "https://localhost:8080/",
          "height": 164
        },
        "id": "L5WuyfsQF2-_",
        "outputId": "75c77627-5e0a-46e1-8548-b5c30bba66e2"
      },
      "execution_count": null,
      "outputs": [
        {
          "output_type": "display_data",
          "data": {
            "text/html": [
              "<table class=\"dataframe\">\n",
              "<caption>A matrix: 2 × 2 of type int</caption>\n",
              "<thead>\n",
              "\t<tr><th></th><th scope=col>h</th><th scope=col>f</th></tr>\n",
              "</thead>\n",
              "<tbody>\n",
              "\t<tr><th scope=row>x</th><td>1</td><td>3</td></tr>\n",
              "\t<tr><th scope=row>z</th><td>2</td><td>4</td></tr>\n",
              "</tbody>\n",
              "</table>\n"
            ],
            "text/markdown": "\nA matrix: 2 × 2 of type int\n\n| <!--/--> | h | f |\n|---|---|---|\n| x | 1 | 3 |\n| z | 2 | 4 |\n\n",
            "text/latex": "A matrix: 2 × 2 of type int\n\\begin{tabular}{r|ll}\n  & h & f\\\\\n\\hline\n\tx & 1 & 3\\\\\n\tz & 2 & 4\\\\\n\\end{tabular}\n",
            "text/plain": [
              "  h f\n",
              "x 1 3\n",
              "z 2 4"
            ]
          },
          "metadata": {}
        }
      ]
    },
    {
      "cell_type": "markdown",
      "source": [
        "# Getting Data In and Out of R\n",
        "\n",
        "## Reading and Writing Data"
      ],
      "metadata": {
        "id": "j9yRHD9AGnYA"
      }
    },
    {
      "cell_type": "code",
      "source": [
        "# create a dataframe\n",
        "\n",
        "y <- data.frame(a=1, b=\"a\")\n",
        "dput(y)"
      ],
      "metadata": {
        "colab": {
          "base_uri": "https://localhost:8080/"
        },
        "id": "y_johkfQGFdd",
        "outputId": "d3262f86-2176-4fdb-ffc1-499c92ffb6c8"
      },
      "execution_count": null,
      "outputs": [
        {
          "output_type": "stream",
          "name": "stdout",
          "text": [
            "structure(list(a = 1, b = \"a\"), class = \"data.frame\", row.names = c(NA, \n",
            "-1L))\n"
          ]
        }
      ]
    },
    {
      "cell_type": "code",
      "source": [
        "# Send dput output to a file\n",
        "\n",
        "dput(y, file=\"y.R\")"
      ],
      "metadata": {
        "id": "xCaqQOadSpWx"
      },
      "execution_count": null,
      "outputs": []
    },
    {
      "cell_type": "code",
      "source": [
        "new.y <- dget(\"y.R\")\n",
        "new.y"
      ],
      "metadata": {
        "colab": {
          "base_uri": "https://localhost:8080/",
          "height": 146
        },
        "id": "syJ2YbhyS269",
        "outputId": "69f472bc-4381-45f8-91f4-ed378c455479"
      },
      "execution_count": null,
      "outputs": [
        {
          "output_type": "display_data",
          "data": {
            "text/html": [
              "<table class=\"dataframe\">\n",
              "<caption>A data.frame: 1 × 2</caption>\n",
              "<thead>\n",
              "\t<tr><th scope=col>a</th><th scope=col>b</th></tr>\n",
              "\t<tr><th scope=col>&lt;dbl&gt;</th><th scope=col>&lt;chr&gt;</th></tr>\n",
              "</thead>\n",
              "<tbody>\n",
              "\t<tr><td>1</td><td>a</td></tr>\n",
              "</tbody>\n",
              "</table>\n"
            ],
            "text/markdown": "\nA data.frame: 1 × 2\n\n| a &lt;dbl&gt; | b &lt;chr&gt; |\n|---|---|\n| 1 | a |\n\n",
            "text/latex": "A data.frame: 1 × 2\n\\begin{tabular}{ll}\n a & b\\\\\n <dbl> & <chr>\\\\\n\\hline\n\t 1 & a\\\\\n\\end{tabular}\n",
            "text/plain": [
              "  a b\n",
              "1 1 a"
            ]
          },
          "metadata": {}
        }
      ]
    },
    {
      "cell_type": "code",
      "source": [
        "x <- \"foo\"\n",
        "y = data.frame(a=1L, b=\"a\")"
      ],
      "metadata": {
        "id": "XmJMF_IxS8sO"
      },
      "execution_count": null,
      "outputs": []
    },
    {
      "cell_type": "code",
      "source": [
        "dump(c(\"x\",\"y\"), file=\"data.R\")\n",
        "rm(x,y)"
      ],
      "metadata": {
        "id": "ZcWe-Nm4TF-t"
      },
      "execution_count": null,
      "outputs": []
    },
    {
      "cell_type": "code",
      "source": [
        "# the inverse of dump() is source()\n",
        "\n",
        "source(\"data.R\")\n",
        "str(y)"
      ],
      "metadata": {
        "colab": {
          "base_uri": "https://localhost:8080/"
        },
        "id": "o1O0wfuGTMUd",
        "outputId": "508f6f7d-6355-464d-f173-98c86e61d67e"
      },
      "execution_count": null,
      "outputs": [
        {
          "output_type": "stream",
          "name": "stdout",
          "text": [
            "'data.frame':\t1 obs. of  2 variables:\n",
            " $ a: int 1\n",
            " $ b: chr \"a\"\n"
          ]
        }
      ]
    },
    {
      "cell_type": "code",
      "source": [
        "x"
      ],
      "metadata": {
        "colab": {
          "base_uri": "https://localhost:8080/",
          "height": 34
        },
        "id": "-HxhiOtiTau4",
        "outputId": "2bd91bb9-b2eb-480a-f096-81decfb50707"
      },
      "execution_count": null,
      "outputs": [
        {
          "output_type": "display_data",
          "data": {
            "text/html": [
              "'foo'"
            ],
            "text/markdown": "'foo'",
            "text/latex": "'foo'",
            "text/plain": [
              "[1] \"foo\""
            ]
          },
          "metadata": {}
        }
      ]
    },
    {
      "cell_type": "markdown",
      "source": [
        "#Binary Formats"
      ],
      "metadata": {
        "id": "aT3Zi6qyTiHS"
      }
    },
    {
      "cell_type": "code",
      "source": [
        "a <- data.frame(x=rnorm(100), y=runif(100))\n",
        "b <- c(3, 4.4, 1/3)"
      ],
      "metadata": {
        "id": "yVkq5ruxTfCz"
      },
      "execution_count": null,
      "outputs": []
    },
    {
      "cell_type": "code",
      "source": [
        "# save \"a\" and \"b\" to a file\n",
        "save(a, b, file=\"mydata.rda\")"
      ],
      "metadata": {
        "id": "0jctKigJT7bH"
      },
      "execution_count": null,
      "outputs": []
    },
    {
      "cell_type": "code",
      "source": [
        "#load \"a\" and \"b\" into your workspace\n",
        "\n",
        "load(\"mydata.rda\")"
      ],
      "metadata": {
        "id": "8FEHXo1aUGAr"
      },
      "execution_count": null,
      "outputs": []
    },
    {
      "cell_type": "code",
      "source": [
        "#save everything to a file\n",
        "save.image(file=\"mydata.RData\")"
      ],
      "metadata": {
        "id": "W6K3wZp0UON7"
      },
      "execution_count": null,
      "outputs": []
    },
    {
      "cell_type": "code",
      "source": [
        "#load all objects in this file\n",
        "load(\"mydata.RData\")"
      ],
      "metadata": {
        "id": "WhPBPEjlUYfC"
      },
      "execution_count": null,
      "outputs": []
    },
    {
      "cell_type": "markdown",
      "source": [
        " When you call serialize() on an R object, the output will be a raw vector coded in hexadecimal\n",
        " format."
      ],
      "metadata": {
        "id": "PV3acovsUvuO"
      }
    },
    {
      "cell_type": "code",
      "source": [
        "x <- list(1, 2, 3)\n",
        "serialize(x, NULL)"
      ],
      "metadata": {
        "colab": {
          "base_uri": "https://localhost:8080/",
          "height": 86
        },
        "id": "oPzzEXQ4UgOP",
        "outputId": "f294f22c-ed1b-4bf4-d559-7ae4e6afdaa0"
      },
      "execution_count": null,
      "outputs": [
        {
          "output_type": "display_data",
          "data": {
            "text/plain": [
              " [1] 58 0a 00 00 00 03 00 04 05 01 00 03 05 00 00 00 00 05 55 54 46 2d 38 00 00\n",
              "[26] 00 13 00 00 00 03 00 00 00 0e 00 00 00 01 3f f0 00 00 00 00 00 00 00 00 00\n",
              "[51] 0e 00 00 00 01 40 00 00 00 00 00 00 00 00 00 00 0e 00 00 00 01 40 08 00 00\n",
              "[76] 00 00 00 00"
            ]
          },
          "metadata": {}
        }
      ]
    },
    {
      "cell_type": "markdown",
      "source": [
        "#Interfaces to the Outside World"
      ],
      "metadata": {
        "id": "gEr6HTPdU_0u"
      }
    },
    {
      "cell_type": "markdown",
      "source": [
        "## File Connections"
      ],
      "metadata": {
        "id": "s3o5BvHRVSbw"
      }
    },
    {
      "cell_type": "code",
      "source": [
        "str(file)"
      ],
      "metadata": {
        "colab": {
          "base_uri": "https://localhost:8080/"
        },
        "id": "1vgloeAxU3H2",
        "outputId": "efa2be1f-5fc5-4ada-bdb5-7d3ece69df34"
      },
      "execution_count": null,
      "outputs": [
        {
          "output_type": "stream",
          "name": "stdout",
          "text": [
            "function (description = \"\", open = \"\", blocking = TRUE, encoding = getOption(\"encoding\"), \n",
            "    raw = FALSE, method = getOption(\"url.method\", \"default\"))  \n"
          ]
        }
      ]
    },
    {
      "cell_type": "code",
      "source": [
        "#Create a connection to 'foo.txt'\n",
        "con <- file(\"foo.txt\")"
      ],
      "metadata": {
        "id": "noapg8CUVYta"
      },
      "execution_count": null,
      "outputs": []
    },
    {
      "cell_type": "code",
      "source": [
        "data <- read.csv(con)"
      ],
      "metadata": {
        "id": "wCmstRFEWMs_"
      },
      "execution_count": null,
      "outputs": []
    },
    {
      "cell_type": "code",
      "source": [
        "#close(con)"
      ],
      "metadata": {
        "id": "Yo53dmRNWTSW"
      },
      "execution_count": null,
      "outputs": []
    },
    {
      "cell_type": "markdown",
      "source": [
        "##Reading Lines to a Text file"
      ],
      "metadata": {
        "id": "waozFOP-WxNg"
      }
    },
    {
      "cell_type": "code",
      "source": [
        "#open connection to gz-compressed file\n",
        "\n",
        "#con <- gzfile(\"words.gz\")\n",
        "#x <- readLines(con,10)\n",
        "#x"
      ],
      "metadata": {
        "id": "zR0Y-kKLWVIH"
      },
      "execution_count": null,
      "outputs": []
    },
    {
      "cell_type": "markdown",
      "source": [
        "##Reading from a URL onnection"
      ],
      "metadata": {
        "id": "tAYKMDBHXRlc"
      }
    },
    {
      "cell_type": "code",
      "source": [
        "con <- url(\"http://www.jhsph.edu\",\"r\")"
      ],
      "metadata": {
        "id": "ej2oMDx3XF9B"
      },
      "execution_count": null,
      "outputs": []
    },
    {
      "cell_type": "code",
      "source": [
        "#read the webpage\n",
        "\n",
        "x <- readLines(con)"
      ],
      "metadata": {
        "id": "KrY7OwIOXmze"
      },
      "execution_count": null,
      "outputs": []
    },
    {
      "cell_type": "code",
      "source": [
        "#print out the first few lines\n",
        "\n",
        "head(x)"
      ],
      "metadata": {
        "colab": {
          "base_uri": "https://localhost:8080/",
          "height": 104
        },
        "id": "bf63m2R1Xvph",
        "outputId": "6b7658c5-67a9-4e71-cd3a-e3419c7f4074"
      },
      "execution_count": null,
      "outputs": [
        {
          "output_type": "display_data",
          "data": {
            "text/html": [
              "<style>\n",
              ".list-inline {list-style: none; margin:0; padding: 0}\n",
              ".list-inline>li {display: inline-block}\n",
              ".list-inline>li:not(:last-child)::after {content: \"\\00b7\"; padding: 0 .5ex}\n",
              "</style>\n",
              "<ol class=list-inline><li>'&lt;!DOCTYPE html&gt;'</li><li>'&lt;html lang=\"en\" dir=\"ltr\" prefix=\"og: https://ogp.me/ns#\"&gt;'</li><li><span style=white-space:pre-wrap>'  &lt;head&gt;'</span></li><li><span style=white-space:pre-wrap>'    &lt;meta charset=\"utf-8\" /&gt;'</span></li><li>'&lt;noscript&gt;&lt;style&gt;form.antibot * :not(.antibot-message) { display: none !important; }&lt;/style&gt;'</li><li>'&lt;/noscript&gt;&lt;meta name=\"description\" content=\"Protecting Health, Saving Lives—Millions at a Time\" /&gt;'</li></ol>\n"
            ],
            "text/markdown": "1. '&lt;!DOCTYPE html&gt;'\n2. '&lt;html lang=\"en\" dir=\"ltr\" prefix=\"og: https://ogp.me/ns#\"&gt;'\n3. <span style=white-space:pre-wrap>'  &lt;head&gt;'</span>\n4. <span style=white-space:pre-wrap>'    &lt;meta charset=\"utf-8\" /&gt;'</span>\n5. '&lt;noscript&gt;&lt;style&gt;form.antibot * :not(.antibot-message) { display: none !important; }&lt;/style&gt;'\n6. '&lt;/noscript&gt;&lt;meta name=\"description\" content=\"Protecting Health, Saving Lives—Millions at a Time\" /&gt;'\n\n\n",
            "text/latex": "\\begin{enumerate*}\n\\item '<!DOCTYPE html>'\n\\item '<html lang=\"en\" dir=\"ltr\" prefix=\"og: https://ogp.me/ns\\#\">'\n\\item '  <head>'\n\\item '    <meta charset=\"utf-8\" />'\n\\item '<noscript><style>form.antibot * :not(.antibot-message) \\{ display: none !important; \\}</style>'\n\\item '</noscript><meta name=\"description\" content=\"Protecting Health, Saving Lives—Millions at a Time\" />'\n\\end{enumerate*}\n",
            "text/plain": [
              "[1] \"<!DOCTYPE html>\"                                                                                        \n",
              "[2] \"<html lang=\\\"en\\\" dir=\\\"ltr\\\" prefix=\\\"og: https://ogp.me/ns#\\\">\"                                       \n",
              "[3] \"  <head>\"                                                                                               \n",
              "[4] \"    <meta charset=\\\"utf-8\\\" />\"                                                                         \n",
              "[5] \"<noscript><style>form.antibot * :not(.antibot-message) { display: none !important; }</style>\"           \n",
              "[6] \"</noscript><meta name=\\\"description\\\" content=\\\"Protecting Health, Saving Lives—Millions at a Time\\\" />\""
            ]
          },
          "metadata": {}
        }
      ]
    },
    {
      "cell_type": "markdown",
      "source": [
        "# Subsetting R Objects"
      ],
      "metadata": {
        "id": "TZcKx5EVgcNn"
      }
    },
    {
      "cell_type": "code",
      "source": [
        "x <- c(\"a\", \"b\", \"c\", \"d\", \"a\")\n",
        "x[1]"
      ],
      "metadata": {
        "colab": {
          "base_uri": "https://localhost:8080/",
          "height": 34
        },
        "id": "u7s31PTSX013",
        "outputId": "b2696044-7629-4b3f-9006-557f7de4cba9"
      },
      "execution_count": null,
      "outputs": [
        {
          "output_type": "display_data",
          "data": {
            "text/html": [
              "'a'"
            ],
            "text/markdown": "'a'",
            "text/latex": "'a'",
            "text/plain": [
              "[1] \"a\""
            ]
          },
          "metadata": {}
        }
      ]
    },
    {
      "cell_type": "code",
      "source": [
        "x[2]"
      ],
      "metadata": {
        "colab": {
          "base_uri": "https://localhost:8080/",
          "height": 34
        },
        "id": "Xc2vk_9ggxRg",
        "outputId": "bf82435b-0abc-40c8-e63c-38034158996d"
      },
      "execution_count": null,
      "outputs": [
        {
          "output_type": "display_data",
          "data": {
            "text/html": [
              "'b'"
            ],
            "text/markdown": "'b'",
            "text/latex": "'b'",
            "text/plain": [
              "[1] \"b\""
            ]
          },
          "metadata": {}
        }
      ]
    },
    {
      "cell_type": "code",
      "source": [
        "x[1:4]"
      ],
      "metadata": {
        "colab": {
          "base_uri": "https://localhost:8080/",
          "height": 34
        },
        "id": "FrXyFZawgzeM",
        "outputId": "59c4a816-b131-4d99-c32e-65b75e1f5855"
      },
      "execution_count": null,
      "outputs": [
        {
          "output_type": "display_data",
          "data": {
            "text/html": [
              "<style>\n",
              ".list-inline {list-style: none; margin:0; padding: 0}\n",
              ".list-inline>li {display: inline-block}\n",
              ".list-inline>li:not(:last-child)::after {content: \"\\00b7\"; padding: 0 .5ex}\n",
              "</style>\n",
              "<ol class=list-inline><li>'a'</li><li>'b'</li><li>'c'</li><li>'d'</li></ol>\n"
            ],
            "text/markdown": "1. 'a'\n2. 'b'\n3. 'c'\n4. 'd'\n\n\n",
            "text/latex": "\\begin{enumerate*}\n\\item 'a'\n\\item 'b'\n\\item 'c'\n\\item 'd'\n\\end{enumerate*}\n",
            "text/plain": [
              "[1] \"a\" \"b\" \"c\" \"d\""
            ]
          },
          "metadata": {}
        }
      ]
    },
    {
      "cell_type": "code",
      "source": [
        "x[c(1,3,4)]"
      ],
      "metadata": {
        "colab": {
          "base_uri": "https://localhost:8080/",
          "height": 34
        },
        "id": "aidt8wYRg4J7",
        "outputId": "7126f7bc-2acf-465c-b44b-29d5f923826d"
      },
      "execution_count": null,
      "outputs": [
        {
          "output_type": "display_data",
          "data": {
            "text/html": [
              "<style>\n",
              ".list-inline {list-style: none; margin:0; padding: 0}\n",
              ".list-inline>li {display: inline-block}\n",
              ".list-inline>li:not(:last-child)::after {content: \"\\00b7\"; padding: 0 .5ex}\n",
              "</style>\n",
              "<ol class=list-inline><li>'a'</li><li>'c'</li><li>'d'</li></ol>\n"
            ],
            "text/markdown": "1. 'a'\n2. 'c'\n3. 'd'\n\n\n",
            "text/latex": "\\begin{enumerate*}\n\\item 'a'\n\\item 'c'\n\\item 'd'\n\\end{enumerate*}\n",
            "text/plain": [
              "[1] \"a\" \"c\" \"d\""
            ]
          },
          "metadata": {}
        }
      ]
    },
    {
      "cell_type": "code",
      "source": [
        "u <- x>\"a\"\n",
        "u"
      ],
      "metadata": {
        "colab": {
          "base_uri": "https://localhost:8080/",
          "height": 34
        },
        "id": "Wtv3MqdUg93b",
        "outputId": "a2ec8e19-d32d-4c19-bc8d-d16f798a1294"
      },
      "execution_count": null,
      "outputs": [
        {
          "output_type": "display_data",
          "data": {
            "text/html": [
              "<style>\n",
              ".list-inline {list-style: none; margin:0; padding: 0}\n",
              ".list-inline>li {display: inline-block}\n",
              ".list-inline>li:not(:last-child)::after {content: \"\\00b7\"; padding: 0 .5ex}\n",
              "</style>\n",
              "<ol class=list-inline><li>FALSE</li><li>TRUE</li><li>TRUE</li><li>TRUE</li><li>FALSE</li></ol>\n"
            ],
            "text/markdown": "1. FALSE\n2. TRUE\n3. TRUE\n4. TRUE\n5. FALSE\n\n\n",
            "text/latex": "\\begin{enumerate*}\n\\item FALSE\n\\item TRUE\n\\item TRUE\n\\item TRUE\n\\item FALSE\n\\end{enumerate*}\n",
            "text/plain": [
              "[1] FALSE  TRUE  TRUE  TRUE FALSE"
            ]
          },
          "metadata": {}
        }
      ]
    },
    {
      "cell_type": "code",
      "source": [
        "x[u]"
      ],
      "metadata": {
        "colab": {
          "base_uri": "https://localhost:8080/",
          "height": 34
        },
        "id": "tvCwuxLRhGRH",
        "outputId": "e25b6e36-9e09-44a7-c763-6d0410a174d9"
      },
      "execution_count": null,
      "outputs": [
        {
          "output_type": "display_data",
          "data": {
            "text/html": [
              "<style>\n",
              ".list-inline {list-style: none; margin:0; padding: 0}\n",
              ".list-inline>li {display: inline-block}\n",
              ".list-inline>li:not(:last-child)::after {content: \"\\00b7\"; padding: 0 .5ex}\n",
              "</style>\n",
              "<ol class=list-inline><li>'b'</li><li>'c'</li><li>'d'</li></ol>\n"
            ],
            "text/markdown": "1. 'b'\n2. 'c'\n3. 'd'\n\n\n",
            "text/latex": "\\begin{enumerate*}\n\\item 'b'\n\\item 'c'\n\\item 'd'\n\\end{enumerate*}\n",
            "text/plain": [
              "[1] \"b\" \"c\" \"d\""
            ]
          },
          "metadata": {}
        }
      ]
    },
    {
      "cell_type": "code",
      "source": [
        "x[x>\"a\"]"
      ],
      "metadata": {
        "colab": {
          "base_uri": "https://localhost:8080/",
          "height": 34
        },
        "id": "vwMeGhdphINo",
        "outputId": "bf3cd64c-6596-4baf-997f-99e014c3ba48"
      },
      "execution_count": null,
      "outputs": [
        {
          "output_type": "display_data",
          "data": {
            "text/html": [
              "<style>\n",
              ".list-inline {list-style: none; margin:0; padding: 0}\n",
              ".list-inline>li {display: inline-block}\n",
              ".list-inline>li:not(:last-child)::after {content: \"\\00b7\"; padding: 0 .5ex}\n",
              "</style>\n",
              "<ol class=list-inline><li>'b'</li><li>'c'</li><li>'d'</li></ol>\n"
            ],
            "text/markdown": "1. 'b'\n2. 'c'\n3. 'd'\n\n\n",
            "text/latex": "\\begin{enumerate*}\n\\item 'b'\n\\item 'c'\n\\item 'd'\n\\end{enumerate*}\n",
            "text/plain": [
              "[1] \"b\" \"c\" \"d\""
            ]
          },
          "metadata": {}
        }
      ]
    },
    {
      "cell_type": "markdown",
      "source": [
        "##Subsetting matrix"
      ],
      "metadata": {
        "id": "Q79ogmyOhPYl"
      }
    },
    {
      "cell_type": "code",
      "source": [
        "x <- matrix(1:6, 2,3)\n",
        "x"
      ],
      "metadata": {
        "colab": {
          "base_uri": "https://localhost:8080/",
          "height": 132
        },
        "id": "Omm9sHqZhNiz",
        "outputId": "ff20a1c4-8e90-4c8c-f425-6fde013ad7c9"
      },
      "execution_count": null,
      "outputs": [
        {
          "output_type": "display_data",
          "data": {
            "text/html": [
              "<table class=\"dataframe\">\n",
              "<caption>A matrix: 2 × 3 of type int</caption>\n",
              "<tbody>\n",
              "\t<tr><td>1</td><td>3</td><td>5</td></tr>\n",
              "\t<tr><td>2</td><td>4</td><td>6</td></tr>\n",
              "</tbody>\n",
              "</table>\n"
            ],
            "text/markdown": "\nA matrix: 2 × 3 of type int\n\n| 1 | 3 | 5 |\n| 2 | 4 | 6 |\n\n",
            "text/latex": "A matrix: 2 × 3 of type int\n\\begin{tabular}{lll}\n\t 1 & 3 & 5\\\\\n\t 2 & 4 & 6\\\\\n\\end{tabular}\n",
            "text/plain": [
              "     [,1] [,2] [,3]\n",
              "[1,] 1    3    5   \n",
              "[2,] 2    4    6   "
            ]
          },
          "metadata": {}
        }
      ]
    },
    {
      "cell_type": "code",
      "source": [
        "x[1,2]"
      ],
      "metadata": {
        "colab": {
          "base_uri": "https://localhost:8080/",
          "height": 34
        },
        "id": "VwYBLua9hXsd",
        "outputId": "de562761-f7dd-464d-dbfa-7c2a174c86a2"
      },
      "execution_count": null,
      "outputs": [
        {
          "output_type": "display_data",
          "data": {
            "text/html": [
              "3"
            ],
            "text/markdown": "3",
            "text/latex": "3",
            "text/plain": [
              "[1] 3"
            ]
          },
          "metadata": {}
        }
      ]
    },
    {
      "cell_type": "code",
      "source": [
        "x[2,1]"
      ],
      "metadata": {
        "colab": {
          "base_uri": "https://localhost:8080/",
          "height": 34
        },
        "id": "o9nSa4OdhdAO",
        "outputId": "0aecdffa-fc9e-403a-9c89-c0e1299d62c9"
      },
      "execution_count": null,
      "outputs": [
        {
          "output_type": "display_data",
          "data": {
            "text/html": [
              "2"
            ],
            "text/markdown": "2",
            "text/latex": "2",
            "text/plain": [
              "[1] 2"
            ]
          },
          "metadata": {}
        }
      ]
    },
    {
      "cell_type": "code",
      "source": [
        "x[1,] ##Extract the first row"
      ],
      "metadata": {
        "colab": {
          "base_uri": "https://localhost:8080/",
          "height": 34
        },
        "id": "ynINVbHDhe9Z",
        "outputId": "7d250903-e1ab-45af-ad70-313f07236699"
      },
      "execution_count": null,
      "outputs": [
        {
          "output_type": "display_data",
          "data": {
            "text/html": [
              "<style>\n",
              ".list-inline {list-style: none; margin:0; padding: 0}\n",
              ".list-inline>li {display: inline-block}\n",
              ".list-inline>li:not(:last-child)::after {content: \"\\00b7\"; padding: 0 .5ex}\n",
              "</style>\n",
              "<ol class=list-inline><li>1</li><li>3</li><li>5</li></ol>\n"
            ],
            "text/markdown": "1. 1\n2. 3\n3. 5\n\n\n",
            "text/latex": "\\begin{enumerate*}\n\\item 1\n\\item 3\n\\item 5\n\\end{enumerate*}\n",
            "text/plain": [
              "[1] 1 3 5"
            ]
          },
          "metadata": {}
        }
      ]
    },
    {
      "cell_type": "code",
      "source": [
        "x[,2] ##Extract the second column"
      ],
      "metadata": {
        "colab": {
          "base_uri": "https://localhost:8080/",
          "height": 34
        },
        "id": "gi5u-XWChlZM",
        "outputId": "0e9781c2-8536-40ed-9b62-5fae13e54ac6"
      },
      "execution_count": null,
      "outputs": [
        {
          "output_type": "display_data",
          "data": {
            "text/html": [
              "<style>\n",
              ".list-inline {list-style: none; margin:0; padding: 0}\n",
              ".list-inline>li {display: inline-block}\n",
              ".list-inline>li:not(:last-child)::after {content: \"\\00b7\"; padding: 0 .5ex}\n",
              "</style>\n",
              "<ol class=list-inline><li>3</li><li>4</li></ol>\n"
            ],
            "text/markdown": "1. 3\n2. 4\n\n\n",
            "text/latex": "\\begin{enumerate*}\n\\item 3\n\\item 4\n\\end{enumerate*}\n",
            "text/plain": [
              "[1] 3 4"
            ]
          },
          "metadata": {}
        }
      ]
    },
    {
      "cell_type": "markdown",
      "source": [
        "##Dropping matrix dimensions"
      ],
      "metadata": {
        "id": "nIz6SdDchsJU"
      }
    },
    {
      "cell_type": "code",
      "source": [
        "x <- matrix(1:6, 2,3)\n",
        "x[1,2]"
      ],
      "metadata": {
        "colab": {
          "base_uri": "https://localhost:8080/",
          "height": 34
        },
        "id": "rc4V77aKhqqM",
        "outputId": "905ad341-83be-42b5-ae86-3f7f8d880b04"
      },
      "execution_count": null,
      "outputs": [
        {
          "output_type": "display_data",
          "data": {
            "text/html": [
              "3"
            ],
            "text/markdown": "3",
            "text/latex": "3",
            "text/plain": [
              "[1] 3"
            ]
          },
          "metadata": {}
        }
      ]
    },
    {
      "cell_type": "code",
      "source": [
        "x[1,2, drop=FALSE]"
      ],
      "metadata": {
        "colab": {
          "base_uri": "https://localhost:8080/",
          "height": 152
        },
        "id": "xaZKHJvqh5vt",
        "outputId": "a1182cd1-bd25-4499-a89d-42f31638b908"
      },
      "execution_count": null,
      "outputs": [
        {
          "output_type": "display_data",
          "data": {
            "text/html": [
              "<table class=\"dataframe\">\n",
              "<caption>A matrix: 1 × 1 of type int</caption>\n",
              "<tbody>\n",
              "\t<tr><td>3</td></tr>\n",
              "</tbody>\n",
              "</table>\n"
            ],
            "text/markdown": "\nA matrix: 1 × 1 of type int\n\n| 3 |\n\n",
            "text/latex": "A matrix: 1 × 1 of type int\n\\begin{tabular}{l}\n\t 3\\\\\n\\end{tabular}\n",
            "text/plain": [
              "     [,1]\n",
              "[1,] 3   "
            ]
          },
          "metadata": {}
        }
      ]
    },
    {
      "cell_type": "code",
      "source": [
        "x <- matrix(1:6, 2,3)\n",
        "x[1,]"
      ],
      "metadata": {
        "colab": {
          "base_uri": "https://localhost:8080/",
          "height": 34
        },
        "id": "glhSicE5h9mJ",
        "outputId": "83a22e80-c41e-444b-b580-5ebe21bbb640"
      },
      "execution_count": null,
      "outputs": [
        {
          "output_type": "display_data",
          "data": {
            "text/html": [
              "<style>\n",
              ".list-inline {list-style: none; margin:0; padding: 0}\n",
              ".list-inline>li {display: inline-block}\n",
              ".list-inline>li:not(:last-child)::after {content: \"\\00b7\"; padding: 0 .5ex}\n",
              "</style>\n",
              "<ol class=list-inline><li>1</li><li>3</li><li>5</li></ol>\n"
            ],
            "text/markdown": "1. 1\n2. 3\n3. 5\n\n\n",
            "text/latex": "\\begin{enumerate*}\n\\item 1\n\\item 3\n\\item 5\n\\end{enumerate*}\n",
            "text/plain": [
              "[1] 1 3 5"
            ]
          },
          "metadata": {}
        }
      ]
    },
    {
      "cell_type": "code",
      "source": [
        "x[1, , drop=FALSE]"
      ],
      "metadata": {
        "colab": {
          "base_uri": "https://localhost:8080/",
          "height": 100
        },
        "id": "ixXJFrsLiKgE",
        "outputId": "9f0ae01e-8bbd-44f7-84ef-b79598f77a0c"
      },
      "execution_count": null,
      "outputs": [
        {
          "output_type": "display_data",
          "data": {
            "text/html": [
              "<table class=\"dataframe\">\n",
              "<caption>A matrix: 1 × 3 of type int</caption>\n",
              "<tbody>\n",
              "\t<tr><td>1</td><td>3</td><td>5</td></tr>\n",
              "</tbody>\n",
              "</table>\n"
            ],
            "text/markdown": "\nA matrix: 1 × 3 of type int\n\n| 1 | 3 | 5 |\n\n",
            "text/latex": "A matrix: 1 × 3 of type int\n\\begin{tabular}{lll}\n\t 1 & 3 & 5\\\\\n\\end{tabular}\n",
            "text/plain": [
              "     [,1] [,2] [,3]\n",
              "[1,] 1    3    5   "
            ]
          },
          "metadata": {}
        }
      ]
    },
    {
      "cell_type": "markdown",
      "source": [
        "##Subsetting Lists"
      ],
      "metadata": {
        "id": "M1opRv07iRCE"
      }
    },
    {
      "cell_type": "code",
      "source": [
        "x <- list(foo = 1:4, bar=0.6)\n",
        "x"
      ],
      "metadata": {
        "colab": {
          "base_uri": "https://localhost:8080/",
          "height": 114
        },
        "id": "2pcRNxe8iOxb",
        "outputId": "71b4a822-38f7-46b6-f676-1570d0184505"
      },
      "execution_count": null,
      "outputs": [
        {
          "output_type": "display_data",
          "data": {
            "text/html": [
              "<dl>\n",
              "\t<dt>$foo</dt>\n",
              "\t\t<dd><style>\n",
              ".list-inline {list-style: none; margin:0; padding: 0}\n",
              ".list-inline>li {display: inline-block}\n",
              ".list-inline>li:not(:last-child)::after {content: \"\\00b7\"; padding: 0 .5ex}\n",
              "</style>\n",
              "<ol class=list-inline><li>1</li><li>2</li><li>3</li><li>4</li></ol>\n",
              "</dd>\n",
              "\t<dt>$bar</dt>\n",
              "\t\t<dd>0.6</dd>\n",
              "</dl>\n"
            ],
            "text/markdown": "$foo\n:   1. 1\n2. 2\n3. 3\n4. 4\n\n\n\n$bar\n:   0.6\n\n\n",
            "text/latex": "\\begin{description}\n\\item[\\$foo] \\begin{enumerate*}\n\\item 1\n\\item 2\n\\item 3\n\\item 4\n\\end{enumerate*}\n\n\\item[\\$bar] 0.6\n\\end{description}\n",
            "text/plain": [
              "$foo\n",
              "[1] 1 2 3 4\n",
              "\n",
              "$bar\n",
              "[1] 0.6\n"
            ]
          },
          "metadata": {}
        }
      ]
    },
    {
      "cell_type": "code",
      "source": [
        "x[[1]]"
      ],
      "metadata": {
        "colab": {
          "base_uri": "https://localhost:8080/",
          "height": 34
        },
        "id": "kKRODl4BiZ1X",
        "outputId": "8fffed14-c3af-4f21-fc14-4dfd97cc0984"
      },
      "execution_count": null,
      "outputs": [
        {
          "output_type": "display_data",
          "data": {
            "text/html": [
              "<style>\n",
              ".list-inline {list-style: none; margin:0; padding: 0}\n",
              ".list-inline>li {display: inline-block}\n",
              ".list-inline>li:not(:last-child)::after {content: \"\\00b7\"; padding: 0 .5ex}\n",
              "</style>\n",
              "<ol class=list-inline><li>1</li><li>2</li><li>3</li><li>4</li></ol>\n"
            ],
            "text/markdown": "1. 1\n2. 2\n3. 3\n4. 4\n\n\n",
            "text/latex": "\\begin{enumerate*}\n\\item 1\n\\item 2\n\\item 3\n\\item 4\n\\end{enumerate*}\n",
            "text/plain": [
              "[1] 1 2 3 4"
            ]
          },
          "metadata": {}
        }
      ]
    },
    {
      "cell_type": "code",
      "source": [
        "x[[\"bar\"]]"
      ],
      "metadata": {
        "colab": {
          "base_uri": "https://localhost:8080/",
          "height": 34
        },
        "id": "TOjKScVjigRA",
        "outputId": "7262b591-2ffc-4bd5-fd2e-386c389ffa02"
      },
      "execution_count": null,
      "outputs": [
        {
          "output_type": "display_data",
          "data": {
            "text/html": [
              "0.6"
            ],
            "text/markdown": "0.6",
            "text/latex": "0.6",
            "text/plain": [
              "[1] 0.6"
            ]
          },
          "metadata": {}
        }
      ]
    },
    {
      "cell_type": "code",
      "source": [
        "x <- list(foo=1:4, bar=0.6, baz=\"hello\")\n",
        "name <- \"foo\""
      ],
      "metadata": {
        "id": "GypBHE-uik0b"
      },
      "execution_count": null,
      "outputs": []
    },
    {
      "cell_type": "code",
      "source": [
        "x[[name]]"
      ],
      "metadata": {
        "colab": {
          "base_uri": "https://localhost:8080/",
          "height": 34
        },
        "id": "xUEJnoHRixmz",
        "outputId": "68ecaf26-58ad-4b1b-dd27-928895c9c18a"
      },
      "execution_count": null,
      "outputs": [
        {
          "output_type": "display_data",
          "data": {
            "text/html": [
              "<style>\n",
              ".list-inline {list-style: none; margin:0; padding: 0}\n",
              ".list-inline>li {display: inline-block}\n",
              ".list-inline>li:not(:last-child)::after {content: \"\\00b7\"; padding: 0 .5ex}\n",
              "</style>\n",
              "<ol class=list-inline><li>1</li><li>2</li><li>3</li><li>4</li></ol>\n"
            ],
            "text/markdown": "1. 1\n2. 2\n3. 3\n4. 4\n\n\n",
            "text/latex": "\\begin{enumerate*}\n\\item 1\n\\item 2\n\\item 3\n\\item 4\n\\end{enumerate*}\n",
            "text/plain": [
              "[1] 1 2 3 4"
            ]
          },
          "metadata": {}
        }
      ]
    },
    {
      "cell_type": "code",
      "source": [
        "x$name"
      ],
      "metadata": {
        "colab": {
          "base_uri": "https://localhost:8080/",
          "height": 34
        },
        "id": "tyi3Vh0ni0Ce",
        "outputId": "ea16da22-033f-4e21-89b1-68be59fc3b79"
      },
      "execution_count": null,
      "outputs": [
        {
          "output_type": "display_data",
          "data": {
            "text/plain": [
              "NULL"
            ]
          },
          "metadata": {}
        }
      ]
    },
    {
      "cell_type": "code",
      "source": [
        "x$foo"
      ],
      "metadata": {
        "colab": {
          "base_uri": "https://localhost:8080/",
          "height": 34
        },
        "id": "q69G3K9Mi3Ir",
        "outputId": "be4150d9-df75-46f5-a31a-779d44308113"
      },
      "execution_count": null,
      "outputs": [
        {
          "output_type": "display_data",
          "data": {
            "text/html": [
              "<style>\n",
              ".list-inline {list-style: none; margin:0; padding: 0}\n",
              ".list-inline>li {display: inline-block}\n",
              ".list-inline>li:not(:last-child)::after {content: \"\\00b7\"; padding: 0 .5ex}\n",
              "</style>\n",
              "<ol class=list-inline><li>1</li><li>2</li><li>3</li><li>4</li></ol>\n"
            ],
            "text/markdown": "1. 1\n2. 2\n3. 3\n4. 4\n\n\n",
            "text/latex": "\\begin{enumerate*}\n\\item 1\n\\item 2\n\\item 3\n\\item 4\n\\end{enumerate*}\n",
            "text/plain": [
              "[1] 1 2 3 4"
            ]
          },
          "metadata": {}
        }
      ]
    },
    {
      "cell_type": "markdown",
      "source": [
        "##Subsetting Nested Elements of a List"
      ],
      "metadata": {
        "id": "gckV60UWi69E"
      }
    },
    {
      "cell_type": "code",
      "source": [
        "x <- list(a=list(10,12,14), b=c(3.14, 2.81))\n"
      ],
      "metadata": {
        "id": "LXbJVqYLi5Oa"
      },
      "execution_count": null,
      "outputs": []
    },
    {
      "cell_type": "code",
      "source": [
        "x[[c(1,3)]]"
      ],
      "metadata": {
        "colab": {
          "base_uri": "https://localhost:8080/",
          "height": 34
        },
        "id": "a5H14d41jJP5",
        "outputId": "c9d5ddb0-7d06-4390-969f-ddeae79c8ef0"
      },
      "execution_count": null,
      "outputs": [
        {
          "output_type": "display_data",
          "data": {
            "text/html": [
              "14"
            ],
            "text/markdown": "14",
            "text/latex": "14",
            "text/plain": [
              "[1] 14"
            ]
          },
          "metadata": {}
        }
      ]
    },
    {
      "cell_type": "code",
      "source": [
        "x[[1]][[3]]"
      ],
      "metadata": {
        "colab": {
          "base_uri": "https://localhost:8080/",
          "height": 34
        },
        "id": "6vk2z1vbjNi6",
        "outputId": "21ea51f0-04de-49bb-d4e4-f841a2d0c96a"
      },
      "execution_count": null,
      "outputs": [
        {
          "output_type": "display_data",
          "data": {
            "text/html": [
              "14"
            ],
            "text/markdown": "14",
            "text/latex": "14",
            "text/plain": [
              "[1] 14"
            ]
          },
          "metadata": {}
        }
      ]
    },
    {
      "cell_type": "code",
      "source": [
        "x[[c(2,1)]]"
      ],
      "metadata": {
        "colab": {
          "base_uri": "https://localhost:8080/",
          "height": 34
        },
        "id": "TwJ9XYNAjQeN",
        "outputId": "debe6388-6969-464e-fc6e-58e3a9f70593"
      },
      "execution_count": null,
      "outputs": [
        {
          "output_type": "display_data",
          "data": {
            "text/html": [
              "3.14"
            ],
            "text/markdown": "3.14",
            "text/latex": "3.14",
            "text/plain": [
              "[1] 3.14"
            ]
          },
          "metadata": {}
        }
      ]
    },
    {
      "cell_type": "markdown",
      "source": [
        "##Extracting Multiple Elements of a List"
      ],
      "metadata": {
        "id": "9IAAkl9gjU2l"
      }
    },
    {
      "cell_type": "code",
      "source": [
        "x <-list(foo=1:4, bar=0.6, baz=\"hello\")\n",
        "x[c(1,3)]"
      ],
      "metadata": {
        "colab": {
          "base_uri": "https://localhost:8080/",
          "height": 114
        },
        "id": "TIhmC-V2jTm6",
        "outputId": "948b8dac-5058-4f1d-863d-868fc183c275"
      },
      "execution_count": null,
      "outputs": [
        {
          "output_type": "display_data",
          "data": {
            "text/html": [
              "<dl>\n",
              "\t<dt>$foo</dt>\n",
              "\t\t<dd><style>\n",
              ".list-inline {list-style: none; margin:0; padding: 0}\n",
              ".list-inline>li {display: inline-block}\n",
              ".list-inline>li:not(:last-child)::after {content: \"\\00b7\"; padding: 0 .5ex}\n",
              "</style>\n",
              "<ol class=list-inline><li>1</li><li>2</li><li>3</li><li>4</li></ol>\n",
              "</dd>\n",
              "\t<dt>$baz</dt>\n",
              "\t\t<dd>'hello'</dd>\n",
              "</dl>\n"
            ],
            "text/markdown": "$foo\n:   1. 1\n2. 2\n3. 3\n4. 4\n\n\n\n$baz\n:   'hello'\n\n\n",
            "text/latex": "\\begin{description}\n\\item[\\$foo] \\begin{enumerate*}\n\\item 1\n\\item 2\n\\item 3\n\\item 4\n\\end{enumerate*}\n\n\\item[\\$baz] 'hello'\n\\end{description}\n",
            "text/plain": [
              "$foo\n",
              "[1] 1 2 3 4\n",
              "\n",
              "$baz\n",
              "[1] \"hello\"\n"
            ]
          },
          "metadata": {}
        }
      ]
    },
    {
      "cell_type": "markdown",
      "source": [
        "##Partial Matching"
      ],
      "metadata": {
        "id": "p15rzItPjsMU"
      }
    },
    {
      "cell_type": "code",
      "source": [
        "x <- list(aardvark =1:5)\n",
        "x$a"
      ],
      "metadata": {
        "colab": {
          "base_uri": "https://localhost:8080/",
          "height": 34
        },
        "id": "Y-Bb1sk4jjLt",
        "outputId": "8533a67d-b760-4875-fa78-e64e31a51dda"
      },
      "execution_count": null,
      "outputs": [
        {
          "output_type": "display_data",
          "data": {
            "text/html": [
              "<style>\n",
              ".list-inline {list-style: none; margin:0; padding: 0}\n",
              ".list-inline>li {display: inline-block}\n",
              ".list-inline>li:not(:last-child)::after {content: \"\\00b7\"; padding: 0 .5ex}\n",
              "</style>\n",
              "<ol class=list-inline><li>1</li><li>2</li><li>3</li><li>4</li><li>5</li></ol>\n"
            ],
            "text/markdown": "1. 1\n2. 2\n3. 3\n4. 4\n5. 5\n\n\n",
            "text/latex": "\\begin{enumerate*}\n\\item 1\n\\item 2\n\\item 3\n\\item 4\n\\item 5\n\\end{enumerate*}\n",
            "text/plain": [
              "[1] 1 2 3 4 5"
            ]
          },
          "metadata": {}
        }
      ]
    },
    {
      "cell_type": "code",
      "source": [
        "x[[\"a\"]]"
      ],
      "metadata": {
        "colab": {
          "base_uri": "https://localhost:8080/",
          "height": 34
        },
        "id": "0AsSmdeSj51C",
        "outputId": "98f1a261-2cc2-4b7b-fdbb-cbfd57b8445c"
      },
      "execution_count": null,
      "outputs": [
        {
          "output_type": "display_data",
          "data": {
            "text/plain": [
              "NULL"
            ]
          },
          "metadata": {}
        }
      ]
    },
    {
      "cell_type": "code",
      "source": [
        "x[[\"a\", exact=FALSE]]"
      ],
      "metadata": {
        "colab": {
          "base_uri": "https://localhost:8080/",
          "height": 34
        },
        "id": "4xbdpMZTj7fr",
        "outputId": "ed288539-c990-446b-ab6f-f9e641fec308"
      },
      "execution_count": null,
      "outputs": [
        {
          "output_type": "display_data",
          "data": {
            "text/html": [
              "<style>\n",
              ".list-inline {list-style: none; margin:0; padding: 0}\n",
              ".list-inline>li {display: inline-block}\n",
              ".list-inline>li:not(:last-child)::after {content: \"\\00b7\"; padding: 0 .5ex}\n",
              "</style>\n",
              "<ol class=list-inline><li>1</li><li>2</li><li>3</li><li>4</li><li>5</li></ol>\n"
            ],
            "text/markdown": "1. 1\n2. 2\n3. 3\n4. 4\n5. 5\n\n\n",
            "text/latex": "\\begin{enumerate*}\n\\item 1\n\\item 2\n\\item 3\n\\item 4\n\\item 5\n\\end{enumerate*}\n",
            "text/plain": [
              "[1] 1 2 3 4 5"
            ]
          },
          "metadata": {}
        }
      ]
    },
    {
      "cell_type": "markdown",
      "source": [
        "##Removing NA"
      ],
      "metadata": {
        "id": "xK-2VoAmkFRs"
      }
    },
    {
      "cell_type": "code",
      "source": [
        "x <- c(1, 2, NA, 4, NA, 5)\n",
        "bad <- is.na(x)\n",
        "print(bad)"
      ],
      "metadata": {
        "colab": {
          "base_uri": "https://localhost:8080/"
        },
        "id": "U_WJzf8FkAGs",
        "outputId": "bd777a65-c516-428d-f74f-1756e70f9aa3"
      },
      "execution_count": null,
      "outputs": [
        {
          "output_type": "stream",
          "name": "stdout",
          "text": [
            "[1] FALSE FALSE  TRUE FALSE  TRUE FALSE\n"
          ]
        }
      ]
    },
    {
      "cell_type": "code",
      "source": [
        "x[!bad]"
      ],
      "metadata": {
        "colab": {
          "base_uri": "https://localhost:8080/",
          "height": 34
        },
        "id": "45xsnGFxkRTC",
        "outputId": "84c03561-8b97-4c81-9931-a4579eec275f"
      },
      "execution_count": null,
      "outputs": [
        {
          "output_type": "display_data",
          "data": {
            "text/html": [
              "<style>\n",
              ".list-inline {list-style: none; margin:0; padding: 0}\n",
              ".list-inline>li {display: inline-block}\n",
              ".list-inline>li:not(:last-child)::after {content: \"\\00b7\"; padding: 0 .5ex}\n",
              "</style>\n",
              "<ol class=list-inline><li>1</li><li>2</li><li>4</li><li>5</li></ol>\n"
            ],
            "text/markdown": "1. 1\n2. 2\n3. 4\n4. 5\n\n\n",
            "text/latex": "\\begin{enumerate*}\n\\item 1\n\\item 2\n\\item 4\n\\item 5\n\\end{enumerate*}\n",
            "text/plain": [
              "[1] 1 2 4 5"
            ]
          },
          "metadata": {}
        }
      ]
    },
    {
      "cell_type": "code",
      "source": [
        "x <- c(1,2,NA,4,NA,5)\n",
        "y <- c(\"a\", \"b\", NA, \"d\", NA, \"f\")\n",
        "good <- complete.cases(x,y)"
      ],
      "metadata": {
        "id": "pJec-haMkTvF"
      },
      "execution_count": null,
      "outputs": []
    },
    {
      "cell_type": "code",
      "source": [
        "good"
      ],
      "metadata": {
        "colab": {
          "base_uri": "https://localhost:8080/",
          "height": 34
        },
        "id": "BYQ-OcLnkjR9",
        "outputId": "ee82c0ac-e6f5-4a63-e758-7b288e4d58df"
      },
      "execution_count": null,
      "outputs": [
        {
          "output_type": "display_data",
          "data": {
            "text/html": [
              "<style>\n",
              ".list-inline {list-style: none; margin:0; padding: 0}\n",
              ".list-inline>li {display: inline-block}\n",
              ".list-inline>li:not(:last-child)::after {content: \"\\00b7\"; padding: 0 .5ex}\n",
              "</style>\n",
              "<ol class=list-inline><li>TRUE</li><li>TRUE</li><li>FALSE</li><li>TRUE</li><li>FALSE</li><li>TRUE</li></ol>\n"
            ],
            "text/markdown": "1. TRUE\n2. TRUE\n3. FALSE\n4. TRUE\n5. FALSE\n6. TRUE\n\n\n",
            "text/latex": "\\begin{enumerate*}\n\\item TRUE\n\\item TRUE\n\\item FALSE\n\\item TRUE\n\\item FALSE\n\\item TRUE\n\\end{enumerate*}\n",
            "text/plain": [
              "[1]  TRUE  TRUE FALSE  TRUE FALSE  TRUE"
            ]
          },
          "metadata": {}
        }
      ]
    },
    {
      "cell_type": "code",
      "source": [
        "x[good]"
      ],
      "metadata": {
        "colab": {
          "base_uri": "https://localhost:8080/",
          "height": 34
        },
        "id": "yOee-ynTklE8",
        "outputId": "07e84b07-99df-4a15-aaae-2e73263d08c7"
      },
      "execution_count": null,
      "outputs": [
        {
          "output_type": "display_data",
          "data": {
            "text/html": [
              "<style>\n",
              ".list-inline {list-style: none; margin:0; padding: 0}\n",
              ".list-inline>li {display: inline-block}\n",
              ".list-inline>li:not(:last-child)::after {content: \"\\00b7\"; padding: 0 .5ex}\n",
              "</style>\n",
              "<ol class=list-inline><li>1</li><li>2</li><li>4</li><li>5</li></ol>\n"
            ],
            "text/markdown": "1. 1\n2. 2\n3. 4\n4. 5\n\n\n",
            "text/latex": "\\begin{enumerate*}\n\\item 1\n\\item 2\n\\item 4\n\\item 5\n\\end{enumerate*}\n",
            "text/plain": [
              "[1] 1 2 4 5"
            ]
          },
          "metadata": {}
        }
      ]
    },
    {
      "cell_type": "code",
      "source": [
        "y[good]"
      ],
      "metadata": {
        "colab": {
          "base_uri": "https://localhost:8080/",
          "height": 34
        },
        "id": "bdY4WuinknaZ",
        "outputId": "cda9bc74-a9e2-480b-ff5a-8b7a663ac310"
      },
      "execution_count": null,
      "outputs": [
        {
          "output_type": "display_data",
          "data": {
            "text/html": [
              "<style>\n",
              ".list-inline {list-style: none; margin:0; padding: 0}\n",
              ".list-inline>li {display: inline-block}\n",
              ".list-inline>li:not(:last-child)::after {content: \"\\00b7\"; padding: 0 .5ex}\n",
              "</style>\n",
              "<ol class=list-inline><li>'a'</li><li>'b'</li><li>'d'</li><li>'f'</li></ol>\n"
            ],
            "text/markdown": "1. 'a'\n2. 'b'\n3. 'd'\n4. 'f'\n\n\n",
            "text/latex": "\\begin{enumerate*}\n\\item 'a'\n\\item 'b'\n\\item 'd'\n\\item 'f'\n\\end{enumerate*}\n",
            "text/plain": [
              "[1] \"a\" \"b\" \"d\" \"f\""
            ]
          },
          "metadata": {}
        }
      ]
    },
    {
      "cell_type": "code",
      "source": [
        "head(airquality)"
      ],
      "metadata": {
        "colab": {
          "base_uri": "https://localhost:8080/",
          "height": 286
        },
        "id": "t7GLIp8gko0g",
        "outputId": "4f0098ca-3dfd-4394-cfe2-1d1299cfecf3"
      },
      "execution_count": null,
      "outputs": [
        {
          "output_type": "display_data",
          "data": {
            "text/html": [
              "<table class=\"dataframe\">\n",
              "<caption>A data.frame: 6 × 6</caption>\n",
              "<thead>\n",
              "\t<tr><th></th><th scope=col>Ozone</th><th scope=col>Solar.R</th><th scope=col>Wind</th><th scope=col>Temp</th><th scope=col>Month</th><th scope=col>Day</th></tr>\n",
              "\t<tr><th></th><th scope=col>&lt;int&gt;</th><th scope=col>&lt;int&gt;</th><th scope=col>&lt;dbl&gt;</th><th scope=col>&lt;int&gt;</th><th scope=col>&lt;int&gt;</th><th scope=col>&lt;int&gt;</th></tr>\n",
              "</thead>\n",
              "<tbody>\n",
              "\t<tr><th scope=row>1</th><td>41</td><td>190</td><td> 7.4</td><td>67</td><td>5</td><td>1</td></tr>\n",
              "\t<tr><th scope=row>2</th><td>36</td><td>118</td><td> 8.0</td><td>72</td><td>5</td><td>2</td></tr>\n",
              "\t<tr><th scope=row>3</th><td>12</td><td>149</td><td>12.6</td><td>74</td><td>5</td><td>3</td></tr>\n",
              "\t<tr><th scope=row>4</th><td>18</td><td>313</td><td>11.5</td><td>62</td><td>5</td><td>4</td></tr>\n",
              "\t<tr><th scope=row>5</th><td>NA</td><td> NA</td><td>14.3</td><td>56</td><td>5</td><td>5</td></tr>\n",
              "\t<tr><th scope=row>6</th><td>28</td><td> NA</td><td>14.9</td><td>66</td><td>5</td><td>6</td></tr>\n",
              "</tbody>\n",
              "</table>\n"
            ],
            "text/markdown": "\nA data.frame: 6 × 6\n\n| <!--/--> | Ozone &lt;int&gt; | Solar.R &lt;int&gt; | Wind &lt;dbl&gt; | Temp &lt;int&gt; | Month &lt;int&gt; | Day &lt;int&gt; |\n|---|---|---|---|---|---|---|\n| 1 | 41 | 190 |  7.4 | 67 | 5 | 1 |\n| 2 | 36 | 118 |  8.0 | 72 | 5 | 2 |\n| 3 | 12 | 149 | 12.6 | 74 | 5 | 3 |\n| 4 | 18 | 313 | 11.5 | 62 | 5 | 4 |\n| 5 | NA |  NA | 14.3 | 56 | 5 | 5 |\n| 6 | 28 |  NA | 14.9 | 66 | 5 | 6 |\n\n",
            "text/latex": "A data.frame: 6 × 6\n\\begin{tabular}{r|llllll}\n  & Ozone & Solar.R & Wind & Temp & Month & Day\\\\\n  & <int> & <int> & <dbl> & <int> & <int> & <int>\\\\\n\\hline\n\t1 & 41 & 190 &  7.4 & 67 & 5 & 1\\\\\n\t2 & 36 & 118 &  8.0 & 72 & 5 & 2\\\\\n\t3 & 12 & 149 & 12.6 & 74 & 5 & 3\\\\\n\t4 & 18 & 313 & 11.5 & 62 & 5 & 4\\\\\n\t5 & NA &  NA & 14.3 & 56 & 5 & 5\\\\\n\t6 & 28 &  NA & 14.9 & 66 & 5 & 6\\\\\n\\end{tabular}\n",
            "text/plain": [
              "  Ozone Solar.R Wind Temp Month Day\n",
              "1 41    190      7.4 67   5     1  \n",
              "2 36    118      8.0 72   5     2  \n",
              "3 12    149     12.6 74   5     3  \n",
              "4 18    313     11.5 62   5     4  \n",
              "5 NA     NA     14.3 56   5     5  \n",
              "6 28     NA     14.9 66   5     6  "
            ]
          },
          "metadata": {}
        }
      ]
    },
    {
      "cell_type": "code",
      "source": [
        "good <- complete.cases(airquality)\n",
        "head(airquality[good, ])\n"
      ],
      "metadata": {
        "colab": {
          "base_uri": "https://localhost:8080/",
          "height": 286
        },
        "id": "4GkZNeQdksxd",
        "outputId": "9b483686-26d3-40a9-dbe4-f751839555c2"
      },
      "execution_count": null,
      "outputs": [
        {
          "output_type": "display_data",
          "data": {
            "text/html": [
              "<table class=\"dataframe\">\n",
              "<caption>A data.frame: 6 × 6</caption>\n",
              "<thead>\n",
              "\t<tr><th></th><th scope=col>Ozone</th><th scope=col>Solar.R</th><th scope=col>Wind</th><th scope=col>Temp</th><th scope=col>Month</th><th scope=col>Day</th></tr>\n",
              "\t<tr><th></th><th scope=col>&lt;int&gt;</th><th scope=col>&lt;int&gt;</th><th scope=col>&lt;dbl&gt;</th><th scope=col>&lt;int&gt;</th><th scope=col>&lt;int&gt;</th><th scope=col>&lt;int&gt;</th></tr>\n",
              "</thead>\n",
              "<tbody>\n",
              "\t<tr><th scope=row>1</th><td>41</td><td>190</td><td> 7.4</td><td>67</td><td>5</td><td>1</td></tr>\n",
              "\t<tr><th scope=row>2</th><td>36</td><td>118</td><td> 8.0</td><td>72</td><td>5</td><td>2</td></tr>\n",
              "\t<tr><th scope=row>3</th><td>12</td><td>149</td><td>12.6</td><td>74</td><td>5</td><td>3</td></tr>\n",
              "\t<tr><th scope=row>4</th><td>18</td><td>313</td><td>11.5</td><td>62</td><td>5</td><td>4</td></tr>\n",
              "\t<tr><th scope=row>7</th><td>23</td><td>299</td><td> 8.6</td><td>65</td><td>5</td><td>7</td></tr>\n",
              "\t<tr><th scope=row>8</th><td>19</td><td> 99</td><td>13.8</td><td>59</td><td>5</td><td>8</td></tr>\n",
              "</tbody>\n",
              "</table>\n"
            ],
            "text/markdown": "\nA data.frame: 6 × 6\n\n| <!--/--> | Ozone &lt;int&gt; | Solar.R &lt;int&gt; | Wind &lt;dbl&gt; | Temp &lt;int&gt; | Month &lt;int&gt; | Day &lt;int&gt; |\n|---|---|---|---|---|---|---|\n| 1 | 41 | 190 |  7.4 | 67 | 5 | 1 |\n| 2 | 36 | 118 |  8.0 | 72 | 5 | 2 |\n| 3 | 12 | 149 | 12.6 | 74 | 5 | 3 |\n| 4 | 18 | 313 | 11.5 | 62 | 5 | 4 |\n| 7 | 23 | 299 |  8.6 | 65 | 5 | 7 |\n| 8 | 19 |  99 | 13.8 | 59 | 5 | 8 |\n\n",
            "text/latex": "A data.frame: 6 × 6\n\\begin{tabular}{r|llllll}\n  & Ozone & Solar.R & Wind & Temp & Month & Day\\\\\n  & <int> & <int> & <dbl> & <int> & <int> & <int>\\\\\n\\hline\n\t1 & 41 & 190 &  7.4 & 67 & 5 & 1\\\\\n\t2 & 36 & 118 &  8.0 & 72 & 5 & 2\\\\\n\t3 & 12 & 149 & 12.6 & 74 & 5 & 3\\\\\n\t4 & 18 & 313 & 11.5 & 62 & 5 & 4\\\\\n\t7 & 23 & 299 &  8.6 & 65 & 5 & 7\\\\\n\t8 & 19 &  99 & 13.8 & 59 & 5 & 8\\\\\n\\end{tabular}\n",
            "text/plain": [
              "  Ozone Solar.R Wind Temp Month Day\n",
              "1 41    190      7.4 67   5     1  \n",
              "2 36    118      8.0 72   5     2  \n",
              "3 12    149     12.6 74   5     3  \n",
              "4 18    313     11.5 62   5     4  \n",
              "7 23    299      8.6 65   5     7  \n",
              "8 19     99     13.8 59   5     8  "
            ]
          },
          "metadata": {}
        }
      ]
    },
    {
      "cell_type": "markdown",
      "source": [
        "#Vectorized Operations"
      ],
      "metadata": {
        "id": "uVUZ8rNY_mzG"
      }
    },
    {
      "cell_type": "code",
      "source": [
        "x <- 1:4\n",
        "y <- 6:9\n",
        "z <- x+y\n",
        "z"
      ],
      "metadata": {
        "id": "S1RhqSSDk38d",
        "colab": {
          "base_uri": "https://localhost:8080/",
          "height": 34
        },
        "outputId": "e89a4e9f-e7bf-4d7d-cbec-8d03e38b75a3"
      },
      "execution_count": null,
      "outputs": [
        {
          "output_type": "display_data",
          "data": {
            "text/html": [
              "<style>\n",
              ".list-inline {list-style: none; margin:0; padding: 0}\n",
              ".list-inline>li {display: inline-block}\n",
              ".list-inline>li:not(:last-child)::after {content: \"\\00b7\"; padding: 0 .5ex}\n",
              "</style>\n",
              "<ol class=list-inline><li>7</li><li>9</li><li>11</li><li>13</li></ol>\n"
            ],
            "text/markdown": "1. 7\n2. 9\n3. 11\n4. 13\n\n\n",
            "text/latex": "\\begin{enumerate*}\n\\item 7\n\\item 9\n\\item 11\n\\item 13\n\\end{enumerate*}\n",
            "text/plain": [
              "[1]  7  9 11 13"
            ]
          },
          "metadata": {}
        }
      ]
    },
    {
      "cell_type": "code",
      "source": [
        "z <- numeric(length(x))\n",
        "for(i in seq_along(x)){\n",
        "  z <- x[i] + y[i]\n",
        "}\n",
        "\n",
        "z"
      ],
      "metadata": {
        "colab": {
          "base_uri": "https://localhost:8080/",
          "height": 34
        },
        "id": "b59zGE3l_41e",
        "outputId": "fb8d6aca-b951-44bc-f7ac-112a022dac71"
      },
      "execution_count": null,
      "outputs": [
        {
          "output_type": "display_data",
          "data": {
            "text/html": [
              "13"
            ],
            "text/markdown": "13",
            "text/latex": "13",
            "text/plain": [
              "[1] 13"
            ]
          },
          "metadata": {}
        }
      ]
    },
    {
      "cell_type": "code",
      "source": [
        "x"
      ],
      "metadata": {
        "colab": {
          "base_uri": "https://localhost:8080/",
          "height": 34
        },
        "id": "smjBQgTYAKDD",
        "outputId": "05f2829e-4d46-4b77-a036-8f014e019ba4"
      },
      "execution_count": null,
      "outputs": [
        {
          "output_type": "display_data",
          "data": {
            "text/html": [
              "<style>\n",
              ".list-inline {list-style: none; margin:0; padding: 0}\n",
              ".list-inline>li {display: inline-block}\n",
              ".list-inline>li:not(:last-child)::after {content: \"\\00b7\"; padding: 0 .5ex}\n",
              "</style>\n",
              "<ol class=list-inline><li>1</li><li>2</li><li>3</li><li>4</li></ol>\n"
            ],
            "text/markdown": "1. 1\n2. 2\n3. 3\n4. 4\n\n\n",
            "text/latex": "\\begin{enumerate*}\n\\item 1\n\\item 2\n\\item 3\n\\item 4\n\\end{enumerate*}\n",
            "text/plain": [
              "[1] 1 2 3 4"
            ]
          },
          "metadata": {}
        }
      ]
    },
    {
      "cell_type": "code",
      "source": [
        "x > 2"
      ],
      "metadata": {
        "colab": {
          "base_uri": "https://localhost:8080/",
          "height": 34
        },
        "id": "ABMjbzjhAQ0C",
        "outputId": "70c11cc1-709b-42b9-8e09-33b8c456f337"
      },
      "execution_count": null,
      "outputs": [
        {
          "output_type": "display_data",
          "data": {
            "text/html": [
              "<style>\n",
              ".list-inline {list-style: none; margin:0; padding: 0}\n",
              ".list-inline>li {display: inline-block}\n",
              ".list-inline>li:not(:last-child)::after {content: \"\\00b7\"; padding: 0 .5ex}\n",
              "</style>\n",
              "<ol class=list-inline><li>FALSE</li><li>FALSE</li><li>TRUE</li><li>TRUE</li></ol>\n"
            ],
            "text/markdown": "1. FALSE\n2. FALSE\n3. TRUE\n4. TRUE\n\n\n",
            "text/latex": "\\begin{enumerate*}\n\\item FALSE\n\\item FALSE\n\\item TRUE\n\\item TRUE\n\\end{enumerate*}\n",
            "text/plain": [
              "[1] FALSE FALSE  TRUE  TRUE"
            ]
          },
          "metadata": {}
        }
      ]
    },
    {
      "cell_type": "code",
      "source": [
        "x >= 2"
      ],
      "metadata": {
        "colab": {
          "base_uri": "https://localhost:8080/",
          "height": 34
        },
        "id": "vJxDoUVlASNJ",
        "outputId": "1553fb14-4db2-4bc0-9754-4220cc67e965"
      },
      "execution_count": null,
      "outputs": [
        {
          "output_type": "display_data",
          "data": {
            "text/html": [
              "<style>\n",
              ".list-inline {list-style: none; margin:0; padding: 0}\n",
              ".list-inline>li {display: inline-block}\n",
              ".list-inline>li:not(:last-child)::after {content: \"\\00b7\"; padding: 0 .5ex}\n",
              "</style>\n",
              "<ol class=list-inline><li>FALSE</li><li>TRUE</li><li>TRUE</li><li>TRUE</li></ol>\n"
            ],
            "text/markdown": "1. FALSE\n2. TRUE\n3. TRUE\n4. TRUE\n\n\n",
            "text/latex": "\\begin{enumerate*}\n\\item FALSE\n\\item TRUE\n\\item TRUE\n\\item TRUE\n\\end{enumerate*}\n",
            "text/plain": [
              "[1] FALSE  TRUE  TRUE  TRUE"
            ]
          },
          "metadata": {}
        }
      ]
    },
    {
      "cell_type": "code",
      "source": [
        "x < 3"
      ],
      "metadata": {
        "colab": {
          "base_uri": "https://localhost:8080/",
          "height": 34
        },
        "id": "xDpg62NFAVKh",
        "outputId": "ce16de38-4e1a-4f16-f943-5ad5f1da3e90"
      },
      "execution_count": null,
      "outputs": [
        {
          "output_type": "display_data",
          "data": {
            "text/html": [
              "<style>\n",
              ".list-inline {list-style: none; margin:0; padding: 0}\n",
              ".list-inline>li {display: inline-block}\n",
              ".list-inline>li:not(:last-child)::after {content: \"\\00b7\"; padding: 0 .5ex}\n",
              "</style>\n",
              "<ol class=list-inline><li>TRUE</li><li>TRUE</li><li>FALSE</li><li>FALSE</li></ol>\n"
            ],
            "text/markdown": "1. TRUE\n2. TRUE\n3. FALSE\n4. FALSE\n\n\n",
            "text/latex": "\\begin{enumerate*}\n\\item TRUE\n\\item TRUE\n\\item FALSE\n\\item FALSE\n\\end{enumerate*}\n",
            "text/plain": [
              "[1]  TRUE  TRUE FALSE FALSE"
            ]
          },
          "metadata": {}
        }
      ]
    },
    {
      "cell_type": "code",
      "source": [
        "y == 8"
      ],
      "metadata": {
        "colab": {
          "base_uri": "https://localhost:8080/",
          "height": 34
        },
        "id": "nkFkQXWmAXI8",
        "outputId": "997844de-a15a-4207-878c-ecf115c52ea1"
      },
      "execution_count": null,
      "outputs": [
        {
          "output_type": "display_data",
          "data": {
            "text/html": [
              "<style>\n",
              ".list-inline {list-style: none; margin:0; padding: 0}\n",
              ".list-inline>li {display: inline-block}\n",
              ".list-inline>li:not(:last-child)::after {content: \"\\00b7\"; padding: 0 .5ex}\n",
              "</style>\n",
              "<ol class=list-inline><li>FALSE</li><li>FALSE</li><li>TRUE</li><li>FALSE</li></ol>\n"
            ],
            "text/markdown": "1. FALSE\n2. FALSE\n3. TRUE\n4. FALSE\n\n\n",
            "text/latex": "\\begin{enumerate*}\n\\item FALSE\n\\item FALSE\n\\item TRUE\n\\item FALSE\n\\end{enumerate*}\n",
            "text/plain": [
              "[1] FALSE FALSE  TRUE FALSE"
            ]
          },
          "metadata": {}
        }
      ]
    },
    {
      "cell_type": "code",
      "source": [
        "x -y"
      ],
      "metadata": {
        "colab": {
          "base_uri": "https://localhost:8080/",
          "height": 34
        },
        "id": "AGSoPWYqAZSn",
        "outputId": "0e7caef4-a381-4f67-c5a4-4ac6c1fdaddb"
      },
      "execution_count": null,
      "outputs": [
        {
          "output_type": "display_data",
          "data": {
            "text/html": [
              "<style>\n",
              ".list-inline {list-style: none; margin:0; padding: 0}\n",
              ".list-inline>li {display: inline-block}\n",
              ".list-inline>li:not(:last-child)::after {content: \"\\00b7\"; padding: 0 .5ex}\n",
              "</style>\n",
              "<ol class=list-inline><li>-5</li><li>-5</li><li>-5</li><li>-5</li></ol>\n"
            ],
            "text/markdown": "1. -5\n2. -5\n3. -5\n4. -5\n\n\n",
            "text/latex": "\\begin{enumerate*}\n\\item -5\n\\item -5\n\\item -5\n\\item -5\n\\end{enumerate*}\n",
            "text/plain": [
              "[1] -5 -5 -5 -5"
            ]
          },
          "metadata": {}
        }
      ]
    },
    {
      "cell_type": "code",
      "source": [
        "x * y"
      ],
      "metadata": {
        "colab": {
          "base_uri": "https://localhost:8080/",
          "height": 34
        },
        "id": "GXfNF1AkAdjP",
        "outputId": "59c1a16c-15cb-4a63-c441-5bfe3885fc15"
      },
      "execution_count": null,
      "outputs": [
        {
          "output_type": "display_data",
          "data": {
            "text/html": [
              "<style>\n",
              ".list-inline {list-style: none; margin:0; padding: 0}\n",
              ".list-inline>li {display: inline-block}\n",
              ".list-inline>li:not(:last-child)::after {content: \"\\00b7\"; padding: 0 .5ex}\n",
              "</style>\n",
              "<ol class=list-inline><li>6</li><li>14</li><li>24</li><li>36</li></ol>\n"
            ],
            "text/markdown": "1. 6\n2. 14\n3. 24\n4. 36\n\n\n",
            "text/latex": "\\begin{enumerate*}\n\\item 6\n\\item 14\n\\item 24\n\\item 36\n\\end{enumerate*}\n",
            "text/plain": [
              "[1]  6 14 24 36"
            ]
          },
          "metadata": {}
        }
      ]
    },
    {
      "cell_type": "code",
      "source": [
        "x / y"
      ],
      "metadata": {
        "colab": {
          "base_uri": "https://localhost:8080/",
          "height": 34
        },
        "id": "vQ8YL0i2Affy",
        "outputId": "1f09b53e-7469-45ab-d86d-5aaae3e58ba4"
      },
      "execution_count": null,
      "outputs": [
        {
          "output_type": "display_data",
          "data": {
            "text/html": [
              "<style>\n",
              ".list-inline {list-style: none; margin:0; padding: 0}\n",
              ".list-inline>li {display: inline-block}\n",
              ".list-inline>li:not(:last-child)::after {content: \"\\00b7\"; padding: 0 .5ex}\n",
              "</style>\n",
              "<ol class=list-inline><li>0.166666666666667</li><li>0.285714285714286</li><li>0.375</li><li>0.444444444444444</li></ol>\n"
            ],
            "text/markdown": "1. 0.166666666666667\n2. 0.285714285714286\n3. 0.375\n4. 0.444444444444444\n\n\n",
            "text/latex": "\\begin{enumerate*}\n\\item 0.166666666666667\n\\item 0.285714285714286\n\\item 0.375\n\\item 0.444444444444444\n\\end{enumerate*}\n",
            "text/plain": [
              "[1] 0.1666667 0.2857143 0.3750000 0.4444444"
            ]
          },
          "metadata": {}
        }
      ]
    },
    {
      "cell_type": "markdown",
      "source": [
        "##Vectorized Matrix Operations"
      ],
      "metadata": {
        "id": "MdBvwkvEAjmu"
      }
    },
    {
      "cell_type": "code",
      "source": [
        "x <- matrix(1:4, 2, 2)\n",
        "y <- matrix(rep(10,4),2,2)"
      ],
      "metadata": {
        "id": "qFLh8dhUAhir"
      },
      "execution_count": null,
      "outputs": []
    },
    {
      "cell_type": "code",
      "source": [
        "##element wise multiplication\n",
        "x*y"
      ],
      "metadata": {
        "colab": {
          "base_uri": "https://localhost:8080/",
          "height": 132
        },
        "id": "wFSK_iIXA0XV",
        "outputId": "f725ea1a-f030-4302-8a47-3bec176ad659"
      },
      "execution_count": null,
      "outputs": [
        {
          "output_type": "display_data",
          "data": {
            "text/html": [
              "<table class=\"dataframe\">\n",
              "<caption>A matrix: 2 × 2 of type dbl</caption>\n",
              "<tbody>\n",
              "\t<tr><td>10</td><td>30</td></tr>\n",
              "\t<tr><td>20</td><td>40</td></tr>\n",
              "</tbody>\n",
              "</table>\n"
            ],
            "text/markdown": "\nA matrix: 2 × 2 of type dbl\n\n| 10 | 30 |\n| 20 | 40 |\n\n",
            "text/latex": "A matrix: 2 × 2 of type dbl\n\\begin{tabular}{ll}\n\t 10 & 30\\\\\n\t 20 & 40\\\\\n\\end{tabular}\n",
            "text/plain": [
              "     [,1] [,2]\n",
              "[1,] 10   30  \n",
              "[2,] 20   40  "
            ]
          },
          "metadata": {}
        }
      ]
    },
    {
      "cell_type": "code",
      "source": [
        "##element wise division\n",
        "\n",
        "x / y"
      ],
      "metadata": {
        "colab": {
          "base_uri": "https://localhost:8080/",
          "height": 132
        },
        "id": "FUQSNFuzA5fh",
        "outputId": "700c140d-4132-46b1-da15-30ed1a9827de"
      },
      "execution_count": null,
      "outputs": [
        {
          "output_type": "display_data",
          "data": {
            "text/html": [
              "<table class=\"dataframe\">\n",
              "<caption>A matrix: 2 × 2 of type dbl</caption>\n",
              "<tbody>\n",
              "\t<tr><td>0.1</td><td>0.3</td></tr>\n",
              "\t<tr><td>0.2</td><td>0.4</td></tr>\n",
              "</tbody>\n",
              "</table>\n"
            ],
            "text/markdown": "\nA matrix: 2 × 2 of type dbl\n\n| 0.1 | 0.3 |\n| 0.2 | 0.4 |\n\n",
            "text/latex": "A matrix: 2 × 2 of type dbl\n\\begin{tabular}{ll}\n\t 0.1 & 0.3\\\\\n\t 0.2 & 0.4\\\\\n\\end{tabular}\n",
            "text/plain": [
              "     [,1] [,2]\n",
              "[1,] 0.1  0.3 \n",
              "[2,] 0.2  0.4 "
            ]
          },
          "metadata": {}
        }
      ]
    },
    {
      "cell_type": "code",
      "source": [
        "##True matrix multiplication\n",
        "\n",
        "x %*% y"
      ],
      "metadata": {
        "colab": {
          "base_uri": "https://localhost:8080/",
          "height": 132
        },
        "id": "cC1IfgOFA_Vs",
        "outputId": "31a76c79-faa3-42f9-e755-e13a47877c80"
      },
      "execution_count": null,
      "outputs": [
        {
          "output_type": "display_data",
          "data": {
            "text/html": [
              "<table class=\"dataframe\">\n",
              "<caption>A matrix: 2 × 2 of type dbl</caption>\n",
              "<tbody>\n",
              "\t<tr><td>40</td><td>40</td></tr>\n",
              "\t<tr><td>60</td><td>60</td></tr>\n",
              "</tbody>\n",
              "</table>\n"
            ],
            "text/markdown": "\nA matrix: 2 × 2 of type dbl\n\n| 40 | 40 |\n| 60 | 60 |\n\n",
            "text/latex": "A matrix: 2 × 2 of type dbl\n\\begin{tabular}{ll}\n\t 40 & 40\\\\\n\t 60 & 60\\\\\n\\end{tabular}\n",
            "text/plain": [
              "     [,1] [,2]\n",
              "[1,] 40   40  \n",
              "[2,] 60   60  "
            ]
          },
          "metadata": {}
        }
      ]
    },
    {
      "cell_type": "markdown",
      "source": [
        "#Dates and Times"
      ],
      "metadata": {
        "id": "x8gx4gQYBLSR"
      }
    },
    {
      "cell_type": "markdown",
      "source": [
        "##Dates in R"
      ],
      "metadata": {
        "id": "Etdo_YpuBXRV"
      }
    },
    {
      "cell_type": "code",
      "source": [
        "x <- as.Date(\"1970-01-01\")\n",
        "x"
      ],
      "metadata": {
        "colab": {
          "base_uri": "https://localhost:8080/",
          "height": 34
        },
        "id": "QLMIlwWFBHpj",
        "outputId": "35b5b790-1cdc-42b1-c712-4aca3ffeabed"
      },
      "execution_count": null,
      "outputs": [
        {
          "output_type": "display_data",
          "data": {
            "text/html": [
              "<time datetime=\"1970-01-01\">1970-01-01</time>"
            ],
            "text/markdown": "1970-01-01",
            "text/latex": "1970-01-01",
            "text/plain": [
              "[1] \"1970-01-01\""
            ]
          },
          "metadata": {}
        }
      ]
    },
    {
      "cell_type": "code",
      "source": [
        "unclass(x)"
      ],
      "metadata": {
        "colab": {
          "base_uri": "https://localhost:8080/",
          "height": 34
        },
        "id": "cvyODr1UBicZ",
        "outputId": "8927da29-dea5-4cfa-8ba7-5742c441bc53"
      },
      "execution_count": null,
      "outputs": [
        {
          "output_type": "display_data",
          "data": {
            "text/html": [
              "0"
            ],
            "text/markdown": "0",
            "text/latex": "0",
            "text/plain": [
              "[1] 0"
            ]
          },
          "metadata": {}
        }
      ]
    },
    {
      "cell_type": "code",
      "source": [
        "unclass(as.Date(\"1970-01-02\"))"
      ],
      "metadata": {
        "colab": {
          "base_uri": "https://localhost:8080/",
          "height": 34
        },
        "id": "2wnOR0amBmTv",
        "outputId": "4a03369c-788b-4bb3-dadd-68cecb633287"
      },
      "execution_count": null,
      "outputs": [
        {
          "output_type": "display_data",
          "data": {
            "text/html": [
              "1"
            ],
            "text/markdown": "1",
            "text/latex": "1",
            "text/plain": [
              "[1] 1"
            ]
          },
          "metadata": {}
        }
      ]
    },
    {
      "cell_type": "markdown",
      "source": [
        "##Times in R"
      ],
      "metadata": {
        "id": "UtpS7m2pBs4v"
      }
    },
    {
      "cell_type": "code",
      "source": [
        "x <- Sys.time()\n",
        "x"
      ],
      "metadata": {
        "colab": {
          "base_uri": "https://localhost:8080/",
          "height": 34
        },
        "id": "l2L9GKQyBrnO",
        "outputId": "73f0eebe-60ac-44b3-cce5-d12d95f02d2a"
      },
      "execution_count": null,
      "outputs": [
        {
          "output_type": "display_data",
          "data": {
            "text/plain": [
              "[1] \"2025-07-08 12:34:48 UTC\""
            ]
          },
          "metadata": {}
        }
      ]
    },
    {
      "cell_type": "code",
      "source": [
        "class(x)"
      ],
      "metadata": {
        "colab": {
          "base_uri": "https://localhost:8080/",
          "height": 34
        },
        "id": "VNUtTkcqCBrk",
        "outputId": "56c69540-d1c5-4f70-f5a1-2f0b5ca0fc3b"
      },
      "execution_count": null,
      "outputs": [
        {
          "output_type": "display_data",
          "data": {
            "text/html": [
              "<style>\n",
              ".list-inline {list-style: none; margin:0; padding: 0}\n",
              ".list-inline>li {display: inline-block}\n",
              ".list-inline>li:not(:last-child)::after {content: \"\\00b7\"; padding: 0 .5ex}\n",
              "</style>\n",
              "<ol class=list-inline><li>'POSIXct'</li><li>'POSIXt'</li></ol>\n"
            ],
            "text/markdown": "1. 'POSIXct'\n2. 'POSIXt'\n\n\n",
            "text/latex": "\\begin{enumerate*}\n\\item 'POSIXct'\n\\item 'POSIXt'\n\\end{enumerate*}\n",
            "text/plain": [
              "[1] \"POSIXct\" \"POSIXt\" "
            ]
          },
          "metadata": {}
        }
      ]
    },
    {
      "cell_type": "code",
      "source": [
        "p <- as.POSIXlt(x)\n",
        "names(unclass(p))"
      ],
      "metadata": {
        "colab": {
          "base_uri": "https://localhost:8080/",
          "height": 34
        },
        "id": "DKWmexqnCE6j",
        "outputId": "e7a4e3cf-34a7-47ff-fe89-9a00f29ea66a"
      },
      "execution_count": null,
      "outputs": [
        {
          "output_type": "display_data",
          "data": {
            "text/html": [
              "<style>\n",
              ".list-inline {list-style: none; margin:0; padding: 0}\n",
              ".list-inline>li {display: inline-block}\n",
              ".list-inline>li:not(:last-child)::after {content: \"\\00b7\"; padding: 0 .5ex}\n",
              "</style>\n",
              "<ol class=list-inline><li>'sec'</li><li>'min'</li><li>'hour'</li><li>'mday'</li><li>'mon'</li><li>'year'</li><li>'wday'</li><li>'yday'</li><li>'isdst'</li><li>'zone'</li><li>'gmtoff'</li></ol>\n"
            ],
            "text/markdown": "1. 'sec'\n2. 'min'\n3. 'hour'\n4. 'mday'\n5. 'mon'\n6. 'year'\n7. 'wday'\n8. 'yday'\n9. 'isdst'\n10. 'zone'\n11. 'gmtoff'\n\n\n",
            "text/latex": "\\begin{enumerate*}\n\\item 'sec'\n\\item 'min'\n\\item 'hour'\n\\item 'mday'\n\\item 'mon'\n\\item 'year'\n\\item 'wday'\n\\item 'yday'\n\\item 'isdst'\n\\item 'zone'\n\\item 'gmtoff'\n\\end{enumerate*}\n",
            "text/plain": [
              " [1] \"sec\"    \"min\"    \"hour\"   \"mday\"   \"mon\"    \"year\"   \"wday\"   \"yday\"  \n",
              " [9] \"isdst\"  \"zone\"   \"gmtoff\""
            ]
          },
          "metadata": {}
        }
      ]
    },
    {
      "cell_type": "code",
      "source": [
        "p$wday"
      ],
      "metadata": {
        "colab": {
          "base_uri": "https://localhost:8080/",
          "height": 34
        },
        "id": "nR7YacohCPoU",
        "outputId": "501d7fa0-a5eb-4850-d00f-08cc137f19d5"
      },
      "execution_count": null,
      "outputs": [
        {
          "output_type": "display_data",
          "data": {
            "text/html": [
              "2"
            ],
            "text/markdown": "2",
            "text/latex": "2",
            "text/plain": [
              "[1] 2"
            ]
          },
          "metadata": {}
        }
      ]
    },
    {
      "cell_type": "code",
      "source": [
        "x <- Sys.time()\n",
        "x"
      ],
      "metadata": {
        "colab": {
          "base_uri": "https://localhost:8080/",
          "height": 34
        },
        "id": "t4ERaRp1CTjJ",
        "outputId": "ec38ded5-bd18-447d-e7a0-6c5582f1311e"
      },
      "execution_count": null,
      "outputs": [
        {
          "output_type": "display_data",
          "data": {
            "text/plain": [
              "[1] \"2025-07-08 12:36:22 UTC\""
            ]
          },
          "metadata": {}
        }
      ]
    },
    {
      "cell_type": "code",
      "source": [
        "unclass(x)"
      ],
      "metadata": {
        "colab": {
          "base_uri": "https://localhost:8080/",
          "height": 34
        },
        "id": "jvheVZlXCYkZ",
        "outputId": "bd927672-508d-4d74-ba13-c6e7d4680296"
      },
      "execution_count": null,
      "outputs": [
        {
          "output_type": "display_data",
          "data": {
            "text/html": [
              "1751978182.35872"
            ],
            "text/markdown": "1751978182.35872",
            "text/latex": "1751978182.35872",
            "text/plain": [
              "[1] 1751978182"
            ]
          },
          "metadata": {}
        }
      ]
    },
    {
      "cell_type": "code",
      "source": [
        "x$sec"
      ],
      "metadata": {
        "colab": {
          "base_uri": "https://localhost:8080/",
          "height": 72
        },
        "id": "YwNKKTMkCbJ4",
        "outputId": "1cee756f-df90-4b89-fe75-97d329c4e3b7"
      },
      "execution_count": null,
      "outputs": [
        {
          "output_type": "error",
          "ename": "ERROR",
          "evalue": "Error in x$sec: $ operator is invalid for atomic vectors\n",
          "traceback": [
            "Error in x$sec: $ operator is invalid for atomic vectors\nTraceback:\n"
          ]
        }
      ]
    },
    {
      "cell_type": "code",
      "source": [
        "p<- as.POSIXlt(x)"
      ],
      "metadata": {
        "id": "4-uVGMldCd2R"
      },
      "execution_count": null,
      "outputs": []
    },
    {
      "cell_type": "code",
      "source": [
        "p$sec"
      ],
      "metadata": {
        "colab": {
          "base_uri": "https://localhost:8080/",
          "height": 34
        },
        "id": "35w9SdIVCi9d",
        "outputId": "f7e99139-c37a-4cc9-f640-01e6c82138ce"
      },
      "execution_count": null,
      "outputs": [
        {
          "output_type": "display_data",
          "data": {
            "text/html": [
              "22.3587183952332"
            ],
            "text/markdown": "22.3587183952332",
            "text/latex": "22.3587183952332",
            "text/plain": [
              "[1] 22.35872"
            ]
          },
          "metadata": {}
        }
      ]
    },
    {
      "cell_type": "code",
      "source": [
        "datestring <- c(\"January 10, 2012 10:40\", \"December 9, 2011 9:10\")\n",
        "x<- strptime(datestring, \"%B %d, %Y %H:%M\")\n",
        "x"
      ],
      "metadata": {
        "colab": {
          "base_uri": "https://localhost:8080/",
          "height": 34
        },
        "id": "MJ9evFkECk5k",
        "outputId": "a6616c05-9bac-4fef-a713-cdfd998393d5"
      },
      "execution_count": null,
      "outputs": [
        {
          "output_type": "display_data",
          "data": {
            "text/plain": [
              "[1] \"2012-01-10 10:40:00 UTC\" \"2011-12-09 09:10:00 UTC\""
            ]
          },
          "metadata": {}
        }
      ]
    },
    {
      "cell_type": "code",
      "source": [
        "class(x)"
      ],
      "metadata": {
        "colab": {
          "base_uri": "https://localhost:8080/",
          "height": 34
        },
        "id": "Oxa_VZtoC5ja",
        "outputId": "efe0cf11-7606-499e-a4cc-0fe941502c7b"
      },
      "execution_count": null,
      "outputs": [
        {
          "output_type": "display_data",
          "data": {
            "text/html": [
              "<style>\n",
              ".list-inline {list-style: none; margin:0; padding: 0}\n",
              ".list-inline>li {display: inline-block}\n",
              ".list-inline>li:not(:last-child)::after {content: \"\\00b7\"; padding: 0 .5ex}\n",
              "</style>\n",
              "<ol class=list-inline><li>'POSIXlt'</li><li>'POSIXt'</li></ol>\n"
            ],
            "text/markdown": "1. 'POSIXlt'\n2. 'POSIXt'\n\n\n",
            "text/latex": "\\begin{enumerate*}\n\\item 'POSIXlt'\n\\item 'POSIXt'\n\\end{enumerate*}\n",
            "text/plain": [
              "[1] \"POSIXlt\" \"POSIXt\" "
            ]
          },
          "metadata": {}
        }
      ]
    },
    {
      "cell_type": "code",
      "source": [
        "?strptime"
      ],
      "metadata": {
        "id": "1ghTBm4qDAic"
      },
      "execution_count": null,
      "outputs": []
    },
    {
      "cell_type": "markdown",
      "source": [
        "##Operations on Dates and Times"
      ],
      "metadata": {
        "id": "1UrtbHjXDMUG"
      }
    },
    {
      "cell_type": "code",
      "source": [
        "x <- as.Date(\"2012-01-01\")\n",
        "y <- strptime(\"9 Jan 2011 11:34:21\", \"%d %b %Y %H:%M:%S\")\n",
        "\n",
        "x <- as.POSIXlt(x)\n",
        "x-y"
      ],
      "metadata": {
        "colab": {
          "base_uri": "https://localhost:8080/",
          "height": 34
        },
        "id": "Flb4SKQQDGoF",
        "outputId": "509c043b-4f27-4662-fbb1-144708539882"
      },
      "execution_count": null,
      "outputs": [
        {
          "output_type": "display_data",
          "data": {
            "text/plain": [
              "Time difference of 356.5178 days"
            ]
          },
          "metadata": {}
        }
      ]
    },
    {
      "cell_type": "code",
      "source": [
        "x <- as.Date(\"2012-03-01\")\n",
        "y <- as.Date(\"2012-02-28\")\n",
        "\n",
        "x-y"
      ],
      "metadata": {
        "colab": {
          "base_uri": "https://localhost:8080/",
          "height": 34
        },
        "id": "IUcQZzt-DXmv",
        "outputId": "2421f50b-7b78-4ea2-bc13-50e77f8ebbaf"
      },
      "execution_count": null,
      "outputs": [
        {
          "output_type": "display_data",
          "data": {
            "text/plain": [
              "Time difference of 2 days"
            ]
          },
          "metadata": {}
        }
      ]
    },
    {
      "cell_type": "code",
      "source": [
        "##My local time zone\n",
        "\n",
        "x <- as.POSIXlt(\"2012-10-25 01:00:00\")\n",
        "y <- as.POSIXlt(\"2012-10-25 06:00:00\", tz=\"GMT\")\n",
        "\n",
        "y-x"
      ],
      "metadata": {
        "colab": {
          "base_uri": "https://localhost:8080/",
          "height": 34
        },
        "id": "Kiam1fTGDvxF",
        "outputId": "49cc171e-1fa3-4de9-df3c-13ed8f4727af"
      },
      "execution_count": null,
      "outputs": [
        {
          "output_type": "display_data",
          "data": {
            "text/plain": [
              "Time difference of 5 hours"
            ]
          },
          "metadata": {}
        }
      ]
    },
    {
      "cell_type": "markdown",
      "source": [
        "# Managing the Data Frames with the dplyr package"
      ],
      "metadata": {
        "id": "zeOPQL1MERWr"
      }
    },
    {
      "cell_type": "code",
      "source": [
        "install.packages(\"dplyr\")"
      ],
      "metadata": {
        "colab": {
          "base_uri": "https://localhost:8080/"
        },
        "id": "5o28p46-EHr2",
        "outputId": "23b728e3-4a2f-437b-ffc3-0600567369a0"
      },
      "execution_count": null,
      "outputs": [
        {
          "output_type": "stream",
          "name": "stderr",
          "text": [
            "Installing package into ‘/usr/local/lib/R/site-library’\n",
            "(as ‘lib’ is unspecified)\n",
            "\n"
          ]
        }
      ]
    },
    {
      "cell_type": "code",
      "source": [
        "library(dplyr)"
      ],
      "metadata": {
        "colab": {
          "base_uri": "https://localhost:8080/"
        },
        "id": "n4T9WfGNFtD4",
        "outputId": "fa58a542-9669-4d07-bb41-e341809c1a57"
      },
      "execution_count": null,
      "outputs": [
        {
          "output_type": "stream",
          "name": "stderr",
          "text": [
            "\n",
            "Attaching package: ‘dplyr’\n",
            "\n",
            "\n",
            "The following objects are masked from ‘package:stats’:\n",
            "\n",
            "    filter, lag\n",
            "\n",
            "\n",
            "The following objects are masked from ‘package:base’:\n",
            "\n",
            "    intersect, setdiff, setequal, union\n",
            "\n",
            "\n"
          ]
        }
      ]
    },
    {
      "cell_type": "markdown",
      "source": [
        "##select()"
      ],
      "metadata": {
        "id": "xMkkSciKF-W6"
      }
    },
    {
      "cell_type": "code",
      "source": [
        "chicago <- readRDS(\"/chicago.rds\")"
      ],
      "metadata": {
        "id": "-y5QB9EOFzN4"
      },
      "execution_count": null,
      "outputs": []
    },
    {
      "cell_type": "code",
      "source": [
        "dim(chicago)"
      ],
      "metadata": {
        "colab": {
          "base_uri": "https://localhost:8080/",
          "height": 34
        },
        "id": "SXmLr9d9GLxQ",
        "outputId": "74622faf-c1b9-43cb-845f-829cb738344c"
      },
      "execution_count": null,
      "outputs": [
        {
          "output_type": "display_data",
          "data": {
            "text/html": [
              "<style>\n",
              ".list-inline {list-style: none; margin:0; padding: 0}\n",
              ".list-inline>li {display: inline-block}\n",
              ".list-inline>li:not(:last-child)::after {content: \"\\00b7\"; padding: 0 .5ex}\n",
              "</style>\n",
              "<ol class=list-inline><li>6940</li><li>8</li></ol>\n"
            ],
            "text/markdown": "1. 6940\n2. 8\n\n\n",
            "text/latex": "\\begin{enumerate*}\n\\item 6940\n\\item 8\n\\end{enumerate*}\n",
            "text/plain": [
              "[1] 6940    8"
            ]
          },
          "metadata": {}
        }
      ]
    },
    {
      "cell_type": "code",
      "source": [
        "str(chicago)"
      ],
      "metadata": {
        "colab": {
          "base_uri": "https://localhost:8080/"
        },
        "id": "-HA96a5dHUyM",
        "outputId": "7576bfb7-74a1-4a01-93ae-d23e3f167bfe"
      },
      "execution_count": null,
      "outputs": [
        {
          "output_type": "stream",
          "name": "stdout",
          "text": [
            "'data.frame':\t6940 obs. of  8 variables:\n",
            " $ city      : chr  \"chic\" \"chic\" \"chic\" \"chic\" ...\n",
            " $ tmpd      : num  31.5 33 33 29 32 40 34.5 29 26.5 32.5 ...\n",
            " $ dptp      : num  31.5 29.9 27.4 28.6 28.9 ...\n",
            " $ date      : Date, format: \"1987-01-01\" \"1987-01-02\" ...\n",
            " $ pm25tmean2: num  NA NA NA NA NA NA NA NA NA NA ...\n",
            " $ pm10tmean2: num  34 NA 34.2 47 NA ...\n",
            " $ o3tmean2  : num  4.25 3.3 3.33 4.38 4.75 ...\n",
            " $ no2tmean2 : num  20 23.2 23.8 30.4 30.3 ...\n"
          ]
        }
      ]
    },
    {
      "cell_type": "code",
      "source": [
        "names(chicago)[1:3]"
      ],
      "metadata": {
        "colab": {
          "base_uri": "https://localhost:8080/",
          "height": 34
        },
        "id": "rHLI76XDHXUE",
        "outputId": "eb1245bb-86e5-402d-acf8-3aaa3f671b10"
      },
      "execution_count": null,
      "outputs": [
        {
          "output_type": "display_data",
          "data": {
            "text/html": [
              "<style>\n",
              ".list-inline {list-style: none; margin:0; padding: 0}\n",
              ".list-inline>li {display: inline-block}\n",
              ".list-inline>li:not(:last-child)::after {content: \"\\00b7\"; padding: 0 .5ex}\n",
              "</style>\n",
              "<ol class=list-inline><li>'city'</li><li>'tmpd'</li><li>'dptp'</li></ol>\n"
            ],
            "text/markdown": "1. 'city'\n2. 'tmpd'\n3. 'dptp'\n\n\n",
            "text/latex": "\\begin{enumerate*}\n\\item 'city'\n\\item 'tmpd'\n\\item 'dptp'\n\\end{enumerate*}\n",
            "text/plain": [
              "[1] \"city\" \"tmpd\" \"dptp\""
            ]
          },
          "metadata": {}
        }
      ]
    },
    {
      "cell_type": "code",
      "source": [
        "subset <- select(chicago, city:dptp)"
      ],
      "metadata": {
        "id": "_zfrwOdQHmsM"
      },
      "execution_count": null,
      "outputs": []
    },
    {
      "cell_type": "code",
      "source": [
        "head(subset)"
      ],
      "metadata": {
        "colab": {
          "base_uri": "https://localhost:8080/",
          "height": 286
        },
        "id": "qxwgZKMqHvEh",
        "outputId": "3cbe36fd-8a98-4926-d9df-91bbeaafac3c"
      },
      "execution_count": null,
      "outputs": [
        {
          "output_type": "display_data",
          "data": {
            "text/html": [
              "<table class=\"dataframe\">\n",
              "<caption>A data.frame: 6 × 3</caption>\n",
              "<thead>\n",
              "\t<tr><th></th><th scope=col>city</th><th scope=col>tmpd</th><th scope=col>dptp</th></tr>\n",
              "\t<tr><th></th><th scope=col>&lt;chr&gt;</th><th scope=col>&lt;dbl&gt;</th><th scope=col>&lt;dbl&gt;</th></tr>\n",
              "</thead>\n",
              "<tbody>\n",
              "\t<tr><th scope=row>1</th><td>chic</td><td>31.5</td><td>31.500</td></tr>\n",
              "\t<tr><th scope=row>2</th><td>chic</td><td>33.0</td><td>29.875</td></tr>\n",
              "\t<tr><th scope=row>3</th><td>chic</td><td>33.0</td><td>27.375</td></tr>\n",
              "\t<tr><th scope=row>4</th><td>chic</td><td>29.0</td><td>28.625</td></tr>\n",
              "\t<tr><th scope=row>5</th><td>chic</td><td>32.0</td><td>28.875</td></tr>\n",
              "\t<tr><th scope=row>6</th><td>chic</td><td>40.0</td><td>35.125</td></tr>\n",
              "</tbody>\n",
              "</table>\n"
            ],
            "text/markdown": "\nA data.frame: 6 × 3\n\n| <!--/--> | city &lt;chr&gt; | tmpd &lt;dbl&gt; | dptp &lt;dbl&gt; |\n|---|---|---|---|\n| 1 | chic | 31.5 | 31.500 |\n| 2 | chic | 33.0 | 29.875 |\n| 3 | chic | 33.0 | 27.375 |\n| 4 | chic | 29.0 | 28.625 |\n| 5 | chic | 32.0 | 28.875 |\n| 6 | chic | 40.0 | 35.125 |\n\n",
            "text/latex": "A data.frame: 6 × 3\n\\begin{tabular}{r|lll}\n  & city & tmpd & dptp\\\\\n  & <chr> & <dbl> & <dbl>\\\\\n\\hline\n\t1 & chic & 31.5 & 31.500\\\\\n\t2 & chic & 33.0 & 29.875\\\\\n\t3 & chic & 33.0 & 27.375\\\\\n\t4 & chic & 29.0 & 28.625\\\\\n\t5 & chic & 32.0 & 28.875\\\\\n\t6 & chic & 40.0 & 35.125\\\\\n\\end{tabular}\n",
            "text/plain": [
              "  city tmpd dptp  \n",
              "1 chic 31.5 31.500\n",
              "2 chic 33.0 29.875\n",
              "3 chic 33.0 27.375\n",
              "4 chic 29.0 28.625\n",
              "5 chic 32.0 28.875\n",
              "6 chic 40.0 35.125"
            ]
          },
          "metadata": {}
        }
      ]
    },
    {
      "cell_type": "code",
      "source": [
        "select(chicago, -(city:dptp))"
      ],
      "metadata": {
        "colab": {
          "base_uri": "https://localhost:8080/",
          "height": 1000
        },
        "id": "J3odz6BAHxV8",
        "outputId": "d8e65e94-e20a-4aaf-b84c-e17f8ea11b88"
      },
      "execution_count": null,
      "outputs": [
        {
          "output_type": "display_data",
          "data": {
            "text/html": [
              "<table class=\"dataframe\">\n",
              "<caption>A data.frame: 6940 × 5</caption>\n",
              "<thead>\n",
              "\t<tr><th></th><th scope=col>date</th><th scope=col>pm25tmean2</th><th scope=col>pm10tmean2</th><th scope=col>o3tmean2</th><th scope=col>no2tmean2</th></tr>\n",
              "\t<tr><th></th><th scope=col>&lt;date&gt;</th><th scope=col>&lt;dbl&gt;</th><th scope=col>&lt;dbl&gt;</th><th scope=col>&lt;dbl&gt;</th><th scope=col>&lt;dbl&gt;</th></tr>\n",
              "</thead>\n",
              "<tbody>\n",
              "\t<tr><th scope=row>1</th><td>1987-01-01</td><td>NA</td><td>34.00000</td><td> 4.250000</td><td>19.98810</td></tr>\n",
              "\t<tr><th scope=row>2</th><td>1987-01-02</td><td>NA</td><td>      NA</td><td> 3.304348</td><td>23.19099</td></tr>\n",
              "\t<tr><th scope=row>3</th><td>1987-01-03</td><td>NA</td><td>34.16667</td><td> 3.333333</td><td>23.81548</td></tr>\n",
              "\t<tr><th scope=row>4</th><td>1987-01-04</td><td>NA</td><td>47.00000</td><td> 4.375000</td><td>30.43452</td></tr>\n",
              "\t<tr><th scope=row>5</th><td>1987-01-05</td><td>NA</td><td>      NA</td><td> 4.750000</td><td>30.33333</td></tr>\n",
              "\t<tr><th scope=row>6</th><td>1987-01-06</td><td>NA</td><td>48.00000</td><td> 5.833333</td><td>25.77233</td></tr>\n",
              "\t<tr><th scope=row>7</th><td>1987-01-07</td><td>NA</td><td>41.00000</td><td> 9.291667</td><td>20.58171</td></tr>\n",
              "\t<tr><th scope=row>8</th><td>1987-01-08</td><td>NA</td><td>36.00000</td><td>11.291667</td><td>17.03723</td></tr>\n",
              "\t<tr><th scope=row>9</th><td>1987-01-09</td><td>NA</td><td>33.28571</td><td> 4.500000</td><td>23.38889</td></tr>\n",
              "\t<tr><th scope=row>10</th><td>1987-01-10</td><td>NA</td><td>      NA</td><td> 4.958333</td><td>19.54167</td></tr>\n",
              "\t<tr><th scope=row>11</th><td>1987-01-11</td><td>NA</td><td>22.00000</td><td>17.541667</td><td>13.70139</td></tr>\n",
              "\t<tr><th scope=row>12</th><td>1987-01-12</td><td>NA</td><td>26.00000</td><td> 8.000000</td><td>33.02083</td></tr>\n",
              "\t<tr><th scope=row>13</th><td>1987-01-13</td><td>NA</td><td>53.00000</td><td> 4.958333</td><td>38.06142</td></tr>\n",
              "\t<tr><th scope=row>14</th><td>1987-01-14</td><td>NA</td><td>43.00000</td><td> 4.208333</td><td>32.19444</td></tr>\n",
              "\t<tr><th scope=row>15</th><td>1987-01-15</td><td>NA</td><td>28.83333</td><td> 4.458333</td><td>18.87131</td></tr>\n",
              "\t<tr><th scope=row>16</th><td>1987-01-16</td><td>NA</td><td>19.00000</td><td> 7.916667</td><td>19.46667</td></tr>\n",
              "\t<tr><th scope=row>17</th><td>1987-01-17</td><td>NA</td><td>      NA</td><td> 5.833333</td><td>20.70833</td></tr>\n",
              "\t<tr><th scope=row>18</th><td>1987-01-18</td><td>NA</td><td>39.00000</td><td> 6.375000</td><td>21.03333</td></tr>\n",
              "\t<tr><th scope=row>19</th><td>1987-01-19</td><td>NA</td><td>32.00000</td><td>14.875000</td><td>17.17409</td></tr>\n",
              "\t<tr><th scope=row>20</th><td>1987-01-20</td><td>NA</td><td>38.00000</td><td> 7.250000</td><td>21.61021</td></tr>\n",
              "\t<tr><th scope=row>21</th><td>1987-01-21</td><td>NA</td><td>32.85714</td><td> 8.913043</td><td>24.52083</td></tr>\n",
              "\t<tr><th scope=row>22</th><td>1987-01-22</td><td>NA</td><td>52.00000</td><td>10.500000</td><td>16.98798</td></tr>\n",
              "\t<tr><th scope=row>23</th><td>1987-01-23</td><td>NA</td><td>55.00000</td><td>14.625000</td><td>14.66250</td></tr>\n",
              "\t<tr><th scope=row>24</th><td>1987-01-24</td><td>NA</td><td>38.00000</td><td>10.083333</td><td>18.69167</td></tr>\n",
              "\t<tr><th scope=row>25</th><td>1987-01-25</td><td>NA</td><td>      NA</td><td> 6.666667</td><td>26.30417</td></tr>\n",
              "\t<tr><th scope=row>26</th><td>1987-01-26</td><td>NA</td><td>71.00000</td><td> 4.583333</td><td>32.42143</td></tr>\n",
              "\t<tr><th scope=row>27</th><td>1987-01-27</td><td>NA</td><td>39.33333</td><td> 6.000000</td><td>30.69306</td></tr>\n",
              "\t<tr><th scope=row>28</th><td>1987-01-28</td><td>NA</td><td>47.00000</td><td> 6.875000</td><td>29.12943</td></tr>\n",
              "\t<tr><th scope=row>29</th><td>1987-01-29</td><td>NA</td><td>35.00000</td><td> 2.916667</td><td>28.14529</td></tr>\n",
              "\t<tr><th scope=row>30</th><td>1987-01-30</td><td>NA</td><td>59.00000</td><td> 8.791667</td><td>19.79861</td></tr>\n",
              "\t<tr><th scope=row>⋮</th><td>⋮</td><td>⋮</td><td>⋮</td><td>⋮</td><td>⋮</td></tr>\n",
              "\t<tr><th scope=row>6911</th><td>2005-12-02</td><td>      NA</td><td>19.50</td><td> 9.156250</td><td>23.29167</td></tr>\n",
              "\t<tr><th scope=row>6912</th><td>2005-12-03</td><td>13.34286</td><td>20.00</td><td>10.333333</td><td>25.19444</td></tr>\n",
              "\t<tr><th scope=row>6913</th><td>2005-12-04</td><td>15.30000</td><td>15.50</td><td>13.177083</td><td>21.70833</td></tr>\n",
              "\t<tr><th scope=row>6914</th><td>2005-12-05</td><td>      NA</td><td>30.00</td><td> 6.447917</td><td>28.38889</td></tr>\n",
              "\t<tr><th scope=row>6915</th><td>2005-12-06</td><td>24.61667</td><td>33.00</td><td> 4.701540</td><td>29.08333</td></tr>\n",
              "\t<tr><th scope=row>6916</th><td>2005-12-07</td><td>37.80000</td><td>39.00</td><td> 3.916214</td><td>34.30952</td></tr>\n",
              "\t<tr><th scope=row>6917</th><td>2005-12-08</td><td>24.30000</td><td>31.00</td><td> 5.995265</td><td>34.22222</td></tr>\n",
              "\t<tr><th scope=row>6918</th><td>2005-12-09</td><td>25.45000</td><td>22.00</td><td> 5.958333</td><td>31.41667</td></tr>\n",
              "\t<tr><th scope=row>6919</th><td>2005-12-10</td><td>18.20000</td><td>30.00</td><td> 9.135417</td><td>28.70833</td></tr>\n",
              "\t<tr><th scope=row>6920</th><td>2005-12-11</td><td>10.60000</td><td>14.00</td><td>11.333333</td><td>22.55556</td></tr>\n",
              "\t<tr><th scope=row>6921</th><td>2005-12-12</td><td>19.22500</td><td>28.75</td><td> 5.031250</td><td>39.74621</td></tr>\n",
              "\t<tr><th scope=row>6922</th><td>2005-12-13</td><td>26.50000</td><td>21.00</td><td> 6.628623</td><td>29.56944</td></tr>\n",
              "\t<tr><th scope=row>6923</th><td>2005-12-14</td><td>26.90000</td><td>16.00</td><td> 3.802083</td><td>30.63384</td></tr>\n",
              "\t<tr><th scope=row>6924</th><td>2005-12-15</td><td>14.40000</td><td>16.50</td><td> 4.895833</td><td>25.43056</td></tr>\n",
              "\t<tr><th scope=row>6925</th><td>2005-12-16</td><td>11.00000</td><td>22.00</td><td>11.166667</td><td>16.87500</td></tr>\n",
              "\t<tr><th scope=row>6926</th><td>2005-12-17</td><td>13.80000</td><td>20.00</td><td> 8.593750</td><td>20.73611</td></tr>\n",
              "\t<tr><th scope=row>6927</th><td>2005-12-18</td><td>12.20000</td><td>17.50</td><td>13.552083</td><td>19.11111</td></tr>\n",
              "\t<tr><th scope=row>6928</th><td>2005-12-19</td><td>21.15000</td><td>21.00</td><td> 8.058877</td><td>31.79167</td></tr>\n",
              "\t<tr><th scope=row>6929</th><td>2005-12-20</td><td>25.75000</td><td>32.00</td><td> 3.849185</td><td>32.89773</td></tr>\n",
              "\t<tr><th scope=row>6930</th><td>2005-12-21</td><td>37.92857</td><td>59.50</td><td> 3.663949</td><td>34.86111</td></tr>\n",
              "\t<tr><th scope=row>6931</th><td>2005-12-22</td><td>36.65000</td><td>42.50</td><td> 5.385417</td><td>33.73026</td></tr>\n",
              "\t<tr><th scope=row>6932</th><td>2005-12-23</td><td>32.90000</td><td>34.50</td><td> 6.906250</td><td>29.08333</td></tr>\n",
              "\t<tr><th scope=row>6933</th><td>2005-12-24</td><td>30.77143</td><td>25.20</td><td> 1.770833</td><td>31.98611</td></tr>\n",
              "\t<tr><th scope=row>6934</th><td>2005-12-25</td><td> 6.70000</td><td> 8.00</td><td>14.354167</td><td>13.79167</td></tr>\n",
              "\t<tr><th scope=row>6935</th><td>2005-12-26</td><td> 8.40000</td><td> 8.50</td><td>14.041667</td><td>16.81944</td></tr>\n",
              "\t<tr><th scope=row>6936</th><td>2005-12-27</td><td>23.56000</td><td>27.00</td><td> 4.468750</td><td>23.50000</td></tr>\n",
              "\t<tr><th scope=row>6937</th><td>2005-12-28</td><td>17.75000</td><td>27.50</td><td> 3.260417</td><td>19.28563</td></tr>\n",
              "\t<tr><th scope=row>6938</th><td>2005-12-29</td><td> 7.45000</td><td>23.50</td><td> 6.794837</td><td>19.97222</td></tr>\n",
              "\t<tr><th scope=row>6939</th><td>2005-12-30</td><td>15.05714</td><td>19.20</td><td> 3.034420</td><td>22.80556</td></tr>\n",
              "\t<tr><th scope=row>6940</th><td>2005-12-31</td><td>15.00000</td><td>23.50</td><td> 2.531250</td><td>13.25000</td></tr>\n",
              "</tbody>\n",
              "</table>\n"
            ],
            "text/markdown": "\nA data.frame: 6940 × 5\n\n| <!--/--> | date &lt;date&gt; | pm25tmean2 &lt;dbl&gt; | pm10tmean2 &lt;dbl&gt; | o3tmean2 &lt;dbl&gt; | no2tmean2 &lt;dbl&gt; |\n|---|---|---|---|---|---|\n| 1 | 1987-01-01 | NA | 34.00000 |  4.250000 | 19.98810 |\n| 2 | 1987-01-02 | NA |       NA |  3.304348 | 23.19099 |\n| 3 | 1987-01-03 | NA | 34.16667 |  3.333333 | 23.81548 |\n| 4 | 1987-01-04 | NA | 47.00000 |  4.375000 | 30.43452 |\n| 5 | 1987-01-05 | NA |       NA |  4.750000 | 30.33333 |\n| 6 | 1987-01-06 | NA | 48.00000 |  5.833333 | 25.77233 |\n| 7 | 1987-01-07 | NA | 41.00000 |  9.291667 | 20.58171 |\n| 8 | 1987-01-08 | NA | 36.00000 | 11.291667 | 17.03723 |\n| 9 | 1987-01-09 | NA | 33.28571 |  4.500000 | 23.38889 |\n| 10 | 1987-01-10 | NA |       NA |  4.958333 | 19.54167 |\n| 11 | 1987-01-11 | NA | 22.00000 | 17.541667 | 13.70139 |\n| 12 | 1987-01-12 | NA | 26.00000 |  8.000000 | 33.02083 |\n| 13 | 1987-01-13 | NA | 53.00000 |  4.958333 | 38.06142 |\n| 14 | 1987-01-14 | NA | 43.00000 |  4.208333 | 32.19444 |\n| 15 | 1987-01-15 | NA | 28.83333 |  4.458333 | 18.87131 |\n| 16 | 1987-01-16 | NA | 19.00000 |  7.916667 | 19.46667 |\n| 17 | 1987-01-17 | NA |       NA |  5.833333 | 20.70833 |\n| 18 | 1987-01-18 | NA | 39.00000 |  6.375000 | 21.03333 |\n| 19 | 1987-01-19 | NA | 32.00000 | 14.875000 | 17.17409 |\n| 20 | 1987-01-20 | NA | 38.00000 |  7.250000 | 21.61021 |\n| 21 | 1987-01-21 | NA | 32.85714 |  8.913043 | 24.52083 |\n| 22 | 1987-01-22 | NA | 52.00000 | 10.500000 | 16.98798 |\n| 23 | 1987-01-23 | NA | 55.00000 | 14.625000 | 14.66250 |\n| 24 | 1987-01-24 | NA | 38.00000 | 10.083333 | 18.69167 |\n| 25 | 1987-01-25 | NA |       NA |  6.666667 | 26.30417 |\n| 26 | 1987-01-26 | NA | 71.00000 |  4.583333 | 32.42143 |\n| 27 | 1987-01-27 | NA | 39.33333 |  6.000000 | 30.69306 |\n| 28 | 1987-01-28 | NA | 47.00000 |  6.875000 | 29.12943 |\n| 29 | 1987-01-29 | NA | 35.00000 |  2.916667 | 28.14529 |\n| 30 | 1987-01-30 | NA | 59.00000 |  8.791667 | 19.79861 |\n| ⋮ | ⋮ | ⋮ | ⋮ | ⋮ | ⋮ |\n| 6911 | 2005-12-02 |       NA | 19.50 |  9.156250 | 23.29167 |\n| 6912 | 2005-12-03 | 13.34286 | 20.00 | 10.333333 | 25.19444 |\n| 6913 | 2005-12-04 | 15.30000 | 15.50 | 13.177083 | 21.70833 |\n| 6914 | 2005-12-05 |       NA | 30.00 |  6.447917 | 28.38889 |\n| 6915 | 2005-12-06 | 24.61667 | 33.00 |  4.701540 | 29.08333 |\n| 6916 | 2005-12-07 | 37.80000 | 39.00 |  3.916214 | 34.30952 |\n| 6917 | 2005-12-08 | 24.30000 | 31.00 |  5.995265 | 34.22222 |\n| 6918 | 2005-12-09 | 25.45000 | 22.00 |  5.958333 | 31.41667 |\n| 6919 | 2005-12-10 | 18.20000 | 30.00 |  9.135417 | 28.70833 |\n| 6920 | 2005-12-11 | 10.60000 | 14.00 | 11.333333 | 22.55556 |\n| 6921 | 2005-12-12 | 19.22500 | 28.75 |  5.031250 | 39.74621 |\n| 6922 | 2005-12-13 | 26.50000 | 21.00 |  6.628623 | 29.56944 |\n| 6923 | 2005-12-14 | 26.90000 | 16.00 |  3.802083 | 30.63384 |\n| 6924 | 2005-12-15 | 14.40000 | 16.50 |  4.895833 | 25.43056 |\n| 6925 | 2005-12-16 | 11.00000 | 22.00 | 11.166667 | 16.87500 |\n| 6926 | 2005-12-17 | 13.80000 | 20.00 |  8.593750 | 20.73611 |\n| 6927 | 2005-12-18 | 12.20000 | 17.50 | 13.552083 | 19.11111 |\n| 6928 | 2005-12-19 | 21.15000 | 21.00 |  8.058877 | 31.79167 |\n| 6929 | 2005-12-20 | 25.75000 | 32.00 |  3.849185 | 32.89773 |\n| 6930 | 2005-12-21 | 37.92857 | 59.50 |  3.663949 | 34.86111 |\n| 6931 | 2005-12-22 | 36.65000 | 42.50 |  5.385417 | 33.73026 |\n| 6932 | 2005-12-23 | 32.90000 | 34.50 |  6.906250 | 29.08333 |\n| 6933 | 2005-12-24 | 30.77143 | 25.20 |  1.770833 | 31.98611 |\n| 6934 | 2005-12-25 |  6.70000 |  8.00 | 14.354167 | 13.79167 |\n| 6935 | 2005-12-26 |  8.40000 |  8.50 | 14.041667 | 16.81944 |\n| 6936 | 2005-12-27 | 23.56000 | 27.00 |  4.468750 | 23.50000 |\n| 6937 | 2005-12-28 | 17.75000 | 27.50 |  3.260417 | 19.28563 |\n| 6938 | 2005-12-29 |  7.45000 | 23.50 |  6.794837 | 19.97222 |\n| 6939 | 2005-12-30 | 15.05714 | 19.20 |  3.034420 | 22.80556 |\n| 6940 | 2005-12-31 | 15.00000 | 23.50 |  2.531250 | 13.25000 |\n\n",
            "text/latex": "A data.frame: 6940 × 5\n\\begin{tabular}{r|lllll}\n  & date & pm25tmean2 & pm10tmean2 & o3tmean2 & no2tmean2\\\\\n  & <date> & <dbl> & <dbl> & <dbl> & <dbl>\\\\\n\\hline\n\t1 & 1987-01-01 & NA & 34.00000 &  4.250000 & 19.98810\\\\\n\t2 & 1987-01-02 & NA &       NA &  3.304348 & 23.19099\\\\\n\t3 & 1987-01-03 & NA & 34.16667 &  3.333333 & 23.81548\\\\\n\t4 & 1987-01-04 & NA & 47.00000 &  4.375000 & 30.43452\\\\\n\t5 & 1987-01-05 & NA &       NA &  4.750000 & 30.33333\\\\\n\t6 & 1987-01-06 & NA & 48.00000 &  5.833333 & 25.77233\\\\\n\t7 & 1987-01-07 & NA & 41.00000 &  9.291667 & 20.58171\\\\\n\t8 & 1987-01-08 & NA & 36.00000 & 11.291667 & 17.03723\\\\\n\t9 & 1987-01-09 & NA & 33.28571 &  4.500000 & 23.38889\\\\\n\t10 & 1987-01-10 & NA &       NA &  4.958333 & 19.54167\\\\\n\t11 & 1987-01-11 & NA & 22.00000 & 17.541667 & 13.70139\\\\\n\t12 & 1987-01-12 & NA & 26.00000 &  8.000000 & 33.02083\\\\\n\t13 & 1987-01-13 & NA & 53.00000 &  4.958333 & 38.06142\\\\\n\t14 & 1987-01-14 & NA & 43.00000 &  4.208333 & 32.19444\\\\\n\t15 & 1987-01-15 & NA & 28.83333 &  4.458333 & 18.87131\\\\\n\t16 & 1987-01-16 & NA & 19.00000 &  7.916667 & 19.46667\\\\\n\t17 & 1987-01-17 & NA &       NA &  5.833333 & 20.70833\\\\\n\t18 & 1987-01-18 & NA & 39.00000 &  6.375000 & 21.03333\\\\\n\t19 & 1987-01-19 & NA & 32.00000 & 14.875000 & 17.17409\\\\\n\t20 & 1987-01-20 & NA & 38.00000 &  7.250000 & 21.61021\\\\\n\t21 & 1987-01-21 & NA & 32.85714 &  8.913043 & 24.52083\\\\\n\t22 & 1987-01-22 & NA & 52.00000 & 10.500000 & 16.98798\\\\\n\t23 & 1987-01-23 & NA & 55.00000 & 14.625000 & 14.66250\\\\\n\t24 & 1987-01-24 & NA & 38.00000 & 10.083333 & 18.69167\\\\\n\t25 & 1987-01-25 & NA &       NA &  6.666667 & 26.30417\\\\\n\t26 & 1987-01-26 & NA & 71.00000 &  4.583333 & 32.42143\\\\\n\t27 & 1987-01-27 & NA & 39.33333 &  6.000000 & 30.69306\\\\\n\t28 & 1987-01-28 & NA & 47.00000 &  6.875000 & 29.12943\\\\\n\t29 & 1987-01-29 & NA & 35.00000 &  2.916667 & 28.14529\\\\\n\t30 & 1987-01-30 & NA & 59.00000 &  8.791667 & 19.79861\\\\\n\t⋮ & ⋮ & ⋮ & ⋮ & ⋮ & ⋮\\\\\n\t6911 & 2005-12-02 &       NA & 19.50 &  9.156250 & 23.29167\\\\\n\t6912 & 2005-12-03 & 13.34286 & 20.00 & 10.333333 & 25.19444\\\\\n\t6913 & 2005-12-04 & 15.30000 & 15.50 & 13.177083 & 21.70833\\\\\n\t6914 & 2005-12-05 &       NA & 30.00 &  6.447917 & 28.38889\\\\\n\t6915 & 2005-12-06 & 24.61667 & 33.00 &  4.701540 & 29.08333\\\\\n\t6916 & 2005-12-07 & 37.80000 & 39.00 &  3.916214 & 34.30952\\\\\n\t6917 & 2005-12-08 & 24.30000 & 31.00 &  5.995265 & 34.22222\\\\\n\t6918 & 2005-12-09 & 25.45000 & 22.00 &  5.958333 & 31.41667\\\\\n\t6919 & 2005-12-10 & 18.20000 & 30.00 &  9.135417 & 28.70833\\\\\n\t6920 & 2005-12-11 & 10.60000 & 14.00 & 11.333333 & 22.55556\\\\\n\t6921 & 2005-12-12 & 19.22500 & 28.75 &  5.031250 & 39.74621\\\\\n\t6922 & 2005-12-13 & 26.50000 & 21.00 &  6.628623 & 29.56944\\\\\n\t6923 & 2005-12-14 & 26.90000 & 16.00 &  3.802083 & 30.63384\\\\\n\t6924 & 2005-12-15 & 14.40000 & 16.50 &  4.895833 & 25.43056\\\\\n\t6925 & 2005-12-16 & 11.00000 & 22.00 & 11.166667 & 16.87500\\\\\n\t6926 & 2005-12-17 & 13.80000 & 20.00 &  8.593750 & 20.73611\\\\\n\t6927 & 2005-12-18 & 12.20000 & 17.50 & 13.552083 & 19.11111\\\\\n\t6928 & 2005-12-19 & 21.15000 & 21.00 &  8.058877 & 31.79167\\\\\n\t6929 & 2005-12-20 & 25.75000 & 32.00 &  3.849185 & 32.89773\\\\\n\t6930 & 2005-12-21 & 37.92857 & 59.50 &  3.663949 & 34.86111\\\\\n\t6931 & 2005-12-22 & 36.65000 & 42.50 &  5.385417 & 33.73026\\\\\n\t6932 & 2005-12-23 & 32.90000 & 34.50 &  6.906250 & 29.08333\\\\\n\t6933 & 2005-12-24 & 30.77143 & 25.20 &  1.770833 & 31.98611\\\\\n\t6934 & 2005-12-25 &  6.70000 &  8.00 & 14.354167 & 13.79167\\\\\n\t6935 & 2005-12-26 &  8.40000 &  8.50 & 14.041667 & 16.81944\\\\\n\t6936 & 2005-12-27 & 23.56000 & 27.00 &  4.468750 & 23.50000\\\\\n\t6937 & 2005-12-28 & 17.75000 & 27.50 &  3.260417 & 19.28563\\\\\n\t6938 & 2005-12-29 &  7.45000 & 23.50 &  6.794837 & 19.97222\\\\\n\t6939 & 2005-12-30 & 15.05714 & 19.20 &  3.034420 & 22.80556\\\\\n\t6940 & 2005-12-31 & 15.00000 & 23.50 &  2.531250 & 13.25000\\\\\n\\end{tabular}\n",
            "text/plain": [
              "     date       pm25tmean2 pm10tmean2 o3tmean2  no2tmean2\n",
              "1    1987-01-01 NA         34.00000    4.250000 19.98810 \n",
              "2    1987-01-02 NA               NA    3.304348 23.19099 \n",
              "3    1987-01-03 NA         34.16667    3.333333 23.81548 \n",
              "4    1987-01-04 NA         47.00000    4.375000 30.43452 \n",
              "5    1987-01-05 NA               NA    4.750000 30.33333 \n",
              "6    1987-01-06 NA         48.00000    5.833333 25.77233 \n",
              "7    1987-01-07 NA         41.00000    9.291667 20.58171 \n",
              "8    1987-01-08 NA         36.00000   11.291667 17.03723 \n",
              "9    1987-01-09 NA         33.28571    4.500000 23.38889 \n",
              "10   1987-01-10 NA               NA    4.958333 19.54167 \n",
              "11   1987-01-11 NA         22.00000   17.541667 13.70139 \n",
              "12   1987-01-12 NA         26.00000    8.000000 33.02083 \n",
              "13   1987-01-13 NA         53.00000    4.958333 38.06142 \n",
              "14   1987-01-14 NA         43.00000    4.208333 32.19444 \n",
              "15   1987-01-15 NA         28.83333    4.458333 18.87131 \n",
              "16   1987-01-16 NA         19.00000    7.916667 19.46667 \n",
              "17   1987-01-17 NA               NA    5.833333 20.70833 \n",
              "18   1987-01-18 NA         39.00000    6.375000 21.03333 \n",
              "19   1987-01-19 NA         32.00000   14.875000 17.17409 \n",
              "20   1987-01-20 NA         38.00000    7.250000 21.61021 \n",
              "21   1987-01-21 NA         32.85714    8.913043 24.52083 \n",
              "22   1987-01-22 NA         52.00000   10.500000 16.98798 \n",
              "23   1987-01-23 NA         55.00000   14.625000 14.66250 \n",
              "24   1987-01-24 NA         38.00000   10.083333 18.69167 \n",
              "25   1987-01-25 NA               NA    6.666667 26.30417 \n",
              "26   1987-01-26 NA         71.00000    4.583333 32.42143 \n",
              "27   1987-01-27 NA         39.33333    6.000000 30.69306 \n",
              "28   1987-01-28 NA         47.00000    6.875000 29.12943 \n",
              "29   1987-01-29 NA         35.00000    2.916667 28.14529 \n",
              "30   1987-01-30 NA         59.00000    8.791667 19.79861 \n",
              "⋮    ⋮          ⋮          ⋮          ⋮         ⋮        \n",
              "6911 2005-12-02       NA   19.50       9.156250 23.29167 \n",
              "6912 2005-12-03 13.34286   20.00      10.333333 25.19444 \n",
              "6913 2005-12-04 15.30000   15.50      13.177083 21.70833 \n",
              "6914 2005-12-05       NA   30.00       6.447917 28.38889 \n",
              "6915 2005-12-06 24.61667   33.00       4.701540 29.08333 \n",
              "6916 2005-12-07 37.80000   39.00       3.916214 34.30952 \n",
              "6917 2005-12-08 24.30000   31.00       5.995265 34.22222 \n",
              "6918 2005-12-09 25.45000   22.00       5.958333 31.41667 \n",
              "6919 2005-12-10 18.20000   30.00       9.135417 28.70833 \n",
              "6920 2005-12-11 10.60000   14.00      11.333333 22.55556 \n",
              "6921 2005-12-12 19.22500   28.75       5.031250 39.74621 \n",
              "6922 2005-12-13 26.50000   21.00       6.628623 29.56944 \n",
              "6923 2005-12-14 26.90000   16.00       3.802083 30.63384 \n",
              "6924 2005-12-15 14.40000   16.50       4.895833 25.43056 \n",
              "6925 2005-12-16 11.00000   22.00      11.166667 16.87500 \n",
              "6926 2005-12-17 13.80000   20.00       8.593750 20.73611 \n",
              "6927 2005-12-18 12.20000   17.50      13.552083 19.11111 \n",
              "6928 2005-12-19 21.15000   21.00       8.058877 31.79167 \n",
              "6929 2005-12-20 25.75000   32.00       3.849185 32.89773 \n",
              "6930 2005-12-21 37.92857   59.50       3.663949 34.86111 \n",
              "6931 2005-12-22 36.65000   42.50       5.385417 33.73026 \n",
              "6932 2005-12-23 32.90000   34.50       6.906250 29.08333 \n",
              "6933 2005-12-24 30.77143   25.20       1.770833 31.98611 \n",
              "6934 2005-12-25  6.70000    8.00      14.354167 13.79167 \n",
              "6935 2005-12-26  8.40000    8.50      14.041667 16.81944 \n",
              "6936 2005-12-27 23.56000   27.00       4.468750 23.50000 \n",
              "6937 2005-12-28 17.75000   27.50       3.260417 19.28563 \n",
              "6938 2005-12-29  7.45000   23.50       6.794837 19.97222 \n",
              "6939 2005-12-30 15.05714   19.20       3.034420 22.80556 \n",
              "6940 2005-12-31 15.00000   23.50       2.531250 13.25000 "
            ]
          },
          "metadata": {}
        }
      ]
    },
    {
      "cell_type": "code",
      "source": [
        "i <- match(\"city\", names(chicago))\n",
        "j <- match(\"dptp\", names(chicago))\n",
        "\n",
        "head(chicago[, -(i:j)])"
      ],
      "metadata": {
        "colab": {
          "base_uri": "https://localhost:8080/",
          "height": 286
        },
        "id": "BB8mjqylH8mK",
        "outputId": "e597b983-ad65-4d9d-b05c-faa37ccea25d"
      },
      "execution_count": null,
      "outputs": [
        {
          "output_type": "display_data",
          "data": {
            "text/html": [
              "<table class=\"dataframe\">\n",
              "<caption>A data.frame: 6 × 5</caption>\n",
              "<thead>\n",
              "\t<tr><th></th><th scope=col>date</th><th scope=col>pm25tmean2</th><th scope=col>pm10tmean2</th><th scope=col>o3tmean2</th><th scope=col>no2tmean2</th></tr>\n",
              "\t<tr><th></th><th scope=col>&lt;date&gt;</th><th scope=col>&lt;dbl&gt;</th><th scope=col>&lt;dbl&gt;</th><th scope=col>&lt;dbl&gt;</th><th scope=col>&lt;dbl&gt;</th></tr>\n",
              "</thead>\n",
              "<tbody>\n",
              "\t<tr><th scope=row>1</th><td>1987-01-01</td><td>NA</td><td>34.00000</td><td>4.250000</td><td>19.98810</td></tr>\n",
              "\t<tr><th scope=row>2</th><td>1987-01-02</td><td>NA</td><td>      NA</td><td>3.304348</td><td>23.19099</td></tr>\n",
              "\t<tr><th scope=row>3</th><td>1987-01-03</td><td>NA</td><td>34.16667</td><td>3.333333</td><td>23.81548</td></tr>\n",
              "\t<tr><th scope=row>4</th><td>1987-01-04</td><td>NA</td><td>47.00000</td><td>4.375000</td><td>30.43452</td></tr>\n",
              "\t<tr><th scope=row>5</th><td>1987-01-05</td><td>NA</td><td>      NA</td><td>4.750000</td><td>30.33333</td></tr>\n",
              "\t<tr><th scope=row>6</th><td>1987-01-06</td><td>NA</td><td>48.00000</td><td>5.833333</td><td>25.77233</td></tr>\n",
              "</tbody>\n",
              "</table>\n"
            ],
            "text/markdown": "\nA data.frame: 6 × 5\n\n| <!--/--> | date &lt;date&gt; | pm25tmean2 &lt;dbl&gt; | pm10tmean2 &lt;dbl&gt; | o3tmean2 &lt;dbl&gt; | no2tmean2 &lt;dbl&gt; |\n|---|---|---|---|---|---|\n| 1 | 1987-01-01 | NA | 34.00000 | 4.250000 | 19.98810 |\n| 2 | 1987-01-02 | NA |       NA | 3.304348 | 23.19099 |\n| 3 | 1987-01-03 | NA | 34.16667 | 3.333333 | 23.81548 |\n| 4 | 1987-01-04 | NA | 47.00000 | 4.375000 | 30.43452 |\n| 5 | 1987-01-05 | NA |       NA | 4.750000 | 30.33333 |\n| 6 | 1987-01-06 | NA | 48.00000 | 5.833333 | 25.77233 |\n\n",
            "text/latex": "A data.frame: 6 × 5\n\\begin{tabular}{r|lllll}\n  & date & pm25tmean2 & pm10tmean2 & o3tmean2 & no2tmean2\\\\\n  & <date> & <dbl> & <dbl> & <dbl> & <dbl>\\\\\n\\hline\n\t1 & 1987-01-01 & NA & 34.00000 & 4.250000 & 19.98810\\\\\n\t2 & 1987-01-02 & NA &       NA & 3.304348 & 23.19099\\\\\n\t3 & 1987-01-03 & NA & 34.16667 & 3.333333 & 23.81548\\\\\n\t4 & 1987-01-04 & NA & 47.00000 & 4.375000 & 30.43452\\\\\n\t5 & 1987-01-05 & NA &       NA & 4.750000 & 30.33333\\\\\n\t6 & 1987-01-06 & NA & 48.00000 & 5.833333 & 25.77233\\\\\n\\end{tabular}\n",
            "text/plain": [
              "  date       pm25tmean2 pm10tmean2 o3tmean2 no2tmean2\n",
              "1 1987-01-01 NA         34.00000   4.250000 19.98810 \n",
              "2 1987-01-02 NA               NA   3.304348 23.19099 \n",
              "3 1987-01-03 NA         34.16667   3.333333 23.81548 \n",
              "4 1987-01-04 NA         47.00000   4.375000 30.43452 \n",
              "5 1987-01-05 NA               NA   4.750000 30.33333 \n",
              "6 1987-01-06 NA         48.00000   5.833333 25.77233 "
            ]
          },
          "metadata": {}
        }
      ]
    },
    {
      "cell_type": "code",
      "source": [
        "subset <- select(chicago, ends_with(\"2\"))\n",
        "str(subset)"
      ],
      "metadata": {
        "colab": {
          "base_uri": "https://localhost:8080/"
        },
        "id": "fHYka1YsIPsx",
        "outputId": "98446084-c22c-41a2-f781-af274376277f"
      },
      "execution_count": null,
      "outputs": [
        {
          "output_type": "stream",
          "name": "stdout",
          "text": [
            "'data.frame':\t6940 obs. of  4 variables:\n",
            " $ pm25tmean2: num  NA NA NA NA NA NA NA NA NA NA ...\n",
            " $ pm10tmean2: num  34 NA 34.2 47 NA ...\n",
            " $ o3tmean2  : num  4.25 3.3 3.33 4.38 4.75 ...\n",
            " $ no2tmean2 : num  20 23.2 23.8 30.4 30.3 ...\n"
          ]
        }
      ]
    },
    {
      "cell_type": "code",
      "source": [
        "subset <- select(chicago, starts_with(\"d\"))\n",
        "str(subset)"
      ],
      "metadata": {
        "colab": {
          "base_uri": "https://localhost:8080/"
        },
        "id": "DsAem1EbIdnt",
        "outputId": "c6e42f05-4592-4af2-c391-a7d6bae46dec"
      },
      "execution_count": null,
      "outputs": [
        {
          "output_type": "stream",
          "name": "stdout",
          "text": [
            "'data.frame':\t6940 obs. of  2 variables:\n",
            " $ dptp: num  31.5 29.9 27.4 28.6 28.9 ...\n",
            " $ date: Date, format: \"1987-01-01\" \"1987-01-02\" ...\n"
          ]
        }
      ]
    },
    {
      "cell_type": "markdown",
      "source": [
        "##filter()"
      ],
      "metadata": {
        "id": "zgKaLYggIsuy"
      }
    },
    {
      "cell_type": "code",
      "source": [
        "chic.f <- filter(chicago, pm25tmean2 > 30)\n",
        "str(chic.f)"
      ],
      "metadata": {
        "colab": {
          "base_uri": "https://localhost:8080/"
        },
        "id": "8ittxIDpImos",
        "outputId": "d501d241-8870-41f8-acbe-6bb187ad8541"
      },
      "execution_count": null,
      "outputs": [
        {
          "output_type": "stream",
          "name": "stdout",
          "text": [
            "'data.frame':\t194 obs. of  8 variables:\n",
            " $ city      : chr  \"chic\" \"chic\" \"chic\" \"chic\" ...\n",
            " $ tmpd      : num  23 28 55 59 57 57 75 61 73 78 ...\n",
            " $ dptp      : num  21.9 25.8 51.3 53.7 52 56 65.8 59 60.3 67.1 ...\n",
            " $ date      : Date, format: \"1998-01-17\" \"1998-01-23\" ...\n",
            " $ pm25tmean2: num  38.1 34 39.4 35.4 33.3 ...\n",
            " $ pm10tmean2: num  32.5 38.7 34 28.5 35 ...\n",
            " $ o3tmean2  : num  3.18 1.75 10.79 14.3 20.66 ...\n",
            " $ no2tmean2 : num  25.3 29.4 25.3 31.4 26.8 ...\n"
          ]
        }
      ]
    },
    {
      "cell_type": "code",
      "source": [
        "summary(chic.f$pm25tmean2)"
      ],
      "metadata": {
        "colab": {
          "base_uri": "https://localhost:8080/",
          "height": 52
        },
        "id": "e3JNzlt1JEcX",
        "outputId": "013ef4be-9e29-4b53-a28f-e93948f70681"
      },
      "execution_count": null,
      "outputs": [
        {
          "output_type": "display_data",
          "data": {
            "text/plain": [
              "   Min. 1st Qu.  Median    Mean 3rd Qu.    Max. \n",
              "  30.05   32.12   35.04   36.63   39.53   61.50 "
            ]
          },
          "metadata": {}
        }
      ]
    },
    {
      "cell_type": "code",
      "source": [
        "chic.f <- filter(chicago, pm25tmean2 >30 & tmpd>80)\n",
        "select(chic.f, date, tmpd, pm25tmean2)"
      ],
      "metadata": {
        "colab": {
          "base_uri": "https://localhost:8080/",
          "height": 631
        },
        "id": "hTnvq2v7JQC_",
        "outputId": "a84238a5-ddc6-4ff1-c64d-f380b45986a8"
      },
      "execution_count": null,
      "outputs": [
        {
          "output_type": "display_data",
          "data": {
            "text/html": [
              "<table class=\"dataframe\">\n",
              "<caption>A data.frame: 17 × 3</caption>\n",
              "<thead>\n",
              "\t<tr><th scope=col>date</th><th scope=col>tmpd</th><th scope=col>pm25tmean2</th></tr>\n",
              "\t<tr><th scope=col>&lt;date&gt;</th><th scope=col>&lt;dbl&gt;</th><th scope=col>&lt;dbl&gt;</th></tr>\n",
              "</thead>\n",
              "<tbody>\n",
              "\t<tr><td>1998-08-23</td><td>81</td><td>39.60000</td></tr>\n",
              "\t<tr><td>1998-09-06</td><td>81</td><td>31.50000</td></tr>\n",
              "\t<tr><td>2001-07-20</td><td>82</td><td>32.30000</td></tr>\n",
              "\t<tr><td>2001-08-01</td><td>84</td><td>43.70000</td></tr>\n",
              "\t<tr><td>2001-08-08</td><td>85</td><td>38.83750</td></tr>\n",
              "\t<tr><td>2001-08-09</td><td>84</td><td>38.20000</td></tr>\n",
              "\t<tr><td>2002-06-20</td><td>82</td><td>33.00000</td></tr>\n",
              "\t<tr><td>2002-06-23</td><td>82</td><td>42.50000</td></tr>\n",
              "\t<tr><td>2002-07-08</td><td>81</td><td>33.10000</td></tr>\n",
              "\t<tr><td>2002-07-18</td><td>82</td><td>38.85000</td></tr>\n",
              "\t<tr><td>2003-06-25</td><td>82</td><td>33.90000</td></tr>\n",
              "\t<tr><td>2003-07-04</td><td>84</td><td>32.90000</td></tr>\n",
              "\t<tr><td>2005-06-24</td><td>86</td><td>31.85714</td></tr>\n",
              "\t<tr><td>2005-06-27</td><td>82</td><td>51.53750</td></tr>\n",
              "\t<tr><td>2005-06-28</td><td>85</td><td>31.20000</td></tr>\n",
              "\t<tr><td>2005-07-17</td><td>84</td><td>32.70000</td></tr>\n",
              "\t<tr><td>2005-08-03</td><td>84</td><td>37.90000</td></tr>\n",
              "</tbody>\n",
              "</table>\n"
            ],
            "text/markdown": "\nA data.frame: 17 × 3\n\n| date &lt;date&gt; | tmpd &lt;dbl&gt; | pm25tmean2 &lt;dbl&gt; |\n|---|---|---|\n| 1998-08-23 | 81 | 39.60000 |\n| 1998-09-06 | 81 | 31.50000 |\n| 2001-07-20 | 82 | 32.30000 |\n| 2001-08-01 | 84 | 43.70000 |\n| 2001-08-08 | 85 | 38.83750 |\n| 2001-08-09 | 84 | 38.20000 |\n| 2002-06-20 | 82 | 33.00000 |\n| 2002-06-23 | 82 | 42.50000 |\n| 2002-07-08 | 81 | 33.10000 |\n| 2002-07-18 | 82 | 38.85000 |\n| 2003-06-25 | 82 | 33.90000 |\n| 2003-07-04 | 84 | 32.90000 |\n| 2005-06-24 | 86 | 31.85714 |\n| 2005-06-27 | 82 | 51.53750 |\n| 2005-06-28 | 85 | 31.20000 |\n| 2005-07-17 | 84 | 32.70000 |\n| 2005-08-03 | 84 | 37.90000 |\n\n",
            "text/latex": "A data.frame: 17 × 3\n\\begin{tabular}{lll}\n date & tmpd & pm25tmean2\\\\\n <date> & <dbl> & <dbl>\\\\\n\\hline\n\t 1998-08-23 & 81 & 39.60000\\\\\n\t 1998-09-06 & 81 & 31.50000\\\\\n\t 2001-07-20 & 82 & 32.30000\\\\\n\t 2001-08-01 & 84 & 43.70000\\\\\n\t 2001-08-08 & 85 & 38.83750\\\\\n\t 2001-08-09 & 84 & 38.20000\\\\\n\t 2002-06-20 & 82 & 33.00000\\\\\n\t 2002-06-23 & 82 & 42.50000\\\\\n\t 2002-07-08 & 81 & 33.10000\\\\\n\t 2002-07-18 & 82 & 38.85000\\\\\n\t 2003-06-25 & 82 & 33.90000\\\\\n\t 2003-07-04 & 84 & 32.90000\\\\\n\t 2005-06-24 & 86 & 31.85714\\\\\n\t 2005-06-27 & 82 & 51.53750\\\\\n\t 2005-06-28 & 85 & 31.20000\\\\\n\t 2005-07-17 & 84 & 32.70000\\\\\n\t 2005-08-03 & 84 & 37.90000\\\\\n\\end{tabular}\n",
            "text/plain": [
              "   date       tmpd pm25tmean2\n",
              "1  1998-08-23 81   39.60000  \n",
              "2  1998-09-06 81   31.50000  \n",
              "3  2001-07-20 82   32.30000  \n",
              "4  2001-08-01 84   43.70000  \n",
              "5  2001-08-08 85   38.83750  \n",
              "6  2001-08-09 84   38.20000  \n",
              "7  2002-06-20 82   33.00000  \n",
              "8  2002-06-23 82   42.50000  \n",
              "9  2002-07-08 81   33.10000  \n",
              "10 2002-07-18 82   38.85000  \n",
              "11 2003-06-25 82   33.90000  \n",
              "12 2003-07-04 84   32.90000  \n",
              "13 2005-06-24 86   31.85714  \n",
              "14 2005-06-27 82   51.53750  \n",
              "15 2005-06-28 85   31.20000  \n",
              "16 2005-07-17 84   32.70000  \n",
              "17 2005-08-03 84   37.90000  "
            ]
          },
          "metadata": {}
        }
      ]
    },
    {
      "cell_type": "markdown",
      "source": [
        "##arrange()"
      ],
      "metadata": {
        "id": "MzAwkvMKJwIQ"
      }
    },
    {
      "cell_type": "code",
      "source": [
        "chicago <-arrange(chicago, date)"
      ],
      "metadata": {
        "id": "7HGbAW5NJpas"
      },
      "execution_count": null,
      "outputs": []
    },
    {
      "cell_type": "code",
      "source": [
        "#check the first few rows\n",
        "\n",
        "head(select(chicago, date, pm25tmean2))"
      ],
      "metadata": {
        "colab": {
          "base_uri": "https://localhost:8080/",
          "height": 286
        },
        "id": "3rz1ihZXKAyO",
        "outputId": "d2bdf8ba-d96a-4c46-c5eb-c6914d2c701e"
      },
      "execution_count": null,
      "outputs": [
        {
          "output_type": "display_data",
          "data": {
            "text/html": [
              "<table class=\"dataframe\">\n",
              "<caption>A data.frame: 6 × 2</caption>\n",
              "<thead>\n",
              "\t<tr><th></th><th scope=col>date</th><th scope=col>pm25tmean2</th></tr>\n",
              "\t<tr><th></th><th scope=col>&lt;date&gt;</th><th scope=col>&lt;dbl&gt;</th></tr>\n",
              "</thead>\n",
              "<tbody>\n",
              "\t<tr><th scope=row>1</th><td>1987-01-01</td><td>NA</td></tr>\n",
              "\t<tr><th scope=row>2</th><td>1987-01-02</td><td>NA</td></tr>\n",
              "\t<tr><th scope=row>3</th><td>1987-01-03</td><td>NA</td></tr>\n",
              "\t<tr><th scope=row>4</th><td>1987-01-04</td><td>NA</td></tr>\n",
              "\t<tr><th scope=row>5</th><td>1987-01-05</td><td>NA</td></tr>\n",
              "\t<tr><th scope=row>6</th><td>1987-01-06</td><td>NA</td></tr>\n",
              "</tbody>\n",
              "</table>\n"
            ],
            "text/markdown": "\nA data.frame: 6 × 2\n\n| <!--/--> | date &lt;date&gt; | pm25tmean2 &lt;dbl&gt; |\n|---|---|---|\n| 1 | 1987-01-01 | NA |\n| 2 | 1987-01-02 | NA |\n| 3 | 1987-01-03 | NA |\n| 4 | 1987-01-04 | NA |\n| 5 | 1987-01-05 | NA |\n| 6 | 1987-01-06 | NA |\n\n",
            "text/latex": "A data.frame: 6 × 2\n\\begin{tabular}{r|ll}\n  & date & pm25tmean2\\\\\n  & <date> & <dbl>\\\\\n\\hline\n\t1 & 1987-01-01 & NA\\\\\n\t2 & 1987-01-02 & NA\\\\\n\t3 & 1987-01-03 & NA\\\\\n\t4 & 1987-01-04 & NA\\\\\n\t5 & 1987-01-05 & NA\\\\\n\t6 & 1987-01-06 & NA\\\\\n\\end{tabular}\n",
            "text/plain": [
              "  date       pm25tmean2\n",
              "1 1987-01-01 NA        \n",
              "2 1987-01-02 NA        \n",
              "3 1987-01-03 NA        \n",
              "4 1987-01-04 NA        \n",
              "5 1987-01-05 NA        \n",
              "6 1987-01-06 NA        "
            ]
          },
          "metadata": {}
        }
      ]
    },
    {
      "cell_type": "code",
      "source": [
        "#check the last few rows\n",
        "\n",
        "tail(select(chicago, date, pm25tmean2))"
      ],
      "metadata": {
        "colab": {
          "base_uri": "https://localhost:8080/",
          "height": 286
        },
        "id": "UFx_Cx5IKKgo",
        "outputId": "7caa115a-93a3-4917-c459-4dfb8469141c"
      },
      "execution_count": null,
      "outputs": [
        {
          "output_type": "display_data",
          "data": {
            "text/html": [
              "<table class=\"dataframe\">\n",
              "<caption>A data.frame: 6 × 2</caption>\n",
              "<thead>\n",
              "\t<tr><th></th><th scope=col>date</th><th scope=col>pm25tmean2</th></tr>\n",
              "\t<tr><th></th><th scope=col>&lt;date&gt;</th><th scope=col>&lt;dbl&gt;</th></tr>\n",
              "</thead>\n",
              "<tbody>\n",
              "\t<tr><th scope=row>6935</th><td>2005-12-26</td><td> 8.40000</td></tr>\n",
              "\t<tr><th scope=row>6936</th><td>2005-12-27</td><td>23.56000</td></tr>\n",
              "\t<tr><th scope=row>6937</th><td>2005-12-28</td><td>17.75000</td></tr>\n",
              "\t<tr><th scope=row>6938</th><td>2005-12-29</td><td> 7.45000</td></tr>\n",
              "\t<tr><th scope=row>6939</th><td>2005-12-30</td><td>15.05714</td></tr>\n",
              "\t<tr><th scope=row>6940</th><td>2005-12-31</td><td>15.00000</td></tr>\n",
              "</tbody>\n",
              "</table>\n"
            ],
            "text/markdown": "\nA data.frame: 6 × 2\n\n| <!--/--> | date &lt;date&gt; | pm25tmean2 &lt;dbl&gt; |\n|---|---|---|\n| 6935 | 2005-12-26 |  8.40000 |\n| 6936 | 2005-12-27 | 23.56000 |\n| 6937 | 2005-12-28 | 17.75000 |\n| 6938 | 2005-12-29 |  7.45000 |\n| 6939 | 2005-12-30 | 15.05714 |\n| 6940 | 2005-12-31 | 15.00000 |\n\n",
            "text/latex": "A data.frame: 6 × 2\n\\begin{tabular}{r|ll}\n  & date & pm25tmean2\\\\\n  & <date> & <dbl>\\\\\n\\hline\n\t6935 & 2005-12-26 &  8.40000\\\\\n\t6936 & 2005-12-27 & 23.56000\\\\\n\t6937 & 2005-12-28 & 17.75000\\\\\n\t6938 & 2005-12-29 &  7.45000\\\\\n\t6939 & 2005-12-30 & 15.05714\\\\\n\t6940 & 2005-12-31 & 15.00000\\\\\n\\end{tabular}\n",
            "text/plain": [
              "     date       pm25tmean2\n",
              "6935 2005-12-26  8.40000  \n",
              "6936 2005-12-27 23.56000  \n",
              "6937 2005-12-28 17.75000  \n",
              "6938 2005-12-29  7.45000  \n",
              "6939 2005-12-30 15.05714  \n",
              "6940 2005-12-31 15.00000  "
            ]
          },
          "metadata": {}
        }
      ]
    },
    {
      "cell_type": "code",
      "source": [
        "chicago <- arrange(chicago, desc(date))"
      ],
      "metadata": {
        "id": "Tl5HZ7C5KVBf"
      },
      "execution_count": null,
      "outputs": []
    },
    {
      "cell_type": "code",
      "source": [
        "head(select(chicago, date, pm25tmean2),3)"
      ],
      "metadata": {
        "colab": {
          "base_uri": "https://localhost:8080/",
          "height": 192
        },
        "id": "b3OYq137Kc-j",
        "outputId": "a58cf2af-4402-4d9a-cff0-8ff795a87481"
      },
      "execution_count": null,
      "outputs": [
        {
          "output_type": "display_data",
          "data": {
            "text/html": [
              "<table class=\"dataframe\">\n",
              "<caption>A data.frame: 3 × 2</caption>\n",
              "<thead>\n",
              "\t<tr><th></th><th scope=col>date</th><th scope=col>pm25tmean2</th></tr>\n",
              "\t<tr><th></th><th scope=col>&lt;date&gt;</th><th scope=col>&lt;dbl&gt;</th></tr>\n",
              "</thead>\n",
              "<tbody>\n",
              "\t<tr><th scope=row>1</th><td>2005-12-31</td><td>15.00000</td></tr>\n",
              "\t<tr><th scope=row>2</th><td>2005-12-30</td><td>15.05714</td></tr>\n",
              "\t<tr><th scope=row>3</th><td>2005-12-29</td><td> 7.45000</td></tr>\n",
              "</tbody>\n",
              "</table>\n"
            ],
            "text/markdown": "\nA data.frame: 3 × 2\n\n| <!--/--> | date &lt;date&gt; | pm25tmean2 &lt;dbl&gt; |\n|---|---|---|\n| 1 | 2005-12-31 | 15.00000 |\n| 2 | 2005-12-30 | 15.05714 |\n| 3 | 2005-12-29 |  7.45000 |\n\n",
            "text/latex": "A data.frame: 3 × 2\n\\begin{tabular}{r|ll}\n  & date & pm25tmean2\\\\\n  & <date> & <dbl>\\\\\n\\hline\n\t1 & 2005-12-31 & 15.00000\\\\\n\t2 & 2005-12-30 & 15.05714\\\\\n\t3 & 2005-12-29 &  7.45000\\\\\n\\end{tabular}\n",
            "text/plain": [
              "  date       pm25tmean2\n",
              "1 2005-12-31 15.00000  \n",
              "2 2005-12-30 15.05714  \n",
              "3 2005-12-29  7.45000  "
            ]
          },
          "metadata": {}
        }
      ]
    },
    {
      "cell_type": "code",
      "source": [
        "tail(select(chicago, date, pm25tmean2),3)"
      ],
      "metadata": {
        "colab": {
          "base_uri": "https://localhost:8080/",
          "height": 192
        },
        "id": "FNgSfwMyKj8j",
        "outputId": "09d6bed3-5a1d-4a03-b674-27d071f5261a"
      },
      "execution_count": null,
      "outputs": [
        {
          "output_type": "display_data",
          "data": {
            "text/html": [
              "<table class=\"dataframe\">\n",
              "<caption>A data.frame: 3 × 2</caption>\n",
              "<thead>\n",
              "\t<tr><th></th><th scope=col>date</th><th scope=col>pm25tmean2</th></tr>\n",
              "\t<tr><th></th><th scope=col>&lt;date&gt;</th><th scope=col>&lt;dbl&gt;</th></tr>\n",
              "</thead>\n",
              "<tbody>\n",
              "\t<tr><th scope=row>6938</th><td>1987-01-03</td><td>NA</td></tr>\n",
              "\t<tr><th scope=row>6939</th><td>1987-01-02</td><td>NA</td></tr>\n",
              "\t<tr><th scope=row>6940</th><td>1987-01-01</td><td>NA</td></tr>\n",
              "</tbody>\n",
              "</table>\n"
            ],
            "text/markdown": "\nA data.frame: 3 × 2\n\n| <!--/--> | date &lt;date&gt; | pm25tmean2 &lt;dbl&gt; |\n|---|---|---|\n| 6938 | 1987-01-03 | NA |\n| 6939 | 1987-01-02 | NA |\n| 6940 | 1987-01-01 | NA |\n\n",
            "text/latex": "A data.frame: 3 × 2\n\\begin{tabular}{r|ll}\n  & date & pm25tmean2\\\\\n  & <date> & <dbl>\\\\\n\\hline\n\t6938 & 1987-01-03 & NA\\\\\n\t6939 & 1987-01-02 & NA\\\\\n\t6940 & 1987-01-01 & NA\\\\\n\\end{tabular}\n",
            "text/plain": [
              "     date       pm25tmean2\n",
              "6938 1987-01-03 NA        \n",
              "6939 1987-01-02 NA        \n",
              "6940 1987-01-01 NA        "
            ]
          },
          "metadata": {}
        }
      ]
    },
    {
      "cell_type": "markdown",
      "source": [
        "##rename()"
      ],
      "metadata": {
        "id": "iC43j09KKrR5"
      }
    },
    {
      "cell_type": "code",
      "source": [
        "head(chicago[, 1:5],3)"
      ],
      "metadata": {
        "colab": {
          "base_uri": "https://localhost:8080/",
          "height": 192
        },
        "id": "eu1uDta0KpbA",
        "outputId": "4e51ed03-bb10-4196-8da2-220fd89fb382"
      },
      "execution_count": null,
      "outputs": [
        {
          "output_type": "display_data",
          "data": {
            "text/html": [
              "<table class=\"dataframe\">\n",
              "<caption>A data.frame: 3 × 5</caption>\n",
              "<thead>\n",
              "\t<tr><th></th><th scope=col>city</th><th scope=col>tmpd</th><th scope=col>dptp</th><th scope=col>date</th><th scope=col>pm25tmean2</th></tr>\n",
              "\t<tr><th></th><th scope=col>&lt;chr&gt;</th><th scope=col>&lt;dbl&gt;</th><th scope=col>&lt;dbl&gt;</th><th scope=col>&lt;date&gt;</th><th scope=col>&lt;dbl&gt;</th></tr>\n",
              "</thead>\n",
              "<tbody>\n",
              "\t<tr><th scope=row>1</th><td>chic</td><td>35</td><td>30.1</td><td>2005-12-31</td><td>15.00000</td></tr>\n",
              "\t<tr><th scope=row>2</th><td>chic</td><td>36</td><td>31.0</td><td>2005-12-30</td><td>15.05714</td></tr>\n",
              "\t<tr><th scope=row>3</th><td>chic</td><td>35</td><td>29.4</td><td>2005-12-29</td><td> 7.45000</td></tr>\n",
              "</tbody>\n",
              "</table>\n"
            ],
            "text/markdown": "\nA data.frame: 3 × 5\n\n| <!--/--> | city &lt;chr&gt; | tmpd &lt;dbl&gt; | dptp &lt;dbl&gt; | date &lt;date&gt; | pm25tmean2 &lt;dbl&gt; |\n|---|---|---|---|---|---|\n| 1 | chic | 35 | 30.1 | 2005-12-31 | 15.00000 |\n| 2 | chic | 36 | 31.0 | 2005-12-30 | 15.05714 |\n| 3 | chic | 35 | 29.4 | 2005-12-29 |  7.45000 |\n\n",
            "text/latex": "A data.frame: 3 × 5\n\\begin{tabular}{r|lllll}\n  & city & tmpd & dptp & date & pm25tmean2\\\\\n  & <chr> & <dbl> & <dbl> & <date> & <dbl>\\\\\n\\hline\n\t1 & chic & 35 & 30.1 & 2005-12-31 & 15.00000\\\\\n\t2 & chic & 36 & 31.0 & 2005-12-30 & 15.05714\\\\\n\t3 & chic & 35 & 29.4 & 2005-12-29 &  7.45000\\\\\n\\end{tabular}\n",
            "text/plain": [
              "  city tmpd dptp date       pm25tmean2\n",
              "1 chic 35   30.1 2005-12-31 15.00000  \n",
              "2 chic 36   31.0 2005-12-30 15.05714  \n",
              "3 chic 35   29.4 2005-12-29  7.45000  "
            ]
          },
          "metadata": {}
        }
      ]
    },
    {
      "cell_type": "code",
      "source": [
        "chicago <- rename(chicago, dewpoint = dptp, pm25=pm25tmean2)\n",
        "head(chicago[, 1:5],3)"
      ],
      "metadata": {
        "colab": {
          "base_uri": "https://localhost:8080/",
          "height": 192
        },
        "id": "Hg7bak5QK0dx",
        "outputId": "0102063a-e254-4327-e093-310feea0821f"
      },
      "execution_count": null,
      "outputs": [
        {
          "output_type": "display_data",
          "data": {
            "text/html": [
              "<table class=\"dataframe\">\n",
              "<caption>A data.frame: 3 × 5</caption>\n",
              "<thead>\n",
              "\t<tr><th></th><th scope=col>city</th><th scope=col>tmpd</th><th scope=col>dewpoint</th><th scope=col>date</th><th scope=col>pm25</th></tr>\n",
              "\t<tr><th></th><th scope=col>&lt;chr&gt;</th><th scope=col>&lt;dbl&gt;</th><th scope=col>&lt;dbl&gt;</th><th scope=col>&lt;date&gt;</th><th scope=col>&lt;dbl&gt;</th></tr>\n",
              "</thead>\n",
              "<tbody>\n",
              "\t<tr><th scope=row>1</th><td>chic</td><td>35</td><td>30.1</td><td>2005-12-31</td><td>15.00000</td></tr>\n",
              "\t<tr><th scope=row>2</th><td>chic</td><td>36</td><td>31.0</td><td>2005-12-30</td><td>15.05714</td></tr>\n",
              "\t<tr><th scope=row>3</th><td>chic</td><td>35</td><td>29.4</td><td>2005-12-29</td><td> 7.45000</td></tr>\n",
              "</tbody>\n",
              "</table>\n"
            ],
            "text/markdown": "\nA data.frame: 3 × 5\n\n| <!--/--> | city &lt;chr&gt; | tmpd &lt;dbl&gt; | dewpoint &lt;dbl&gt; | date &lt;date&gt; | pm25 &lt;dbl&gt; |\n|---|---|---|---|---|---|\n| 1 | chic | 35 | 30.1 | 2005-12-31 | 15.00000 |\n| 2 | chic | 36 | 31.0 | 2005-12-30 | 15.05714 |\n| 3 | chic | 35 | 29.4 | 2005-12-29 |  7.45000 |\n\n",
            "text/latex": "A data.frame: 3 × 5\n\\begin{tabular}{r|lllll}\n  & city & tmpd & dewpoint & date & pm25\\\\\n  & <chr> & <dbl> & <dbl> & <date> & <dbl>\\\\\n\\hline\n\t1 & chic & 35 & 30.1 & 2005-12-31 & 15.00000\\\\\n\t2 & chic & 36 & 31.0 & 2005-12-30 & 15.05714\\\\\n\t3 & chic & 35 & 29.4 & 2005-12-29 &  7.45000\\\\\n\\end{tabular}\n",
            "text/plain": [
              "  city tmpd dewpoint date       pm25    \n",
              "1 chic 35   30.1     2005-12-31 15.00000\n",
              "2 chic 36   31.0     2005-12-30 15.05714\n",
              "3 chic 35   29.4     2005-12-29  7.45000"
            ]
          },
          "metadata": {}
        }
      ]
    },
    {
      "cell_type": "markdown",
      "source": [
        "##mutate()"
      ],
      "metadata": {
        "id": "1CAtKE9_LS66"
      }
    },
    {
      "cell_type": "markdown",
      "source": [
        "The mutate() function exists to compute transformations of variables in a dataframe."
      ],
      "metadata": {
        "id": "0obuafRULY39"
      }
    },
    {
      "cell_type": "code",
      "source": [
        "chicago <- mutate(chicago, pm25detrend = pm25 - mean(pm25, na.rm=TRUE))\n",
        "head(chicago)"
      ],
      "metadata": {
        "colab": {
          "base_uri": "https://localhost:8080/",
          "height": 410
        },
        "id": "ClS1PX7LLK4W",
        "outputId": "96bf6674-a4ba-492b-e6a1-34ca0104c98e"
      },
      "execution_count": null,
      "outputs": [
        {
          "output_type": "display_data",
          "data": {
            "text/html": [
              "<table class=\"dataframe\">\n",
              "<caption>A data.frame: 6 × 9</caption>\n",
              "<thead>\n",
              "\t<tr><th></th><th scope=col>city</th><th scope=col>tmpd</th><th scope=col>dewpoint</th><th scope=col>date</th><th scope=col>pm25</th><th scope=col>pm10tmean2</th><th scope=col>o3tmean2</th><th scope=col>no2tmean2</th><th scope=col>pm25detrend</th></tr>\n",
              "\t<tr><th></th><th scope=col>&lt;chr&gt;</th><th scope=col>&lt;dbl&gt;</th><th scope=col>&lt;dbl&gt;</th><th scope=col>&lt;date&gt;</th><th scope=col>&lt;dbl&gt;</th><th scope=col>&lt;dbl&gt;</th><th scope=col>&lt;dbl&gt;</th><th scope=col>&lt;dbl&gt;</th><th scope=col>&lt;dbl&gt;</th></tr>\n",
              "</thead>\n",
              "<tbody>\n",
              "\t<tr><th scope=row>1</th><td>chic</td><td>35</td><td>30.1</td><td>2005-12-31</td><td>15.00000</td><td>23.5</td><td> 2.531250</td><td>13.25000</td><td>-1.230958</td></tr>\n",
              "\t<tr><th scope=row>2</th><td>chic</td><td>36</td><td>31.0</td><td>2005-12-30</td><td>15.05714</td><td>19.2</td><td> 3.034420</td><td>22.80556</td><td>-1.173815</td></tr>\n",
              "\t<tr><th scope=row>3</th><td>chic</td><td>35</td><td>29.4</td><td>2005-12-29</td><td> 7.45000</td><td>23.5</td><td> 6.794837</td><td>19.97222</td><td>-8.780958</td></tr>\n",
              "\t<tr><th scope=row>4</th><td>chic</td><td>37</td><td>34.5</td><td>2005-12-28</td><td>17.75000</td><td>27.5</td><td> 3.260417</td><td>19.28563</td><td> 1.519042</td></tr>\n",
              "\t<tr><th scope=row>5</th><td>chic</td><td>40</td><td>33.6</td><td>2005-12-27</td><td>23.56000</td><td>27.0</td><td> 4.468750</td><td>23.50000</td><td> 7.329042</td></tr>\n",
              "\t<tr><th scope=row>6</th><td>chic</td><td>35</td><td>29.6</td><td>2005-12-26</td><td> 8.40000</td><td> 8.5</td><td>14.041667</td><td>16.81944</td><td>-7.830958</td></tr>\n",
              "</tbody>\n",
              "</table>\n"
            ],
            "text/markdown": "\nA data.frame: 6 × 9\n\n| <!--/--> | city &lt;chr&gt; | tmpd &lt;dbl&gt; | dewpoint &lt;dbl&gt; | date &lt;date&gt; | pm25 &lt;dbl&gt; | pm10tmean2 &lt;dbl&gt; | o3tmean2 &lt;dbl&gt; | no2tmean2 &lt;dbl&gt; | pm25detrend &lt;dbl&gt; |\n|---|---|---|---|---|---|---|---|---|---|\n| 1 | chic | 35 | 30.1 | 2005-12-31 | 15.00000 | 23.5 |  2.531250 | 13.25000 | -1.230958 |\n| 2 | chic | 36 | 31.0 | 2005-12-30 | 15.05714 | 19.2 |  3.034420 | 22.80556 | -1.173815 |\n| 3 | chic | 35 | 29.4 | 2005-12-29 |  7.45000 | 23.5 |  6.794837 | 19.97222 | -8.780958 |\n| 4 | chic | 37 | 34.5 | 2005-12-28 | 17.75000 | 27.5 |  3.260417 | 19.28563 |  1.519042 |\n| 5 | chic | 40 | 33.6 | 2005-12-27 | 23.56000 | 27.0 |  4.468750 | 23.50000 |  7.329042 |\n| 6 | chic | 35 | 29.6 | 2005-12-26 |  8.40000 |  8.5 | 14.041667 | 16.81944 | -7.830958 |\n\n",
            "text/latex": "A data.frame: 6 × 9\n\\begin{tabular}{r|lllllllll}\n  & city & tmpd & dewpoint & date & pm25 & pm10tmean2 & o3tmean2 & no2tmean2 & pm25detrend\\\\\n  & <chr> & <dbl> & <dbl> & <date> & <dbl> & <dbl> & <dbl> & <dbl> & <dbl>\\\\\n\\hline\n\t1 & chic & 35 & 30.1 & 2005-12-31 & 15.00000 & 23.5 &  2.531250 & 13.25000 & -1.230958\\\\\n\t2 & chic & 36 & 31.0 & 2005-12-30 & 15.05714 & 19.2 &  3.034420 & 22.80556 & -1.173815\\\\\n\t3 & chic & 35 & 29.4 & 2005-12-29 &  7.45000 & 23.5 &  6.794837 & 19.97222 & -8.780958\\\\\n\t4 & chic & 37 & 34.5 & 2005-12-28 & 17.75000 & 27.5 &  3.260417 & 19.28563 &  1.519042\\\\\n\t5 & chic & 40 & 33.6 & 2005-12-27 & 23.56000 & 27.0 &  4.468750 & 23.50000 &  7.329042\\\\\n\t6 & chic & 35 & 29.6 & 2005-12-26 &  8.40000 &  8.5 & 14.041667 & 16.81944 & -7.830958\\\\\n\\end{tabular}\n",
            "text/plain": [
              "  city tmpd dewpoint date       pm25     pm10tmean2 o3tmean2  no2tmean2\n",
              "1 chic 35   30.1     2005-12-31 15.00000 23.5        2.531250 13.25000 \n",
              "2 chic 36   31.0     2005-12-30 15.05714 19.2        3.034420 22.80556 \n",
              "3 chic 35   29.4     2005-12-29  7.45000 23.5        6.794837 19.97222 \n",
              "4 chic 37   34.5     2005-12-28 17.75000 27.5        3.260417 19.28563 \n",
              "5 chic 40   33.6     2005-12-27 23.56000 27.0        4.468750 23.50000 \n",
              "6 chic 35   29.6     2005-12-26  8.40000  8.5       14.041667 16.81944 \n",
              "  pm25detrend\n",
              "1 -1.230958  \n",
              "2 -1.173815  \n",
              "3 -8.780958  \n",
              "4  1.519042  \n",
              "5  7.329042  \n",
              "6 -7.830958  "
            ]
          },
          "metadata": {}
        }
      ]
    },
    {
      "cell_type": "code",
      "source": [
        "chicago$pm25detrend[5]"
      ],
      "metadata": {
        "colab": {
          "base_uri": "https://localhost:8080/",
          "height": 34
        },
        "id": "-bTIu-SxL-FD",
        "outputId": "c74bff45-d6a7-48a0-a642-187b933bd95c"
      },
      "execution_count": null,
      "outputs": [
        {
          "output_type": "display_data",
          "data": {
            "text/html": [
              "7.32904246174894"
            ],
            "text/markdown": "7.32904246174894",
            "text/latex": "7.32904246174894",
            "text/plain": [
              "[1] 7.329042"
            ]
          },
          "metadata": {}
        }
      ]
    },
    {
      "cell_type": "code",
      "source": [
        "head(transmute(chicago,\n",
        "  pm10detrend= pm10tmean2-mean(pm10tmean2,na.rm=TRUE),\n",
        "  o3detrend=o3tmean2-mean(o3tmean2,na.rm= TRUE)))"
      ],
      "metadata": {
        "colab": {
          "base_uri": "https://localhost:8080/",
          "height": 286
        },
        "id": "PjXUUYDFMCPp",
        "outputId": "f56f3be5-cb30-4146-cc96-4fd4f74aaad3"
      },
      "execution_count": null,
      "outputs": [
        {
          "output_type": "display_data",
          "data": {
            "text/html": [
              "<table class=\"dataframe\">\n",
              "<caption>A data.frame: 6 × 2</caption>\n",
              "<thead>\n",
              "\t<tr><th></th><th scope=col>pm10detrend</th><th scope=col>o3detrend</th></tr>\n",
              "\t<tr><th></th><th scope=col>&lt;dbl&gt;</th><th scope=col>&lt;dbl&gt;</th></tr>\n",
              "</thead>\n",
              "<tbody>\n",
              "\t<tr><th scope=row>1</th><td>-10.395206</td><td>-16.904263</td></tr>\n",
              "\t<tr><th scope=row>2</th><td>-14.695206</td><td>-16.401093</td></tr>\n",
              "\t<tr><th scope=row>3</th><td>-10.395206</td><td>-12.640676</td></tr>\n",
              "\t<tr><th scope=row>4</th><td> -6.395206</td><td>-16.175096</td></tr>\n",
              "\t<tr><th scope=row>5</th><td> -6.895206</td><td>-14.966763</td></tr>\n",
              "\t<tr><th scope=row>6</th><td>-25.395206</td><td> -5.393846</td></tr>\n",
              "</tbody>\n",
              "</table>\n"
            ],
            "text/markdown": "\nA data.frame: 6 × 2\n\n| <!--/--> | pm10detrend &lt;dbl&gt; | o3detrend &lt;dbl&gt; |\n|---|---|---|\n| 1 | -10.395206 | -16.904263 |\n| 2 | -14.695206 | -16.401093 |\n| 3 | -10.395206 | -12.640676 |\n| 4 |  -6.395206 | -16.175096 |\n| 5 |  -6.895206 | -14.966763 |\n| 6 | -25.395206 |  -5.393846 |\n\n",
            "text/latex": "A data.frame: 6 × 2\n\\begin{tabular}{r|ll}\n  & pm10detrend & o3detrend\\\\\n  & <dbl> & <dbl>\\\\\n\\hline\n\t1 & -10.395206 & -16.904263\\\\\n\t2 & -14.695206 & -16.401093\\\\\n\t3 & -10.395206 & -12.640676\\\\\n\t4 &  -6.395206 & -16.175096\\\\\n\t5 &  -6.895206 & -14.966763\\\\\n\t6 & -25.395206 &  -5.393846\\\\\n\\end{tabular}\n",
            "text/plain": [
              "  pm10detrend o3detrend \n",
              "1 -10.395206  -16.904263\n",
              "2 -14.695206  -16.401093\n",
              "3 -10.395206  -12.640676\n",
              "4  -6.395206  -16.175096\n",
              "5  -6.895206  -14.966763\n",
              "6 -25.395206   -5.393846"
            ]
          },
          "metadata": {}
        }
      ]
    },
    {
      "cell_type": "markdown",
      "source": [
        "##group_by()"
      ],
      "metadata": {
        "id": "T1zJuoQOM3tg"
      }
    },
    {
      "cell_type": "code",
      "source": [
        "chicago <- mutate(chicago, year = as.POSIXlt(date)$year + 1900)"
      ],
      "metadata": {
        "id": "pb1Ls9RmMlfl"
      },
      "execution_count": null,
      "outputs": []
    },
    {
      "cell_type": "code",
      "source": [
        "years <- group_by(chicago, year)"
      ],
      "metadata": {
        "id": "ks_Qwv1uNR3N"
      },
      "execution_count": null,
      "outputs": []
    },
    {
      "cell_type": "code",
      "source": [
        "summarize(years, pm25 = mean(pm25, na.rm = TRUE),\n",
        " o3 = max(o3tmean2, na.rm = TRUE),\n",
        " no2 = median(no2tmean2, na.rm = TRUE))"
      ],
      "metadata": {
        "colab": {
          "base_uri": "https://localhost:8080/",
          "height": 693
        },
        "id": "l3a6NR-jNYeZ",
        "outputId": "5f3c68ea-0539-4248-c46d-d93b046e34ed"
      },
      "execution_count": null,
      "outputs": [
        {
          "output_type": "display_data",
          "data": {
            "text/html": [
              "<table class=\"dataframe\">\n",
              "<caption>A tibble: 19 × 4</caption>\n",
              "<thead>\n",
              "\t<tr><th scope=col>year</th><th scope=col>pm25</th><th scope=col>o3</th><th scope=col>no2</th></tr>\n",
              "\t<tr><th scope=col>&lt;dbl&gt;</th><th scope=col>&lt;dbl&gt;</th><th scope=col>&lt;dbl&gt;</th><th scope=col>&lt;dbl&gt;</th></tr>\n",
              "</thead>\n",
              "<tbody>\n",
              "\t<tr><td>1987</td><td>     NaN</td><td>62.96966</td><td>23.49369</td></tr>\n",
              "\t<tr><td>1988</td><td>     NaN</td><td>61.67708</td><td>24.52296</td></tr>\n",
              "\t<tr><td>1989</td><td>     NaN</td><td>59.72727</td><td>26.14062</td></tr>\n",
              "\t<tr><td>1990</td><td>     NaN</td><td>52.22917</td><td>22.59583</td></tr>\n",
              "\t<tr><td>1991</td><td>     NaN</td><td>63.10417</td><td>21.38194</td></tr>\n",
              "\t<tr><td>1992</td><td>     NaN</td><td>50.82870</td><td>24.78921</td></tr>\n",
              "\t<tr><td>1993</td><td>     NaN</td><td>44.30093</td><td>25.76993</td></tr>\n",
              "\t<tr><td>1994</td><td>     NaN</td><td>52.17844</td><td>28.47500</td></tr>\n",
              "\t<tr><td>1995</td><td>     NaN</td><td>66.58750</td><td>27.26042</td></tr>\n",
              "\t<tr><td>1996</td><td>     NaN</td><td>58.39583</td><td>26.38715</td></tr>\n",
              "\t<tr><td>1997</td><td>     NaN</td><td>56.54167</td><td>25.48143</td></tr>\n",
              "\t<tr><td>1998</td><td>18.26467</td><td>50.66250</td><td>24.58649</td></tr>\n",
              "\t<tr><td>1999</td><td>18.49646</td><td>57.48864</td><td>24.66667</td></tr>\n",
              "\t<tr><td>2000</td><td>16.93806</td><td>55.76103</td><td>23.46082</td></tr>\n",
              "\t<tr><td>2001</td><td>16.92632</td><td>51.81984</td><td>25.06522</td></tr>\n",
              "\t<tr><td>2002</td><td>15.27335</td><td>54.88043</td><td>22.73750</td></tr>\n",
              "\t<tr><td>2003</td><td>15.23183</td><td>56.16608</td><td>24.62500</td></tr>\n",
              "\t<tr><td>2004</td><td>14.62864</td><td>44.48240</td><td>23.39130</td></tr>\n",
              "\t<tr><td>2005</td><td>16.18556</td><td>58.84126</td><td>22.62387</td></tr>\n",
              "</tbody>\n",
              "</table>\n"
            ],
            "text/markdown": "\nA tibble: 19 × 4\n\n| year &lt;dbl&gt; | pm25 &lt;dbl&gt; | o3 &lt;dbl&gt; | no2 &lt;dbl&gt; |\n|---|---|---|---|\n| 1987 |      NaN | 62.96966 | 23.49369 |\n| 1988 |      NaN | 61.67708 | 24.52296 |\n| 1989 |      NaN | 59.72727 | 26.14062 |\n| 1990 |      NaN | 52.22917 | 22.59583 |\n| 1991 |      NaN | 63.10417 | 21.38194 |\n| 1992 |      NaN | 50.82870 | 24.78921 |\n| 1993 |      NaN | 44.30093 | 25.76993 |\n| 1994 |      NaN | 52.17844 | 28.47500 |\n| 1995 |      NaN | 66.58750 | 27.26042 |\n| 1996 |      NaN | 58.39583 | 26.38715 |\n| 1997 |      NaN | 56.54167 | 25.48143 |\n| 1998 | 18.26467 | 50.66250 | 24.58649 |\n| 1999 | 18.49646 | 57.48864 | 24.66667 |\n| 2000 | 16.93806 | 55.76103 | 23.46082 |\n| 2001 | 16.92632 | 51.81984 | 25.06522 |\n| 2002 | 15.27335 | 54.88043 | 22.73750 |\n| 2003 | 15.23183 | 56.16608 | 24.62500 |\n| 2004 | 14.62864 | 44.48240 | 23.39130 |\n| 2005 | 16.18556 | 58.84126 | 22.62387 |\n\n",
            "text/latex": "A tibble: 19 × 4\n\\begin{tabular}{llll}\n year & pm25 & o3 & no2\\\\\n <dbl> & <dbl> & <dbl> & <dbl>\\\\\n\\hline\n\t 1987 &      NaN & 62.96966 & 23.49369\\\\\n\t 1988 &      NaN & 61.67708 & 24.52296\\\\\n\t 1989 &      NaN & 59.72727 & 26.14062\\\\\n\t 1990 &      NaN & 52.22917 & 22.59583\\\\\n\t 1991 &      NaN & 63.10417 & 21.38194\\\\\n\t 1992 &      NaN & 50.82870 & 24.78921\\\\\n\t 1993 &      NaN & 44.30093 & 25.76993\\\\\n\t 1994 &      NaN & 52.17844 & 28.47500\\\\\n\t 1995 &      NaN & 66.58750 & 27.26042\\\\\n\t 1996 &      NaN & 58.39583 & 26.38715\\\\\n\t 1997 &      NaN & 56.54167 & 25.48143\\\\\n\t 1998 & 18.26467 & 50.66250 & 24.58649\\\\\n\t 1999 & 18.49646 & 57.48864 & 24.66667\\\\\n\t 2000 & 16.93806 & 55.76103 & 23.46082\\\\\n\t 2001 & 16.92632 & 51.81984 & 25.06522\\\\\n\t 2002 & 15.27335 & 54.88043 & 22.73750\\\\\n\t 2003 & 15.23183 & 56.16608 & 24.62500\\\\\n\t 2004 & 14.62864 & 44.48240 & 23.39130\\\\\n\t 2005 & 16.18556 & 58.84126 & 22.62387\\\\\n\\end{tabular}\n",
            "text/plain": [
              "   year pm25     o3       no2     \n",
              "1  1987      NaN 62.96966 23.49369\n",
              "2  1988      NaN 61.67708 24.52296\n",
              "3  1989      NaN 59.72727 26.14062\n",
              "4  1990      NaN 52.22917 22.59583\n",
              "5  1991      NaN 63.10417 21.38194\n",
              "6  1992      NaN 50.82870 24.78921\n",
              "7  1993      NaN 44.30093 25.76993\n",
              "8  1994      NaN 52.17844 28.47500\n",
              "9  1995      NaN 66.58750 27.26042\n",
              "10 1996      NaN 58.39583 26.38715\n",
              "11 1997      NaN 56.54167 25.48143\n",
              "12 1998 18.26467 50.66250 24.58649\n",
              "13 1999 18.49646 57.48864 24.66667\n",
              "14 2000 16.93806 55.76103 23.46082\n",
              "15 2001 16.92632 51.81984 25.06522\n",
              "16 2002 15.27335 54.88043 22.73750\n",
              "17 2003 15.23183 56.16608 24.62500\n",
              "18 2004 14.62864 44.48240 23.39130\n",
              "19 2005 16.18556 58.84126 22.62387"
            ]
          },
          "metadata": {}
        }
      ]
    },
    {
      "cell_type": "code",
      "source": [
        "qq <- quantile(chicago$pm25, seq(0,1,0.2), na.rm=TRUE)\n",
        "chicago <- mutate(chicago, pm25.quint = cut(pm25, qq))"
      ],
      "metadata": {
        "id": "Y5GLSPtlNw7j"
      },
      "execution_count": null,
      "outputs": []
    },
    {
      "cell_type": "code",
      "source": [
        "quint <- group_by(chicago, pm25.quint)"
      ],
      "metadata": {
        "id": "mST56IgxOhdt"
      },
      "execution_count": null,
      "outputs": []
    },
    {
      "cell_type": "code",
      "source": [
        "summarize(quint, o3=mean(o3tmean2, na.rm=TRUE),\n",
        "           no2 = mean(no2tmean2, na.rm=TRUE))"
      ],
      "metadata": {
        "colab": {
          "base_uri": "https://localhost:8080/",
          "height": 286
        },
        "id": "WDr8CYy7Ora2",
        "outputId": "218d4514-aa36-45a7-b9c9-e1ef175bfa37"
      },
      "execution_count": null,
      "outputs": [
        {
          "output_type": "display_data",
          "data": {
            "text/html": [
              "<table class=\"dataframe\">\n",
              "<caption>A tibble: 6 × 3</caption>\n",
              "<thead>\n",
              "\t<tr><th scope=col>pm25.quint</th><th scope=col>o3</th><th scope=col>no2</th></tr>\n",
              "\t<tr><th scope=col>&lt;fct&gt;</th><th scope=col>&lt;dbl&gt;</th><th scope=col>&lt;dbl&gt;</th></tr>\n",
              "</thead>\n",
              "<tbody>\n",
              "\t<tr><td>(1.7,8.7]  </td><td>21.66401</td><td>17.99129</td></tr>\n",
              "\t<tr><td>(8.7,12.4] </td><td>20.38248</td><td>22.13004</td></tr>\n",
              "\t<tr><td>(12.4,16.7]</td><td>20.66160</td><td>24.35708</td></tr>\n",
              "\t<tr><td>(16.7,22.6]</td><td>19.88122</td><td>27.27132</td></tr>\n",
              "\t<tr><td>(22.6,61.5]</td><td>20.31775</td><td>29.64427</td></tr>\n",
              "\t<tr><td>NA         </td><td>18.79044</td><td>25.77585</td></tr>\n",
              "</tbody>\n",
              "</table>\n"
            ],
            "text/markdown": "\nA tibble: 6 × 3\n\n| pm25.quint &lt;fct&gt; | o3 &lt;dbl&gt; | no2 &lt;dbl&gt; |\n|---|---|---|\n| (1.7,8.7]   | 21.66401 | 17.99129 |\n| (8.7,12.4]  | 20.38248 | 22.13004 |\n| (12.4,16.7] | 20.66160 | 24.35708 |\n| (16.7,22.6] | 19.88122 | 27.27132 |\n| (22.6,61.5] | 20.31775 | 29.64427 |\n| NA          | 18.79044 | 25.77585 |\n\n",
            "text/latex": "A tibble: 6 × 3\n\\begin{tabular}{lll}\n pm25.quint & o3 & no2\\\\\n <fct> & <dbl> & <dbl>\\\\\n\\hline\n\t (1.7,8.7{]}   & 21.66401 & 17.99129\\\\\n\t (8.7,12.4{]}  & 20.38248 & 22.13004\\\\\n\t (12.4,16.7{]} & 20.66160 & 24.35708\\\\\n\t (16.7,22.6{]} & 19.88122 & 27.27132\\\\\n\t (22.6,61.5{]} & 20.31775 & 29.64427\\\\\n\t NA          & 18.79044 & 25.77585\\\\\n\\end{tabular}\n",
            "text/plain": [
              "  pm25.quint  o3       no2     \n",
              "1 (1.7,8.7]   21.66401 17.99129\n",
              "2 (8.7,12.4]  20.38248 22.13004\n",
              "3 (12.4,16.7] 20.66160 24.35708\n",
              "4 (16.7,22.6] 19.88122 27.27132\n",
              "5 (22.6,61.5] 20.31775 29.64427\n",
              "6 NA          18.79044 25.77585"
            ]
          },
          "metadata": {}
        }
      ]
    },
    {
      "cell_type": "markdown",
      "source": [
        "##pipeline: %>%"
      ],
      "metadata": {
        "id": "7vhzU6XPPP4r"
      }
    },
    {
      "cell_type": "markdown",
      "source": [
        "The pipeline operater %>% is very handy for stringing together multiple dplyr functions in a sequence\n",
        " of operations."
      ],
      "metadata": {
        "id": "ZUGCX0XePWHQ"
      }
    },
    {
      "cell_type": "code",
      "source": [
        "# third(second(first(x)))\n",
        "# first(x) %>% second %>% third"
      ],
      "metadata": {
        "id": "AHgWF3VDO87e"
      },
      "execution_count": null,
      "outputs": []
    },
    {
      "cell_type": "code",
      "source": [
        "mutate(chicago, pm25.quint = cut(pm25, qq)) %>%\n",
        "  group_by(pm25.quint) %>%\n",
        "    summarize(o3 = mean(o3tmean2, na.rm=TRUE),\n",
        "              no3 = mean(no2tmean2, na.rm=TRUE))"
      ],
      "metadata": {
        "colab": {
          "base_uri": "https://localhost:8080/",
          "height": 286
        },
        "id": "dIriJQy8Pthl",
        "outputId": "57fb05c1-7192-4954-ee5c-1ed5ba91ba5e"
      },
      "execution_count": null,
      "outputs": [
        {
          "output_type": "display_data",
          "data": {
            "text/html": [
              "<table class=\"dataframe\">\n",
              "<caption>A tibble: 6 × 3</caption>\n",
              "<thead>\n",
              "\t<tr><th scope=col>pm25.quint</th><th scope=col>o3</th><th scope=col>no3</th></tr>\n",
              "\t<tr><th scope=col>&lt;fct&gt;</th><th scope=col>&lt;dbl&gt;</th><th scope=col>&lt;dbl&gt;</th></tr>\n",
              "</thead>\n",
              "<tbody>\n",
              "\t<tr><td>(1.7,8.7]  </td><td>21.66401</td><td>17.99129</td></tr>\n",
              "\t<tr><td>(8.7,12.4] </td><td>20.38248</td><td>22.13004</td></tr>\n",
              "\t<tr><td>(12.4,16.7]</td><td>20.66160</td><td>24.35708</td></tr>\n",
              "\t<tr><td>(16.7,22.6]</td><td>19.88122</td><td>27.27132</td></tr>\n",
              "\t<tr><td>(22.6,61.5]</td><td>20.31775</td><td>29.64427</td></tr>\n",
              "\t<tr><td>NA         </td><td>18.79044</td><td>25.77585</td></tr>\n",
              "</tbody>\n",
              "</table>\n"
            ],
            "text/markdown": "\nA tibble: 6 × 3\n\n| pm25.quint &lt;fct&gt; | o3 &lt;dbl&gt; | no3 &lt;dbl&gt; |\n|---|---|---|\n| (1.7,8.7]   | 21.66401 | 17.99129 |\n| (8.7,12.4]  | 20.38248 | 22.13004 |\n| (12.4,16.7] | 20.66160 | 24.35708 |\n| (16.7,22.6] | 19.88122 | 27.27132 |\n| (22.6,61.5] | 20.31775 | 29.64427 |\n| NA          | 18.79044 | 25.77585 |\n\n",
            "text/latex": "A tibble: 6 × 3\n\\begin{tabular}{lll}\n pm25.quint & o3 & no3\\\\\n <fct> & <dbl> & <dbl>\\\\\n\\hline\n\t (1.7,8.7{]}   & 21.66401 & 17.99129\\\\\n\t (8.7,12.4{]}  & 20.38248 & 22.13004\\\\\n\t (12.4,16.7{]} & 20.66160 & 24.35708\\\\\n\t (16.7,22.6{]} & 19.88122 & 27.27132\\\\\n\t (22.6,61.5{]} & 20.31775 & 29.64427\\\\\n\t NA          & 18.79044 & 25.77585\\\\\n\\end{tabular}\n",
            "text/plain": [
              "  pm25.quint  o3       no3     \n",
              "1 (1.7,8.7]   21.66401 17.99129\n",
              "2 (8.7,12.4]  20.38248 22.13004\n",
              "3 (12.4,16.7] 20.66160 24.35708\n",
              "4 (16.7,22.6] 19.88122 27.27132\n",
              "5 (22.6,61.5] 20.31775 29.64427\n",
              "6 NA          18.79044 25.77585"
            ]
          },
          "metadata": {}
        }
      ]
    },
    {
      "cell_type": "code",
      "source": [
        "mutate(chicago, month = as.POSIXlt(date)$mon + 1) %>%\n",
        "  group_by(month) %>%\n",
        "  summarize(pm25 = mean(pm25, na.rm=TRUE),\n",
        "            o3 = max(o3tmean2, na.rm=TRUE),\n",
        "            no2 = median(no2tmean2, na.rm=TRUE))"
      ],
      "metadata": {
        "colab": {
          "base_uri": "https://localhost:8080/",
          "height": 474
        },
        "id": "Tvh6x_UqQnFY",
        "outputId": "e6d36de3-d63c-4be9-95c4-8a04a5b73ea6"
      },
      "execution_count": null,
      "outputs": [
        {
          "output_type": "display_data",
          "data": {
            "text/html": [
              "<table class=\"dataframe\">\n",
              "<caption>A tibble: 12 × 4</caption>\n",
              "<thead>\n",
              "\t<tr><th scope=col>month</th><th scope=col>pm25</th><th scope=col>o3</th><th scope=col>no2</th></tr>\n",
              "\t<tr><th scope=col>&lt;dbl&gt;</th><th scope=col>&lt;dbl&gt;</th><th scope=col>&lt;dbl&gt;</th><th scope=col>&lt;dbl&gt;</th></tr>\n",
              "</thead>\n",
              "<tbody>\n",
              "\t<tr><td> 1</td><td>17.76996</td><td>28.22222</td><td>25.35417</td></tr>\n",
              "\t<tr><td> 2</td><td>20.37513</td><td>37.37500</td><td>26.78034</td></tr>\n",
              "\t<tr><td> 3</td><td>17.40818</td><td>39.05000</td><td>26.76984</td></tr>\n",
              "\t<tr><td> 4</td><td>13.85879</td><td>47.94907</td><td>25.03125</td></tr>\n",
              "\t<tr><td> 5</td><td>14.07420</td><td>52.75000</td><td>24.22222</td></tr>\n",
              "\t<tr><td> 6</td><td>15.86461</td><td>66.58750</td><td>25.01140</td></tr>\n",
              "\t<tr><td> 7</td><td>16.57087</td><td>59.54167</td><td>22.38442</td></tr>\n",
              "\t<tr><td> 8</td><td>16.93380</td><td>53.96701</td><td>22.98333</td></tr>\n",
              "\t<tr><td> 9</td><td>15.91279</td><td>57.48864</td><td>24.47917</td></tr>\n",
              "\t<tr><td>10</td><td>14.23557</td><td>47.09275</td><td>24.15217</td></tr>\n",
              "\t<tr><td>11</td><td>15.15794</td><td>29.45833</td><td>23.56537</td></tr>\n",
              "\t<tr><td>12</td><td>17.52221</td><td>27.70833</td><td>24.45773</td></tr>\n",
              "</tbody>\n",
              "</table>\n"
            ],
            "text/markdown": "\nA tibble: 12 × 4\n\n| month &lt;dbl&gt; | pm25 &lt;dbl&gt; | o3 &lt;dbl&gt; | no2 &lt;dbl&gt; |\n|---|---|---|---|\n|  1 | 17.76996 | 28.22222 | 25.35417 |\n|  2 | 20.37513 | 37.37500 | 26.78034 |\n|  3 | 17.40818 | 39.05000 | 26.76984 |\n|  4 | 13.85879 | 47.94907 | 25.03125 |\n|  5 | 14.07420 | 52.75000 | 24.22222 |\n|  6 | 15.86461 | 66.58750 | 25.01140 |\n|  7 | 16.57087 | 59.54167 | 22.38442 |\n|  8 | 16.93380 | 53.96701 | 22.98333 |\n|  9 | 15.91279 | 57.48864 | 24.47917 |\n| 10 | 14.23557 | 47.09275 | 24.15217 |\n| 11 | 15.15794 | 29.45833 | 23.56537 |\n| 12 | 17.52221 | 27.70833 | 24.45773 |\n\n",
            "text/latex": "A tibble: 12 × 4\n\\begin{tabular}{llll}\n month & pm25 & o3 & no2\\\\\n <dbl> & <dbl> & <dbl> & <dbl>\\\\\n\\hline\n\t  1 & 17.76996 & 28.22222 & 25.35417\\\\\n\t  2 & 20.37513 & 37.37500 & 26.78034\\\\\n\t  3 & 17.40818 & 39.05000 & 26.76984\\\\\n\t  4 & 13.85879 & 47.94907 & 25.03125\\\\\n\t  5 & 14.07420 & 52.75000 & 24.22222\\\\\n\t  6 & 15.86461 & 66.58750 & 25.01140\\\\\n\t  7 & 16.57087 & 59.54167 & 22.38442\\\\\n\t  8 & 16.93380 & 53.96701 & 22.98333\\\\\n\t  9 & 15.91279 & 57.48864 & 24.47917\\\\\n\t 10 & 14.23557 & 47.09275 & 24.15217\\\\\n\t 11 & 15.15794 & 29.45833 & 23.56537\\\\\n\t 12 & 17.52221 & 27.70833 & 24.45773\\\\\n\\end{tabular}\n",
            "text/plain": [
              "   month pm25     o3       no2     \n",
              "1   1    17.76996 28.22222 25.35417\n",
              "2   2    20.37513 37.37500 26.78034\n",
              "3   3    17.40818 39.05000 26.76984\n",
              "4   4    13.85879 47.94907 25.03125\n",
              "5   5    14.07420 52.75000 24.22222\n",
              "6   6    15.86461 66.58750 25.01140\n",
              "7   7    16.57087 59.54167 22.38442\n",
              "8   8    16.93380 53.96701 22.98333\n",
              "9   9    15.91279 57.48864 24.47917\n",
              "10 10    14.23557 47.09275 24.15217\n",
              "11 11    15.15794 29.45833 23.56537\n",
              "12 12    17.52221 27.70833 24.45773"
            ]
          },
          "metadata": {}
        }
      ]
    },
    {
      "cell_type": "markdown",
      "source": [
        "#Control Structures"
      ],
      "metadata": {
        "id": "LMH2Tqw5cIZY"
      }
    },
    {
      "cell_type": "markdown",
      "source": [
        "##If-Else"
      ],
      "metadata": {
        "id": "AEXsTA5scsxj"
      }
    },
    {
      "cell_type": "code",
      "source": [
        "#generate a uniform random number\n",
        "\n",
        "x <- runif(1,0,10)\n",
        "if(x<3){\n",
        "  y <- 10\n",
        "}else{\n",
        "  y <-0\n",
        "}"
      ],
      "metadata": {
        "id": "bPHY8-zFRZnN"
      },
      "execution_count": null,
      "outputs": []
    },
    {
      "cell_type": "code",
      "source": [
        "x"
      ],
      "metadata": {
        "colab": {
          "base_uri": "https://localhost:8080/",
          "height": 34
        },
        "id": "c0g0rW0Hc9gA",
        "outputId": "6def28d2-5c1c-467e-83bb-75121f90dcea"
      },
      "execution_count": null,
      "outputs": [
        {
          "output_type": "display_data",
          "data": {
            "text/html": [
              "2.91619447059929"
            ],
            "text/markdown": "2.91619447059929",
            "text/latex": "2.91619447059929",
            "text/plain": [
              "[1] 2.916194"
            ]
          },
          "metadata": {}
        }
      ]
    },
    {
      "cell_type": "code",
      "source": [
        "y"
      ],
      "metadata": {
        "colab": {
          "base_uri": "https://localhost:8080/",
          "height": 34
        },
        "id": "FLmUxhric-mZ",
        "outputId": "88f945ff-5979-4df5-bb84-0103e3497fed"
      },
      "execution_count": null,
      "outputs": [
        {
          "output_type": "display_data",
          "data": {
            "text/html": [
              "10"
            ],
            "text/markdown": "10",
            "text/latex": "10",
            "text/plain": [
              "[1] 10"
            ]
          },
          "metadata": {}
        }
      ]
    },
    {
      "cell_type": "code",
      "source": [
        "y <- if(x > 3){\n",
        "  10\n",
        "}else{\n",
        "  0\n",
        "}"
      ],
      "metadata": {
        "id": "e4fsrvKZdA8b"
      },
      "execution_count": null,
      "outputs": []
    },
    {
      "cell_type": "markdown",
      "source": [
        "## for Loops"
      ],
      "metadata": {
        "id": "7Gy1ccITdbkT"
      }
    },
    {
      "cell_type": "code",
      "source": [
        "for( i in 1:10){\n",
        "  print(i)\n",
        "}"
      ],
      "metadata": {
        "colab": {
          "base_uri": "https://localhost:8080/"
        },
        "id": "LIETDILadJUG",
        "outputId": "2a59080a-cc11-436a-d6ac-fa928c0ec5f8"
      },
      "execution_count": null,
      "outputs": [
        {
          "output_type": "stream",
          "name": "stdout",
          "text": [
            "[1] 1\n",
            "[1] 2\n",
            "[1] 3\n",
            "[1] 4\n",
            "[1] 5\n",
            "[1] 6\n",
            "[1] 7\n",
            "[1] 8\n",
            "[1] 9\n",
            "[1] 10\n"
          ]
        }
      ]
    },
    {
      "cell_type": "code",
      "source": [
        "x  <- c(\"a\", \"b\", \"c\", \"d\")\n",
        "\n",
        "for(i in 1:4){\n",
        "  ##print out each element pf 'x'\n",
        "\n",
        "  print(x[i])\n",
        "}"
      ],
      "metadata": {
        "colab": {
          "base_uri": "https://localhost:8080/"
        },
        "id": "hMoQMGb1dqca",
        "outputId": "99fae990-5664-4391-9daf-31f0870a87ec"
      },
      "execution_count": null,
      "outputs": [
        {
          "output_type": "stream",
          "name": "stdout",
          "text": [
            "[1] \"a\"\n",
            "[1] \"b\"\n",
            "[1] \"c\"\n",
            "[1] \"d\"\n"
          ]
        }
      ]
    },
    {
      "cell_type": "code",
      "source": [
        "##generate the sequence based on length of 'x'\n",
        "\n",
        "for(i in seq_along(x)){\n",
        "  print(x[i])\n",
        "}"
      ],
      "metadata": {
        "colab": {
          "base_uri": "https://localhost:8080/"
        },
        "id": "whOZkgeqd_ST",
        "outputId": "8fb187cd-5523-4b9b-9884-4046d15b1db7"
      },
      "execution_count": null,
      "outputs": [
        {
          "output_type": "stream",
          "name": "stdout",
          "text": [
            "[1] \"a\"\n",
            "[1] \"b\"\n",
            "[1] \"c\"\n",
            "[1] \"d\"\n"
          ]
        }
      ]
    },
    {
      "cell_type": "code",
      "source": [
        "for(letter in x){\n",
        "  print(letter)\n",
        "}"
      ],
      "metadata": {
        "colab": {
          "base_uri": "https://localhost:8080/"
        },
        "id": "rJol1IZ8eNlo",
        "outputId": "a563e77c-1c9a-43ce-854a-3bc8ddc11fac"
      },
      "execution_count": null,
      "outputs": [
        {
          "output_type": "stream",
          "name": "stdout",
          "text": [
            "[1] \"a\"\n",
            "[1] \"b\"\n",
            "[1] \"c\"\n",
            "[1] \"d\"\n"
          ]
        }
      ]
    },
    {
      "cell_type": "code",
      "source": [
        "for(i in 1:4)print(x[i])"
      ],
      "metadata": {
        "colab": {
          "base_uri": "https://localhost:8080/"
        },
        "id": "OkDL0Nv3eVnx",
        "outputId": "cfd3e9bc-f71b-4c47-9640-3974dfcc7513"
      },
      "execution_count": null,
      "outputs": [
        {
          "output_type": "stream",
          "name": "stdout",
          "text": [
            "[1] \"a\"\n",
            "[1] \"b\"\n",
            "[1] \"c\"\n",
            "[1] \"d\"\n"
          ]
        }
      ]
    },
    {
      "cell_type": "markdown",
      "source": [
        "##Nested for loops"
      ],
      "metadata": {
        "id": "zx0ArJ64egUD"
      }
    },
    {
      "cell_type": "code",
      "source": [
        "x <- matrix(1:6, 2,3)\n",
        "\n",
        "for(i in seq_len(nrow(x))){\n",
        "  for(j in seq_len(ncol(x))){\n",
        "    print(x[i,j])\n",
        "  }\n",
        "}"
      ],
      "metadata": {
        "colab": {
          "base_uri": "https://localhost:8080/"
        },
        "id": "Ps7J-fScebDO",
        "outputId": "a788517c-d2aa-4453-cff3-c3d7117cf5d8"
      },
      "execution_count": null,
      "outputs": [
        {
          "output_type": "stream",
          "name": "stdout",
          "text": [
            "[1] 1\n",
            "[1] 3\n",
            "[1] 5\n",
            "[1] 2\n",
            "[1] 4\n",
            "[1] 6\n"
          ]
        }
      ]
    },
    {
      "cell_type": "markdown",
      "source": [
        "##while Loops"
      ],
      "metadata": {
        "id": "4Lybs_LefEil"
      }
    },
    {
      "cell_type": "code",
      "source": [
        "count <- 0\n",
        " while(count <100){\n",
        "  print(count)\n",
        "  count <- count+1\n",
        " }"
      ],
      "metadata": {
        "colab": {
          "base_uri": "https://localhost:8080/"
        },
        "id": "UEbaVRfnezez",
        "outputId": "4749f249-8867-4072-c9bc-9be24d3467ca"
      },
      "execution_count": null,
      "outputs": [
        {
          "output_type": "stream",
          "name": "stdout",
          "text": [
            "[1] 0\n",
            "[1] 1\n",
            "[1] 2\n",
            "[1] 3\n",
            "[1] 4\n",
            "[1] 5\n",
            "[1] 6\n",
            "[1] 7\n",
            "[1] 8\n",
            "[1] 9\n",
            "[1] 10\n",
            "[1] 11\n",
            "[1] 12\n",
            "[1] 13\n",
            "[1] 14\n",
            "[1] 15\n",
            "[1] 16\n",
            "[1] 17\n",
            "[1] 18\n",
            "[1] 19\n",
            "[1] 20\n",
            "[1] 21\n",
            "[1] 22\n",
            "[1] 23\n",
            "[1] 24\n",
            "[1] 25\n",
            "[1] 26\n",
            "[1] 27\n",
            "[1] 28\n",
            "[1] 29\n",
            "[1] 30\n",
            "[1] 31\n",
            "[1] 32\n",
            "[1] 33\n",
            "[1] 34\n",
            "[1] 35\n",
            "[1] 36\n",
            "[1] 37\n",
            "[1] 38\n",
            "[1] 39\n",
            "[1] 40\n",
            "[1] 41\n",
            "[1] 42\n",
            "[1] 43\n",
            "[1] 44\n",
            "[1] 45\n",
            "[1] 46\n",
            "[1] 47\n",
            "[1] 48\n",
            "[1] 49\n",
            "[1] 50\n",
            "[1] 51\n",
            "[1] 52\n",
            "[1] 53\n",
            "[1] 54\n",
            "[1] 55\n",
            "[1] 56\n",
            "[1] 57\n",
            "[1] 58\n",
            "[1] 59\n",
            "[1] 60\n",
            "[1] 61\n",
            "[1] 62\n",
            "[1] 63\n",
            "[1] 64\n",
            "[1] 65\n",
            "[1] 66\n",
            "[1] 67\n",
            "[1] 68\n",
            "[1] 69\n",
            "[1] 70\n",
            "[1] 71\n",
            "[1] 72\n",
            "[1] 73\n",
            "[1] 74\n",
            "[1] 75\n",
            "[1] 76\n",
            "[1] 77\n",
            "[1] 78\n",
            "[1] 79\n",
            "[1] 80\n",
            "[1] 81\n",
            "[1] 82\n",
            "[1] 83\n",
            "[1] 84\n",
            "[1] 85\n",
            "[1] 86\n",
            "[1] 87\n",
            "[1] 88\n",
            "[1] 89\n",
            "[1] 90\n",
            "[1] 91\n",
            "[1] 92\n",
            "[1] 93\n",
            "[1] 94\n",
            "[1] 95\n",
            "[1] 96\n",
            "[1] 97\n",
            "[1] 98\n",
            "[1] 99\n"
          ]
        }
      ]
    },
    {
      "cell_type": "code",
      "source": [
        "z <-5\n",
        "set.seed(1)\n",
        "\n",
        "while(z >=3 && z <=10){\n",
        "  coin <- rbinom(1,1,0.5)\n",
        "\n",
        "  if(coin == 1){\n",
        "    z <- z+1\n",
        "  }else{\n",
        "    z <- z-1\n",
        "  }\n",
        "}\n",
        "\n",
        "print(z)"
      ],
      "metadata": {
        "colab": {
          "base_uri": "https://localhost:8080/"
        },
        "id": "XAZ_l1QvfTCk",
        "outputId": "b66c20e9-7524-466c-c744-34e7d3282239"
      },
      "execution_count": null,
      "outputs": [
        {
          "output_type": "stream",
          "name": "stdout",
          "text": [
            "[1] 2\n"
          ]
        }
      ]
    },
    {
      "cell_type": "markdown",
      "source": [
        "#Functions"
      ],
      "metadata": {
        "id": "WHC1ZL8Igv7M"
      }
    },
    {
      "cell_type": "code",
      "source": [
        "f <- function(){\n",
        "  cat(\"Hello, world!\")\n",
        "}\n",
        "\n",
        "f()"
      ],
      "metadata": {
        "colab": {
          "base_uri": "https://localhost:8080/"
        },
        "id": "zn-QpchsfwgY",
        "outputId": "2fe3a559-6d46-4e17-bdea-f69f8acd291b"
      },
      "execution_count": null,
      "outputs": [
        {
          "output_type": "stream",
          "name": "stdout",
          "text": [
            "Hello, world!"
          ]
        }
      ]
    },
    {
      "cell_type": "code",
      "source": [
        "f <- function(num){\n",
        "  for(i in seq_len(num)){\n",
        "    cat(\"Hello, world!\\n\")\n",
        "  }\n",
        "}\n",
        "\n",
        "f(3)"
      ],
      "metadata": {
        "colab": {
          "base_uri": "https://localhost:8080/"
        },
        "id": "jSD9EzrpgSev",
        "outputId": "0977690d-c683-4a60-fab9-309ba9e65115"
      },
      "execution_count": null,
      "outputs": [
        {
          "output_type": "stream",
          "name": "stdout",
          "text": [
            "Hello, world!\n",
            "Hello, world!\n",
            "Hello, world!\n"
          ]
        }
      ]
    },
    {
      "cell_type": "code",
      "source": [
        "f <- function(num){\n",
        "  hello <- \"Hello, World! \\n\"\n",
        "  for(i in seq_len(num)){\n",
        "    cat(hello)\n",
        "  }\n",
        "  chars <- nchar(hello) * num\n",
        "  chars\n",
        "}\n",
        "meaningoflife <- f(3)\n",
        "\n",
        "print(meaningoflife)"
      ],
      "metadata": {
        "colab": {
          "base_uri": "https://localhost:8080/"
        },
        "id": "0iSxM8vYhvet",
        "outputId": "6bf0dec2-8dcc-461d-ab7b-871e4aab77e9"
      },
      "execution_count": null,
      "outputs": [
        {
          "output_type": "stream",
          "name": "stdout",
          "text": [
            "Hello, World! \n",
            "Hello, World! \n",
            "Hello, World! \n",
            "[1] 45\n"
          ]
        }
      ]
    },
    {
      "cell_type": "markdown",
      "source": [
        "##Argument Matching"
      ],
      "metadata": {
        "id": "cA-unBdljXU_"
      }
    },
    {
      "cell_type": "code",
      "source": [
        "str(rnorm)"
      ],
      "metadata": {
        "colab": {
          "base_uri": "https://localhost:8080/"
        },
        "id": "qdHFRt8BilNA",
        "outputId": "450607b5-fff4-4e5d-a3e9-f2497d10ba68"
      },
      "execution_count": null,
      "outputs": [
        {
          "output_type": "stream",
          "name": "stdout",
          "text": [
            "function (n, mean = 0, sd = 1)  \n"
          ]
        }
      ]
    },
    {
      "cell_type": "code",
      "source": [
        "##generate some data\n",
        "\n",
        "mydata <- rnorm(100, 2,1)"
      ],
      "metadata": {
        "id": "vLowQAyxjiWi"
      },
      "execution_count": null,
      "outputs": []
    },
    {
      "cell_type": "code",
      "source": [
        "sd(mydata)"
      ],
      "metadata": {
        "colab": {
          "base_uri": "https://localhost:8080/",
          "height": 34
        },
        "id": "3a3d7lQSjqt4",
        "outputId": "38dd89c7-fd75-4956-86d5-1d674543e46c"
      },
      "execution_count": null,
      "outputs": [
        {
          "output_type": "display_data",
          "data": {
            "text/html": [
              "0.965520168138302"
            ],
            "text/markdown": "0.965520168138302",
            "text/latex": "0.965520168138302",
            "text/plain": [
              "[1] 0.9655202"
            ]
          },
          "metadata": {}
        }
      ]
    },
    {
      "cell_type": "code",
      "source": [
        "sd(x=mydata)"
      ],
      "metadata": {
        "colab": {
          "base_uri": "https://localhost:8080/",
          "height": 34
        },
        "id": "nGa2YW5hj5dk",
        "outputId": "e03e653c-1f22-4ee5-def5-ed0757ac8f35"
      },
      "execution_count": null,
      "outputs": [
        {
          "output_type": "display_data",
          "data": {
            "text/html": [
              "0.965520168138302"
            ],
            "text/markdown": "0.965520168138302",
            "text/latex": "0.965520168138302",
            "text/plain": [
              "[1] 0.9655202"
            ]
          },
          "metadata": {}
        }
      ]
    },
    {
      "cell_type": "code",
      "source": [
        "sd(x=mydata, na.rm = FALSE)"
      ],
      "metadata": {
        "colab": {
          "base_uri": "https://localhost:8080/",
          "height": 34
        },
        "id": "vg9QYQIKj8hP",
        "outputId": "238735fa-e32f-43ac-f16c-39067f7b0968"
      },
      "execution_count": null,
      "outputs": [
        {
          "output_type": "display_data",
          "data": {
            "text/html": [
              "0.965520168138302"
            ],
            "text/markdown": "0.965520168138302",
            "text/latex": "0.965520168138302",
            "text/plain": [
              "[1] 0.9655202"
            ]
          },
          "metadata": {}
        }
      ]
    },
    {
      "cell_type": "code",
      "source": [
        "sd(na.rm = FALSE, x= mydata)"
      ],
      "metadata": {
        "colab": {
          "base_uri": "https://localhost:8080/",
          "height": 34
        },
        "id": "9n4mkGgvkCK2",
        "outputId": "7e9a5559-9edc-43e3-de79-093a79a06e16"
      },
      "execution_count": null,
      "outputs": [
        {
          "output_type": "display_data",
          "data": {
            "text/html": [
              "0.965520168138302"
            ],
            "text/markdown": "0.965520168138302",
            "text/latex": "0.965520168138302",
            "text/plain": [
              "[1] 0.9655202"
            ]
          },
          "metadata": {}
        }
      ]
    },
    {
      "cell_type": "code",
      "source": [
        "sd(na.rm = FALSE, mydata)"
      ],
      "metadata": {
        "colab": {
          "base_uri": "https://localhost:8080/",
          "height": 34
        },
        "id": "Gt39EHVLkLg9",
        "outputId": "d600935c-9b6d-4013-ec01-aa3cb853b5dc"
      },
      "execution_count": null,
      "outputs": [
        {
          "output_type": "display_data",
          "data": {
            "text/html": [
              "0.965520168138302"
            ],
            "text/markdown": "0.965520168138302",
            "text/latex": "0.965520168138302",
            "text/plain": [
              "[1] 0.9655202"
            ]
          },
          "metadata": {}
        }
      ]
    },
    {
      "cell_type": "code",
      "source": [
        "args(lm)"
      ],
      "metadata": {
        "colab": {
          "base_uri": "https://localhost:8080/",
          "height": 86
        },
        "id": "eMYM-o6OkUwB",
        "outputId": "f0decc2f-1415-471c-d2a9-753f1acaa8e2"
      },
      "execution_count": null,
      "outputs": [
        {
          "output_type": "display_data",
          "data": {
            "text/html": [
              "<pre class=language-r><code>function (formula, data, subset, weights, na.action, method = \"qr\", \n",
              "<span style=white-space:pre-wrap>    model = TRUE, x = FALSE, y = FALSE, qr = TRUE, singular.ok = TRUE, </span>\n",
              "<span style=white-space:pre-wrap>    contrasts = NULL, offset, ...) </span>\n",
              "NULL</code></pre>"
            ],
            "text/markdown": "```r\nfunction (formula, data, subset, weights, na.action, method = \"qr\", \n    model = TRUE, x = FALSE, y = FALSE, qr = TRUE, singular.ok = TRUE, \n    contrasts = NULL, offset, ...) \nNULL\n```",
            "text/latex": "\\begin{minted}{r}\nfunction (formula, data, subset, weights, na.action, method = \"qr\", \n    model = TRUE, x = FALSE, y = FALSE, qr = TRUE, singular.ok = TRUE, \n    contrasts = NULL, offset, ...) \nNULL\n\\end{minted}",
            "text/plain": [
              "function (formula, data, subset, weights, na.action, method = \"qr\", \n",
              "    model = TRUE, x = FALSE, y = FALSE, qr = TRUE, singular.ok = TRUE, \n",
              "    contrasts = NULL, offset, ...) \n",
              "NULL"
            ]
          },
          "metadata": {}
        }
      ]
    },
    {
      "cell_type": "code",
      "source": [
        "args(paste)"
      ],
      "metadata": {
        "colab": {
          "base_uri": "https://localhost:8080/",
          "height": 52
        },
        "id": "1Odk6BGakbeg",
        "outputId": "d7dc6970-6b68-4426-d836-32bbefa9aec2"
      },
      "execution_count": null,
      "outputs": [
        {
          "output_type": "display_data",
          "data": {
            "text/html": [
              "<pre class=language-r><code>function (..., sep = \" \", collapse = NULL, recycle0 = FALSE) \n",
              "NULL</code></pre>"
            ],
            "text/markdown": "```r\nfunction (..., sep = \" \", collapse = NULL, recycle0 = FALSE) \nNULL\n```",
            "text/latex": "\\begin{minted}{r}\nfunction (..., sep = \" \", collapse = NULL, recycle0 = FALSE) \nNULL\n\\end{minted}",
            "text/plain": [
              "function (..., sep = \" \", collapse = NULL, recycle0 = FALSE) \n",
              "NULL"
            ]
          },
          "metadata": {}
        }
      ]
    },
    {
      "cell_type": "code",
      "source": [
        "args(cat)"
      ],
      "metadata": {
        "colab": {
          "base_uri": "https://localhost:8080/",
          "height": 69
        },
        "id": "Itp6BVIrmXIZ",
        "outputId": "3f5057e7-68e8-4d07-e6e3-1c74caca0ee0"
      },
      "execution_count": null,
      "outputs": [
        {
          "output_type": "display_data",
          "data": {
            "text/html": [
              "<pre class=language-r><code>function (..., file = \"\", sep = \" \", fill = FALSE, labels = NULL, \n",
              "<span style=white-space:pre-wrap>    append = FALSE) </span>\n",
              "NULL</code></pre>"
            ],
            "text/markdown": "```r\nfunction (..., file = \"\", sep = \" \", fill = FALSE, labels = NULL, \n    append = FALSE) \nNULL\n```",
            "text/latex": "\\begin{minted}{r}\nfunction (..., file = \"\", sep = \" \", fill = FALSE, labels = NULL, \n    append = FALSE) \nNULL\n\\end{minted}",
            "text/plain": [
              "function (..., file = \"\", sep = \" \", fill = FALSE, labels = NULL, \n",
              "    append = FALSE) \n",
              "NULL"
            ]
          },
          "metadata": {}
        }
      ]
    },
    {
      "cell_type": "markdown",
      "source": [
        "#Scoping Rules in R"
      ],
      "metadata": {
        "id": "XXvSNeZ15F12"
      }
    },
    {
      "cell_type": "code",
      "source": [
        "lm <- function(x) {x*x}\n",
        "lm"
      ],
      "metadata": {
        "colab": {
          "base_uri": "https://localhost:8080/",
          "height": 86
        },
        "id": "L70v2kLrmYw7",
        "outputId": "32404e9c-ac52-4f52-9afa-aa62b6f6c166"
      },
      "execution_count": null,
      "outputs": [
        {
          "output_type": "display_data",
          "data": {
            "text/html": [
              "<pre class=language-r><code>function (x) \n",
              "{\n",
              "<span style=white-space:pre-wrap>    x * x</span>\n",
              "}</code></pre>"
            ],
            "text/markdown": "```r\nfunction (x) \n{\n    x * x\n}\n```",
            "text/latex": "\\begin{minted}{r}\nfunction (x) \n\\{\n    x * x\n\\}\n\\end{minted}",
            "text/plain": [
              "function (x) \n",
              "{\n",
              "    x * x\n",
              "}"
            ]
          },
          "metadata": {}
        }
      ]
    },
    {
      "cell_type": "code",
      "source": [
        "search()"
      ],
      "metadata": {
        "colab": {
          "base_uri": "https://localhost:8080/",
          "height": 52
        },
        "id": "lHhw7W455O8P",
        "outputId": "89d13897-774a-44af-ff9f-da70793990de"
      },
      "execution_count": null,
      "outputs": [
        {
          "output_type": "display_data",
          "data": {
            "text/html": [
              "<style>\n",
              ".list-inline {list-style: none; margin:0; padding: 0}\n",
              ".list-inline>li {display: inline-block}\n",
              ".list-inline>li:not(:last-child)::after {content: \"\\00b7\"; padding: 0 .5ex}\n",
              "</style>\n",
              "<ol class=list-inline><li>'.GlobalEnv'</li><li>'jupyter:irkernel'</li><li>'package:stats'</li><li>'package:graphics'</li><li>'package:grDevices'</li><li>'package:utils'</li><li>'package:datasets'</li><li>'package:methods'</li><li>'Autoloads'</li><li>'package:base'</li></ol>\n"
            ],
            "text/markdown": "1. '.GlobalEnv'\n2. 'jupyter:irkernel'\n3. 'package:stats'\n4. 'package:graphics'\n5. 'package:grDevices'\n6. 'package:utils'\n7. 'package:datasets'\n8. 'package:methods'\n9. 'Autoloads'\n10. 'package:base'\n\n\n",
            "text/latex": "\\begin{enumerate*}\n\\item '.GlobalEnv'\n\\item 'jupyter:irkernel'\n\\item 'package:stats'\n\\item 'package:graphics'\n\\item 'package:grDevices'\n\\item 'package:utils'\n\\item 'package:datasets'\n\\item 'package:methods'\n\\item 'Autoloads'\n\\item 'package:base'\n\\end{enumerate*}\n",
            "text/plain": [
              " [1] \".GlobalEnv\"        \"jupyter:irkernel\"  \"package:stats\"    \n",
              " [4] \"package:graphics\"  \"package:grDevices\" \"package:utils\"    \n",
              " [7] \"package:datasets\"  \"package:methods\"   \"Autoloads\"        \n",
              "[10] \"package:base\"     "
            ]
          },
          "metadata": {}
        }
      ]
    },
    {
      "cell_type": "markdown",
      "source": [
        "##Lexical Scoping"
      ],
      "metadata": {
        "id": "KwKKEWhV6yHN"
      }
    },
    {
      "cell_type": "code",
      "source": [
        "make.power <- function(n){\n",
        "  pow <- function(x){\n",
        "    x^n\n",
        "  }\n",
        "  pow\n",
        "}"
      ],
      "metadata": {
        "id": "tNnK5QFi5brM"
      },
      "execution_count": null,
      "outputs": []
    },
    {
      "cell_type": "code",
      "source": [
        "cube <- make.power(3)\n",
        "square <- make.power(2)"
      ],
      "metadata": {
        "id": "Ar83EF4q6-0x"
      },
      "execution_count": null,
      "outputs": []
    },
    {
      "cell_type": "code",
      "source": [
        "cube(3)"
      ],
      "metadata": {
        "colab": {
          "base_uri": "https://localhost:8080/",
          "height": 34
        },
        "id": "LmQQbT-j7GG_",
        "outputId": "901cacec-acb4-4e7c-d3db-557fcd247543"
      },
      "execution_count": null,
      "outputs": [
        {
          "output_type": "display_data",
          "data": {
            "text/html": [
              "27"
            ],
            "text/markdown": "27",
            "text/latex": "27",
            "text/plain": [
              "[1] 27"
            ]
          },
          "metadata": {}
        }
      ]
    },
    {
      "cell_type": "code",
      "source": [
        "square(2)"
      ],
      "metadata": {
        "colab": {
          "base_uri": "https://localhost:8080/",
          "height": 34
        },
        "id": "MtuzTW8H7HFo",
        "outputId": "c31aadcb-5b83-4324-d637-83e83671925b"
      },
      "execution_count": null,
      "outputs": [
        {
          "output_type": "display_data",
          "data": {
            "text/html": [
              "4"
            ],
            "text/markdown": "4",
            "text/latex": "4",
            "text/plain": [
              "[1] 4"
            ]
          },
          "metadata": {}
        }
      ]
    },
    {
      "cell_type": "code",
      "source": [
        "ls(environment(cube))"
      ],
      "metadata": {
        "colab": {
          "base_uri": "https://localhost:8080/",
          "height": 34
        },
        "id": "66MPvCoT7Kne",
        "outputId": "fb7e73bb-4a23-4a6f-dc86-5617b40e8d6f"
      },
      "execution_count": null,
      "outputs": [
        {
          "output_type": "display_data",
          "data": {
            "text/html": [
              "<style>\n",
              ".list-inline {list-style: none; margin:0; padding: 0}\n",
              ".list-inline>li {display: inline-block}\n",
              ".list-inline>li:not(:last-child)::after {content: \"\\00b7\"; padding: 0 .5ex}\n",
              "</style>\n",
              "<ol class=list-inline><li>'n'</li><li>'pow'</li></ol>\n"
            ],
            "text/markdown": "1. 'n'\n2. 'pow'\n\n\n",
            "text/latex": "\\begin{enumerate*}\n\\item 'n'\n\\item 'pow'\n\\end{enumerate*}\n",
            "text/plain": [
              "[1] \"n\"   \"pow\""
            ]
          },
          "metadata": {}
        }
      ]
    },
    {
      "cell_type": "code",
      "source": [
        "get(\"n\", environment(square))"
      ],
      "metadata": {
        "colab": {
          "base_uri": "https://localhost:8080/",
          "height": 34
        },
        "id": "KhvdD5yH7Xnm",
        "outputId": "b9e470fe-e911-4f25-9024-64d522bbb970"
      },
      "execution_count": null,
      "outputs": [
        {
          "output_type": "display_data",
          "data": {
            "text/html": [
              "2"
            ],
            "text/markdown": "2",
            "text/latex": "2",
            "text/plain": [
              "[1] 2"
            ]
          },
          "metadata": {}
        }
      ]
    },
    {
      "cell_type": "code",
      "source": [
        "ls(environment(square))"
      ],
      "metadata": {
        "colab": {
          "base_uri": "https://localhost:8080/",
          "height": 34
        },
        "id": "H-18gMO17brw",
        "outputId": "f15b98a3-639c-4527-c8d2-5e4502cad619"
      },
      "execution_count": null,
      "outputs": [
        {
          "output_type": "display_data",
          "data": {
            "text/html": [
              "<style>\n",
              ".list-inline {list-style: none; margin:0; padding: 0}\n",
              ".list-inline>li {display: inline-block}\n",
              ".list-inline>li:not(:last-child)::after {content: \"\\00b7\"; padding: 0 .5ex}\n",
              "</style>\n",
              "<ol class=list-inline><li>'n'</li><li>'pow'</li></ol>\n"
            ],
            "text/markdown": "1. 'n'\n2. 'pow'\n\n\n",
            "text/latex": "\\begin{enumerate*}\n\\item 'n'\n\\item 'pow'\n\\end{enumerate*}\n",
            "text/plain": [
              "[1] \"n\"   \"pow\""
            ]
          },
          "metadata": {}
        }
      ]
    },
    {
      "cell_type": "code",
      "source": [
        "get(\"n\", environment(square))"
      ],
      "metadata": {
        "colab": {
          "base_uri": "https://localhost:8080/",
          "height": 34
        },
        "id": "tbsSvwSu7f9p",
        "outputId": "5f175993-0ef7-4516-e6e9-b2c44231ae4f"
      },
      "execution_count": null,
      "outputs": [
        {
          "output_type": "display_data",
          "data": {
            "text/html": [
              "2"
            ],
            "text/markdown": "2",
            "text/latex": "2",
            "text/plain": [
              "[1] 2"
            ]
          },
          "metadata": {}
        }
      ]
    },
    {
      "cell_type": "markdown",
      "source": [
        "##Lexical and Dynamic scoping"
      ],
      "metadata": {
        "id": "PznHSvMs7l3h"
      }
    },
    {
      "cell_type": "code",
      "source": [
        "y <- 10\n",
        "\n",
        "f <- function(x){\n",
        "  y <-2\n",
        "  y^2 + g(x)\n",
        "}\n",
        "\n",
        "g <- function(x){\n",
        "  x*y\n",
        "}"
      ],
      "metadata": {
        "id": "zDhTm0ra7jli"
      },
      "execution_count": null,
      "outputs": []
    },
    {
      "cell_type": "code",
      "source": [
        "f(3)"
      ],
      "metadata": {
        "colab": {
          "base_uri": "https://localhost:8080/",
          "height": 34
        },
        "id": "st4VyoIN748t",
        "outputId": "65b0b4cc-ed45-4127-fb9c-32b167f062e2"
      },
      "execution_count": null,
      "outputs": [
        {
          "output_type": "display_data",
          "data": {
            "text/html": [
              "34"
            ],
            "text/markdown": "34",
            "text/latex": "34",
            "text/plain": [
              "[1] 34"
            ]
          },
          "metadata": {}
        }
      ]
    },
    {
      "cell_type": "code",
      "source": [
        "##find maximum likelihood estimates\n",
        "\n",
        "make.NegLik <- function(data, fixed =c(FALSE, FALSE)){\n",
        "  params <- fixed\n",
        "  function(p){\n",
        "    params[!fixed] <-p\n",
        "    mu <- parmas[1]\n",
        "    sigma <- params[2]\n",
        "\n",
        "    #Calculate the Normal density\n",
        "    a <- -0.5*length(data)*log(2*pi*sigma^2)\n",
        "    b <- -0.5*sum((data-mu)^2) / (sigma^2)\n",
        "     -(a+b)\n",
        "  }\n",
        "}"
      ],
      "metadata": {
        "id": "1IT41wZ077DU"
      },
      "execution_count": null,
      "outputs": []
    },
    {
      "cell_type": "code",
      "source": [
        "set.seed(1)\n",
        "normals <- rnorm(100, 1,2)\n",
        "nLL <- make.NegLik(normals)\n",
        "nLL"
      ],
      "metadata": {
        "colab": {
          "base_uri": "https://localhost:8080/",
          "height": 173
        },
        "id": "mt-15kxx9pXd",
        "outputId": "7e5f56bd-8376-4ba8-c936-ba521a1077c5"
      },
      "execution_count": null,
      "outputs": [
        {
          "output_type": "display_data",
          "data": {
            "text/html": [
              "<pre class=language-r><code>function (p) \n",
              "{\n",
              "<span style=white-space:pre-wrap>    params[!fixed] &lt;- p</span>\n",
              "<span style=white-space:pre-wrap>    mu &lt;- parmas[1]</span>\n",
              "<span style=white-space:pre-wrap>    sigma &lt;- params[2]</span>\n",
              "<span style=white-space:pre-wrap>    a &lt;- -0.5 * length(data) * log(2 * pi * sigma^2)</span>\n",
              "<span style=white-space:pre-wrap>    b &lt;- -0.5 * sum((data - mu)^2)/(sigma^2)</span>\n",
              "<span style=white-space:pre-wrap>    -(a + b)</span>\n",
              "}</code></pre>"
            ],
            "text/markdown": "```r\nfunction (p) \n{\n    params[!fixed] <- p\n    mu <- parmas[1]\n    sigma <- params[2]\n    a <- -0.5 * length(data) * log(2 * pi * sigma^2)\n    b <- -0.5 * sum((data - mu)^2)/(sigma^2)\n    -(a + b)\n}\n```",
            "text/latex": "\\begin{minted}{r}\nfunction (p) \n\\{\n    params{[}!fixed{]} <- p\n    mu <- parmas{[}1{]}\n    sigma <- params{[}2{]}\n    a <- -0.5 * length(data) * log(2 * pi * sigma\\textasciicircum{}2)\n    b <- -0.5 * sum((data - mu)\\textasciicircum{}2)/(sigma\\textasciicircum{}2)\n    -(a + b)\n\\}\n\\end{minted}",
            "text/plain": [
              "function (p) \n",
              "{\n",
              "    params[!fixed] <- p\n",
              "    mu <- parmas[1]\n",
              "    sigma <- params[2]\n",
              "    a <- -0.5 * length(data) * log(2 * pi * sigma^2)\n",
              "    b <- -0.5 * sum((data - mu)^2)/(sigma^2)\n",
              "    -(a + b)\n",
              "}\n",
              "<bytecode: 0x558edc177d98>\n",
              "<environment: 0x558edbbf8ec8>"
            ]
          },
          "metadata": {}
        }
      ]
    },
    {
      "cell_type": "code",
      "source": [
        "ls(environment(nLL))"
      ],
      "metadata": {
        "colab": {
          "base_uri": "https://localhost:8080/",
          "height": 34
        },
        "id": "k_HcQzPz94i9",
        "outputId": "1bb29e2a-5c1e-4326-8d89-0d0eefae5c18"
      },
      "execution_count": null,
      "outputs": [
        {
          "output_type": "display_data",
          "data": {
            "text/html": [
              "<style>\n",
              ".list-inline {list-style: none; margin:0; padding: 0}\n",
              ".list-inline>li {display: inline-block}\n",
              ".list-inline>li:not(:last-child)::after {content: \"\\00b7\"; padding: 0 .5ex}\n",
              "</style>\n",
              "<ol class=list-inline><li>'data'</li><li>'fixed'</li><li>'params'</li></ol>\n"
            ],
            "text/markdown": "1. 'data'\n2. 'fixed'\n3. 'params'\n\n\n",
            "text/latex": "\\begin{enumerate*}\n\\item 'data'\n\\item 'fixed'\n\\item 'params'\n\\end{enumerate*}\n",
            "text/plain": [
              "[1] \"data\"   \"fixed\"  \"params\""
            ]
          },
          "metadata": {}
        }
      ]
    },
    {
      "cell_type": "code",
      "source": [
        "nLL <- make.NegLogLik(normals, c(FALSE, 2))\n",
        "optimize(nLL, c(-1, 3))$minimum"
      ],
      "metadata": {
        "colab": {
          "base_uri": "https://localhost:8080/",
          "height": 89
        },
        "id": "jxHn4MVK98iX",
        "outputId": "04f5e611-343c-4b08-e118-a41e80221107"
      },
      "execution_count": null,
      "outputs": [
        {
          "output_type": "error",
          "ename": "ERROR",
          "evalue": "Error in make.NegLogLik(normals, c(FALSE, 2)): could not find function \"make.NegLogLik\"\n",
          "traceback": [
            "Error in make.NegLogLik(normals, c(FALSE, 2)): could not find function \"make.NegLogLik\"\nTraceback:\n"
          ]
        }
      ]
    },
    {
      "cell_type": "markdown",
      "source": [
        "#Loop Fuctions"
      ],
      "metadata": {
        "id": "yz4UcQKNcgK4"
      }
    },
    {
      "cell_type": "markdown",
      "source": [
        "- lapply(): Loop over a list and evaluate a function on each element\n",
        "- sapply(): Same as lapply but try to simplify the result\n",
        "- apply(): Apply a function over the margins of an array\n",
        "- tapply(): Apply a function over subsets of a vector\n",
        "- mapply(): Multivariate version of lapply"
      ],
      "metadata": {
        "id": "t4uXSfticxJp"
      }
    },
    {
      "cell_type": "markdown",
      "source": [
        "###lapply()"
      ],
      "metadata": {
        "id": "_j6WFCE6dhr3"
      }
    },
    {
      "cell_type": "code",
      "source": [
        "x <- list(a = 1:5, b=rnorm(10))\n",
        "lapply(x, mean)"
      ],
      "metadata": {
        "id": "Xabn4TfR-FnV",
        "colab": {
          "base_uri": "https://localhost:8080/",
          "height": 114
        },
        "outputId": "40f79a8d-c2c3-4579-ef5f-6a78fa1efb96"
      },
      "execution_count": 1,
      "outputs": [
        {
          "output_type": "display_data",
          "data": {
            "text/html": [
              "<dl>\n",
              "\t<dt>$a</dt>\n",
              "\t\t<dd>3</dd>\n",
              "\t<dt>$b</dt>\n",
              "\t\t<dd>-0.326141414113289</dd>\n",
              "</dl>\n"
            ],
            "text/markdown": "$a\n:   3\n$b\n:   -0.326141414113289\n\n\n",
            "text/latex": "\\begin{description}\n\\item[\\$a] 3\n\\item[\\$b] -0.326141414113289\n\\end{description}\n",
            "text/plain": [
              "$a\n",
              "[1] 3\n",
              "\n",
              "$b\n",
              "[1] -0.3261414\n"
            ]
          },
          "metadata": {}
        }
      ]
    },
    {
      "cell_type": "code",
      "source": [
        "x <- list(a = 1:4, b = rnorm(10), c = rnorm(20,1), d = rnorm(100,5))\n",
        "lapply(x, mean)"
      ],
      "metadata": {
        "colab": {
          "base_uri": "https://localhost:8080/",
          "height": 184
        },
        "id": "Be3UU1cdddiU",
        "outputId": "428d4cee-fec6-4486-eed8-27cc8a08ac7f"
      },
      "execution_count": 2,
      "outputs": [
        {
          "output_type": "display_data",
          "data": {
            "text/html": [
              "<dl>\n",
              "\t<dt>$a</dt>\n",
              "\t\t<dd>2.5</dd>\n",
              "\t<dt>$b</dt>\n",
              "\t\t<dd>0.362303886949397</dd>\n",
              "\t<dt>$c</dt>\n",
              "\t\t<dd>1.0938818708762</dd>\n",
              "\t<dt>$d</dt>\n",
              "\t\t<dd>5.17251555676236</dd>\n",
              "</dl>\n"
            ],
            "text/markdown": "$a\n:   2.5\n$b\n:   0.362303886949397\n$c\n:   1.0938818708762\n$d\n:   5.17251555676236\n\n\n",
            "text/latex": "\\begin{description}\n\\item[\\$a] 2.5\n\\item[\\$b] 0.362303886949397\n\\item[\\$c] 1.0938818708762\n\\item[\\$d] 5.17251555676236\n\\end{description}\n",
            "text/plain": [
              "$a\n",
              "[1] 2.5\n",
              "\n",
              "$b\n",
              "[1] 0.3623039\n",
              "\n",
              "$c\n",
              "[1] 1.093882\n",
              "\n",
              "$d\n",
              "[1] 5.172516\n"
            ]
          },
          "metadata": {}
        }
      ]
    },
    {
      "cell_type": "code",
      "source": [
        "x <- 1:4\n",
        "lapply(x, runif)"
      ],
      "metadata": {
        "colab": {
          "base_uri": "https://localhost:8080/",
          "height": 114
        },
        "id": "d20Vgg7Wd5PX",
        "outputId": "7ce6d679-aa37-4597-bb3d-83eaf3132ef9"
      },
      "execution_count": 3,
      "outputs": [
        {
          "output_type": "display_data",
          "data": {
            "text/html": [
              "<ol>\n",
              "\t<li>0.989434334216639</li>\n",
              "\t<li><style>\n",
              ".list-inline {list-style: none; margin:0; padding: 0}\n",
              ".list-inline>li {display: inline-block}\n",
              ".list-inline>li:not(:last-child)::after {content: \"\\00b7\"; padding: 0 .5ex}\n",
              "</style>\n",
              "<ol class=list-inline><li>0.317795172566548</li><li>0.974723182618618</li></ol>\n",
              "</li>\n",
              "\t<li><style>\n",
              ".list-inline {list-style: none; margin:0; padding: 0}\n",
              ".list-inline>li {display: inline-block}\n",
              ".list-inline>li:not(:last-child)::after {content: \"\\00b7\"; padding: 0 .5ex}\n",
              "</style>\n",
              "<ol class=list-inline><li>0.395227496977895</li><li>0.869361019460484</li><li>0.260780359618366</li></ol>\n",
              "</li>\n",
              "\t<li><style>\n",
              ".list-inline {list-style: none; margin:0; padding: 0}\n",
              ".list-inline>li {display: inline-block}\n",
              ".list-inline>li:not(:last-child)::after {content: \"\\00b7\"; padding: 0 .5ex}\n",
              "</style>\n",
              "<ol class=list-inline><li>0.67751736426726</li><li>0.538523201132193</li><li>0.143582686083391</li><li>0.0959690988529474</li></ol>\n",
              "</li>\n",
              "</ol>\n"
            ],
            "text/markdown": "1. 0.989434334216639\n2. 1. 0.317795172566548\n2. 0.974723182618618\n\n\n\n3. 1. 0.395227496977895\n2. 0.869361019460484\n3. 0.260780359618366\n\n\n\n4. 1. 0.67751736426726\n2. 0.538523201132193\n3. 0.143582686083391\n4. 0.0959690988529474\n\n\n\n\n\n",
            "text/latex": "\\begin{enumerate}\n\\item 0.989434334216639\n\\item \\begin{enumerate*}\n\\item 0.317795172566548\n\\item 0.974723182618618\n\\end{enumerate*}\n\n\\item \\begin{enumerate*}\n\\item 0.395227496977895\n\\item 0.869361019460484\n\\item 0.260780359618366\n\\end{enumerate*}\n\n\\item \\begin{enumerate*}\n\\item 0.67751736426726\n\\item 0.538523201132193\n\\item 0.143582686083391\n\\item 0.0959690988529474\n\\end{enumerate*}\n\n\\end{enumerate}\n",
            "text/plain": [
              "[[1]]\n",
              "[1] 0.9894343\n",
              "\n",
              "[[2]]\n",
              "[1] 0.3177952 0.9747232\n",
              "\n",
              "[[3]]\n",
              "[1] 0.3952275 0.8693610 0.2607804\n",
              "\n",
              "[[4]]\n",
              "[1] 0.6775174 0.5385232 0.1435827 0.0959691\n"
            ]
          },
          "metadata": {}
        }
      ]
    },
    {
      "cell_type": "code",
      "source": [
        "x <- 1:4\n",
        "lapply(x, runif, min=0, max=10)"
      ],
      "metadata": {
        "colab": {
          "base_uri": "https://localhost:8080/",
          "height": 114
        },
        "id": "w9fj1R1feDoA",
        "outputId": "d787b2cf-3d31-4244-aa1e-3a457e9eacdd"
      },
      "execution_count": 4,
      "outputs": [
        {
          "output_type": "display_data",
          "data": {
            "text/html": [
              "<ol>\n",
              "\t<li>9.80970204574987</li>\n",
              "\t<li><style>\n",
              ".list-inline {list-style: none; margin:0; padding: 0}\n",
              ".list-inline>li {display: inline-block}\n",
              ".list-inline>li:not(:last-child)::after {content: \"\\00b7\"; padding: 0 .5ex}\n",
              "</style>\n",
              "<ol class=list-inline><li>4.21142374165356</li><li>6.41784337582067</li></ol>\n",
              "</li>\n",
              "\t<li><style>\n",
              ".list-inline {list-style: none; margin:0; padding: 0}\n",
              ".list-inline>li {display: inline-block}\n",
              ".list-inline>li:not(:last-child)::after {content: \"\\00b7\"; padding: 0 .5ex}\n",
              "</style>\n",
              "<ol class=list-inline><li>9.61914103943855</li><li>5.64334998140112</li><li>7.46367731364444</li></ol>\n",
              "</li>\n",
              "\t<li><style>\n",
              ".list-inline {list-style: none; margin:0; padding: 0}\n",
              ".list-inline>li {display: inline-block}\n",
              ".list-inline>li:not(:last-child)::after {content: \"\\00b7\"; padding: 0 .5ex}\n",
              "</style>\n",
              "<ol class=list-inline><li>2.9893931094557</li><li>8.65846863249317</li><li>4.5311773288995</li><li>6.31224466254935</li></ol>\n",
              "</li>\n",
              "</ol>\n"
            ],
            "text/markdown": "1. 9.80970204574987\n2. 1. 4.21142374165356\n2. 6.41784337582067\n\n\n\n3. 1. 9.61914103943855\n2. 5.64334998140112\n3. 7.46367731364444\n\n\n\n4. 1. 2.9893931094557\n2. 8.65846863249317\n3. 4.5311773288995\n4. 6.31224466254935\n\n\n\n\n\n",
            "text/latex": "\\begin{enumerate}\n\\item 9.80970204574987\n\\item \\begin{enumerate*}\n\\item 4.21142374165356\n\\item 6.41784337582067\n\\end{enumerate*}\n\n\\item \\begin{enumerate*}\n\\item 9.61914103943855\n\\item 5.64334998140112\n\\item 7.46367731364444\n\\end{enumerate*}\n\n\\item \\begin{enumerate*}\n\\item 2.9893931094557\n\\item 8.65846863249317\n\\item 4.5311773288995\n\\item 6.31224466254935\n\\end{enumerate*}\n\n\\end{enumerate}\n",
            "text/plain": [
              "[[1]]\n",
              "[1] 9.809702\n",
              "\n",
              "[[2]]\n",
              "[1] 4.211424 6.417843\n",
              "\n",
              "[[3]]\n",
              "[1] 9.619141 5.643350 7.463677\n",
              "\n",
              "[[4]]\n",
              "[1] 2.989393 8.658469 4.531177 6.312245\n"
            ]
          },
          "metadata": {}
        }
      ]
    },
    {
      "cell_type": "code",
      "source": [
        "x <- list(a=matrix(1:4, 2, 2), b=matrix(1:6, 3, 2))\n",
        "x"
      ],
      "metadata": {
        "colab": {
          "base_uri": "https://localhost:8080/",
          "height": 410
        },
        "id": "IojHmXt0eYgV",
        "outputId": "2a4fe210-b507-4a43-8ae5-60f1d53f8055"
      },
      "execution_count": 5,
      "outputs": [
        {
          "output_type": "display_data",
          "data": {
            "text/html": [
              "<dl>\n",
              "\t<dt>$a</dt>\n",
              "\t\t<dd><table class=\"dataframe\">\n",
              "<caption>A matrix: 2 × 2 of type int</caption>\n",
              "<tbody>\n",
              "\t<tr><td>1</td><td>3</td></tr>\n",
              "\t<tr><td>2</td><td>4</td></tr>\n",
              "</tbody>\n",
              "</table>\n",
              "</dd>\n",
              "\t<dt>$b</dt>\n",
              "\t\t<dd><table class=\"dataframe\">\n",
              "<caption>A matrix: 3 × 2 of type int</caption>\n",
              "<tbody>\n",
              "\t<tr><td>1</td><td>4</td></tr>\n",
              "\t<tr><td>2</td><td>5</td></tr>\n",
              "\t<tr><td>3</td><td>6</td></tr>\n",
              "</tbody>\n",
              "</table>\n",
              "</dd>\n",
              "</dl>\n"
            ],
            "text/markdown": "$a\n:   \nA matrix: 2 × 2 of type int\n\n| 1 | 3 |\n| 2 | 4 |\n\n\n$b\n:   \nA matrix: 3 × 2 of type int\n\n| 1 | 4 |\n| 2 | 5 |\n| 3 | 6 |\n\n\n\n\n",
            "text/latex": "\\begin{description}\n\\item[\\$a] A matrix: 2 × 2 of type int\n\\begin{tabular}{ll}\n\t 1 & 3\\\\\n\t 2 & 4\\\\\n\\end{tabular}\n\n\\item[\\$b] A matrix: 3 × 2 of type int\n\\begin{tabular}{ll}\n\t 1 & 4\\\\\n\t 2 & 5\\\\\n\t 3 & 6\\\\\n\\end{tabular}\n\n\\end{description}\n",
            "text/plain": [
              "$a\n",
              "     [,1] [,2]\n",
              "[1,]    1    3\n",
              "[2,]    2    4\n",
              "\n",
              "$b\n",
              "     [,1] [,2]\n",
              "[1,]    1    4\n",
              "[2,]    2    5\n",
              "[3,]    3    6\n"
            ]
          },
          "metadata": {}
        }
      ]
    },
    {
      "cell_type": "code",
      "source": [
        "lapply(x, function(elt){ elt[,1]})"
      ],
      "metadata": {
        "colab": {
          "base_uri": "https://localhost:8080/",
          "height": 114
        },
        "id": "L2u2f_PWeoRp",
        "outputId": "acab51d3-2975-4cfb-95c9-76a5db672cd3"
      },
      "execution_count": 6,
      "outputs": [
        {
          "output_type": "display_data",
          "data": {
            "text/html": [
              "<dl>\n",
              "\t<dt>$a</dt>\n",
              "\t\t<dd><style>\n",
              ".list-inline {list-style: none; margin:0; padding: 0}\n",
              ".list-inline>li {display: inline-block}\n",
              ".list-inline>li:not(:last-child)::after {content: \"\\00b7\"; padding: 0 .5ex}\n",
              "</style>\n",
              "<ol class=list-inline><li>1</li><li>2</li></ol>\n",
              "</dd>\n",
              "\t<dt>$b</dt>\n",
              "\t\t<dd><style>\n",
              ".list-inline {list-style: none; margin:0; padding: 0}\n",
              ".list-inline>li {display: inline-block}\n",
              ".list-inline>li:not(:last-child)::after {content: \"\\00b7\"; padding: 0 .5ex}\n",
              "</style>\n",
              "<ol class=list-inline><li>1</li><li>2</li><li>3</li></ol>\n",
              "</dd>\n",
              "</dl>\n"
            ],
            "text/markdown": "$a\n:   1. 1\n2. 2\n\n\n\n$b\n:   1. 1\n2. 2\n3. 3\n\n\n\n\n\n",
            "text/latex": "\\begin{description}\n\\item[\\$a] \\begin{enumerate*}\n\\item 1\n\\item 2\n\\end{enumerate*}\n\n\\item[\\$b] \\begin{enumerate*}\n\\item 1\n\\item 2\n\\item 3\n\\end{enumerate*}\n\n\\end{description}\n",
            "text/plain": [
              "$a\n",
              "[1] 1 2\n",
              "\n",
              "$b\n",
              "[1] 1 2 3\n"
            ]
          },
          "metadata": {}
        }
      ]
    },
    {
      "cell_type": "code",
      "source": [
        "f <- function(elt){\n",
        "  elt[,1]\n",
        "}\n",
        "\n",
        "lapply(x,f)"
      ],
      "metadata": {
        "colab": {
          "base_uri": "https://localhost:8080/",
          "height": 114
        },
        "id": "__DaJxiXey_E",
        "outputId": "36d63710-5f7a-41ee-9d64-f1ed2684d53f"
      },
      "execution_count": 7,
      "outputs": [
        {
          "output_type": "display_data",
          "data": {
            "text/html": [
              "<dl>\n",
              "\t<dt>$a</dt>\n",
              "\t\t<dd><style>\n",
              ".list-inline {list-style: none; margin:0; padding: 0}\n",
              ".list-inline>li {display: inline-block}\n",
              ".list-inline>li:not(:last-child)::after {content: \"\\00b7\"; padding: 0 .5ex}\n",
              "</style>\n",
              "<ol class=list-inline><li>1</li><li>2</li></ol>\n",
              "</dd>\n",
              "\t<dt>$b</dt>\n",
              "\t\t<dd><style>\n",
              ".list-inline {list-style: none; margin:0; padding: 0}\n",
              ".list-inline>li {display: inline-block}\n",
              ".list-inline>li:not(:last-child)::after {content: \"\\00b7\"; padding: 0 .5ex}\n",
              "</style>\n",
              "<ol class=list-inline><li>1</li><li>2</li><li>3</li></ol>\n",
              "</dd>\n",
              "</dl>\n"
            ],
            "text/markdown": "$a\n:   1. 1\n2. 2\n\n\n\n$b\n:   1. 1\n2. 2\n3. 3\n\n\n\n\n\n",
            "text/latex": "\\begin{description}\n\\item[\\$a] \\begin{enumerate*}\n\\item 1\n\\item 2\n\\end{enumerate*}\n\n\\item[\\$b] \\begin{enumerate*}\n\\item 1\n\\item 2\n\\item 3\n\\end{enumerate*}\n\n\\end{description}\n",
            "text/plain": [
              "$a\n",
              "[1] 1 2\n",
              "\n",
              "$b\n",
              "[1] 1 2 3\n"
            ]
          },
          "metadata": {}
        }
      ]
    },
    {
      "cell_type": "markdown",
      "source": [
        "###sapply()"
      ],
      "metadata": {
        "id": "7MB4oJ1rfJKy"
      }
    },
    {
      "cell_type": "code",
      "source": [
        "x <- list(a=1:4, b=rnorm(10), c=rnorm(20,1), d= rnorm(100,5))\n",
        "lapply(x,mean)"
      ],
      "metadata": {
        "colab": {
          "base_uri": "https://localhost:8080/",
          "height": 184
        },
        "id": "_QMoFOnue_W3",
        "outputId": "d05ae0ec-7c14-4b47-af68-2ce41c985e26"
      },
      "execution_count": 8,
      "outputs": [
        {
          "output_type": "display_data",
          "data": {
            "text/html": [
              "<dl>\n",
              "\t<dt>$a</dt>\n",
              "\t\t<dd>2.5</dd>\n",
              "\t<dt>$b</dt>\n",
              "\t\t<dd>-0.145926112482582</dd>\n",
              "\t<dt>$c</dt>\n",
              "\t\t<dd>0.791943159548141</dd>\n",
              "\t<dt>$d</dt>\n",
              "\t\t<dd>5.16353350108909</dd>\n",
              "</dl>\n"
            ],
            "text/markdown": "$a\n:   2.5\n$b\n:   -0.145926112482582\n$c\n:   0.791943159548141\n$d\n:   5.16353350108909\n\n\n",
            "text/latex": "\\begin{description}\n\\item[\\$a] 2.5\n\\item[\\$b] -0.145926112482582\n\\item[\\$c] 0.791943159548141\n\\item[\\$d] 5.16353350108909\n\\end{description}\n",
            "text/plain": [
              "$a\n",
              "[1] 2.5\n",
              "\n",
              "$b\n",
              "[1] -0.1459261\n",
              "\n",
              "$c\n",
              "[1] 0.7919432\n",
              "\n",
              "$d\n",
              "[1] 5.163534\n"
            ]
          },
          "metadata": {}
        }
      ]
    },
    {
      "cell_type": "code",
      "source": [
        "sapply(x, mean)"
      ],
      "metadata": {
        "colab": {
          "base_uri": "https://localhost:8080/",
          "height": 34
        },
        "id": "HF1t9Y1DfhIm",
        "outputId": "c90b020d-da44-4427-ce0b-bfa2966c13af"
      },
      "execution_count": 9,
      "outputs": [
        {
          "output_type": "display_data",
          "data": {
            "text/html": [
              "<style>\n",
              ".dl-inline {width: auto; margin:0; padding: 0}\n",
              ".dl-inline>dt, .dl-inline>dd {float: none; width: auto; display: inline-block}\n",
              ".dl-inline>dt::after {content: \":\\0020\"; padding-right: .5ex}\n",
              ".dl-inline>dt:not(:first-of-type) {padding-left: .5ex}\n",
              "</style><dl class=dl-inline><dt>a</dt><dd>2.5</dd><dt>b</dt><dd>-0.145926112482582</dd><dt>c</dt><dd>0.791943159548141</dd><dt>d</dt><dd>5.16353350108909</dd></dl>\n"
            ],
            "text/markdown": "a\n:   2.5b\n:   -0.145926112482582c\n:   0.791943159548141d\n:   5.16353350108909\n\n",
            "text/latex": "\\begin{description*}\n\\item[a] 2.5\n\\item[b] -0.145926112482582\n\\item[c] 0.791943159548141\n\\item[d] 5.16353350108909\n\\end{description*}\n",
            "text/plain": [
              "         a          b          c          d \n",
              " 2.5000000 -0.1459261  0.7919432  5.1635335 "
            ]
          },
          "metadata": {}
        }
      ]
    },
    {
      "cell_type": "markdown",
      "source": [
        "###split()"
      ],
      "metadata": {
        "id": "1kCKPDkci94_"
      }
    },
    {
      "cell_type": "code",
      "source": [
        "str(split)"
      ],
      "metadata": {
        "colab": {
          "base_uri": "https://localhost:8080/"
        },
        "id": "7YaDTa-Dfm4j",
        "outputId": "7791f897-450f-402a-c431-d615ed3c0e7c"
      },
      "execution_count": 11,
      "outputs": [
        {
          "output_type": "stream",
          "name": "stdout",
          "text": [
            "function (x, f, drop = FALSE, ...)  \n"
          ]
        }
      ]
    },
    {
      "cell_type": "code",
      "source": [
        "x <- c(rnorm(10), runif(10), rnorm(10,1))\n",
        "f <- gl(3, 10)\n",
        "\n",
        "split(x, f)"
      ],
      "metadata": {
        "colab": {
          "base_uri": "https://localhost:8080/",
          "height": 201
        },
        "id": "i1-l4BFFi4AK",
        "outputId": "ad8b93bd-4240-4fa6-a765-a6bc5cfa7bf8"
      },
      "execution_count": 12,
      "outputs": [
        {
          "output_type": "display_data",
          "data": {
            "text/html": [
              "<dl>\n",
              "\t<dt>$`1`</dt>\n",
              "\t\t<dd><style>\n",
              ".list-inline {list-style: none; margin:0; padding: 0}\n",
              ".list-inline>li {display: inline-block}\n",
              ".list-inline>li:not(:last-child)::after {content: \"\\00b7\"; padding: 0 .5ex}\n",
              "</style>\n",
              "<ol class=list-inline><li>0.380395827013626</li><li>0.769223502000939</li><li>0.673348401673349</li><li>-0.233161466130395</li><li>-0.584637286344352</li><li>-0.0577080249038405</li><li>0.203868109296479</li><li>-0.593916174200106</li><li>-0.86673692602124</li><li>-0.240448850191782</li></ol>\n",
              "</dd>\n",
              "\t<dt>$`2`</dt>\n",
              "\t\t<dd><style>\n",
              ".list-inline {list-style: none; margin:0; padding: 0}\n",
              ".list-inline>li {display: inline-block}\n",
              ".list-inline>li:not(:last-child)::after {content: \"\\00b7\"; padding: 0 .5ex}\n",
              "</style>\n",
              "<ol class=list-inline><li>0.317086949711666</li><li>0.230945614166558</li><li>0.953718375647441</li><li>0.380261973012239</li><li>0.262876628665254</li><li>0.675653693731874</li><li>0.258701376616955</li><li>0.720942521002144</li><li>0.426530507626012</li><li>0.809193502180278</li></ol>\n",
              "</dd>\n",
              "\t<dt>$`3`</dt>\n",
              "\t\t<dd><style>\n",
              ".list-inline {list-style: none; margin:0; padding: 0}\n",
              ".list-inline>li {display: inline-block}\n",
              ".list-inline>li:not(:last-child)::after {content: \"\\00b7\"; padding: 0 .5ex}\n",
              "</style>\n",
              "<ol class=list-inline><li>-0.980379554143375</li><li>-0.168865454447896</li><li>1.45301288661747</li><li>1.34961739302689</li><li>1.07316322872777</li><li>0.121994663801344</li><li>2.46430146639717</li><li>0.644699250268962</li><li>2.72324597975979</li><li>0.23120195250865</li></ol>\n",
              "</dd>\n",
              "</dl>\n"
            ],
            "text/markdown": "$`1`\n:   1. 0.380395827013626\n2. 0.769223502000939\n3. 0.673348401673349\n4. -0.233161466130395\n5. -0.584637286344352\n6. -0.0577080249038405\n7. 0.203868109296479\n8. -0.593916174200106\n9. -0.86673692602124\n10. -0.240448850191782\n\n\n\n$`2`\n:   1. 0.317086949711666\n2. 0.230945614166558\n3. 0.953718375647441\n4. 0.380261973012239\n5. 0.262876628665254\n6. 0.675653693731874\n7. 0.258701376616955\n8. 0.720942521002144\n9. 0.426530507626012\n10. 0.809193502180278\n\n\n\n$`3`\n:   1. -0.980379554143375\n2. -0.168865454447896\n3. 1.45301288661747\n4. 1.34961739302689\n5. 1.07316322872777\n6. 0.121994663801344\n7. 2.46430146639717\n8. 0.644699250268962\n9. 2.72324597975979\n10. 0.23120195250865\n\n\n\n\n\n",
            "text/latex": "\\begin{description}\n\\item[\\$`1`] \\begin{enumerate*}\n\\item 0.380395827013626\n\\item 0.769223502000939\n\\item 0.673348401673349\n\\item -0.233161466130395\n\\item -0.584637286344352\n\\item -0.0577080249038405\n\\item 0.203868109296479\n\\item -0.593916174200106\n\\item -0.86673692602124\n\\item -0.240448850191782\n\\end{enumerate*}\n\n\\item[\\$`2`] \\begin{enumerate*}\n\\item 0.317086949711666\n\\item 0.230945614166558\n\\item 0.953718375647441\n\\item 0.380261973012239\n\\item 0.262876628665254\n\\item 0.675653693731874\n\\item 0.258701376616955\n\\item 0.720942521002144\n\\item 0.426530507626012\n\\item 0.809193502180278\n\\end{enumerate*}\n\n\\item[\\$`3`] \\begin{enumerate*}\n\\item -0.980379554143375\n\\item -0.168865454447896\n\\item 1.45301288661747\n\\item 1.34961739302689\n\\item 1.07316322872777\n\\item 0.121994663801344\n\\item 2.46430146639717\n\\item 0.644699250268962\n\\item 2.72324597975979\n\\item 0.23120195250865\n\\end{enumerate*}\n\n\\end{description}\n",
            "text/plain": [
              "$`1`\n",
              " [1]  0.38039583  0.76922350  0.67334840 -0.23316147 -0.58463729 -0.05770802\n",
              " [7]  0.20386811 -0.59391617 -0.86673693 -0.24044885\n",
              "\n",
              "$`2`\n",
              " [1] 0.3170869 0.2309456 0.9537184 0.3802620 0.2628766 0.6756537 0.2587014\n",
              " [8] 0.7209425 0.4265305 0.8091935\n",
              "\n",
              "$`3`\n",
              " [1] -0.9803796 -0.1688655  1.4530129  1.3496174  1.0731632  0.1219947\n",
              " [7]  2.4643015  0.6446993  2.7232460  0.2312020\n"
            ]
          },
          "metadata": {}
        }
      ]
    },
    {
      "cell_type": "code",
      "source": [
        "lapply(split(x, f), mean)"
      ],
      "metadata": {
        "colab": {
          "base_uri": "https://localhost:8080/",
          "height": 149
        },
        "id": "pDEUdK11jYUF",
        "outputId": "09574adb-b9bc-4a98-8727-42b8ba6f11d8"
      },
      "execution_count": 14,
      "outputs": [
        {
          "output_type": "display_data",
          "data": {
            "text/html": [
              "<dl>\n",
              "\t<dt>$`1`</dt>\n",
              "\t\t<dd>-0.0549772887807322</dd>\n",
              "\t<dt>$`2`</dt>\n",
              "\t\t<dd>0.503591114236042</dd>\n",
              "\t<dt>$`3`</dt>\n",
              "\t\t<dd>0.891199181251676</dd>\n",
              "</dl>\n"
            ],
            "text/markdown": "$`1`\n:   -0.0549772887807322\n$`2`\n:   0.503591114236042\n$`3`\n:   0.891199181251676\n\n\n",
            "text/latex": "\\begin{description}\n\\item[\\$`1`] -0.0549772887807322\n\\item[\\$`2`] 0.503591114236042\n\\item[\\$`3`] 0.891199181251676\n\\end{description}\n",
            "text/plain": [
              "$`1`\n",
              "[1] -0.05497729\n",
              "\n",
              "$`2`\n",
              "[1] 0.5035911\n",
              "\n",
              "$`3`\n",
              "[1] 0.8911992\n"
            ]
          },
          "metadata": {}
        }
      ]
    },
    {
      "cell_type": "markdown",
      "source": [
        "#Splitting a DataFrame"
      ],
      "metadata": {
        "id": "YTyBeJQPjinS"
      }
    },
    {
      "cell_type": "code",
      "source": [
        "library(datasets)\n",
        "head(airquality)"
      ],
      "metadata": {
        "colab": {
          "base_uri": "https://localhost:8080/",
          "height": 286
        },
        "id": "tRv2iGJPjeRf",
        "outputId": "372b255c-9c58-4b6f-bdfe-28edf1266a6e"
      },
      "execution_count": 15,
      "outputs": [
        {
          "output_type": "display_data",
          "data": {
            "text/html": [
              "<table class=\"dataframe\">\n",
              "<caption>A data.frame: 6 × 6</caption>\n",
              "<thead>\n",
              "\t<tr><th></th><th scope=col>Ozone</th><th scope=col>Solar.R</th><th scope=col>Wind</th><th scope=col>Temp</th><th scope=col>Month</th><th scope=col>Day</th></tr>\n",
              "\t<tr><th></th><th scope=col>&lt;int&gt;</th><th scope=col>&lt;int&gt;</th><th scope=col>&lt;dbl&gt;</th><th scope=col>&lt;int&gt;</th><th scope=col>&lt;int&gt;</th><th scope=col>&lt;int&gt;</th></tr>\n",
              "</thead>\n",
              "<tbody>\n",
              "\t<tr><th scope=row>1</th><td>41</td><td>190</td><td> 7.4</td><td>67</td><td>5</td><td>1</td></tr>\n",
              "\t<tr><th scope=row>2</th><td>36</td><td>118</td><td> 8.0</td><td>72</td><td>5</td><td>2</td></tr>\n",
              "\t<tr><th scope=row>3</th><td>12</td><td>149</td><td>12.6</td><td>74</td><td>5</td><td>3</td></tr>\n",
              "\t<tr><th scope=row>4</th><td>18</td><td>313</td><td>11.5</td><td>62</td><td>5</td><td>4</td></tr>\n",
              "\t<tr><th scope=row>5</th><td>NA</td><td> NA</td><td>14.3</td><td>56</td><td>5</td><td>5</td></tr>\n",
              "\t<tr><th scope=row>6</th><td>28</td><td> NA</td><td>14.9</td><td>66</td><td>5</td><td>6</td></tr>\n",
              "</tbody>\n",
              "</table>\n"
            ],
            "text/markdown": "\nA data.frame: 6 × 6\n\n| <!--/--> | Ozone &lt;int&gt; | Solar.R &lt;int&gt; | Wind &lt;dbl&gt; | Temp &lt;int&gt; | Month &lt;int&gt; | Day &lt;int&gt; |\n|---|---|---|---|---|---|---|\n| 1 | 41 | 190 |  7.4 | 67 | 5 | 1 |\n| 2 | 36 | 118 |  8.0 | 72 | 5 | 2 |\n| 3 | 12 | 149 | 12.6 | 74 | 5 | 3 |\n| 4 | 18 | 313 | 11.5 | 62 | 5 | 4 |\n| 5 | NA |  NA | 14.3 | 56 | 5 | 5 |\n| 6 | 28 |  NA | 14.9 | 66 | 5 | 6 |\n\n",
            "text/latex": "A data.frame: 6 × 6\n\\begin{tabular}{r|llllll}\n  & Ozone & Solar.R & Wind & Temp & Month & Day\\\\\n  & <int> & <int> & <dbl> & <int> & <int> & <int>\\\\\n\\hline\n\t1 & 41 & 190 &  7.4 & 67 & 5 & 1\\\\\n\t2 & 36 & 118 &  8.0 & 72 & 5 & 2\\\\\n\t3 & 12 & 149 & 12.6 & 74 & 5 & 3\\\\\n\t4 & 18 & 313 & 11.5 & 62 & 5 & 4\\\\\n\t5 & NA &  NA & 14.3 & 56 & 5 & 5\\\\\n\t6 & 28 &  NA & 14.9 & 66 & 5 & 6\\\\\n\\end{tabular}\n",
            "text/plain": [
              "  Ozone Solar.R Wind Temp Month Day\n",
              "1 41    190      7.4 67   5     1  \n",
              "2 36    118      8.0 72   5     2  \n",
              "3 12    149     12.6 74   5     3  \n",
              "4 18    313     11.5 62   5     4  \n",
              "5 NA     NA     14.3 56   5     5  \n",
              "6 28     NA     14.9 66   5     6  "
            ]
          },
          "metadata": {}
        }
      ]
    },
    {
      "cell_type": "code",
      "source": [
        "s <- split(airquality, airquality$Month)\n",
        "str(s)"
      ],
      "metadata": {
        "colab": {
          "base_uri": "https://localhost:8080/"
        },
        "id": "DLUoRMVojrJ_",
        "outputId": "4c1b0f07-4f69-42c9-a86d-1ce630d09502"
      },
      "execution_count": 16,
      "outputs": [
        {
          "output_type": "stream",
          "name": "stdout",
          "text": [
            "List of 5\n",
            " $ 5:'data.frame':\t31 obs. of  6 variables:\n",
            "  ..$ Ozone  : int [1:31] 41 36 12 18 NA 28 23 19 8 NA ...\n",
            "  ..$ Solar.R: int [1:31] 190 118 149 313 NA NA 299 99 19 194 ...\n",
            "  ..$ Wind   : num [1:31] 7.4 8 12.6 11.5 14.3 14.9 8.6 13.8 20.1 8.6 ...\n",
            "  ..$ Temp   : int [1:31] 67 72 74 62 56 66 65 59 61 69 ...\n",
            "  ..$ Month  : int [1:31] 5 5 5 5 5 5 5 5 5 5 ...\n",
            "  ..$ Day    : int [1:31] 1 2 3 4 5 6 7 8 9 10 ...\n",
            " $ 6:'data.frame':\t30 obs. of  6 variables:\n",
            "  ..$ Ozone  : int [1:30] NA NA NA NA NA NA 29 NA 71 39 ...\n",
            "  ..$ Solar.R: int [1:30] 286 287 242 186 220 264 127 273 291 323 ...\n",
            "  ..$ Wind   : num [1:30] 8.6 9.7 16.1 9.2 8.6 14.3 9.7 6.9 13.8 11.5 ...\n",
            "  ..$ Temp   : int [1:30] 78 74 67 84 85 79 82 87 90 87 ...\n",
            "  ..$ Month  : int [1:30] 6 6 6 6 6 6 6 6 6 6 ...\n",
            "  ..$ Day    : int [1:30] 1 2 3 4 5 6 7 8 9 10 ...\n",
            " $ 7:'data.frame':\t31 obs. of  6 variables:\n",
            "  ..$ Ozone  : int [1:31] 135 49 32 NA 64 40 77 97 97 85 ...\n",
            "  ..$ Solar.R: int [1:31] 269 248 236 101 175 314 276 267 272 175 ...\n",
            "  ..$ Wind   : num [1:31] 4.1 9.2 9.2 10.9 4.6 10.9 5.1 6.3 5.7 7.4 ...\n",
            "  ..$ Temp   : int [1:31] 84 85 81 84 83 83 88 92 92 89 ...\n",
            "  ..$ Month  : int [1:31] 7 7 7 7 7 7 7 7 7 7 ...\n",
            "  ..$ Day    : int [1:31] 1 2 3 4 5 6 7 8 9 10 ...\n",
            " $ 8:'data.frame':\t31 obs. of  6 variables:\n",
            "  ..$ Ozone  : int [1:31] 39 9 16 78 35 66 122 89 110 NA ...\n",
            "  ..$ Solar.R: int [1:31] 83 24 77 NA NA NA 255 229 207 222 ...\n",
            "  ..$ Wind   : num [1:31] 6.9 13.8 7.4 6.9 7.4 4.6 4 10.3 8 8.6 ...\n",
            "  ..$ Temp   : int [1:31] 81 81 82 86 85 87 89 90 90 92 ...\n",
            "  ..$ Month  : int [1:31] 8 8 8 8 8 8 8 8 8 8 ...\n",
            "  ..$ Day    : int [1:31] 1 2 3 4 5 6 7 8 9 10 ...\n",
            " $ 9:'data.frame':\t30 obs. of  6 variables:\n",
            "  ..$ Ozone  : int [1:30] 96 78 73 91 47 32 20 23 21 24 ...\n",
            "  ..$ Solar.R: int [1:30] 167 197 183 189 95 92 252 220 230 259 ...\n",
            "  ..$ Wind   : num [1:30] 6.9 5.1 2.8 4.6 7.4 15.5 10.9 10.3 10.9 9.7 ...\n",
            "  ..$ Temp   : int [1:30] 91 92 93 93 87 84 80 78 75 73 ...\n",
            "  ..$ Month  : int [1:30] 9 9 9 9 9 9 9 9 9 9 ...\n",
            "  ..$ Day    : int [1:30] 1 2 3 4 5 6 7 8 9 10 ...\n"
          ]
        }
      ]
    },
    {
      "cell_type": "code",
      "source": [
        "lapply(s, function(x){\n",
        "  colMeans(x[, c(\"Ozone\", \"Solar.R\", \"Wind\")])\n",
        "})"
      ],
      "metadata": {
        "colab": {
          "base_uri": "https://localhost:8080/",
          "height": 219
        },
        "id": "S5p1OPTzj2G3",
        "outputId": "8bf91029-9a76-48d2-a3f3-4cf45fc835ff"
      },
      "execution_count": 17,
      "outputs": [
        {
          "output_type": "display_data",
          "data": {
            "text/html": [
              "<dl>\n",
              "\t<dt>$`5`</dt>\n",
              "\t\t<dd><style>\n",
              ".dl-inline {width: auto; margin:0; padding: 0}\n",
              ".dl-inline>dt, .dl-inline>dd {float: none; width: auto; display: inline-block}\n",
              ".dl-inline>dt::after {content: \":\\0020\"; padding-right: .5ex}\n",
              ".dl-inline>dt:not(:first-of-type) {padding-left: .5ex}\n",
              "</style><dl class=dl-inline><dt>Ozone</dt><dd>&lt;NA&gt;</dd><dt>Solar.R</dt><dd>&lt;NA&gt;</dd><dt>Wind</dt><dd>11.6225806451613</dd></dl>\n",
              "</dd>\n",
              "\t<dt>$`6`</dt>\n",
              "\t\t<dd><style>\n",
              ".dl-inline {width: auto; margin:0; padding: 0}\n",
              ".dl-inline>dt, .dl-inline>dd {float: none; width: auto; display: inline-block}\n",
              ".dl-inline>dt::after {content: \":\\0020\"; padding-right: .5ex}\n",
              ".dl-inline>dt:not(:first-of-type) {padding-left: .5ex}\n",
              "</style><dl class=dl-inline><dt>Ozone</dt><dd>&lt;NA&gt;</dd><dt>Solar.R</dt><dd>190.166666666667</dd><dt>Wind</dt><dd>10.2666666666667</dd></dl>\n",
              "</dd>\n",
              "\t<dt>$`7`</dt>\n",
              "\t\t<dd><style>\n",
              ".dl-inline {width: auto; margin:0; padding: 0}\n",
              ".dl-inline>dt, .dl-inline>dd {float: none; width: auto; display: inline-block}\n",
              ".dl-inline>dt::after {content: \":\\0020\"; padding-right: .5ex}\n",
              ".dl-inline>dt:not(:first-of-type) {padding-left: .5ex}\n",
              "</style><dl class=dl-inline><dt>Ozone</dt><dd>&lt;NA&gt;</dd><dt>Solar.R</dt><dd>216.483870967742</dd><dt>Wind</dt><dd>8.94193548387097</dd></dl>\n",
              "</dd>\n",
              "\t<dt>$`8`</dt>\n",
              "\t\t<dd><style>\n",
              ".dl-inline {width: auto; margin:0; padding: 0}\n",
              ".dl-inline>dt, .dl-inline>dd {float: none; width: auto; display: inline-block}\n",
              ".dl-inline>dt::after {content: \":\\0020\"; padding-right: .5ex}\n",
              ".dl-inline>dt:not(:first-of-type) {padding-left: .5ex}\n",
              "</style><dl class=dl-inline><dt>Ozone</dt><dd>&lt;NA&gt;</dd><dt>Solar.R</dt><dd>&lt;NA&gt;</dd><dt>Wind</dt><dd>8.79354838709677</dd></dl>\n",
              "</dd>\n",
              "\t<dt>$`9`</dt>\n",
              "\t\t<dd><style>\n",
              ".dl-inline {width: auto; margin:0; padding: 0}\n",
              ".dl-inline>dt, .dl-inline>dd {float: none; width: auto; display: inline-block}\n",
              ".dl-inline>dt::after {content: \":\\0020\"; padding-right: .5ex}\n",
              ".dl-inline>dt:not(:first-of-type) {padding-left: .5ex}\n",
              "</style><dl class=dl-inline><dt>Ozone</dt><dd>&lt;NA&gt;</dd><dt>Solar.R</dt><dd>167.433333333333</dd><dt>Wind</dt><dd>10.18</dd></dl>\n",
              "</dd>\n",
              "</dl>\n"
            ],
            "text/markdown": "$`5`\n:   Ozone\n:   &lt;NA&gt;Solar.R\n:   &lt;NA&gt;Wind\n:   11.6225806451613\n\n\n$`6`\n:   Ozone\n:   &lt;NA&gt;Solar.R\n:   190.166666666667Wind\n:   10.2666666666667\n\n\n$`7`\n:   Ozone\n:   &lt;NA&gt;Solar.R\n:   216.483870967742Wind\n:   8.94193548387097\n\n\n$`8`\n:   Ozone\n:   &lt;NA&gt;Solar.R\n:   &lt;NA&gt;Wind\n:   8.79354838709677\n\n\n$`9`\n:   Ozone\n:   &lt;NA&gt;Solar.R\n:   167.433333333333Wind\n:   10.18\n\n\n\n\n",
            "text/latex": "\\begin{description}\n\\item[\\$`5`] \\begin{description*}\n\\item[Ozone] <NA>\n\\item[Solar.R] <NA>\n\\item[Wind] 11.6225806451613\n\\end{description*}\n\n\\item[\\$`6`] \\begin{description*}\n\\item[Ozone] <NA>\n\\item[Solar.R] 190.166666666667\n\\item[Wind] 10.2666666666667\n\\end{description*}\n\n\\item[\\$`7`] \\begin{description*}\n\\item[Ozone] <NA>\n\\item[Solar.R] 216.483870967742\n\\item[Wind] 8.94193548387097\n\\end{description*}\n\n\\item[\\$`8`] \\begin{description*}\n\\item[Ozone] <NA>\n\\item[Solar.R] <NA>\n\\item[Wind] 8.79354838709677\n\\end{description*}\n\n\\item[\\$`9`] \\begin{description*}\n\\item[Ozone] <NA>\n\\item[Solar.R] 167.433333333333\n\\item[Wind] 10.18\n\\end{description*}\n\n\\end{description}\n",
            "text/plain": [
              "$`5`\n",
              "   Ozone  Solar.R     Wind \n",
              "      NA       NA 11.62258 \n",
              "\n",
              "$`6`\n",
              "    Ozone   Solar.R      Wind \n",
              "       NA 190.16667  10.26667 \n",
              "\n",
              "$`7`\n",
              "     Ozone    Solar.R       Wind \n",
              "        NA 216.483871   8.941935 \n",
              "\n",
              "$`8`\n",
              "   Ozone  Solar.R     Wind \n",
              "      NA       NA 8.793548 \n",
              "\n",
              "$`9`\n",
              "   Ozone  Solar.R     Wind \n",
              "      NA 167.4333  10.1800 \n"
            ]
          },
          "metadata": {}
        }
      ]
    },
    {
      "cell_type": "code",
      "source": [
        "sapply(s, function(x){\n",
        "  colMeans(x[, c(\"Ozone\", \"Solar.R\", \"Wind\")])\n",
        "})"
      ],
      "metadata": {
        "colab": {
          "base_uri": "https://localhost:8080/",
          "height": 160
        },
        "id": "LDa2yJFzkK9p",
        "outputId": "12f0d864-897c-4dc8-d52e-e9d4ee9c03b8"
      },
      "execution_count": 19,
      "outputs": [
        {
          "output_type": "display_data",
          "data": {
            "text/html": [
              "<table class=\"dataframe\">\n",
              "<caption>A matrix: 3 × 5 of type dbl</caption>\n",
              "<thead>\n",
              "\t<tr><th></th><th scope=col>5</th><th scope=col>6</th><th scope=col>7</th><th scope=col>8</th><th scope=col>9</th></tr>\n",
              "</thead>\n",
              "<tbody>\n",
              "\t<tr><th scope=row>Ozone</th><td>      NA</td><td>       NA</td><td>        NA</td><td>      NA</td><td>      NA</td></tr>\n",
              "\t<tr><th scope=row>Solar.R</th><td>      NA</td><td>190.16667</td><td>216.483871</td><td>      NA</td><td>167.4333</td></tr>\n",
              "\t<tr><th scope=row>Wind</th><td>11.62258</td><td> 10.26667</td><td>  8.941935</td><td>8.793548</td><td> 10.1800</td></tr>\n",
              "</tbody>\n",
              "</table>\n"
            ],
            "text/markdown": "\nA matrix: 3 × 5 of type dbl\n\n| <!--/--> | 5 | 6 | 7 | 8 | 9 |\n|---|---|---|---|---|---|\n| Ozone |       NA |        NA |         NA |       NA |       NA |\n| Solar.R |       NA | 190.16667 | 216.483871 |       NA | 167.4333 |\n| Wind | 11.62258 |  10.26667 |   8.941935 | 8.793548 |  10.1800 |\n\n",
            "text/latex": "A matrix: 3 × 5 of type dbl\n\\begin{tabular}{r|lllll}\n  & 5 & 6 & 7 & 8 & 9\\\\\n\\hline\n\tOzone &       NA &        NA &         NA &       NA &       NA\\\\\n\tSolar.R &       NA & 190.16667 & 216.483871 &       NA & 167.4333\\\\\n\tWind & 11.62258 &  10.26667 &   8.941935 & 8.793548 &  10.1800\\\\\n\\end{tabular}\n",
            "text/plain": [
              "        5        6         7          8        9       \n",
              "Ozone         NA        NA         NA       NA       NA\n",
              "Solar.R       NA 190.16667 216.483871       NA 167.4333\n",
              "Wind    11.62258  10.26667   8.941935 8.793548  10.1800"
            ]
          },
          "metadata": {}
        }
      ]
    },
    {
      "cell_type": "code",
      "source": [
        "sapply(s, function(x){\n",
        "  colMeans(x[, c(\"Ozone\", \"Solar.R\", \"Wind\")],\n",
        "  na.rm=TRUE)\n",
        "})"
      ],
      "metadata": {
        "colab": {
          "base_uri": "https://localhost:8080/",
          "height": 160
        },
        "id": "2U9f_ZoJkZcG",
        "outputId": "9a11ace4-e439-4458-c583-6e414a03ff58"
      },
      "execution_count": 20,
      "outputs": [
        {
          "output_type": "display_data",
          "data": {
            "text/html": [
              "<table class=\"dataframe\">\n",
              "<caption>A matrix: 3 × 5 of type dbl</caption>\n",
              "<thead>\n",
              "\t<tr><th></th><th scope=col>5</th><th scope=col>6</th><th scope=col>7</th><th scope=col>8</th><th scope=col>9</th></tr>\n",
              "</thead>\n",
              "<tbody>\n",
              "\t<tr><th scope=row>Ozone</th><td> 23.61538</td><td> 29.44444</td><td> 59.115385</td><td> 59.961538</td><td> 31.44828</td></tr>\n",
              "\t<tr><th scope=row>Solar.R</th><td>181.29630</td><td>190.16667</td><td>216.483871</td><td>171.857143</td><td>167.43333</td></tr>\n",
              "\t<tr><th scope=row>Wind</th><td> 11.62258</td><td> 10.26667</td><td>  8.941935</td><td>  8.793548</td><td> 10.18000</td></tr>\n",
              "</tbody>\n",
              "</table>\n"
            ],
            "text/markdown": "\nA matrix: 3 × 5 of type dbl\n\n| <!--/--> | 5 | 6 | 7 | 8 | 9 |\n|---|---|---|---|---|---|\n| Ozone |  23.61538 |  29.44444 |  59.115385 |  59.961538 |  31.44828 |\n| Solar.R | 181.29630 | 190.16667 | 216.483871 | 171.857143 | 167.43333 |\n| Wind |  11.62258 |  10.26667 |   8.941935 |   8.793548 |  10.18000 |\n\n",
            "text/latex": "A matrix: 3 × 5 of type dbl\n\\begin{tabular}{r|lllll}\n  & 5 & 6 & 7 & 8 & 9\\\\\n\\hline\n\tOzone &  23.61538 &  29.44444 &  59.115385 &  59.961538 &  31.44828\\\\\n\tSolar.R & 181.29630 & 190.16667 & 216.483871 & 171.857143 & 167.43333\\\\\n\tWind &  11.62258 &  10.26667 &   8.941935 &   8.793548 &  10.18000\\\\\n\\end{tabular}\n",
            "text/plain": [
              "        5         6         7          8          9        \n",
              "Ozone    23.61538  29.44444  59.115385  59.961538  31.44828\n",
              "Solar.R 181.29630 190.16667 216.483871 171.857143 167.43333\n",
              "Wind     11.62258  10.26667   8.941935   8.793548  10.18000"
            ]
          },
          "metadata": {}
        }
      ]
    },
    {
      "cell_type": "code",
      "source": [
        "x <- rnorm(10)\n",
        "f1 <- gl(2,5)\n",
        "f2 <- gl(5,2)\n",
        "f1"
      ],
      "metadata": {
        "colab": {
          "base_uri": "https://localhost:8080/",
          "height": 69
        },
        "id": "KfYs0tp1kxTm",
        "outputId": "681b1ac4-d531-4be8-9727-f3dabf8d899c"
      },
      "execution_count": 21,
      "outputs": [
        {
          "output_type": "display_data",
          "data": {
            "text/html": [
              "<style>\n",
              ".list-inline {list-style: none; margin:0; padding: 0}\n",
              ".list-inline>li {display: inline-block}\n",
              ".list-inline>li:not(:last-child)::after {content: \"\\00b7\"; padding: 0 .5ex}\n",
              "</style>\n",
              "<ol class=list-inline><li>1</li><li>1</li><li>1</li><li>1</li><li>1</li><li>2</li><li>2</li><li>2</li><li>2</li><li>2</li></ol>\n",
              "\n",
              "<details>\n",
              "\t<summary style=display:list-item;cursor:pointer>\n",
              "\t\t<strong>Levels</strong>:\n",
              "\t</summary>\n",
              "\t<style>\n",
              "\t.list-inline {list-style: none; margin:0; padding: 0}\n",
              "\t.list-inline>li {display: inline-block}\n",
              "\t.list-inline>li:not(:last-child)::after {content: \"\\00b7\"; padding: 0 .5ex}\n",
              "\t</style>\n",
              "\t<ol class=list-inline><li>'1'</li><li>'2'</li></ol>\n",
              "</details>"
            ],
            "text/markdown": "1. 1\n2. 1\n3. 1\n4. 1\n5. 1\n6. 2\n7. 2\n8. 2\n9. 2\n10. 2\n\n\n\n**Levels**: 1. '1'\n2. '2'\n\n\n",
            "text/latex": "\\begin{enumerate*}\n\\item 1\n\\item 1\n\\item 1\n\\item 1\n\\item 1\n\\item 2\n\\item 2\n\\item 2\n\\item 2\n\\item 2\n\\end{enumerate*}\n\n\\emph{Levels}: \\begin{enumerate*}\n\\item '1'\n\\item '2'\n\\end{enumerate*}\n",
            "text/plain": [
              " [1] 1 1 1 1 1 2 2 2 2 2\n",
              "Levels: 1 2"
            ]
          },
          "metadata": {}
        }
      ]
    },
    {
      "cell_type": "code",
      "source": [
        "f2"
      ],
      "metadata": {
        "colab": {
          "base_uri": "https://localhost:8080/",
          "height": 69
        },
        "id": "sGlKIxj4lF-t",
        "outputId": "2e09ed39-7b6c-4954-c36f-7f568ff95dec"
      },
      "execution_count": 22,
      "outputs": [
        {
          "output_type": "display_data",
          "data": {
            "text/html": [
              "<style>\n",
              ".list-inline {list-style: none; margin:0; padding: 0}\n",
              ".list-inline>li {display: inline-block}\n",
              ".list-inline>li:not(:last-child)::after {content: \"\\00b7\"; padding: 0 .5ex}\n",
              "</style>\n",
              "<ol class=list-inline><li>1</li><li>1</li><li>2</li><li>2</li><li>3</li><li>3</li><li>4</li><li>4</li><li>5</li><li>5</li></ol>\n",
              "\n",
              "<details>\n",
              "\t<summary style=display:list-item;cursor:pointer>\n",
              "\t\t<strong>Levels</strong>:\n",
              "\t</summary>\n",
              "\t<style>\n",
              "\t.list-inline {list-style: none; margin:0; padding: 0}\n",
              "\t.list-inline>li {display: inline-block}\n",
              "\t.list-inline>li:not(:last-child)::after {content: \"\\00b7\"; padding: 0 .5ex}\n",
              "\t</style>\n",
              "\t<ol class=list-inline><li>'1'</li><li>'2'</li><li>'3'</li><li>'4'</li><li>'5'</li></ol>\n",
              "</details>"
            ],
            "text/markdown": "1. 1\n2. 1\n3. 2\n4. 2\n5. 3\n6. 3\n7. 4\n8. 4\n9. 5\n10. 5\n\n\n\n**Levels**: 1. '1'\n2. '2'\n3. '3'\n4. '4'\n5. '5'\n\n\n",
            "text/latex": "\\begin{enumerate*}\n\\item 1\n\\item 1\n\\item 2\n\\item 2\n\\item 3\n\\item 3\n\\item 4\n\\item 4\n\\item 5\n\\item 5\n\\end{enumerate*}\n\n\\emph{Levels}: \\begin{enumerate*}\n\\item '1'\n\\item '2'\n\\item '3'\n\\item '4'\n\\item '5'\n\\end{enumerate*}\n",
            "text/plain": [
              " [1] 1 1 2 2 3 3 4 4 5 5\n",
              "Levels: 1 2 3 4 5"
            ]
          },
          "metadata": {}
        }
      ]
    },
    {
      "cell_type": "code",
      "source": [
        "##Create interaction of two factors\n",
        "\n",
        "interaction(f1, f2)"
      ],
      "metadata": {
        "colab": {
          "base_uri": "https://localhost:8080/",
          "height": 69
        },
        "id": "Nrmw6LQllJPT",
        "outputId": "c2db4b19-924a-4011-e72c-3a04c576ca62"
      },
      "execution_count": 23,
      "outputs": [
        {
          "output_type": "display_data",
          "data": {
            "text/html": [
              "<style>\n",
              ".list-inline {list-style: none; margin:0; padding: 0}\n",
              ".list-inline>li {display: inline-block}\n",
              ".list-inline>li:not(:last-child)::after {content: \"\\00b7\"; padding: 0 .5ex}\n",
              "</style>\n",
              "<ol class=list-inline><li>1.1</li><li>1.1</li><li>1.2</li><li>1.2</li><li>1.3</li><li>2.3</li><li>2.4</li><li>2.4</li><li>2.5</li><li>2.5</li></ol>\n",
              "\n",
              "<details>\n",
              "\t<summary style=display:list-item;cursor:pointer>\n",
              "\t\t<strong>Levels</strong>:\n",
              "\t</summary>\n",
              "\t<style>\n",
              "\t.list-inline {list-style: none; margin:0; padding: 0}\n",
              "\t.list-inline>li {display: inline-block}\n",
              "\t.list-inline>li:not(:last-child)::after {content: \"\\00b7\"; padding: 0 .5ex}\n",
              "\t</style>\n",
              "\t<ol class=list-inline><li>'1.1'</li><li>'2.1'</li><li>'1.2'</li><li>'2.2'</li><li>'1.3'</li><li>'2.3'</li><li>'1.4'</li><li>'2.4'</li><li>'1.5'</li><li>'2.5'</li></ol>\n",
              "</details>"
            ],
            "text/markdown": "1. 1.1\n2. 1.1\n3. 1.2\n4. 1.2\n5. 1.3\n6. 2.3\n7. 2.4\n8. 2.4\n9. 2.5\n10. 2.5\n\n\n\n**Levels**: 1. '1.1'\n2. '2.1'\n3. '1.2'\n4. '2.2'\n5. '1.3'\n6. '2.3'\n7. '1.4'\n8. '2.4'\n9. '1.5'\n10. '2.5'\n\n\n",
            "text/latex": "\\begin{enumerate*}\n\\item 1.1\n\\item 1.1\n\\item 1.2\n\\item 1.2\n\\item 1.3\n\\item 2.3\n\\item 2.4\n\\item 2.4\n\\item 2.5\n\\item 2.5\n\\end{enumerate*}\n\n\\emph{Levels}: \\begin{enumerate*}\n\\item '1.1'\n\\item '2.1'\n\\item '1.2'\n\\item '2.2'\n\\item '1.3'\n\\item '2.3'\n\\item '1.4'\n\\item '2.4'\n\\item '1.5'\n\\item '2.5'\n\\end{enumerate*}\n",
            "text/plain": [
              " [1] 1.1 1.1 1.2 1.2 1.3 2.3 2.4 2.4 2.5 2.5\n",
              "Levels: 1.1 2.1 1.2 2.2 1.3 2.3 1.4 2.4 1.5 2.5"
            ]
          },
          "metadata": {}
        }
      ]
    },
    {
      "cell_type": "code",
      "source": [
        "str(split(x, list(f1, f2)))"
      ],
      "metadata": {
        "colab": {
          "base_uri": "https://localhost:8080/"
        },
        "id": "T5O2JNXClYd0",
        "outputId": "661b7652-70fa-45ca-efc3-72f6462d222d"
      },
      "execution_count": 24,
      "outputs": [
        {
          "output_type": "stream",
          "name": "stdout",
          "text": [
            "List of 10\n",
            " $ 1.1: num [1:2] 0.343 0.334\n",
            " $ 2.1: num(0) \n",
            " $ 1.2: num [1:2] 1.63 1.36\n",
            " $ 2.2: num(0) \n",
            " $ 1.3: num -1.65\n",
            " $ 2.3: num 2.32\n",
            " $ 1.4: num(0) \n",
            " $ 2.4: num [1:2] -0.73 1.24\n",
            " $ 1.5: num(0) \n",
            " $ 2.5: num [1:2] -0.201 -1.271\n"
          ]
        }
      ]
    },
    {
      "cell_type": "code",
      "source": [
        "str(split(x, list(f1, f2), drop=TRUE))"
      ],
      "metadata": {
        "colab": {
          "base_uri": "https://localhost:8080/"
        },
        "id": "9xs6c8jFljcx",
        "outputId": "e142041d-485b-4903-b06f-8c6d5f2874e8"
      },
      "execution_count": 25,
      "outputs": [
        {
          "output_type": "stream",
          "name": "stdout",
          "text": [
            "List of 6\n",
            " $ 1.1: num [1:2] 0.343 0.334\n",
            " $ 1.2: num [1:2] 1.63 1.36\n",
            " $ 1.3: num -1.65\n",
            " $ 2.3: num 2.32\n",
            " $ 2.4: num [1:2] -0.73 1.24\n",
            " $ 2.5: num [1:2] -0.201 -1.271\n"
          ]
        }
      ]
    },
    {
      "cell_type": "markdown",
      "source": [
        "###tapply()"
      ],
      "metadata": {
        "id": "qEbi6VTfl7Lv"
      }
    },
    {
      "cell_type": "code",
      "source": [
        "str(tapply)"
      ],
      "metadata": {
        "colab": {
          "base_uri": "https://localhost:8080/"
        },
        "id": "fyei9VMll4KT",
        "outputId": "9190e46d-5853-420e-dddc-e02ef55faf8f"
      },
      "execution_count": 27,
      "outputs": [
        {
          "output_type": "stream",
          "name": "stdout",
          "text": [
            "function (X, INDEX, FUN = NULL, ..., default = NA, simplify = TRUE)  \n"
          ]
        }
      ]
    },
    {
      "cell_type": "code",
      "source": [
        "## simulate some data\n",
        "\n",
        "x <- c(rnorm(10), runif(10), rnorm(10,1))"
      ],
      "metadata": {
        "id": "HiBBrpdimDyK"
      },
      "execution_count": 28,
      "outputs": []
    },
    {
      "cell_type": "code",
      "source": [
        "##Define some groups witha factor variable\n",
        "\n",
        "f <- gl(3,10)\n",
        "f"
      ],
      "metadata": {
        "colab": {
          "base_uri": "https://localhost:8080/",
          "height": 69
        },
        "id": "ih6njYtImYaR",
        "outputId": "0b702f90-c051-493d-a5e1-f75ec903cb5b"
      },
      "execution_count": 29,
      "outputs": [
        {
          "output_type": "display_data",
          "data": {
            "text/html": [
              "<style>\n",
              ".list-inline {list-style: none; margin:0; padding: 0}\n",
              ".list-inline>li {display: inline-block}\n",
              ".list-inline>li:not(:last-child)::after {content: \"\\00b7\"; padding: 0 .5ex}\n",
              "</style>\n",
              "<ol class=list-inline><li>1</li><li>1</li><li>1</li><li>1</li><li>1</li><li>1</li><li>1</li><li>1</li><li>1</li><li>1</li><li>2</li><li>2</li><li>2</li><li>2</li><li>2</li><li>2</li><li>2</li><li>2</li><li>2</li><li>2</li><li>3</li><li>3</li><li>3</li><li>3</li><li>3</li><li>3</li><li>3</li><li>3</li><li>3</li><li>3</li></ol>\n",
              "\n",
              "<details>\n",
              "\t<summary style=display:list-item;cursor:pointer>\n",
              "\t\t<strong>Levels</strong>:\n",
              "\t</summary>\n",
              "\t<style>\n",
              "\t.list-inline {list-style: none; margin:0; padding: 0}\n",
              "\t.list-inline>li {display: inline-block}\n",
              "\t.list-inline>li:not(:last-child)::after {content: \"\\00b7\"; padding: 0 .5ex}\n",
              "\t</style>\n",
              "\t<ol class=list-inline><li>'1'</li><li>'2'</li><li>'3'</li></ol>\n",
              "</details>"
            ],
            "text/markdown": "1. 1\n2. 1\n3. 1\n4. 1\n5. 1\n6. 1\n7. 1\n8. 1\n9. 1\n10. 1\n11. 2\n12. 2\n13. 2\n14. 2\n15. 2\n16. 2\n17. 2\n18. 2\n19. 2\n20. 2\n21. 3\n22. 3\n23. 3\n24. 3\n25. 3\n26. 3\n27. 3\n28. 3\n29. 3\n30. 3\n\n\n\n**Levels**: 1. '1'\n2. '2'\n3. '3'\n\n\n",
            "text/latex": "\\begin{enumerate*}\n\\item 1\n\\item 1\n\\item 1\n\\item 1\n\\item 1\n\\item 1\n\\item 1\n\\item 1\n\\item 1\n\\item 1\n\\item 2\n\\item 2\n\\item 2\n\\item 2\n\\item 2\n\\item 2\n\\item 2\n\\item 2\n\\item 2\n\\item 2\n\\item 3\n\\item 3\n\\item 3\n\\item 3\n\\item 3\n\\item 3\n\\item 3\n\\item 3\n\\item 3\n\\item 3\n\\end{enumerate*}\n\n\\emph{Levels}: \\begin{enumerate*}\n\\item '1'\n\\item '2'\n\\item '3'\n\\end{enumerate*}\n",
            "text/plain": [
              " [1] 1 1 1 1 1 1 1 1 1 1 2 2 2 2 2 2 2 2 2 2 3 3 3 3 3 3 3 3 3 3\n",
              "Levels: 1 2 3"
            ]
          },
          "metadata": {}
        }
      ]
    },
    {
      "cell_type": "code",
      "source": [
        "tapply(x, f,mean)"
      ],
      "metadata": {
        "colab": {
          "base_uri": "https://localhost:8080/",
          "height": 34
        },
        "id": "zFcpZPXMmisu",
        "outputId": "ed880612-307b-426b-8022-fe08c8a8f9b1"
      },
      "execution_count": 30,
      "outputs": [
        {
          "output_type": "display_data",
          "data": {
            "text/html": [
              "<style>\n",
              ".dl-inline {width: auto; margin:0; padding: 0}\n",
              ".dl-inline>dt, .dl-inline>dd {float: none; width: auto; display: inline-block}\n",
              ".dl-inline>dt::after {content: \":\\0020\"; padding-right: .5ex}\n",
              ".dl-inline>dt:not(:first-of-type) {padding-left: .5ex}\n",
              "</style><dl class=dl-inline><dt>1</dt><dd>0.558103345100216</dd><dt>2</dt><dd>0.590760775702074</dd><dt>3</dt><dd>0.690837162842651</dd></dl>\n"
            ],
            "text/markdown": "1\n:   0.5581033451002162\n:   0.5907607757020743\n:   0.690837162842651\n\n",
            "text/latex": "\\begin{description*}\n\\item[1] 0.558103345100216\n\\item[2] 0.590760775702074\n\\item[3] 0.690837162842651\n\\end{description*}\n",
            "text/plain": [
              "        1         2         3 \n",
              "0.5581033 0.5907608 0.6908372 "
            ]
          },
          "metadata": {}
        }
      ]
    },
    {
      "cell_type": "code",
      "source": [
        "tapply(x, f, mean, simplify = FALSE)"
      ],
      "metadata": {
        "colab": {
          "base_uri": "https://localhost:8080/",
          "height": 149
        },
        "id": "oBTa9ltcmov9",
        "outputId": "7619d808-605b-4eeb-c104-e0591b3aa07e"
      },
      "execution_count": 31,
      "outputs": [
        {
          "output_type": "display_data",
          "data": {
            "text/html": [
              "<dl>\n",
              "\t<dt>$`1`</dt>\n",
              "\t\t<dd>0.558103345100216</dd>\n",
              "\t<dt>$`2`</dt>\n",
              "\t\t<dd>0.590760775702074</dd>\n",
              "\t<dt>$`3`</dt>\n",
              "\t\t<dd>0.690837162842651</dd>\n",
              "</dl>\n"
            ],
            "text/markdown": "$`1`\n:   0.558103345100216\n$`2`\n:   0.590760775702074\n$`3`\n:   0.690837162842651\n\n\n",
            "text/latex": "\\begin{description}\n\\item[\\$`1`] 0.558103345100216\n\\item[\\$`2`] 0.590760775702074\n\\item[\\$`3`] 0.690837162842651\n\\end{description}\n",
            "text/plain": [
              "$`1`\n",
              "[1] 0.5581033\n",
              "\n",
              "$`2`\n",
              "[1] 0.5907608\n",
              "\n",
              "$`3`\n",
              "[1] 0.6908372\n"
            ]
          },
          "metadata": {}
        }
      ]
    },
    {
      "cell_type": "code",
      "source": [
        "tapply(x, f, range)"
      ],
      "metadata": {
        "colab": {
          "base_uri": "https://localhost:8080/",
          "height": 149
        },
        "id": "Jb351TyzmxRu",
        "outputId": "c3accd69-64ec-423b-813e-0bda06fec86c"
      },
      "execution_count": 32,
      "outputs": [
        {
          "output_type": "display_data",
          "data": {
            "text/html": [
              "<dl>\n",
              "\t<dt>$`1`</dt>\n",
              "\t\t<dd><style>\n",
              ".list-inline {list-style: none; margin:0; padding: 0}\n",
              ".list-inline>li {display: inline-block}\n",
              ".list-inline>li:not(:last-child)::after {content: \"\\00b7\"; padding: 0 .5ex}\n",
              "</style>\n",
              "<ol class=list-inline><li>-0.366508956134112</li><li>2.36173428471516</li></ol>\n",
              "</dd>\n",
              "\t<dt>$`2`</dt>\n",
              "\t\t<dd><style>\n",
              ".list-inline {list-style: none; margin:0; padding: 0}\n",
              ".list-inline>li {display: inline-block}\n",
              ".list-inline>li:not(:last-child)::after {content: \"\\00b7\"; padding: 0 .5ex}\n",
              "</style>\n",
              "<ol class=list-inline><li>0.0143408961594105</li><li>0.990110113751143</li></ol>\n",
              "</dd>\n",
              "\t<dt>$`3`</dt>\n",
              "\t\t<dd><style>\n",
              ".list-inline {list-style: none; margin:0; padding: 0}\n",
              ".list-inline>li {display: inline-block}\n",
              ".list-inline>li:not(:last-child)::after {content: \"\\00b7\"; padding: 0 .5ex}\n",
              "</style>\n",
              "<ol class=list-inline><li>-0.223915644602918</li><li>2.00050504034795</li></ol>\n",
              "</dd>\n",
              "</dl>\n"
            ],
            "text/markdown": "$`1`\n:   1. -0.366508956134112\n2. 2.36173428471516\n\n\n\n$`2`\n:   1. 0.0143408961594105\n2. 0.990110113751143\n\n\n\n$`3`\n:   1. -0.223915644602918\n2. 2.00050504034795\n\n\n\n\n\n",
            "text/latex": "\\begin{description}\n\\item[\\$`1`] \\begin{enumerate*}\n\\item -0.366508956134112\n\\item 2.36173428471516\n\\end{enumerate*}\n\n\\item[\\$`2`] \\begin{enumerate*}\n\\item 0.0143408961594105\n\\item 0.990110113751143\n\\end{enumerate*}\n\n\\item[\\$`3`] \\begin{enumerate*}\n\\item -0.223915644602918\n\\item 2.00050504034795\n\\end{enumerate*}\n\n\\end{description}\n",
            "text/plain": [
              "$`1`\n",
              "[1] -0.366509  2.361734\n",
              "\n",
              "$`2`\n",
              "[1] 0.0143409 0.9901101\n",
              "\n",
              "$`3`\n",
              "[1] -0.2239156  2.0005050\n"
            ]
          },
          "metadata": {}
        }
      ]
    },
    {
      "cell_type": "markdown",
      "source": [
        "###apply()"
      ],
      "metadata": {
        "id": "ghMs3uyom7jg"
      }
    },
    {
      "cell_type": "code",
      "source": [
        "str(apply)"
      ],
      "metadata": {
        "colab": {
          "base_uri": "https://localhost:8080/"
        },
        "id": "bwTFenepm50x",
        "outputId": "2deaf36f-655a-4a11-cfdb-3f917b2b2b70"
      },
      "execution_count": 33,
      "outputs": [
        {
          "output_type": "stream",
          "name": "stdout",
          "text": [
            "function (X, MARGIN, FUN, ..., simplify = TRUE)  \n"
          ]
        }
      ]
    },
    {
      "cell_type": "code",
      "source": [
        "x <- matrix(rnorm(200), 20, 10)\n",
        "apply(x, 2, mean)"
      ],
      "metadata": {
        "colab": {
          "base_uri": "https://localhost:8080/",
          "height": 52
        },
        "id": "CRA2wOZSnF4a",
        "outputId": "6a6b8c79-ffc4-4903-efab-a1a1a5d5d2f3"
      },
      "execution_count": 34,
      "outputs": [
        {
          "output_type": "display_data",
          "data": {
            "text/html": [
              "<style>\n",
              ".list-inline {list-style: none; margin:0; padding: 0}\n",
              ".list-inline>li {display: inline-block}\n",
              ".list-inline>li:not(:last-child)::after {content: \"\\00b7\"; padding: 0 .5ex}\n",
              "</style>\n",
              "<ol class=list-inline><li>-0.105344970714069</li><li>-0.0340621419305367</li><li>-0.00442186639615421</li><li>-0.113747226333947</li><li>-0.244351948249052</li><li>-0.175214842586939</li><li>-0.123388728904805</li><li>-0.0105110547453467</li><li>-0.391085093385449</li><li>-0.101265098447528</li></ol>\n"
            ],
            "text/markdown": "1. -0.105344970714069\n2. -0.0340621419305367\n3. -0.00442186639615421\n4. -0.113747226333947\n5. -0.244351948249052\n6. -0.175214842586939\n7. -0.123388728904805\n8. -0.0105110547453467\n9. -0.391085093385449\n10. -0.101265098447528\n\n\n",
            "text/latex": "\\begin{enumerate*}\n\\item -0.105344970714069\n\\item -0.0340621419305367\n\\item -0.00442186639615421\n\\item -0.113747226333947\n\\item -0.244351948249052\n\\item -0.175214842586939\n\\item -0.123388728904805\n\\item -0.0105110547453467\n\\item -0.391085093385449\n\\item -0.101265098447528\n\\end{enumerate*}\n",
            "text/plain": [
              " [1] -0.105344971 -0.034062142 -0.004421866 -0.113747226 -0.244351948\n",
              " [6] -0.175214843 -0.123388729 -0.010511055 -0.391085093 -0.101265098"
            ]
          },
          "metadata": {}
        }
      ]
    },
    {
      "cell_type": "code",
      "source": [
        "apply(x, 1, sum)"
      ],
      "metadata": {
        "colab": {
          "base_uri": "https://localhost:8080/",
          "height": 69
        },
        "id": "-hsLtLKwnTvx",
        "outputId": "d6dc955f-2283-449c-e792-93c7478d1f29"
      },
      "execution_count": 35,
      "outputs": [
        {
          "output_type": "display_data",
          "data": {
            "text/html": [
              "<style>\n",
              ".list-inline {list-style: none; margin:0; padding: 0}\n",
              ".list-inline>li {display: inline-block}\n",
              ".list-inline>li:not(:last-child)::after {content: \"\\00b7\"; padding: 0 .5ex}\n",
              "</style>\n",
              "<ol class=list-inline><li>-3.28240187555596</li><li>8.20856564205874</li><li>-0.505481138170887</li><li>-3.60002737128412</li><li>-2.56997404754226</li><li>2.8270297237924</li><li>2.36366461535158</li><li>-3.5090325078762</li><li>-1.15785863578658</li><li>-3.6309555352416</li><li>-0.188998392284095</li><li>2.42727264520823</li><li>-5.63380919767962</li><li>-3.54464314364731</li><li>-1.17338324634366</li><li>-1.06168616655902</li><li>-4.74549097089314</li><li>-2.67338437515447</li><li>-6.70787334564978</li><li>2.09060788938125</li></ol>\n"
            ],
            "text/markdown": "1. -3.28240187555596\n2. 8.20856564205874\n3. -0.505481138170887\n4. -3.60002737128412\n5. -2.56997404754226\n6. 2.8270297237924\n7. 2.36366461535158\n8. -3.5090325078762\n9. -1.15785863578658\n10. -3.6309555352416\n11. -0.188998392284095\n12. 2.42727264520823\n13. -5.63380919767962\n14. -3.54464314364731\n15. -1.17338324634366\n16. -1.06168616655902\n17. -4.74549097089314\n18. -2.67338437515447\n19. -6.70787334564978\n20. 2.09060788938125\n\n\n",
            "text/latex": "\\begin{enumerate*}\n\\item -3.28240187555596\n\\item 8.20856564205874\n\\item -0.505481138170887\n\\item -3.60002737128412\n\\item -2.56997404754226\n\\item 2.8270297237924\n\\item 2.36366461535158\n\\item -3.5090325078762\n\\item -1.15785863578658\n\\item -3.6309555352416\n\\item -0.188998392284095\n\\item 2.42727264520823\n\\item -5.63380919767962\n\\item -3.54464314364731\n\\item -1.17338324634366\n\\item -1.06168616655902\n\\item -4.74549097089314\n\\item -2.67338437515447\n\\item -6.70787334564978\n\\item 2.09060788938125\n\\end{enumerate*}\n",
            "text/plain": [
              " [1] -3.2824019  8.2085656 -0.5054811 -3.6000274 -2.5699740  2.8270297\n",
              " [7]  2.3636646 -3.5090325 -1.1578586 -3.6309555 -0.1889984  2.4272726\n",
              "[13] -5.6338092 -3.5446431 -1.1733832 -1.0616862 -4.7454910 -2.6733844\n",
              "[19] -6.7078733  2.0906079"
            ]
          },
          "metadata": {}
        }
      ]
    },
    {
      "cell_type": "code",
      "source": [
        "apply(x,2, mean)"
      ],
      "metadata": {
        "colab": {
          "base_uri": "https://localhost:8080/",
          "height": 52
        },
        "id": "hOSurXmtnY19",
        "outputId": "f5a2ee43-d076-46bf-a2c7-ad075075d950"
      },
      "execution_count": 36,
      "outputs": [
        {
          "output_type": "display_data",
          "data": {
            "text/html": [
              "<style>\n",
              ".list-inline {list-style: none; margin:0; padding: 0}\n",
              ".list-inline>li {display: inline-block}\n",
              ".list-inline>li:not(:last-child)::after {content: \"\\00b7\"; padding: 0 .5ex}\n",
              "</style>\n",
              "<ol class=list-inline><li>-0.105344970714069</li><li>-0.0340621419305367</li><li>-0.00442186639615421</li><li>-0.113747226333947</li><li>-0.244351948249052</li><li>-0.175214842586939</li><li>-0.123388728904805</li><li>-0.0105110547453467</li><li>-0.391085093385449</li><li>-0.101265098447528</li></ol>\n"
            ],
            "text/markdown": "1. -0.105344970714069\n2. -0.0340621419305367\n3. -0.00442186639615421\n4. -0.113747226333947\n5. -0.244351948249052\n6. -0.175214842586939\n7. -0.123388728904805\n8. -0.0105110547453467\n9. -0.391085093385449\n10. -0.101265098447528\n\n\n",
            "text/latex": "\\begin{enumerate*}\n\\item -0.105344970714069\n\\item -0.0340621419305367\n\\item -0.00442186639615421\n\\item -0.113747226333947\n\\item -0.244351948249052\n\\item -0.175214842586939\n\\item -0.123388728904805\n\\item -0.0105110547453467\n\\item -0.391085093385449\n\\item -0.101265098447528\n\\end{enumerate*}\n",
            "text/plain": [
              " [1] -0.105344971 -0.034062142 -0.004421866 -0.113747226 -0.244351948\n",
              " [6] -0.175214843 -0.123388729 -0.010511055 -0.391085093 -0.101265098"
            ]
          },
          "metadata": {}
        }
      ]
    },
    {
      "cell_type": "code",
      "source": [
        "apply(x, 1, mean)"
      ],
      "metadata": {
        "colab": {
          "base_uri": "https://localhost:8080/",
          "height": 69
        },
        "id": "pIalH3u4oDxk",
        "outputId": "910650e3-9f31-42de-918f-f0949670a8f0"
      },
      "execution_count": 37,
      "outputs": [
        {
          "output_type": "display_data",
          "data": {
            "text/html": [
              "<style>\n",
              ".list-inline {list-style: none; margin:0; padding: 0}\n",
              ".list-inline>li {display: inline-block}\n",
              ".list-inline>li:not(:last-child)::after {content: \"\\00b7\"; padding: 0 .5ex}\n",
              "</style>\n",
              "<ol class=list-inline><li>-0.328240187555596</li><li>0.820856564205874</li><li>-0.0505481138170887</li><li>-0.360002737128412</li><li>-0.256997404754226</li><li>0.28270297237924</li><li>0.236366461535158</li><li>-0.35090325078762</li><li>-0.115785863578658</li><li>-0.36309555352416</li><li>-0.0188998392284095</li><li>0.242727264520823</li><li>-0.563380919767962</li><li>-0.354464314364731</li><li>-0.117338324634366</li><li>-0.106168616655902</li><li>-0.474549097089314</li><li>-0.267338437515447</li><li>-0.670787334564978</li><li>0.209060788938125</li></ol>\n"
            ],
            "text/markdown": "1. -0.328240187555596\n2. 0.820856564205874\n3. -0.0505481138170887\n4. -0.360002737128412\n5. -0.256997404754226\n6. 0.28270297237924\n7. 0.236366461535158\n8. -0.35090325078762\n9. -0.115785863578658\n10. -0.36309555352416\n11. -0.0188998392284095\n12. 0.242727264520823\n13. -0.563380919767962\n14. -0.354464314364731\n15. -0.117338324634366\n16. -0.106168616655902\n17. -0.474549097089314\n18. -0.267338437515447\n19. -0.670787334564978\n20. 0.209060788938125\n\n\n",
            "text/latex": "\\begin{enumerate*}\n\\item -0.328240187555596\n\\item 0.820856564205874\n\\item -0.0505481138170887\n\\item -0.360002737128412\n\\item -0.256997404754226\n\\item 0.28270297237924\n\\item 0.236366461535158\n\\item -0.35090325078762\n\\item -0.115785863578658\n\\item -0.36309555352416\n\\item -0.0188998392284095\n\\item 0.242727264520823\n\\item -0.563380919767962\n\\item -0.354464314364731\n\\item -0.117338324634366\n\\item -0.106168616655902\n\\item -0.474549097089314\n\\item -0.267338437515447\n\\item -0.670787334564978\n\\item 0.209060788938125\n\\end{enumerate*}\n",
            "text/plain": [
              " [1] -0.32824019  0.82085656 -0.05054811 -0.36000274 -0.25699740  0.28270297\n",
              " [7]  0.23636646 -0.35090325 -0.11578586 -0.36309555 -0.01889984  0.24272726\n",
              "[13] -0.56338092 -0.35446431 -0.11733832 -0.10616862 -0.47454910 -0.26733844\n",
              "[19] -0.67078733  0.20906079"
            ]
          },
          "metadata": {}
        }
      ]
    },
    {
      "cell_type": "code",
      "source": [
        "x <- matrix(rnorm(200), 20, 10)\n",
        "\n",
        "##Get row quantiles\n",
        "apply(x, 1, quantile, probs = c(0.25, 0.75))"
      ],
      "metadata": {
        "colab": {
          "base_uri": "https://localhost:8080/",
          "height": 117
        },
        "id": "lSQvcJxmoOvg",
        "outputId": "db6d3a1a-cb09-45fb-ba5f-44b36484257c"
      },
      "execution_count": 38,
      "outputs": [
        {
          "output_type": "display_data",
          "data": {
            "text/html": [
              "<table class=\"dataframe\">\n",
              "<caption>A matrix: 2 × 20 of type dbl</caption>\n",
              "<tbody>\n",
              "\t<tr><th scope=row>25%</th><td>-0.4050263</td><td>-0.6874972</td><td>-0.6796326</td><td>-0.02142641</td><td>-0.6913104</td><td>-0.681523</td><td>-0.8607427</td><td>-1.0227316</td><td>-1.072716</td><td>-0.860216</td><td>-0.1384990</td><td>-0.3380476</td><td>-0.1536151</td><td>-0.5880828</td><td>-0.6452423</td><td>-1.0446251</td><td>-0.7676625</td><td>-0.3649753</td><td>-0.2720022</td><td>-0.5479618</td></tr>\n",
              "\t<tr><th scope=row>75%</th><td> 0.6298319</td><td> 0.6576763</td><td> 0.3106404</td><td> 0.61871909</td><td> 0.5307515</td><td>-0.111971</td><td> 0.5436911</td><td> 0.1956175</td><td>-0.317949</td><td> 0.248008</td><td> 0.6507277</td><td> 0.9088116</td><td> 0.3834414</td><td> 0.2143543</td><td> 0.2268783</td><td> 0.5163418</td><td> 0.1732997</td><td> 0.4278493</td><td> 0.5761518</td><td> 0.4697676</td></tr>\n",
              "</tbody>\n",
              "</table>\n"
            ],
            "text/markdown": "\nA matrix: 2 × 20 of type dbl\n\n| 25% | -0.4050263 | -0.6874972 | -0.6796326 | -0.02142641 | -0.6913104 | -0.681523 | -0.8607427 | -1.0227316 | -1.072716 | -0.860216 | -0.1384990 | -0.3380476 | -0.1536151 | -0.5880828 | -0.6452423 | -1.0446251 | -0.7676625 | -0.3649753 | -0.2720022 | -0.5479618 |\n| 75% |  0.6298319 |  0.6576763 |  0.3106404 |  0.61871909 |  0.5307515 | -0.111971 |  0.5436911 |  0.1956175 | -0.317949 |  0.248008 |  0.6507277 |  0.9088116 |  0.3834414 |  0.2143543 |  0.2268783 |  0.5163418 |  0.1732997 |  0.4278493 |  0.5761518 |  0.4697676 |\n\n",
            "text/latex": "A matrix: 2 × 20 of type dbl\n\\begin{tabular}{r|llllllllllllllllllll}\n\t25\\% & -0.4050263 & -0.6874972 & -0.6796326 & -0.02142641 & -0.6913104 & -0.681523 & -0.8607427 & -1.0227316 & -1.072716 & -0.860216 & -0.1384990 & -0.3380476 & -0.1536151 & -0.5880828 & -0.6452423 & -1.0446251 & -0.7676625 & -0.3649753 & -0.2720022 & -0.5479618\\\\\n\t75\\% &  0.6298319 &  0.6576763 &  0.3106404 &  0.61871909 &  0.5307515 & -0.111971 &  0.5436911 &  0.1956175 & -0.317949 &  0.248008 &  0.6507277 &  0.9088116 &  0.3834414 &  0.2143543 &  0.2268783 &  0.5163418 &  0.1732997 &  0.4278493 &  0.5761518 &  0.4697676\\\\\n\\end{tabular}\n",
            "text/plain": [
              "    [,1]       [,2]       [,3]       [,4]        [,5]       [,6]     \n",
              "25% -0.4050263 -0.6874972 -0.6796326 -0.02142641 -0.6913104 -0.681523\n",
              "75%  0.6298319  0.6576763  0.3106404  0.61871909  0.5307515 -0.111971\n",
              "    [,7]       [,8]       [,9]      [,10]     [,11]      [,12]      [,13]     \n",
              "25% -0.8607427 -1.0227316 -1.072716 -0.860216 -0.1384990 -0.3380476 -0.1536151\n",
              "75%  0.5436911  0.1956175 -0.317949  0.248008  0.6507277  0.9088116  0.3834414\n",
              "    [,14]      [,15]      [,16]      [,17]      [,18]      [,19]     \n",
              "25% -0.5880828 -0.6452423 -1.0446251 -0.7676625 -0.3649753 -0.2720022\n",
              "75%  0.2143543  0.2268783  0.5163418  0.1732997  0.4278493  0.5761518\n",
              "    [,20]     \n",
              "25% -0.5479618\n",
              "75%  0.4697676"
            ]
          },
          "metadata": {}
        }
      ]
    },
    {
      "cell_type": "code",
      "source": [
        "a <- array(rnorm(2*2*10), c(2,2,10))\n",
        "apply(a,c(1,2), mean)"
      ],
      "metadata": {
        "colab": {
          "base_uri": "https://localhost:8080/",
          "height": 97
        },
        "id": "aR_E9uvcozkd",
        "outputId": "1cf0452b-ea22-43cb-d1c9-0fcb99800885"
      },
      "execution_count": 39,
      "outputs": [
        {
          "output_type": "display_data",
          "data": {
            "text/html": [
              "<table class=\"dataframe\">\n",
              "<caption>A matrix: 2 × 2 of type dbl</caption>\n",
              "<tbody>\n",
              "\t<tr><td> 0.1759006</td><td>-0.03277964</td></tr>\n",
              "\t<tr><td>-0.1278567</td><td>-0.61355305</td></tr>\n",
              "</tbody>\n",
              "</table>\n"
            ],
            "text/markdown": "\nA matrix: 2 × 2 of type dbl\n\n|  0.1759006 | -0.03277964 |\n| -0.1278567 | -0.61355305 |\n\n",
            "text/latex": "A matrix: 2 × 2 of type dbl\n\\begin{tabular}{ll}\n\t  0.1759006 & -0.03277964\\\\\n\t -0.1278567 & -0.61355305\\\\\n\\end{tabular}\n",
            "text/plain": [
              "     [,1]       [,2]       \n",
              "[1,]  0.1759006 -0.03277964\n",
              "[2,] -0.1278567 -0.61355305"
            ]
          },
          "metadata": {}
        }
      ]
    },
    {
      "cell_type": "code",
      "source": [
        "rowMeans(a, dims=2)  ##faster"
      ],
      "metadata": {
        "colab": {
          "base_uri": "https://localhost:8080/",
          "height": 97
        },
        "id": "P7uGWy9mpG9h",
        "outputId": "de0183d8-2052-4172-ad7d-ca5e813c2157"
      },
      "execution_count": 40,
      "outputs": [
        {
          "output_type": "display_data",
          "data": {
            "text/html": [
              "<table class=\"dataframe\">\n",
              "<caption>A matrix: 2 × 2 of type dbl</caption>\n",
              "<tbody>\n",
              "\t<tr><td> 0.1759006</td><td>-0.03277964</td></tr>\n",
              "\t<tr><td>-0.1278567</td><td>-0.61355305</td></tr>\n",
              "</tbody>\n",
              "</table>\n"
            ],
            "text/markdown": "\nA matrix: 2 × 2 of type dbl\n\n|  0.1759006 | -0.03277964 |\n| -0.1278567 | -0.61355305 |\n\n",
            "text/latex": "A matrix: 2 × 2 of type dbl\n\\begin{tabular}{ll}\n\t  0.1759006 & -0.03277964\\\\\n\t -0.1278567 & -0.61355305\\\\\n\\end{tabular}\n",
            "text/plain": [
              "     [,1]       [,2]       \n",
              "[1,]  0.1759006 -0.03277964\n",
              "[2,] -0.1278567 -0.61355305"
            ]
          },
          "metadata": {}
        }
      ]
    },
    {
      "cell_type": "markdown",
      "source": [
        "###mapply()"
      ],
      "metadata": {
        "id": "IMBosNYLp7TN"
      }
    },
    {
      "cell_type": "code",
      "source": [
        "str(mapply)"
      ],
      "metadata": {
        "colab": {
          "base_uri": "https://localhost:8080/"
        },
        "id": "lMZPtXI8pTEP",
        "outputId": "5ce6ce8f-0d46-4234-880c-c7be7fecb9b9"
      },
      "execution_count": 41,
      "outputs": [
        {
          "output_type": "stream",
          "name": "stdout",
          "text": [
            "function (FUN, ..., MoreArgs = NULL, SIMPLIFY = TRUE, USE.NAMES = TRUE)  \n"
          ]
        }
      ]
    },
    {
      "cell_type": "code",
      "source": [
        "mapply(rep, 1:4, 4:1)"
      ],
      "metadata": {
        "colab": {
          "base_uri": "https://localhost:8080/",
          "height": 114
        },
        "id": "qUu20RfKqET3",
        "outputId": "fa2ff880-2455-4622-9ccd-3ba6e5ffc905"
      },
      "execution_count": 42,
      "outputs": [
        {
          "output_type": "display_data",
          "data": {
            "text/html": [
              "<ol>\n",
              "\t<li><style>\n",
              ".list-inline {list-style: none; margin:0; padding: 0}\n",
              ".list-inline>li {display: inline-block}\n",
              ".list-inline>li:not(:last-child)::after {content: \"\\00b7\"; padding: 0 .5ex}\n",
              "</style>\n",
              "<ol class=list-inline><li>1</li><li>1</li><li>1</li><li>1</li></ol>\n",
              "</li>\n",
              "\t<li><style>\n",
              ".list-inline {list-style: none; margin:0; padding: 0}\n",
              ".list-inline>li {display: inline-block}\n",
              ".list-inline>li:not(:last-child)::after {content: \"\\00b7\"; padding: 0 .5ex}\n",
              "</style>\n",
              "<ol class=list-inline><li>2</li><li>2</li><li>2</li></ol>\n",
              "</li>\n",
              "\t<li><style>\n",
              ".list-inline {list-style: none; margin:0; padding: 0}\n",
              ".list-inline>li {display: inline-block}\n",
              ".list-inline>li:not(:last-child)::after {content: \"\\00b7\"; padding: 0 .5ex}\n",
              "</style>\n",
              "<ol class=list-inline><li>3</li><li>3</li></ol>\n",
              "</li>\n",
              "\t<li>4</li>\n",
              "</ol>\n"
            ],
            "text/markdown": "1. 1. 1\n2. 1\n3. 1\n4. 1\n\n\n\n2. 1. 2\n2. 2\n3. 2\n\n\n\n3. 1. 3\n2. 3\n\n\n\n4. 4\n\n\n",
            "text/latex": "\\begin{enumerate}\n\\item \\begin{enumerate*}\n\\item 1\n\\item 1\n\\item 1\n\\item 1\n\\end{enumerate*}\n\n\\item \\begin{enumerate*}\n\\item 2\n\\item 2\n\\item 2\n\\end{enumerate*}\n\n\\item \\begin{enumerate*}\n\\item 3\n\\item 3\n\\end{enumerate*}\n\n\\item 4\n\\end{enumerate}\n",
            "text/plain": [
              "[[1]]\n",
              "[1] 1 1 1 1\n",
              "\n",
              "[[2]]\n",
              "[1] 2 2 2\n",
              "\n",
              "[[3]]\n",
              "[1] 3 3\n",
              "\n",
              "[[4]]\n",
              "[1] 4\n"
            ]
          },
          "metadata": {}
        }
      ]
    },
    {
      "cell_type": "code",
      "source": [
        "noise <- function(n, mean, sd){\n",
        "  rnorm(n, mean, sd)\n",
        "}"
      ],
      "metadata": {
        "id": "gfs3HHdzqVdB"
      },
      "execution_count": 43,
      "outputs": []
    },
    {
      "cell_type": "code",
      "source": [
        "#Simulate 5 random numbers\n",
        "noise(5,1,2)"
      ],
      "metadata": {
        "colab": {
          "base_uri": "https://localhost:8080/",
          "height": 34
        },
        "id": "DvPP1MIDqt3A",
        "outputId": "26fe1212-733b-453d-f333-f4ab56cad4ba"
      },
      "execution_count": 44,
      "outputs": [
        {
          "output_type": "display_data",
          "data": {
            "text/html": [
              "<style>\n",
              ".list-inline {list-style: none; margin:0; padding: 0}\n",
              ".list-inline>li {display: inline-block}\n",
              ".list-inline>li:not(:last-child)::after {content: \"\\00b7\"; padding: 0 .5ex}\n",
              "</style>\n",
              "<ol class=list-inline><li>3.6838106300394</li><li>1.39035103889081</li><li>2.63249669834587</li><li>0.0785906586562946</li><li>2.7748884839657</li></ol>\n"
            ],
            "text/markdown": "1. 3.6838106300394\n2. 1.39035103889081\n3. 2.63249669834587\n4. 0.0785906586562946\n5. 2.7748884839657\n\n\n",
            "text/latex": "\\begin{enumerate*}\n\\item 3.6838106300394\n\\item 1.39035103889081\n\\item 2.63249669834587\n\\item 0.0785906586562946\n\\item 2.7748884839657\n\\end{enumerate*}\n",
            "text/plain": [
              "[1] 3.68381063 1.39035104 2.63249670 0.07859066 2.77488848"
            ]
          },
          "metadata": {}
        }
      ]
    },
    {
      "cell_type": "code",
      "source": [
        "noise(1:5, 1:5, 2)"
      ],
      "metadata": {
        "colab": {
          "base_uri": "https://localhost:8080/",
          "height": 34
        },
        "id": "qbwFtrSbq0n2",
        "outputId": "65fcf425-28cf-4af2-bcb6-24e6584c1dc4"
      },
      "execution_count": 45,
      "outputs": [
        {
          "output_type": "display_data",
          "data": {
            "text/html": [
              "<style>\n",
              ".list-inline {list-style: none; margin:0; padding: 0}\n",
              ".list-inline>li {display: inline-block}\n",
              ".list-inline>li:not(:last-child)::after {content: \"\\00b7\"; padding: 0 .5ex}\n",
              "</style>\n",
              "<ol class=list-inline><li>2.46401911266735</li><li>5.30538502409567</li><li>0.932702159420086</li><li>3.75449885893106</li><li>5.24817875106063</li></ol>\n"
            ],
            "text/markdown": "1. 2.46401911266735\n2. 5.30538502409567\n3. 0.932702159420086\n4. 3.75449885893106\n5. 5.24817875106063\n\n\n",
            "text/latex": "\\begin{enumerate*}\n\\item 2.46401911266735\n\\item 5.30538502409567\n\\item 0.932702159420086\n\\item 3.75449885893106\n\\item 5.24817875106063\n\\end{enumerate*}\n",
            "text/plain": [
              "[1] 2.4640191 5.3053850 0.9327022 3.7544989 5.2481788"
            ]
          },
          "metadata": {}
        }
      ]
    },
    {
      "cell_type": "code",
      "source": [
        "mapply(noise, 1:5, 1:5, 2)"
      ],
      "metadata": {
        "colab": {
          "base_uri": "https://localhost:8080/",
          "height": 132
        },
        "id": "SyM1zU6Eq6yT",
        "outputId": "49e204e7-574b-4b96-c126-b7c563f231fd"
      },
      "execution_count": 46,
      "outputs": [
        {
          "output_type": "display_data",
          "data": {
            "text/html": [
              "<ol>\n",
              "\t<li>-0.506972797640986</li>\n",
              "\t<li><style>\n",
              ".list-inline {list-style: none; margin:0; padding: 0}\n",
              ".list-inline>li {display: inline-block}\n",
              ".list-inline>li:not(:last-child)::after {content: \"\\00b7\"; padding: 0 .5ex}\n",
              "</style>\n",
              "<ol class=list-inline><li>3.15477505826789</li><li>3.92245939917642</li></ol>\n",
              "</li>\n",
              "\t<li><style>\n",
              ".list-inline {list-style: none; margin:0; padding: 0}\n",
              ".list-inline>li {display: inline-block}\n",
              ".list-inline>li:not(:last-child)::after {content: \"\\00b7\"; padding: 0 .5ex}\n",
              "</style>\n",
              "<ol class=list-inline><li>5.58620654588258</li><li>2.67292255244175</li><li>1.84260806905081</li></ol>\n",
              "</li>\n",
              "\t<li><style>\n",
              ".list-inline {list-style: none; margin:0; padding: 0}\n",
              ".list-inline>li {display: inline-block}\n",
              ".list-inline>li:not(:last-child)::after {content: \"\\00b7\"; padding: 0 .5ex}\n",
              "</style>\n",
              "<ol class=list-inline><li>0.733027261688077</li><li>1.11224919306179</li><li>0.411299203000448</li><li>4.71933542712352</li></ol>\n",
              "</li>\n",
              "\t<li><style>\n",
              ".list-inline {list-style: none; margin:0; padding: 0}\n",
              ".list-inline>li {display: inline-block}\n",
              ".list-inline>li:not(:last-child)::after {content: \"\\00b7\"; padding: 0 .5ex}\n",
              "</style>\n",
              "<ol class=list-inline><li>3.68632137854127</li><li>5.58979223781882</li><li>7.06746819572883</li><li>3.34495970493877</li><li>7.6383488138332</li></ol>\n",
              "</li>\n",
              "</ol>\n"
            ],
            "text/markdown": "1. -0.506972797640986\n2. 1. 3.15477505826789\n2. 3.92245939917642\n\n\n\n3. 1. 5.58620654588258\n2. 2.67292255244175\n3. 1.84260806905081\n\n\n\n4. 1. 0.733027261688077\n2. 1.11224919306179\n3. 0.411299203000448\n4. 4.71933542712352\n\n\n\n5. 1. 3.68632137854127\n2. 5.58979223781882\n3. 7.06746819572883\n4. 3.34495970493877\n5. 7.6383488138332\n\n\n\n\n\n",
            "text/latex": "\\begin{enumerate}\n\\item -0.506972797640986\n\\item \\begin{enumerate*}\n\\item 3.15477505826789\n\\item 3.92245939917642\n\\end{enumerate*}\n\n\\item \\begin{enumerate*}\n\\item 5.58620654588258\n\\item 2.67292255244175\n\\item 1.84260806905081\n\\end{enumerate*}\n\n\\item \\begin{enumerate*}\n\\item 0.733027261688077\n\\item 1.11224919306179\n\\item 0.411299203000448\n\\item 4.71933542712352\n\\end{enumerate*}\n\n\\item \\begin{enumerate*}\n\\item 3.68632137854127\n\\item 5.58979223781882\n\\item 7.06746819572883\n\\item 3.34495970493877\n\\item 7.6383488138332\n\\end{enumerate*}\n\n\\end{enumerate}\n",
            "text/plain": [
              "[[1]]\n",
              "[1] -0.5069728\n",
              "\n",
              "[[2]]\n",
              "[1] 3.154775 3.922459\n",
              "\n",
              "[[3]]\n",
              "[1] 5.586207 2.672923 1.842608\n",
              "\n",
              "[[4]]\n",
              "[1] 0.7330273 1.1122492 0.4112992 4.7193354\n",
              "\n",
              "[[5]]\n",
              "[1] 3.686321 5.589792 7.067468 3.344960 7.638349\n"
            ]
          },
          "metadata": {}
        }
      ]
    },
    {
      "cell_type": "markdown",
      "source": [
        "##Vectorizing a Function"
      ],
      "metadata": {
        "id": "kIbwVMCVrQGr"
      }
    },
    {
      "cell_type": "code",
      "source": [
        "sumsq <- function(mu, sigma, x){\n",
        "  sum(((x-mu)/sigma)^2)\n",
        "}"
      ],
      "metadata": {
        "id": "JWm0FU3GrC6q"
      },
      "execution_count": 47,
      "outputs": []
    },
    {
      "cell_type": "code",
      "source": [
        "x <- rnorm(100)\n",
        "sumsq(1:10, 1:10,x)"
      ],
      "metadata": {
        "colab": {
          "base_uri": "https://localhost:8080/",
          "height": 34
        },
        "id": "JScD5DpIrk_U",
        "outputId": "a4237170-0fc9-4e33-a4fd-8308db9dfdcf"
      },
      "execution_count": 48,
      "outputs": [
        {
          "output_type": "display_data",
          "data": {
            "text/html": [
              "124.716744879125"
            ],
            "text/markdown": "124.716744879125",
            "text/latex": "124.716744879125",
            "text/plain": [
              "[1] 124.7167"
            ]
          },
          "metadata": {}
        }
      ]
    },
    {
      "cell_type": "code",
      "source": [
        "mapply(sumsq, 1:10, 1:10, MoreArgs = list(x=x))"
      ],
      "metadata": {
        "colab": {
          "base_uri": "https://localhost:8080/",
          "height": 52
        },
        "id": "8ZnV0f_rry2Q",
        "outputId": "7a0d2ced-f829-4046-ed1e-d1425d56cb1a"
      },
      "execution_count": 49,
      "outputs": [
        {
          "output_type": "display_data",
          "data": {
            "text/html": [
              "<style>\n",
              ".list-inline {list-style: none; margin:0; padding: 0}\n",
              ".list-inline>li {display: inline-block}\n",
              ".list-inline>li:not(:last-child)::after {content: \"\\00b7\"; padding: 0 .5ex}\n",
              "</style>\n",
              "<ol class=list-inline><li>197.262605761218</li><li>120.981344629512</li><li>107.843127919431</li><li>103.578182751982</li><li>101.756547871541</li><li>100.84934637626</li><li>100.351821271473</li><li>100.060968985297</li><li>99.8835158989612</li><li>99.7722756057268</li></ol>\n"
            ],
            "text/markdown": "1. 197.262605761218\n2. 120.981344629512\n3. 107.843127919431\n4. 103.578182751982\n5. 101.756547871541\n6. 100.84934637626\n7. 100.351821271473\n8. 100.060968985297\n9. 99.8835158989612\n10. 99.7722756057268\n\n\n",
            "text/latex": "\\begin{enumerate*}\n\\item 197.262605761218\n\\item 120.981344629512\n\\item 107.843127919431\n\\item 103.578182751982\n\\item 101.756547871541\n\\item 100.84934637626\n\\item 100.351821271473\n\\item 100.060968985297\n\\item 99.8835158989612\n\\item 99.7722756057268\n\\end{enumerate*}\n",
            "text/plain": [
              " [1] 197.26261 120.98134 107.84313 103.57818 101.75655 100.84935 100.35182\n",
              " [8] 100.06097  99.88352  99.77228"
            ]
          },
          "metadata": {}
        }
      ]
    },
    {
      "cell_type": "code",
      "source": [
        "vsumsq <- Vectorize(sumsq, c(\"mu\", \"sigma\"))\n",
        "vsumsq(1:10, 1:10, x)"
      ],
      "metadata": {
        "colab": {
          "base_uri": "https://localhost:8080/",
          "height": 52
        },
        "id": "EL-2VTiPr-Kg",
        "outputId": "4070177d-bda9-4fd6-fb84-df07a54231b1"
      },
      "execution_count": 50,
      "outputs": [
        {
          "output_type": "display_data",
          "data": {
            "text/html": [
              "<style>\n",
              ".list-inline {list-style: none; margin:0; padding: 0}\n",
              ".list-inline>li {display: inline-block}\n",
              ".list-inline>li:not(:last-child)::after {content: \"\\00b7\"; padding: 0 .5ex}\n",
              "</style>\n",
              "<ol class=list-inline><li>197.262605761218</li><li>120.981344629512</li><li>107.843127919431</li><li>103.578182751982</li><li>101.756547871541</li><li>100.84934637626</li><li>100.351821271473</li><li>100.060968985297</li><li>99.8835158989612</li><li>99.7722756057268</li></ol>\n"
            ],
            "text/markdown": "1. 197.262605761218\n2. 120.981344629512\n3. 107.843127919431\n4. 103.578182751982\n5. 101.756547871541\n6. 100.84934637626\n7. 100.351821271473\n8. 100.060968985297\n9. 99.8835158989612\n10. 99.7722756057268\n\n\n",
            "text/latex": "\\begin{enumerate*}\n\\item 197.262605761218\n\\item 120.981344629512\n\\item 107.843127919431\n\\item 103.578182751982\n\\item 101.756547871541\n\\item 100.84934637626\n\\item 100.351821271473\n\\item 100.060968985297\n\\item 99.8835158989612\n\\item 99.7722756057268\n\\end{enumerate*}\n",
            "text/plain": [
              " [1] 197.26261 120.98134 107.84313 103.57818 101.75655 100.84935 100.35182\n",
              " [8] 100.06097  99.88352  99.77228"
            ]
          },
          "metadata": {}
        }
      ]
    },
    {
      "cell_type": "markdown",
      "source": [
        "#Debugging"
      ],
      "metadata": {
        "id": "1JQ_E3ypJ95q"
      }
    },
    {
      "cell_type": "markdown",
      "source": [
        "##Using traceback()"
      ],
      "metadata": {
        "id": "VPV1nzgEKBEp"
      }
    },
    {
      "cell_type": "markdown",
      "source": [
        "The traceback() function prints out the function call stack after an error has occurred."
      ],
      "metadata": {
        "id": "efzgIIuGKIwA"
      }
    },
    {
      "cell_type": "code",
      "source": [
        "mean(x)"
      ],
      "metadata": {
        "colab": {
          "base_uri": "https://localhost:8080/",
          "height": 228
        },
        "id": "WmXC5x6tsOd9",
        "outputId": "d11ec795-beed-4c67-ce3a-b413ee433926"
      },
      "execution_count": 1,
      "outputs": [
        {
          "output_type": "error",
          "ename": "ERROR",
          "evalue": "Error: object 'x' not found\n",
          "traceback": [
            "Error: object 'x' not found\nTraceback:\n",
            "1. .handleSimpleError(function (cnd) \n . {\n .     watcher$capture_plot_and_output()\n .     cnd <- sanitize_call(cnd)\n .     watcher$push(cnd)\n .     switch(on_error, continue = invokeRestart(\"eval_continue\"), \n .         stop = invokeRestart(\"eval_stop\"), error = NULL)\n . }, \"object 'x' not found\", base::quote(eval(expr, envir)))"
          ]
        }
      ]
    },
    {
      "cell_type": "code",
      "source": [
        "traceback()"
      ],
      "metadata": {
        "colab": {
          "base_uri": "https://localhost:8080/"
        },
        "id": "g2kfLl5eKU17",
        "outputId": "940e8d9a-dad1-4f59-b566-5a040de69c3f"
      },
      "execution_count": 2,
      "outputs": [
        {
          "output_type": "stream",
          "name": "stdout",
          "text": [
            "No traceback available \n"
          ]
        }
      ]
    },
    {
      "cell_type": "code",
      "source": [
        "lm(y ~ x)"
      ],
      "metadata": {
        "colab": {
          "base_uri": "https://localhost:8080/",
          "height": 332
        },
        "id": "DvPtRDJHKX_1",
        "outputId": "b87f4f84-1459-48c0-ac14-2f069ce0cb6c"
      },
      "execution_count": 3,
      "outputs": [
        {
          "output_type": "error",
          "ename": "ERROR",
          "evalue": "Error in eval(predvars, data, env): object 'y' not found\n",
          "traceback": [
            "Error in eval(predvars, data, env): object 'y' not found\nTraceback:\n",
            "1. eval(mf, parent.frame())",
            "2. eval(mf, parent.frame())",
            "3. stats::model.frame(formula = y ~ x, drop.unused.levels = TRUE)",
            "4. model.frame.default(formula = y ~ x, drop.unused.levels = TRUE)",
            "5. eval(predvars, data, env)",
            "6. eval(predvars, data, env)",
            "7. .handleSimpleError(function (cnd) \n . {\n .     watcher$capture_plot_and_output()\n .     cnd <- sanitize_call(cnd)\n .     watcher$push(cnd)\n .     switch(on_error, continue = invokeRestart(\"eval_continue\"), \n .         stop = invokeRestart(\"eval_stop\"), error = NULL)\n . }, \"object 'y' not found\", base::quote(eval(predvars, data, env)))"
          ]
        }
      ]
    },
    {
      "cell_type": "code",
      "source": [
        "traceback()"
      ],
      "metadata": {
        "colab": {
          "base_uri": "https://localhost:8080/"
        },
        "id": "kv-NGDC-Kl3B",
        "outputId": "6f5f0f9d-33d2-4b5e-82c6-dd6ee957e667"
      },
      "execution_count": 4,
      "outputs": [
        {
          "output_type": "stream",
          "name": "stdout",
          "text": [
            "No traceback available \n"
          ]
        }
      ]
    },
    {
      "cell_type": "markdown",
      "source": [
        "##Using debug()"
      ],
      "metadata": {
        "id": "_q3GXQIkKzZa"
      }
    },
    {
      "cell_type": "code",
      "source": [
        "debug(lm)\n",
        "lm(y~x)"
      ],
      "metadata": {
        "colab": {
          "base_uri": "https://localhost:8080/",
          "height": 1000
        },
        "id": "bQj0sTbqKn7_",
        "outputId": "7b5ab6c6-4716-4750-df17-2ca01b1c9c34"
      },
      "execution_count": 5,
      "outputs": [
        {
          "output_type": "stream",
          "name": "stdout",
          "text": [
            "debugging in: lm(y ~ x)\n",
            "debug: {\n",
            "    ret.x <- x\n",
            "    ret.y <- y\n",
            "    cl <- match.call()\n",
            "    mf <- match.call(expand.dots = FALSE)\n",
            "    m <- match(c(\"formula\", \"data\", \"subset\", \"weights\", \"na.action\", \n",
            "        \"offset\"), names(mf), 0L)\n",
            "    mf <- mf[c(1L, m)]\n",
            "    mf$drop.unused.levels <- TRUE\n",
            "    mf[[1L]] <- quote(stats::model.frame)\n",
            "    mf <- eval(mf, parent.frame())\n",
            "    if (method == \"model.frame\") \n",
            "        return(mf)\n",
            "    else if (method != \"qr\") \n",
            "        warning(gettextf(\"method = '%s' is not supported. Using 'qr'\", \n",
            "            method), domain = NA)\n",
            "    mt <- attr(mf, \"terms\")\n",
            "    y <- model.response(mf, \"numeric\")\n",
            "    w <- as.vector(model.weights(mf))\n",
            "    if (!is.null(w) && !is.numeric(w)) \n",
            "        stop(\"'weights' must be a numeric vector\")\n",
            "    offset <- model.offset(mf)\n",
            "    mlm <- is.matrix(y)\n",
            "    ny <- if (mlm) \n",
            "        nrow(y)\n",
            "    else length(y)\n",
            "    if (!is.null(offset)) {\n",
            "        if (!mlm) \n",
            "            offset <- as.vector(offset)\n",
            "        if (NROW(offset) != ny) \n",
            "            stop(gettextf(\"number of offsets is %d, should equal %d (number of observations)\", \n",
            "                NROW(offset), ny), domain = NA)\n",
            "    }\n",
            "    if (is.empty.model(mt)) {\n",
            "        x <- NULL\n",
            "        z <- list(coefficients = if (mlm) matrix(NA_real_, 0, \n",
            "            ncol(y)) else numeric(), residuals = y, fitted.values = 0 * \n",
            "            y, weights = w, rank = 0L, df.residual = if (!is.null(w)) sum(w != \n",
            "            0) else ny)\n",
            "        if (!is.null(offset)) {\n",
            "            z$fitted.values <- offset\n",
            "            z$residuals <- y - offset\n",
            "        }\n",
            "    }\n",
            "    else {\n",
            "        x <- model.matrix(mt, mf, contrasts)\n",
            "        z <- if (is.null(w)) \n",
            "            lm.fit(x, y, offset = offset, singular.ok = singular.ok, \n",
            "                ...)\n",
            "        else lm.wfit(x, y, w, offset = offset, singular.ok = singular.ok, \n",
            "            ...)\n",
            "    }\n",
            "    class(z) <- c(if (mlm) \"mlm\", \"lm\")\n",
            "    z$na.action <- attr(mf, \"na.action\")\n",
            "    z$offset <- offset\n",
            "    z$contrasts <- attr(x, \"contrasts\")\n",
            "    z$xlevels <- .getXlevels(mt, mf)\n",
            "    z$call <- cl\n",
            "    z$terms <- mt\n",
            "    if (model) \n",
            "        z$model <- mf\n",
            "    if (ret.x) \n",
            "        z$x <- x\n",
            "    if (ret.y) \n",
            "        z$y <- y\n",
            "    if (!qr) \n",
            "        z$qr <- NULL\n",
            "    z\n",
            "}\n",
            "debug: ret.x <- x\n",
            "debug: ret.y <- y\n",
            "debug: cl <- match.call()\n",
            "debug: mf <- match.call(expand.dots = FALSE)\n",
            "debug: m <- match(c(\"formula\", \"data\", \"subset\", \"weights\", \"na.action\", \n",
            "    \"offset\"), names(mf), 0L)\n",
            "debug: mf <- mf[c(1L, m)]\n",
            "debug: mf$drop.unused.levels <- TRUE\n",
            "debug: mf[[1L]] <- quote(stats::model.frame)\n",
            "debug: mf <- eval(mf, parent.frame())\n"
          ]
        },
        {
          "output_type": "error",
          "ename": "ERROR",
          "evalue": "Error in eval(predvars, data, env): object 'y' not found\n",
          "traceback": [
            "Error in eval(predvars, data, env): object 'y' not found\nTraceback:\n",
            "1. eval(mf, parent.frame())",
            "2. eval(mf, parent.frame())",
            "3. stats::model.frame(formula = y ~ x, drop.unused.levels = TRUE)",
            "4. model.frame.default(formula = y ~ x, drop.unused.levels = TRUE)",
            "5. eval(predvars, data, env)",
            "6. eval(predvars, data, env)",
            "7. .handleSimpleError(function (cnd) \n . {\n .     watcher$capture_plot_and_output()\n .     cnd <- sanitize_call(cnd)\n .     watcher$push(cnd)\n .     switch(on_error, continue = invokeRestart(\"eval_continue\"), \n .         stop = invokeRestart(\"eval_stop\"), error = NULL)\n . }, \"object 'y' not found\", base::quote(eval(predvars, data, env)))"
          ]
        }
      ]
    },
    {
      "cell_type": "code",
      "source": [
        "undebug(lm)"
      ],
      "metadata": {
        "id": "8UujsJOtLAlp"
      },
      "execution_count": 6,
      "outputs": []
    },
    {
      "cell_type": "markdown",
      "source": [
        "#Profiling in R"
      ],
      "metadata": {
        "id": "o9cB3fFnNfko"
      }
    },
    {
      "cell_type": "markdown",
      "source": [
        "##Using system.time()"
      ],
      "metadata": {
        "id": "vNzxCNZzN40v"
      }
    },
    {
      "cell_type": "code",
      "source": [
        "## Elapsed time > user time\n",
        "\n",
        "system.time(readLines(\"http://www.jhsph.edu\"))"
      ],
      "metadata": {
        "colab": {
          "base_uri": "https://localhost:8080/",
          "height": 52
        },
        "id": "0QfujjSBLbFz",
        "outputId": "040b4283-8c77-446e-f67f-94c0d57d9e15"
      },
      "execution_count": 7,
      "outputs": [
        {
          "output_type": "display_data",
          "data": {
            "text/plain": [
              "   user  system elapsed \n",
              "  0.078   0.007   0.392 "
            ]
          },
          "metadata": {}
        }
      ]
    },
    {
      "cell_type": "code",
      "source": [
        "## Elapsed time < user time\n",
        "\n",
        "hilbert <- function(n){\n",
        "  i <- 1:n\n",
        "  1 / outer(i-1, i, \"+\")\n",
        "}\n",
        "\n",
        "x <- hilbert(1000)\n",
        "system.time(svd(x))"
      ],
      "metadata": {
        "colab": {
          "base_uri": "https://localhost:8080/",
          "height": 52
        },
        "id": "8ZEE-3mLOvQR",
        "outputId": "802c518f-5402-4d8d-b5eb-71e73df59b29"
      },
      "execution_count": 8,
      "outputs": [
        {
          "output_type": "display_data",
          "data": {
            "text/plain": [
              "   user  system elapsed \n",
              "  0.524   0.019   0.562 "
            ]
          },
          "metadata": {}
        }
      ]
    },
    {
      "cell_type": "markdown",
      "source": [
        "##Timing Longer Expressions"
      ],
      "metadata": {
        "id": "v0DE3EKSQNVz"
      }
    },
    {
      "cell_type": "code",
      "source": [
        "system.time({\n",
        "  n <- 1000\n",
        "  r <- numeric(n)\n",
        "  for(i in 1:n){\n",
        "    x <- rnorm(n)\n",
        "    r[i] <- mean(x)\n",
        "  }\n",
        "})"
      ],
      "metadata": {
        "colab": {
          "base_uri": "https://localhost:8080/",
          "height": 52
        },
        "id": "aj_YvX1dPnMB",
        "outputId": "7623789c-a58b-4010-bd8a-77cd1f28b6e1"
      },
      "execution_count": 9,
      "outputs": [
        {
          "output_type": "display_data",
          "data": {
            "text/plain": [
              "   user  system elapsed \n",
              "  0.083   0.000   0.083 "
            ]
          },
          "metadata": {}
        }
      ]
    },
    {
      "cell_type": "code",
      "source": [
        "Rprof()  ##Turn on the profiler"
      ],
      "metadata": {
        "id": "AQmeDkxcQq-v"
      },
      "execution_count": 10,
      "outputs": []
    },
    {
      "cell_type": "code",
      "source": [
        "Rprof(NULL) ##Turn off the profiler"
      ],
      "metadata": {
        "id": "iAmW5OFYRetI"
      },
      "execution_count": 11,
      "outputs": []
    },
    {
      "cell_type": "code",
      "source": [
        "## lm(y ~ x)\n",
        "\n",
        "sample.interval = 10000"
      ],
      "metadata": {
        "id": "4f4O8N6GRzjN"
      },
      "execution_count": 12,
      "outputs": []
    },
    {
      "cell_type": "markdown",
      "source": [
        "##Generating Random Numbers"
      ],
      "metadata": {
        "id": "popxop9GUrvS"
      }
    },
    {
      "cell_type": "code",
      "source": [
        "##Simulate standard Normal random numbers\n",
        "\n",
        "x <- rnorm(10)\n",
        "x"
      ],
      "metadata": {
        "colab": {
          "base_uri": "https://localhost:8080/",
          "height": 52
        },
        "id": "2XpnI6L1SHih",
        "outputId": "e297b6b7-2986-4d58-b395-8f48d157f983"
      },
      "execution_count": 16,
      "outputs": [
        {
          "output_type": "display_data",
          "data": {
            "text/html": [
              "<style>\n",
              ".list-inline {list-style: none; margin:0; padding: 0}\n",
              ".list-inline>li {display: inline-block}\n",
              ".list-inline>li:not(:last-child)::after {content: \"\\00b7\"; padding: 0 .5ex}\n",
              "</style>\n",
              "<ol class=list-inline><li>0.0191073254134751</li><li>1.27923954889918</li><li>1.61491471801903</li><li>1.96813871863357</li><li>-0.226825986350993</li><li>-1.0761944408398</li><li>-0.290162532146352</li><li>0.669110531864725</li><li>0.936740873090037</li><li>0.518469164391895</li></ol>\n"
            ],
            "text/markdown": "1. 0.0191073254134751\n2. 1.27923954889918\n3. 1.61491471801903\n4. 1.96813871863357\n5. -0.226825986350993\n6. -1.0761944408398\n7. -0.290162532146352\n8. 0.669110531864725\n9. 0.936740873090037\n10. 0.518469164391895\n\n\n",
            "text/latex": "\\begin{enumerate*}\n\\item 0.0191073254134751\n\\item 1.27923954889918\n\\item 1.61491471801903\n\\item 1.96813871863357\n\\item -0.226825986350993\n\\item -1.0761944408398\n\\item -0.290162532146352\n\\item 0.669110531864725\n\\item 0.936740873090037\n\\item 0.518469164391895\n\\end{enumerate*}\n",
            "text/plain": [
              " [1]  0.01910733  1.27923955  1.61491472  1.96813872 -0.22682599 -1.07619444\n",
              " [7] -0.29016253  0.66911053  0.93674087  0.51846916"
            ]
          },
          "metadata": {}
        }
      ]
    },
    {
      "cell_type": "code",
      "source": [
        "x <- rnorm(10, 20, 2)\n",
        "x"
      ],
      "metadata": {
        "colab": {
          "base_uri": "https://localhost:8080/",
          "height": 52
        },
        "id": "r32dHcEwWykA",
        "outputId": "31f10aa6-282e-410b-e8c0-776974b05e48"
      },
      "execution_count": 17,
      "outputs": [
        {
          "output_type": "display_data",
          "data": {
            "text/html": [
              "<style>\n",
              ".list-inline {list-style: none; margin:0; padding: 0}\n",
              ".list-inline>li {display: inline-block}\n",
              ".list-inline>li:not(:last-child)::after {content: \"\\00b7\"; padding: 0 .5ex}\n",
              "</style>\n",
              "<ol class=list-inline><li>21.8362818661531</li><li>15.7518632308829</li><li>19.0767288393073</li><li>18.3012775817043</li><li>22.2656851318911</li><li>17.723313487508</li><li>21.84721156623</li><li>18.8141456057953</li><li>20.582968472737</li><li>19.5228290407009</li></ol>\n"
            ],
            "text/markdown": "1. 21.8362818661531\n2. 15.7518632308829\n3. 19.0767288393073\n4. 18.3012775817043\n5. 22.2656851318911\n6. 17.723313487508\n7. 21.84721156623\n8. 18.8141456057953\n9. 20.582968472737\n10. 19.5228290407009\n\n\n",
            "text/latex": "\\begin{enumerate*}\n\\item 21.8362818661531\n\\item 15.7518632308829\n\\item 19.0767288393073\n\\item 18.3012775817043\n\\item 22.2656851318911\n\\item 17.723313487508\n\\item 21.84721156623\n\\item 18.8141456057953\n\\item 20.582968472737\n\\item 19.5228290407009\n\\end{enumerate*}\n",
            "text/plain": [
              " [1] 21.83628 15.75186 19.07673 18.30128 22.26569 17.72331 21.84721 18.81415\n",
              " [9] 20.58297 19.52283"
            ]
          },
          "metadata": {}
        }
      ]
    },
    {
      "cell_type": "code",
      "source": [
        "summary(x)"
      ],
      "metadata": {
        "colab": {
          "base_uri": "https://localhost:8080/",
          "height": 52
        },
        "id": "fMEgUrnjaw9t",
        "outputId": "688b053a-8faa-4540-8dfe-df17be1bf406"
      },
      "execution_count": 18,
      "outputs": [
        {
          "output_type": "display_data",
          "data": {
            "text/plain": [
              "   Min. 1st Qu.  Median    Mean 3rd Qu.    Max. \n",
              "  15.75   18.43   19.30   19.57   21.52   22.27 "
            ]
          },
          "metadata": {}
        }
      ]
    },
    {
      "cell_type": "code",
      "source": [
        "pnorm(2)"
      ],
      "metadata": {
        "colab": {
          "base_uri": "https://localhost:8080/",
          "height": 34
        },
        "id": "tj-pvsBna1F4",
        "outputId": "5b8aa7cf-34e5-4a1b-fd78-c2b6a83b5573"
      },
      "execution_count": 19,
      "outputs": [
        {
          "output_type": "display_data",
          "data": {
            "text/html": [
              "0.977249868051821"
            ],
            "text/markdown": "0.977249868051821",
            "text/latex": "0.977249868051821",
            "text/plain": [
              "[1] 0.9772499"
            ]
          },
          "metadata": {}
        }
      ]
    },
    {
      "cell_type": "code",
      "source": [
        "## Setting the random number seed\n",
        "\n",
        "set.seed(1)\n",
        "rnorm(5)"
      ],
      "metadata": {
        "colab": {
          "base_uri": "https://localhost:8080/",
          "height": 34
        },
        "id": "DhHfEISwbC7J",
        "outputId": "4e0cbf7b-2c3b-4d28-e2de-a12add57acba"
      },
      "execution_count": 20,
      "outputs": [
        {
          "output_type": "display_data",
          "data": {
            "text/html": [
              "<style>\n",
              ".list-inline {list-style: none; margin:0; padding: 0}\n",
              ".list-inline>li {display: inline-block}\n",
              ".list-inline>li:not(:last-child)::after {content: \"\\00b7\"; padding: 0 .5ex}\n",
              "</style>\n",
              "<ol class=list-inline><li>-0.626453810742332</li><li>0.183643324222082</li><li>-0.835628612410047</li><li>1.59528080213779</li><li>0.329507771815361</li></ol>\n"
            ],
            "text/markdown": "1. -0.626453810742332\n2. 0.183643324222082\n3. -0.835628612410047\n4. 1.59528080213779\n5. 0.329507771815361\n\n\n",
            "text/latex": "\\begin{enumerate*}\n\\item -0.626453810742332\n\\item 0.183643324222082\n\\item -0.835628612410047\n\\item 1.59528080213779\n\\item 0.329507771815361\n\\end{enumerate*}\n",
            "text/plain": [
              "[1] -0.6264538  0.1836433 -0.8356286  1.5952808  0.3295078"
            ]
          },
          "metadata": {}
        }
      ]
    },
    {
      "cell_type": "code",
      "source": [
        "rnorm(5)"
      ],
      "metadata": {
        "colab": {
          "base_uri": "https://localhost:8080/",
          "height": 34
        },
        "id": "x7Ba0AP1bTKk",
        "outputId": "53b84cde-40af-41e4-a3bb-72f8f0668aa4"
      },
      "execution_count": 21,
      "outputs": [
        {
          "output_type": "display_data",
          "data": {
            "text/html": [
              "<style>\n",
              ".list-inline {list-style: none; margin:0; padding: 0}\n",
              ".list-inline>li {display: inline-block}\n",
              ".list-inline>li:not(:last-child)::after {content: \"\\00b7\"; padding: 0 .5ex}\n",
              "</style>\n",
              "<ol class=list-inline><li>0.389843236411431</li><li>-0.621240580541804</li><li>-2.2146998871775</li><li>1.12493091814311</li><li>-0.0449336090152309</li></ol>\n"
            ],
            "text/markdown": "1. 0.389843236411431\n2. -0.621240580541804\n3. -2.2146998871775\n4. 1.12493091814311\n5. -0.0449336090152309\n\n\n",
            "text/latex": "\\begin{enumerate*}\n\\item 0.389843236411431\n\\item -0.621240580541804\n\\item -2.2146998871775\n\\item 1.12493091814311\n\\item -0.0449336090152309\n\\end{enumerate*}\n",
            "text/plain": [
              "[1]  0.38984324 -0.62124058 -2.21469989  1.12493092 -0.04493361"
            ]
          },
          "metadata": {}
        }
      ]
    },
    {
      "cell_type": "code",
      "source": [
        "set.seed(1)\n",
        "rnorm(5)"
      ],
      "metadata": {
        "colab": {
          "base_uri": "https://localhost:8080/",
          "height": 34
        },
        "id": "0AeCthk3brKt",
        "outputId": "2a99dcfe-667f-45d3-ddaa-7e2697bc50ae"
      },
      "execution_count": 22,
      "outputs": [
        {
          "output_type": "display_data",
          "data": {
            "text/html": [
              "<style>\n",
              ".list-inline {list-style: none; margin:0; padding: 0}\n",
              ".list-inline>li {display: inline-block}\n",
              ".list-inline>li:not(:last-child)::after {content: \"\\00b7\"; padding: 0 .5ex}\n",
              "</style>\n",
              "<ol class=list-inline><li>-0.626453810742332</li><li>0.183643324222082</li><li>-0.835628612410047</li><li>1.59528080213779</li><li>0.329507771815361</li></ol>\n"
            ],
            "text/markdown": "1. -0.626453810742332\n2. 0.183643324222082\n3. -0.835628612410047\n4. 1.59528080213779\n5. 0.329507771815361\n\n\n",
            "text/latex": "\\begin{enumerate*}\n\\item -0.626453810742332\n\\item 0.183643324222082\n\\item -0.835628612410047\n\\item 1.59528080213779\n\\item 0.329507771815361\n\\end{enumerate*}\n",
            "text/plain": [
              "[1] -0.6264538  0.1836433 -0.8356286  1.5952808  0.3295078"
            ]
          },
          "metadata": {}
        }
      ]
    },
    {
      "cell_type": "code",
      "source": [
        "##Counts with a mean of 1\n",
        "\n",
        "rpois(10,1)"
      ],
      "metadata": {
        "colab": {
          "base_uri": "https://localhost:8080/",
          "height": 34
        },
        "id": "e2Xa1bDGbyFK",
        "outputId": "0fa4635f-5751-4728-d671-9dfbc3b35332"
      },
      "execution_count": 23,
      "outputs": [
        {
          "output_type": "display_data",
          "data": {
            "text/html": [
              "<style>\n",
              ".list-inline {list-style: none; margin:0; padding: 0}\n",
              ".list-inline>li {display: inline-block}\n",
              ".list-inline>li:not(:last-child)::after {content: \"\\00b7\"; padding: 0 .5ex}\n",
              "</style>\n",
              "<ol class=list-inline><li>1</li><li>1</li><li>0</li><li>1</li><li>1</li><li>0</li><li>1</li><li>0</li><li>0</li><li>0</li></ol>\n"
            ],
            "text/markdown": "1. 1\n2. 1\n3. 0\n4. 1\n5. 1\n6. 0\n7. 1\n8. 0\n9. 0\n10. 0\n\n\n",
            "text/latex": "\\begin{enumerate*}\n\\item 1\n\\item 1\n\\item 0\n\\item 1\n\\item 1\n\\item 0\n\\item 1\n\\item 0\n\\item 0\n\\item 0\n\\end{enumerate*}\n",
            "text/plain": [
              " [1] 1 1 0 1 1 0 1 0 0 0"
            ]
          },
          "metadata": {}
        }
      ]
    },
    {
      "cell_type": "code",
      "source": [
        "##count with a mean of 2\n",
        "\n",
        "rpois(10,2)"
      ],
      "metadata": {
        "colab": {
          "base_uri": "https://localhost:8080/",
          "height": 34
        },
        "id": "6Tl2ARoHnns0",
        "outputId": "735ad49a-6b70-4685-deb3-034a038a1aa9"
      },
      "execution_count": 24,
      "outputs": [
        {
          "output_type": "display_data",
          "data": {
            "text/html": [
              "<style>\n",
              ".list-inline {list-style: none; margin:0; padding: 0}\n",
              ".list-inline>li {display: inline-block}\n",
              ".list-inline>li:not(:last-child)::after {content: \"\\00b7\"; padding: 0 .5ex}\n",
              "</style>\n",
              "<ol class=list-inline><li>3</li><li>1</li><li>2</li><li>3</li><li>3</li><li>1</li><li>1</li><li>4</li><li>2</li><li>3</li></ol>\n"
            ],
            "text/markdown": "1. 3\n2. 1\n3. 2\n4. 3\n5. 3\n6. 1\n7. 1\n8. 4\n9. 2\n10. 3\n\n\n",
            "text/latex": "\\begin{enumerate*}\n\\item 3\n\\item 1\n\\item 2\n\\item 3\n\\item 3\n\\item 1\n\\item 1\n\\item 4\n\\item 2\n\\item 3\n\\end{enumerate*}\n",
            "text/plain": [
              " [1] 3 1 2 3 3 1 1 4 2 3"
            ]
          },
          "metadata": {}
        }
      ]
    },
    {
      "cell_type": "code",
      "source": [
        "##counts with a mean of 20\n",
        "\n",
        "rpois(10,20)"
      ],
      "metadata": {
        "colab": {
          "base_uri": "https://localhost:8080/",
          "height": 34
        },
        "id": "iyu-LDTKnsoq",
        "outputId": "b09dee10-2cd9-46ea-9450-fd535f3ca8c0"
      },
      "execution_count": 25,
      "outputs": [
        {
          "output_type": "display_data",
          "data": {
            "text/html": [
              "<style>\n",
              ".list-inline {list-style: none; margin:0; padding: 0}\n",
              ".list-inline>li {display: inline-block}\n",
              ".list-inline>li:not(:last-child)::after {content: \"\\00b7\"; padding: 0 .5ex}\n",
              "</style>\n",
              "<ol class=list-inline><li>22</li><li>14</li><li>21</li><li>24</li><li>23</li><li>16</li><li>15</li><li>14</li><li>27</li><li>23</li></ol>\n"
            ],
            "text/markdown": "1. 22\n2. 14\n3. 21\n4. 24\n5. 23\n6. 16\n7. 15\n8. 14\n9. 27\n10. 23\n\n\n",
            "text/latex": "\\begin{enumerate*}\n\\item 22\n\\item 14\n\\item 21\n\\item 24\n\\item 23\n\\item 16\n\\item 15\n\\item 14\n\\item 27\n\\item 23\n\\end{enumerate*}\n",
            "text/plain": [
              " [1] 22 14 21 24 23 16 15 14 27 23"
            ]
          },
          "metadata": {}
        }
      ]
    },
    {
      "cell_type": "code",
      "source": [
        "set.seed(20)\n",
        "\n",
        "##Simulate predictor variable\n",
        "x <- rnorm(100)\n",
        "e <- rnorm(100,0,2)\n",
        "\n",
        "##Compute the outcome via the model\n",
        "y <- 0.5 + 2*x + e\n",
        "summary(y)"
      ],
      "metadata": {
        "colab": {
          "base_uri": "https://localhost:8080/",
          "height": 52
        },
        "id": "JggHuRlyn00C",
        "outputId": "4b92eaaf-9e06-458b-d4ad-7fc16dab8fd9"
      },
      "execution_count": 26,
      "outputs": [
        {
          "output_type": "display_data",
          "data": {
            "text/plain": [
              "   Min. 1st Qu.  Median    Mean 3rd Qu.    Max. \n",
              "-6.4084 -1.5402  0.6789  0.6893  2.9303  6.5052 "
            ]
          },
          "metadata": {}
        }
      ]
    },
    {
      "cell_type": "code",
      "source": [
        "#plotting the results\n",
        "\n",
        "plot(x,y)"
      ],
      "metadata": {
        "colab": {
          "base_uri": "https://localhost:8080/",
          "height": 437
        },
        "id": "Nukz5C0MoamY",
        "outputId": "6865597a-0650-4a36-8e46-4a093da20d1c"
      },
      "execution_count": 27,
      "outputs": [
        {
          "output_type": "display_data",
          "data": {
            "text/plain": [
              "plot without title"
            ],
            "image/png": "[encoded data removed]"
          },
          "metadata": {
            "image/png": {
              "width": 420,
              "height": 420
            }
          }
        }
      ]
    },
    {
      "cell_type": "code",
      "source": [
        "set.seed(10)\n",
        "x <- rbinom(100, 1, 0.5)\n",
        "str(x)"
      ],
      "metadata": {
        "colab": {
          "base_uri": "https://localhost:8080/"
        },
        "id": "H1Bns-cLogwy",
        "outputId": "c2adc70b-a1d8-42d7-9a43-6188437ecdd6"
      },
      "execution_count": 28,
      "outputs": [
        {
          "output_type": "stream",
          "name": "stdout",
          "text": [
            " int [1:100] 1 0 0 1 0 0 0 0 1 0 ...\n"
          ]
        }
      ]
    },
    {
      "cell_type": "code",
      "source": [
        "e <- rnorm(100, 0, 2)\n",
        "y <- 0.5 + 2*x + e\n",
        "\n",
        "plot(x,y)"
      ],
      "metadata": {
        "colab": {
          "base_uri": "https://localhost:8080/",
          "height": 437
        },
        "id": "Nlrbs7txovSN",
        "outputId": "98ff9f7f-4520-49b5-a9c8-2f1342bf35fc"
      },
      "execution_count": 29,
      "outputs": [
        {
          "output_type": "display_data",
          "data": {
            "text/plain": [
              "plot without title"
            ],
            "image/png": "[encoded data removed]"
          },
          "metadata": {
            "image/png": {
              "width": 420,
              "height": 420
            }
          }
        }
      ]
    },
    {
      "cell_type": "code",
      "source": [
        "set.seed(1)\n",
        "\n",
        "##simulate the predictor varible\n",
        "x <- rnorm(100)"
      ],
      "metadata": {
        "id": "ZT40x3cXo6H6"
      },
      "execution_count": 30,
      "outputs": []
    },
    {
      "cell_type": "code",
      "source": [
        "log.mu <- 0.5 + 0.3*x\n",
        "y <- rpois(100, exp(log.mu))\n",
        "summary(y)"
      ],
      "metadata": {
        "colab": {
          "base_uri": "https://localhost:8080/",
          "height": 52
        },
        "id": "X9JXTfsVpNZZ",
        "outputId": "3f63207a-56ba-47f8-a9e5-908010400ff6"
      },
      "execution_count": 31,
      "outputs": [
        {
          "output_type": "display_data",
          "data": {
            "text/plain": [
              "   Min. 1st Qu.  Median    Mean 3rd Qu.    Max. \n",
              "   0.00    0.00    1.00    1.46    2.00    6.00 "
            ]
          },
          "metadata": {}
        }
      ]
    },
    {
      "cell_type": "code",
      "source": [
        "#plotiing the results\n",
        "\n",
        "plot(x,y)"
      ],
      "metadata": {
        "colab": {
          "base_uri": "https://localhost:8080/",
          "height": 437
        },
        "id": "dyC0C0sWpdKb",
        "outputId": "0d2f6ffe-feed-41b5-9205-3f6708bbeb8f"
      },
      "execution_count": 32,
      "outputs": [
        {
          "output_type": "display_data",
          "data": {
            "text/plain": [
              "plot without title"
            ],
            "image/png": "[encoded data removed]"
          },
          "metadata": {
            "image/png": {
              "width": 420,
              "height": 420
            }
          }
        }
      ]
    },
    {
      "cell_type": "markdown",
      "source": [
        "##Random Sampling"
      ],
      "metadata": {
        "id": "A2R6TK5QpoTu"
      }
    },
    {
      "cell_type": "code",
      "source": [
        "set.seed(1)\n",
        "sample(1:10, 4)"
      ],
      "metadata": {
        "colab": {
          "base_uri": "https://localhost:8080/",
          "height": 34
        },
        "id": "g363UJP4phRm",
        "outputId": "28762b4e-d555-4e6f-e3ba-7dfd6ec491f8"
      },
      "execution_count": 33,
      "outputs": [
        {
          "output_type": "display_data",
          "data": {
            "text/html": [
              "<style>\n",
              ".list-inline {list-style: none; margin:0; padding: 0}\n",
              ".list-inline>li {display: inline-block}\n",
              ".list-inline>li:not(:last-child)::after {content: \"\\00b7\"; padding: 0 .5ex}\n",
              "</style>\n",
              "<ol class=list-inline><li>9</li><li>4</li><li>7</li><li>1</li></ol>\n"
            ],
            "text/markdown": "1. 9\n2. 4\n3. 7\n4. 1\n\n\n",
            "text/latex": "\\begin{enumerate*}\n\\item 9\n\\item 4\n\\item 7\n\\item 1\n\\end{enumerate*}\n",
            "text/plain": [
              "[1] 9 4 7 1"
            ]
          },
          "metadata": {}
        }
      ]
    },
    {
      "cell_type": "code",
      "source": [
        "sample(1:10,4)"
      ],
      "metadata": {
        "colab": {
          "base_uri": "https://localhost:8080/",
          "height": 34
        },
        "id": "P1lo_LeUqDjj",
        "outputId": "937030ec-8b37-43f9-cfe0-50ec6f180161"
      },
      "execution_count": 34,
      "outputs": [
        {
          "output_type": "display_data",
          "data": {
            "text/html": [
              "<style>\n",
              ".list-inline {list-style: none; margin:0; padding: 0}\n",
              ".list-inline>li {display: inline-block}\n",
              ".list-inline>li:not(:last-child)::after {content: \"\\00b7\"; padding: 0 .5ex}\n",
              "</style>\n",
              "<ol class=list-inline><li>1</li><li>5</li><li>9</li><li>2</li></ol>\n"
            ],
            "text/markdown": "1. 1\n2. 5\n3. 9\n4. 2\n\n\n",
            "text/latex": "\\begin{enumerate*}\n\\item 1\n\\item 5\n\\item 9\n\\item 2\n\\end{enumerate*}\n",
            "text/plain": [
              "[1] 1 5 9 2"
            ]
          },
          "metadata": {}
        }
      ]
    },
    {
      "cell_type": "code",
      "source": [
        "sample(letters, 5)"
      ],
      "metadata": {
        "colab": {
          "base_uri": "https://localhost:8080/",
          "height": 34
        },
        "id": "o74ZCjDTqF6p",
        "outputId": "d392713b-6084-4da7-a595-28762246f748"
      },
      "execution_count": 35,
      "outputs": [
        {
          "output_type": "display_data",
          "data": {
            "text/html": [
              "<style>\n",
              ".list-inline {list-style: none; margin:0; padding: 0}\n",
              ".list-inline>li {display: inline-block}\n",
              ".list-inline>li:not(:last-child)::after {content: \"\\00b7\"; padding: 0 .5ex}\n",
              "</style>\n",
              "<ol class=list-inline><li>'i'</li><li>'y'</li><li>'n'</li><li>'e'</li><li>'w'</li></ol>\n"
            ],
            "text/markdown": "1. 'i'\n2. 'y'\n3. 'n'\n4. 'e'\n5. 'w'\n\n\n",
            "text/latex": "\\begin{enumerate*}\n\\item 'i'\n\\item 'y'\n\\item 'n'\n\\item 'e'\n\\item 'w'\n\\end{enumerate*}\n",
            "text/plain": [
              "[1] \"i\" \"y\" \"n\" \"e\" \"w\""
            ]
          },
          "metadata": {}
        }
      ]
    },
    {
      "cell_type": "code",
      "source": [
        "##Do a random permutation\n",
        "\n",
        "sample(1:10)"
      ],
      "metadata": {
        "colab": {
          "base_uri": "https://localhost:8080/",
          "height": 34
        },
        "id": "zUKlYs-4qKJ6",
        "outputId": "b00178a9-10cc-4dbd-bb89-5011cdb6deec"
      },
      "execution_count": 36,
      "outputs": [
        {
          "output_type": "display_data",
          "data": {
            "text/html": [
              "<style>\n",
              ".list-inline {list-style: none; margin:0; padding: 0}\n",
              ".list-inline>li {display: inline-block}\n",
              ".list-inline>li:not(:last-child)::after {content: \"\\00b7\"; padding: 0 .5ex}\n",
              "</style>\n",
              "<ol class=list-inline><li>3</li><li>6</li><li>2</li><li>8</li><li>9</li><li>4</li><li>5</li><li>7</li><li>10</li><li>1</li></ol>\n"
            ],
            "text/markdown": "1. 3\n2. 6\n3. 2\n4. 8\n5. 9\n6. 4\n7. 5\n8. 7\n9. 10\n10. 1\n\n\n",
            "text/latex": "\\begin{enumerate*}\n\\item 3\n\\item 6\n\\item 2\n\\item 8\n\\item 9\n\\item 4\n\\item 5\n\\item 7\n\\item 10\n\\item 1\n\\end{enumerate*}\n",
            "text/plain": [
              " [1]  3  6  2  8  9  4  5  7 10  1"
            ]
          },
          "metadata": {}
        }
      ]
    },
    {
      "cell_type": "code",
      "source": [
        "sample(1:10)"
      ],
      "metadata": {
        "colab": {
          "base_uri": "https://localhost:8080/",
          "height": 34
        },
        "id": "undSRGNRqP-c",
        "outputId": "7b9ab878-3186-4740-90e7-c7bf4aed5af9"
      },
      "execution_count": 37,
      "outputs": [
        {
          "output_type": "display_data",
          "data": {
            "text/html": [
              "<style>\n",
              ".list-inline {list-style: none; margin:0; padding: 0}\n",
              ".list-inline>li {display: inline-block}\n",
              ".list-inline>li:not(:last-child)::after {content: \"\\00b7\"; padding: 0 .5ex}\n",
              "</style>\n",
              "<ol class=list-inline><li>10</li><li>6</li><li>8</li><li>9</li><li>2</li><li>5</li><li>7</li><li>4</li><li>3</li><li>1</li></ol>\n"
            ],
            "text/markdown": "1. 10\n2. 6\n3. 8\n4. 9\n5. 2\n6. 5\n7. 7\n8. 4\n9. 3\n10. 1\n\n\n",
            "text/latex": "\\begin{enumerate*}\n\\item 10\n\\item 6\n\\item 8\n\\item 9\n\\item 2\n\\item 5\n\\item 7\n\\item 4\n\\item 3\n\\item 1\n\\end{enumerate*}\n",
            "text/plain": [
              " [1] 10  6  8  9  2  5  7  4  3  1"
            ]
          },
          "metadata": {}
        }
      ]
    },
    {
      "cell_type": "code",
      "source": [
        "##Sample with replacement\n",
        "\n",
        "sample(1:10, replace = TRUE)"
      ],
      "metadata": {
        "colab": {
          "base_uri": "https://localhost:8080/",
          "height": 34
        },
        "id": "hxtav6_XqTNn",
        "outputId": "0598dc22-563f-4854-c76c-f78ada63226f"
      },
      "execution_count": 38,
      "outputs": [
        {
          "output_type": "display_data",
          "data": {
            "text/html": [
              "<style>\n",
              ".list-inline {list-style: none; margin:0; padding: 0}\n",
              ".list-inline>li {display: inline-block}\n",
              ".list-inline>li:not(:last-child)::after {content: \"\\00b7\"; padding: 0 .5ex}\n",
              "</style>\n",
              "<ol class=list-inline><li>6</li><li>8</li><li>7</li><li>1</li><li>4</li><li>8</li><li>9</li><li>9</li><li>7</li><li>4</li></ol>\n"
            ],
            "text/markdown": "1. 6\n2. 8\n3. 7\n4. 1\n5. 4\n6. 8\n7. 9\n8. 9\n9. 7\n10. 4\n\n\n",
            "text/latex": "\\begin{enumerate*}\n\\item 6\n\\item 8\n\\item 7\n\\item 1\n\\item 4\n\\item 8\n\\item 9\n\\item 9\n\\item 7\n\\item 4\n\\end{enumerate*}\n",
            "text/plain": [
              " [1] 6 8 7 1 4 8 9 9 7 4"
            ]
          },
          "metadata": {}
        }
      ]
    },
    {
      "cell_type": "code",
      "source": [
        "library(datasets)\n",
        "data(airquality)\n",
        "head(airquality)"
      ],
      "metadata": {
        "colab": {
          "base_uri": "https://localhost:8080/",
          "height": 286
        },
        "id": "5vphvSPIqbTO",
        "outputId": "d0a01ecd-0f01-4285-c457-9f2927e7cf5f"
      },
      "execution_count": 39,
      "outputs": [
        {
          "output_type": "display_data",
          "data": {
            "text/html": [
              "<table class=\"dataframe\">\n",
              "<caption>A data.frame: 6 × 6</caption>\n",
              "<thead>\n",
              "\t<tr><th></th><th scope=col>Ozone</th><th scope=col>Solar.R</th><th scope=col>Wind</th><th scope=col>Temp</th><th scope=col>Month</th><th scope=col>Day</th></tr>\n",
              "\t<tr><th></th><th scope=col>&lt;int&gt;</th><th scope=col>&lt;int&gt;</th><th scope=col>&lt;dbl&gt;</th><th scope=col>&lt;int&gt;</th><th scope=col>&lt;int&gt;</th><th scope=col>&lt;int&gt;</th></tr>\n",
              "</thead>\n",
              "<tbody>\n",
              "\t<tr><th scope=row>1</th><td>41</td><td>190</td><td> 7.4</td><td>67</td><td>5</td><td>1</td></tr>\n",
              "\t<tr><th scope=row>2</th><td>36</td><td>118</td><td> 8.0</td><td>72</td><td>5</td><td>2</td></tr>\n",
              "\t<tr><th scope=row>3</th><td>12</td><td>149</td><td>12.6</td><td>74</td><td>5</td><td>3</td></tr>\n",
              "\t<tr><th scope=row>4</th><td>18</td><td>313</td><td>11.5</td><td>62</td><td>5</td><td>4</td></tr>\n",
              "\t<tr><th scope=row>5</th><td>NA</td><td> NA</td><td>14.3</td><td>56</td><td>5</td><td>5</td></tr>\n",
              "\t<tr><th scope=row>6</th><td>28</td><td> NA</td><td>14.9</td><td>66</td><td>5</td><td>6</td></tr>\n",
              "</tbody>\n",
              "</table>\n"
            ],
            "text/markdown": "\nA data.frame: 6 × 6\n\n| <!--/--> | Ozone &lt;int&gt; | Solar.R &lt;int&gt; | Wind &lt;dbl&gt; | Temp &lt;int&gt; | Month &lt;int&gt; | Day &lt;int&gt; |\n|---|---|---|---|---|---|---|\n| 1 | 41 | 190 |  7.4 | 67 | 5 | 1 |\n| 2 | 36 | 118 |  8.0 | 72 | 5 | 2 |\n| 3 | 12 | 149 | 12.6 | 74 | 5 | 3 |\n| 4 | 18 | 313 | 11.5 | 62 | 5 | 4 |\n| 5 | NA |  NA | 14.3 | 56 | 5 | 5 |\n| 6 | 28 |  NA | 14.9 | 66 | 5 | 6 |\n\n",
            "text/latex": "A data.frame: 6 × 6\n\\begin{tabular}{r|llllll}\n  & Ozone & Solar.R & Wind & Temp & Month & Day\\\\\n  & <int> & <int> & <dbl> & <int> & <int> & <int>\\\\\n\\hline\n\t1 & 41 & 190 &  7.4 & 67 & 5 & 1\\\\\n\t2 & 36 & 118 &  8.0 & 72 & 5 & 2\\\\\n\t3 & 12 & 149 & 12.6 & 74 & 5 & 3\\\\\n\t4 & 18 & 313 & 11.5 & 62 & 5 & 4\\\\\n\t5 & NA &  NA & 14.3 & 56 & 5 & 5\\\\\n\t6 & 28 &  NA & 14.9 & 66 & 5 & 6\\\\\n\\end{tabular}\n",
            "text/plain": [
              "  Ozone Solar.R Wind Temp Month Day\n",
              "1 41    190      7.4 67   5     1  \n",
              "2 36    118      8.0 72   5     2  \n",
              "3 12    149     12.6 74   5     3  \n",
              "4 18    313     11.5 62   5     4  \n",
              "5 NA     NA     14.3 56   5     5  \n",
              "6 28     NA     14.9 66   5     6  "
            ]
          },
          "metadata": {}
        }
      ]
    },
    {
      "cell_type": "code",
      "source": [
        "set.seed(20)\n",
        "\n",
        "##create index vector\n",
        "idx <- seq_len(nrow(airquality))\n",
        "\n",
        "##Sample from the index vector\n",
        "samp <- sample(idx, 6)\n",
        "airquality[samp,]"
      ],
      "metadata": {
        "colab": {
          "base_uri": "https://localhost:8080/",
          "height": 286
        },
        "id": "IPOPDyUrqw9S",
        "outputId": "5472414b-fac7-497d-c19b-200867cbb390"
      },
      "execution_count": 40,
      "outputs": [
        {
          "output_type": "display_data",
          "data": {
            "text/html": [
              "<table class=\"dataframe\">\n",
              "<caption>A data.frame: 6 × 6</caption>\n",
              "<thead>\n",
              "\t<tr><th></th><th scope=col>Ozone</th><th scope=col>Solar.R</th><th scope=col>Wind</th><th scope=col>Temp</th><th scope=col>Month</th><th scope=col>Day</th></tr>\n",
              "\t<tr><th></th><th scope=col>&lt;int&gt;</th><th scope=col>&lt;int&gt;</th><th scope=col>&lt;dbl&gt;</th><th scope=col>&lt;int&gt;</th><th scope=col>&lt;int&gt;</th><th scope=col>&lt;int&gt;</th></tr>\n",
              "</thead>\n",
              "<tbody>\n",
              "\t<tr><th scope=row>107</th><td>NA</td><td> 64</td><td>11.5</td><td>79</td><td>8</td><td>15</td></tr>\n",
              "\t<tr><th scope=row>120</th><td>76</td><td>203</td><td> 9.7</td><td>97</td><td>8</td><td>28</td></tr>\n",
              "\t<tr><th scope=row>130</th><td>20</td><td>252</td><td>10.9</td><td>80</td><td>9</td><td> 7</td></tr>\n",
              "\t<tr><th scope=row>98</th><td>66</td><td> NA</td><td> 4.6</td><td>87</td><td>8</td><td> 6</td></tr>\n",
              "\t<tr><th scope=row>29</th><td>45</td><td>252</td><td>14.9</td><td>81</td><td>5</td><td>29</td></tr>\n",
              "\t<tr><th scope=row>45</th><td>NA</td><td>332</td><td>13.8</td><td>80</td><td>6</td><td>14</td></tr>\n",
              "</tbody>\n",
              "</table>\n"
            ],
            "text/markdown": "\nA data.frame: 6 × 6\n\n| <!--/--> | Ozone &lt;int&gt; | Solar.R &lt;int&gt; | Wind &lt;dbl&gt; | Temp &lt;int&gt; | Month &lt;int&gt; | Day &lt;int&gt; |\n|---|---|---|---|---|---|---|\n| 107 | NA |  64 | 11.5 | 79 | 8 | 15 |\n| 120 | 76 | 203 |  9.7 | 97 | 8 | 28 |\n| 130 | 20 | 252 | 10.9 | 80 | 9 |  7 |\n| 98 | 66 |  NA |  4.6 | 87 | 8 |  6 |\n| 29 | 45 | 252 | 14.9 | 81 | 5 | 29 |\n| 45 | NA | 332 | 13.8 | 80 | 6 | 14 |\n\n",
            "text/latex": "A data.frame: 6 × 6\n\\begin{tabular}{r|llllll}\n  & Ozone & Solar.R & Wind & Temp & Month & Day\\\\\n  & <int> & <int> & <dbl> & <int> & <int> & <int>\\\\\n\\hline\n\t107 & NA &  64 & 11.5 & 79 & 8 & 15\\\\\n\t120 & 76 & 203 &  9.7 & 97 & 8 & 28\\\\\n\t130 & 20 & 252 & 10.9 & 80 & 9 &  7\\\\\n\t98 & 66 &  NA &  4.6 & 87 & 8 &  6\\\\\n\t29 & 45 & 252 & 14.9 & 81 & 5 & 29\\\\\n\t45 & NA & 332 & 13.8 & 80 & 6 & 14\\\\\n\\end{tabular}\n",
            "text/plain": [
              "    Ozone Solar.R Wind Temp Month Day\n",
              "107 NA     64     11.5 79   8     15 \n",
              "120 76    203      9.7 97   8     28 \n",
              "130 20    252     10.9 80   9      7 \n",
              "98  66     NA      4.6 87   8      6 \n",
              "29  45    252     14.9 81   5     29 \n",
              "45  NA    332     13.8 80   6     14 "
            ]
          },
          "metadata": {}
        }
      ]
    }
  ]
}