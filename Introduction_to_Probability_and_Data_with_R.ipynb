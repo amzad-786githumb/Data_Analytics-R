{
  "nbformat": 4,
  "nbformat_minor": 0,
  "metadata": {
    "colab": {
      "provenance": [],
      "authorship_tag": "ABX9TyNMXSUljaOET/1ET5lOX+JV",
      "include_colab_link": true
    },
    "kernelspec": {
      "name": "ir",
      "display_name": "R"
    },
    "language_info": {
      "name": "R"
    }
  },
  "cells": [
    {
      "cell_type": "markdown",
      "metadata": {
        "id": "view-in-github",
        "colab_type": "text"
      },
      "source": [
        "<a href=\"https://colab.research.google.com/github/amzad-786githumb/Data_Analytics-R/blob/main/Introduction_to_Probability_and_Data_with_R.ipynb\" target=\"_parent\"><img src=\"https://colab.research.google.com/assets/colab-badge.svg\" alt=\"Open In Colab\"/></a>"
      ]
    },
    {
      "cell_type": "markdown",
      "source": [
        "<h1>LAB-1: Introduction to R and RStudio</h1>"
      ],
      "metadata": {
        "id": "avT7BuoWXOGj"
      }
    },
    {
      "cell_type": "code",
      "source": [
        "install.packages(\"dplyr\")"
      ],
      "metadata": {
        "colab": {
          "base_uri": "https://localhost:8080/"
        },
        "id": "VhQjd3n9XM0m",
        "outputId": "68d2bce4-9458-487d-db05-ffc343bf93d9"
      },
      "execution_count": null,
      "outputs": [
        {
          "output_type": "stream",
          "name": "stderr",
          "text": [
            "Installing package into ‘/usr/local/lib/R/site-library’\n",
            "(as ‘lib’ is unspecified)\n",
            "\n"
          ]
        }
      ]
    },
    {
      "cell_type": "code",
      "source": [
        "install.packages(\"ggplot2\")"
      ],
      "metadata": {
        "colab": {
          "base_uri": "https://localhost:8080/"
        },
        "id": "uxJBQe1sX3zw",
        "outputId": "8271cb5b-b64c-447c-bb5c-c7a1dce26ca4"
      },
      "execution_count": null,
      "outputs": [
        {
          "output_type": "stream",
          "name": "stderr",
          "text": [
            "Installing package into ‘/usr/local/lib/R/site-library’\n",
            "(as ‘lib’ is unspecified)\n",
            "\n"
          ]
        }
      ]
    },
    {
      "cell_type": "code",
      "source": [
        "install.packages(\"statsr\")"
      ],
      "metadata": {
        "colab": {
          "base_uri": "https://localhost:8080/"
        },
        "id": "kSvGBusMX-Lk",
        "outputId": "42e2511f-4f13-4e31-8928-7b3961de233d"
      },
      "execution_count": null,
      "outputs": [
        {
          "output_type": "stream",
          "name": "stderr",
          "text": [
            "Installing package into ‘/usr/local/lib/R/site-library’\n",
            "(as ‘lib’ is unspecified)\n",
            "\n"
          ]
        }
      ]
    },
    {
      "cell_type": "code",
      "source": [
        "#importing the required libraries\n",
        "library(ggplot2)\n",
        "library(statsr)\n",
        "library(dplyr)"
      ],
      "metadata": {
        "id": "UrMCVe_JYJ5w"
      },
      "execution_count": null,
      "outputs": []
    },
    {
      "cell_type": "markdown",
      "source": [
        "<h2>Importing the required dataset </h2>"
      ],
      "metadata": {
        "id": "Sgieghi4V26w"
      }
    },
    {
      "cell_type": "code",
      "source": [
        "data(\"arbuthnot\")\n",
        "data(\"present\")"
      ],
      "metadata": {
        "id": "UtLfbnGFbQSR"
      },
      "execution_count": null,
      "outputs": []
    },
    {
      "cell_type": "markdown",
      "source": [
        "<h4>Q1.) How many variables are included in this data set (data set: arbuthnot)? 1) 2 2) 3 3) 4 4) 82 5) 1710</h4>"
      ],
      "metadata": {
        "id": "3tymXCkEWK8A"
      }
    },
    {
      "cell_type": "code",
      "source": [
        "dim(arbuthnot)"
      ],
      "metadata": {
        "colab": {
          "base_uri": "https://localhost:8080/",
          "height": 34
        },
        "id": "SqC6ZqrvbgQ_",
        "outputId": "35128c2b-cb9c-46d9-f606-54e7840081f2"
      },
      "execution_count": null,
      "outputs": [
        {
          "output_type": "display_data",
          "data": {
            "text/html": [
              "<style>\n",
              ".list-inline {list-style: none; margin:0; padding: 0}\n",
              ".list-inline>li {display: inline-block}\n",
              ".list-inline>li:not(:last-child)::after {content: \"\\00b7\"; padding: 0 .5ex}\n",
              "</style>\n",
              "<ol class=list-inline><li>82</li><li>3</li></ol>\n"
            ],
            "text/markdown": "1. 82\n2. 3\n\n\n",
            "text/latex": "\\begin{enumerate*}\n\\item 82\n\\item 3\n\\end{enumerate*}\n",
            "text/plain": [
              "[1] 82  3"
            ]
          },
          "metadata": {}
        }
      ]
    },
    {
      "cell_type": "code",
      "source": [
        "names(arbuthnot)"
      ],
      "metadata": {
        "colab": {
          "base_uri": "https://localhost:8080/",
          "height": 34
        },
        "id": "XGdaC38Bbmpl",
        "outputId": "061287c1-3d4f-487f-a748-9a8cbbdbd2ca"
      },
      "execution_count": null,
      "outputs": [
        {
          "output_type": "display_data",
          "data": {
            "text/html": [
              "<style>\n",
              ".list-inline {list-style: none; margin:0; padding: 0}\n",
              ".list-inline>li {display: inline-block}\n",
              ".list-inline>li:not(:last-child)::after {content: \"\\00b7\"; padding: 0 .5ex}\n",
              "</style>\n",
              "<ol class=list-inline><li>'year'</li><li>'boys'</li><li>'girls'</li></ol>\n"
            ],
            "text/markdown": "1. 'year'\n2. 'boys'\n3. 'girls'\n\n\n",
            "text/latex": "\\begin{enumerate*}\n\\item 'year'\n\\item 'boys'\n\\item 'girls'\n\\end{enumerate*}\n",
            "text/plain": [
              "[1] \"year\"  \"boys\"  \"girls\""
            ]
          },
          "metadata": {}
        }
      ]
    },
    {
      "cell_type": "markdown",
      "source": [
        "<h4>Q2.) What command would you use to extract just the counts of girls born? 1) arbuthnot$boys 2) girls3)arbuthnot\n",
        "girls 4) girls 5) arbuthnot[girls]</h4>"
      ],
      "metadata": {
        "id": "uPh_VD4YWdd4"
      }
    },
    {
      "cell_type": "code",
      "source": [
        "#for girls\n",
        "\n",
        "arbuthnot$girls"
      ],
      "metadata": {
        "colab": {
          "base_uri": "https://localhost:8080/",
          "height": 86
        },
        "id": "AzH43fGhbt7W",
        "outputId": "2df4f7ac-34a9-4c41-825e-46bc308e3572"
      },
      "execution_count": null,
      "outputs": [
        {
          "output_type": "display_data",
          "data": {
            "text/html": [
              "<style>\n",
              ".list-inline {list-style: none; margin:0; padding: 0}\n",
              ".list-inline>li {display: inline-block}\n",
              ".list-inline>li:not(:last-child)::after {content: \"\\00b7\"; padding: 0 .5ex}\n",
              "</style>\n",
              "<ol class=list-inline><li>4683</li><li>4457</li><li>4102</li><li>4590</li><li>4839</li><li>4820</li><li>4928</li><li>4605</li><li>4457</li><li>4952</li><li>4784</li><li>5332</li><li>5200</li><li>4910</li><li>4617</li><li>3997</li><li>3919</li><li>3395</li><li>3536</li><li>3181</li><li>2746</li><li>2722</li><li>2840</li><li>2908</li><li>2959</li><li>3179</li><li>3349</li><li>3382</li><li>3289</li><li>3013</li><li>2781</li><li>3247</li><li>4107</li><li>4803</li><li>4881</li><li>5681</li><li>4858</li><li>4319</li><li>5322</li><li>5560</li><li>5829</li><li>5719</li><li>6061</li><li>6120</li><li>5822</li><li>5738</li><li>5717</li><li>5847</li><li>6203</li><li>6033</li><li>6041</li><li>6299</li><li>6533</li><li>6744</li><li>7158</li><li>7127</li><li>7246</li><li>7119</li><li>7214</li><li>7101</li><li>7167</li><li>7302</li><li>7392</li><li>7316</li><li>7483</li><li>6647</li><li>6713</li><li>7229</li><li>7767</li><li>7626</li><li>7452</li><li>7061</li><li>7514</li><li>7656</li><li>7683</li><li>5738</li><li>7779</li><li>7417</li><li>7687</li><li>7623</li><li>7380</li><li>7288</li></ol>\n"
            ],
            "text/markdown": "1. 4683\n2. 4457\n3. 4102\n4. 4590\n5. 4839\n6. 4820\n7. 4928\n8. 4605\n9. 4457\n10. 4952\n11. 4784\n12. 5332\n13. 5200\n14. 4910\n15. 4617\n16. 3997\n17. 3919\n18. 3395\n19. 3536\n20. 3181\n21. 2746\n22. 2722\n23. 2840\n24. 2908\n25. 2959\n26. 3179\n27. 3349\n28. 3382\n29. 3289\n30. 3013\n31. 2781\n32. 3247\n33. 4107\n34. 4803\n35. 4881\n36. 5681\n37. 4858\n38. 4319\n39. 5322\n40. 5560\n41. 5829\n42. 5719\n43. 6061\n44. 6120\n45. 5822\n46. 5738\n47. 5717\n48. 5847\n49. 6203\n50. 6033\n51. 6041\n52. 6299\n53. 6533\n54. 6744\n55. 7158\n56. 7127\n57. 7246\n58. 7119\n59. 7214\n60. 7101\n61. 7167\n62. 7302\n63. 7392\n64. 7316\n65. 7483\n66. 6647\n67. 6713\n68. 7229\n69. 7767\n70. 7626\n71. 7452\n72. 7061\n73. 7514\n74. 7656\n75. 7683\n76. 5738\n77. 7779\n78. 7417\n79. 7687\n80. 7623\n81. 7380\n82. 7288\n\n\n",
            "text/latex": "\\begin{enumerate*}\n\\item 4683\n\\item 4457\n\\item 4102\n\\item 4590\n\\item 4839\n\\item 4820\n\\item 4928\n\\item 4605\n\\item 4457\n\\item 4952\n\\item 4784\n\\item 5332\n\\item 5200\n\\item 4910\n\\item 4617\n\\item 3997\n\\item 3919\n\\item 3395\n\\item 3536\n\\item 3181\n\\item 2746\n\\item 2722\n\\item 2840\n\\item 2908\n\\item 2959\n\\item 3179\n\\item 3349\n\\item 3382\n\\item 3289\n\\item 3013\n\\item 2781\n\\item 3247\n\\item 4107\n\\item 4803\n\\item 4881\n\\item 5681\n\\item 4858\n\\item 4319\n\\item 5322\n\\item 5560\n\\item 5829\n\\item 5719\n\\item 6061\n\\item 6120\n\\item 5822\n\\item 5738\n\\item 5717\n\\item 5847\n\\item 6203\n\\item 6033\n\\item 6041\n\\item 6299\n\\item 6533\n\\item 6744\n\\item 7158\n\\item 7127\n\\item 7246\n\\item 7119\n\\item 7214\n\\item 7101\n\\item 7167\n\\item 7302\n\\item 7392\n\\item 7316\n\\item 7483\n\\item 6647\n\\item 6713\n\\item 7229\n\\item 7767\n\\item 7626\n\\item 7452\n\\item 7061\n\\item 7514\n\\item 7656\n\\item 7683\n\\item 5738\n\\item 7779\n\\item 7417\n\\item 7687\n\\item 7623\n\\item 7380\n\\item 7288\n\\end{enumerate*}\n",
            "text/plain": [
              " [1] 4683 4457 4102 4590 4839 4820 4928 4605 4457 4952 4784 5332 5200 4910 4617\n",
              "[16] 3997 3919 3395 3536 3181 2746 2722 2840 2908 2959 3179 3349 3382 3289 3013\n",
              "[31] 2781 3247 4107 4803 4881 5681 4858 4319 5322 5560 5829 5719 6061 6120 5822\n",
              "[46] 5738 5717 5847 6203 6033 6041 6299 6533 6744 7158 7127 7246 7119 7214 7101\n",
              "[61] 7167 7302 7392 7316 7483 6647 6713 7229 7767 7626 7452 7061 7514 7656 7683\n",
              "[76] 5738 7779 7417 7687 7623 7380 7288"
            ]
          },
          "metadata": {}
        }
      ]
    },
    {
      "cell_type": "code",
      "source": [
        "#for boys\n",
        "\n",
        "arbuthnot$boys"
      ],
      "metadata": {
        "colab": {
          "base_uri": "https://localhost:8080/",
          "height": 86
        },
        "id": "I1MmF7QNb3dA",
        "outputId": "91ca856a-5bbc-4ed3-87cc-ca51671968c6"
      },
      "execution_count": null,
      "outputs": [
        {
          "output_type": "display_data",
          "data": {
            "text/html": [
              "<style>\n",
              ".list-inline {list-style: none; margin:0; padding: 0}\n",
              ".list-inline>li {display: inline-block}\n",
              ".list-inline>li:not(:last-child)::after {content: \"\\00b7\"; padding: 0 .5ex}\n",
              "</style>\n",
              "<ol class=list-inline><li>5218</li><li>4858</li><li>4422</li><li>4994</li><li>5158</li><li>5035</li><li>5106</li><li>4917</li><li>4703</li><li>5359</li><li>5366</li><li>5518</li><li>5470</li><li>5460</li><li>4793</li><li>4107</li><li>4047</li><li>3768</li><li>3796</li><li>3363</li><li>3079</li><li>2890</li><li>3231</li><li>3220</li><li>3196</li><li>3441</li><li>3655</li><li>3668</li><li>3396</li><li>3157</li><li>3209</li><li>3724</li><li>4748</li><li>5216</li><li>5411</li><li>6041</li><li>5114</li><li>4678</li><li>5616</li><li>6073</li><li>6506</li><li>6278</li><li>6449</li><li>6443</li><li>6073</li><li>6113</li><li>6058</li><li>6552</li><li>6423</li><li>6568</li><li>6247</li><li>6548</li><li>6822</li><li>6909</li><li>7577</li><li>7575</li><li>7484</li><li>7575</li><li>7737</li><li>7487</li><li>7604</li><li>7909</li><li>7662</li><li>7602</li><li>7676</li><li>6985</li><li>7263</li><li>7632</li><li>8062</li><li>8426</li><li>7911</li><li>7578</li><li>8102</li><li>8031</li><li>7765</li><li>6113</li><li>8366</li><li>7952</li><li>8379</li><li>8239</li><li>7840</li><li>7640</li></ol>\n"
            ],
            "text/markdown": "1. 5218\n2. 4858\n3. 4422\n4. 4994\n5. 5158\n6. 5035\n7. 5106\n8. 4917\n9. 4703\n10. 5359\n11. 5366\n12. 5518\n13. 5470\n14. 5460\n15. 4793\n16. 4107\n17. 4047\n18. 3768\n19. 3796\n20. 3363\n21. 3079\n22. 2890\n23. 3231\n24. 3220\n25. 3196\n26. 3441\n27. 3655\n28. 3668\n29. 3396\n30. 3157\n31. 3209\n32. 3724\n33. 4748\n34. 5216\n35. 5411\n36. 6041\n37. 5114\n38. 4678\n39. 5616\n40. 6073\n41. 6506\n42. 6278\n43. 6449\n44. 6443\n45. 6073\n46. 6113\n47. 6058\n48. 6552\n49. 6423\n50. 6568\n51. 6247\n52. 6548\n53. 6822\n54. 6909\n55. 7577\n56. 7575\n57. 7484\n58. 7575\n59. 7737\n60. 7487\n61. 7604\n62. 7909\n63. 7662\n64. 7602\n65. 7676\n66. 6985\n67. 7263\n68. 7632\n69. 8062\n70. 8426\n71. 7911\n72. 7578\n73. 8102\n74. 8031\n75. 7765\n76. 6113\n77. 8366\n78. 7952\n79. 8379\n80. 8239\n81. 7840\n82. 7640\n\n\n",
            "text/latex": "\\begin{enumerate*}\n\\item 5218\n\\item 4858\n\\item 4422\n\\item 4994\n\\item 5158\n\\item 5035\n\\item 5106\n\\item 4917\n\\item 4703\n\\item 5359\n\\item 5366\n\\item 5518\n\\item 5470\n\\item 5460\n\\item 4793\n\\item 4107\n\\item 4047\n\\item 3768\n\\item 3796\n\\item 3363\n\\item 3079\n\\item 2890\n\\item 3231\n\\item 3220\n\\item 3196\n\\item 3441\n\\item 3655\n\\item 3668\n\\item 3396\n\\item 3157\n\\item 3209\n\\item 3724\n\\item 4748\n\\item 5216\n\\item 5411\n\\item 6041\n\\item 5114\n\\item 4678\n\\item 5616\n\\item 6073\n\\item 6506\n\\item 6278\n\\item 6449\n\\item 6443\n\\item 6073\n\\item 6113\n\\item 6058\n\\item 6552\n\\item 6423\n\\item 6568\n\\item 6247\n\\item 6548\n\\item 6822\n\\item 6909\n\\item 7577\n\\item 7575\n\\item 7484\n\\item 7575\n\\item 7737\n\\item 7487\n\\item 7604\n\\item 7909\n\\item 7662\n\\item 7602\n\\item 7676\n\\item 6985\n\\item 7263\n\\item 7632\n\\item 8062\n\\item 8426\n\\item 7911\n\\item 7578\n\\item 8102\n\\item 8031\n\\item 7765\n\\item 6113\n\\item 8366\n\\item 7952\n\\item 8379\n\\item 8239\n\\item 7840\n\\item 7640\n\\end{enumerate*}\n",
            "text/plain": [
              " [1] 5218 4858 4422 4994 5158 5035 5106 4917 4703 5359 5366 5518 5470 5460 4793\n",
              "[16] 4107 4047 3768 3796 3363 3079 2890 3231 3220 3196 3441 3655 3668 3396 3157\n",
              "[31] 3209 3724 4748 5216 5411 6041 5114 4678 5616 6073 6506 6278 6449 6443 6073\n",
              "[46] 6113 6058 6552 6423 6568 6247 6548 6822 6909 7577 7575 7484 7575 7737 7487\n",
              "[61] 7604 7909 7662 7602 7676 6985 7263 7632 8062 8426 7911 7578 8102 8031 7765\n",
              "[76] 6113 8366 7952 8379 8239 7840 7640"
            ]
          },
          "metadata": {}
        }
      ]
    },
    {
      "cell_type": "markdown",
      "source": [
        "<h4>Q3.) Which of the following best describes the number of girls baptised over the years included in this dataset? </h4>"
      ],
      "metadata": {
        "id": "vsKGMBWqWyR4"
      }
    },
    {
      "cell_type": "code",
      "source": [
        "ggplot(data=arbuthnot, aes(x=year, y=girls)) +\n",
        "  geom_point()"
      ],
      "metadata": {
        "colab": {
          "base_uri": "https://localhost:8080/",
          "height": 437
        },
        "id": "wrhD5AU6b6OK",
        "outputId": "3ef92045-8a11-4f83-9e29-d8f158d8e86b"
      },
      "execution_count": null,
      "outputs": [
        {
          "output_type": "display_data",
          "data": {
            "text/plain": [
              "plot without title"
            ],
            "image/png": "[encoded data removed]"
          },
          "metadata": {
            "image/png": {
              "width": 420,
              "height": 420
            }
          }
        }
      ]
    },
    {
      "cell_type": "markdown",
      "source": [
        "<h4>Q4.) How many variables are included in this data set (data set: present)? 1) 74 2) 2 3) 2013 4) 4 5) 3 </h4>"
      ],
      "metadata": {
        "id": "__kn03gMW72C"
      }
    },
    {
      "cell_type": "code",
      "source": [
        "dim(present)"
      ],
      "metadata": {
        "colab": {
          "base_uri": "https://localhost:8080/",
          "height": 34
        },
        "id": "EGTcerzdcUbE",
        "outputId": "9f655577-4903-4101-a8b2-df10daaa6782"
      },
      "execution_count": null,
      "outputs": [
        {
          "output_type": "display_data",
          "data": {
            "text/html": [
              "<style>\n",
              ".list-inline {list-style: none; margin:0; padding: 0}\n",
              ".list-inline>li {display: inline-block}\n",
              ".list-inline>li:not(:last-child)::after {content: \"\\00b7\"; padding: 0 .5ex}\n",
              "</style>\n",
              "<ol class=list-inline><li>74</li><li>3</li></ol>\n"
            ],
            "text/markdown": "1. 74\n2. 3\n\n\n",
            "text/latex": "\\begin{enumerate*}\n\\item 74\n\\item 3\n\\end{enumerate*}\n",
            "text/plain": [
              "[1] 74  3"
            ]
          },
          "metadata": {}
        }
      ]
    },
    {
      "cell_type": "code",
      "source": [
        "names(present)"
      ],
      "metadata": {
        "colab": {
          "base_uri": "https://localhost:8080/",
          "height": 34
        },
        "id": "OsUlIpiWcnAU",
        "outputId": "67a5d770-5c92-43ac-8a09-d0ece85672c1"
      },
      "execution_count": null,
      "outputs": [
        {
          "output_type": "display_data",
          "data": {
            "text/html": [
              "<style>\n",
              ".list-inline {list-style: none; margin:0; padding: 0}\n",
              ".list-inline>li {display: inline-block}\n",
              ".list-inline>li:not(:last-child)::after {content: \"\\00b7\"; padding: 0 .5ex}\n",
              "</style>\n",
              "<ol class=list-inline><li>'year'</li><li>'boys'</li><li>'girls'</li></ol>\n"
            ],
            "text/markdown": "1. 'year'\n2. 'boys'\n3. 'girls'\n\n\n",
            "text/latex": "\\begin{enumerate*}\n\\item 'year'\n\\item 'boys'\n\\item 'girls'\n\\end{enumerate*}\n",
            "text/plain": [
              "[1] \"year\"  \"boys\"  \"girls\""
            ]
          },
          "metadata": {}
        }
      ]
    },
    {
      "cell_type": "markdown",
      "source": [
        "<h4>Q5.)Calculate the total number of births for each year and store these values in a new variable called total in the present dataset. Then, calculate the proportion of boys born each year and store these values in a new variable called prop_boys in the same dataset. Plot these values over time and based on the plot determine if the following statement is true or false: The proportion of boys born in the US has decreased over time. </h4>"
      ],
      "metadata": {
        "id": "uUysXjRTXIGO"
      }
    },
    {
      "cell_type": "code",
      "source": [
        "present <- present %>% mutate(total = boys + girls)\n",
        "present <- present %>% mutate(prop_boys = boys/total)\n",
        "ggplot(data = present, aes(x=year, y =prop_boys)) + geom_line() + geom_point()"
      ],
      "metadata": {
        "colab": {
          "base_uri": "https://localhost:8080/",
          "height": 437
        },
        "id": "CcIF-4M_cp-g",
        "outputId": "15165760-7f47-4cf1-eccd-54ddce1d5d74"
      },
      "execution_count": null,
      "outputs": [
        {
          "output_type": "display_data",
          "data": {
            "text/plain": [
              "plot without title"
            ],
            "image/png": "[encoded data removed]"
          },
          "metadata": {
            "image/png": {
              "width": 420,
              "height": 420
            }
          }
        }
      ]
    },
    {
      "cell_type": "markdown",
      "source": [
        "<h4>Q6._Create a new variable called more_boys which contains the value of either TRUE if that year had more boys than girls, or FALSE if that year did not. Based on this variable which of the following statements is true?</h4>"
      ],
      "metadata": {
        "id": "Zo447_cFXUpx"
      }
    },
    {
      "cell_type": "code",
      "source": [
        "present <- present %>% mutate(more_boys= boys > girls)\n",
        "present$more_boys"
      ],
      "metadata": {
        "colab": {
          "base_uri": "https://localhost:8080/",
          "height": 86
        },
        "id": "fBjyIPqidcM4",
        "outputId": "a6679e60-2ea2-4a64-b95b-14e38aec4201"
      },
      "execution_count": null,
      "outputs": [
        {
          "output_type": "display_data",
          "data": {
            "text/html": [
              "<style>\n",
              ".list-inline {list-style: none; margin:0; padding: 0}\n",
              ".list-inline>li {display: inline-block}\n",
              ".list-inline>li:not(:last-child)::after {content: \"\\00b7\"; padding: 0 .5ex}\n",
              "</style>\n",
              "<ol class=list-inline><li>TRUE</li><li>TRUE</li><li>TRUE</li><li>TRUE</li><li>TRUE</li><li>TRUE</li><li>TRUE</li><li>TRUE</li><li>TRUE</li><li>TRUE</li><li>TRUE</li><li>TRUE</li><li>TRUE</li><li>TRUE</li><li>TRUE</li><li>TRUE</li><li>TRUE</li><li>TRUE</li><li>TRUE</li><li>TRUE</li><li>TRUE</li><li>TRUE</li><li>TRUE</li><li>TRUE</li><li>TRUE</li><li>TRUE</li><li>TRUE</li><li>TRUE</li><li>TRUE</li><li>TRUE</li><li>TRUE</li><li>TRUE</li><li>TRUE</li><li>TRUE</li><li>TRUE</li><li>TRUE</li><li>TRUE</li><li>TRUE</li><li>TRUE</li><li>TRUE</li><li>TRUE</li><li>TRUE</li><li>TRUE</li><li>TRUE</li><li>TRUE</li><li>TRUE</li><li>TRUE</li><li>TRUE</li><li>TRUE</li><li>TRUE</li><li>TRUE</li><li>TRUE</li><li>TRUE</li><li>TRUE</li><li>TRUE</li><li>TRUE</li><li>TRUE</li><li>TRUE</li><li>TRUE</li><li>TRUE</li><li>TRUE</li><li>TRUE</li><li>TRUE</li><li>TRUE</li><li>TRUE</li><li>TRUE</li><li>TRUE</li><li>TRUE</li><li>TRUE</li><li>TRUE</li><li>TRUE</li><li>TRUE</li><li>TRUE</li><li>TRUE</li></ol>\n"
            ],
            "text/markdown": "1. TRUE\n2. TRUE\n3. TRUE\n4. TRUE\n5. TRUE\n6. TRUE\n7. TRUE\n8. TRUE\n9. TRUE\n10. TRUE\n11. TRUE\n12. TRUE\n13. TRUE\n14. TRUE\n15. TRUE\n16. TRUE\n17. TRUE\n18. TRUE\n19. TRUE\n20. TRUE\n21. TRUE\n22. TRUE\n23. TRUE\n24. TRUE\n25. TRUE\n26. TRUE\n27. TRUE\n28. TRUE\n29. TRUE\n30. TRUE\n31. TRUE\n32. TRUE\n33. TRUE\n34. TRUE\n35. TRUE\n36. TRUE\n37. TRUE\n38. TRUE\n39. TRUE\n40. TRUE\n41. TRUE\n42. TRUE\n43. TRUE\n44. TRUE\n45. TRUE\n46. TRUE\n47. TRUE\n48. TRUE\n49. TRUE\n50. TRUE\n51. TRUE\n52. TRUE\n53. TRUE\n54. TRUE\n55. TRUE\n56. TRUE\n57. TRUE\n58. TRUE\n59. TRUE\n60. TRUE\n61. TRUE\n62. TRUE\n63. TRUE\n64. TRUE\n65. TRUE\n66. TRUE\n67. TRUE\n68. TRUE\n69. TRUE\n70. TRUE\n71. TRUE\n72. TRUE\n73. TRUE\n74. TRUE\n\n\n",
            "text/latex": "\\begin{enumerate*}\n\\item TRUE\n\\item TRUE\n\\item TRUE\n\\item TRUE\n\\item TRUE\n\\item TRUE\n\\item TRUE\n\\item TRUE\n\\item TRUE\n\\item TRUE\n\\item TRUE\n\\item TRUE\n\\item TRUE\n\\item TRUE\n\\item TRUE\n\\item TRUE\n\\item TRUE\n\\item TRUE\n\\item TRUE\n\\item TRUE\n\\item TRUE\n\\item TRUE\n\\item TRUE\n\\item TRUE\n\\item TRUE\n\\item TRUE\n\\item TRUE\n\\item TRUE\n\\item TRUE\n\\item TRUE\n\\item TRUE\n\\item TRUE\n\\item TRUE\n\\item TRUE\n\\item TRUE\n\\item TRUE\n\\item TRUE\n\\item TRUE\n\\item TRUE\n\\item TRUE\n\\item TRUE\n\\item TRUE\n\\item TRUE\n\\item TRUE\n\\item TRUE\n\\item TRUE\n\\item TRUE\n\\item TRUE\n\\item TRUE\n\\item TRUE\n\\item TRUE\n\\item TRUE\n\\item TRUE\n\\item TRUE\n\\item TRUE\n\\item TRUE\n\\item TRUE\n\\item TRUE\n\\item TRUE\n\\item TRUE\n\\item TRUE\n\\item TRUE\n\\item TRUE\n\\item TRUE\n\\item TRUE\n\\item TRUE\n\\item TRUE\n\\item TRUE\n\\item TRUE\n\\item TRUE\n\\item TRUE\n\\item TRUE\n\\item TRUE\n\\item TRUE\n\\end{enumerate*}\n",
            "text/plain": [
              " [1] TRUE TRUE TRUE TRUE TRUE TRUE TRUE TRUE TRUE TRUE TRUE TRUE TRUE TRUE TRUE\n",
              "[16] TRUE TRUE TRUE TRUE TRUE TRUE TRUE TRUE TRUE TRUE TRUE TRUE TRUE TRUE TRUE\n",
              "[31] TRUE TRUE TRUE TRUE TRUE TRUE TRUE TRUE TRUE TRUE TRUE TRUE TRUE TRUE TRUE\n",
              "[46] TRUE TRUE TRUE TRUE TRUE TRUE TRUE TRUE TRUE TRUE TRUE TRUE TRUE TRUE TRUE\n",
              "[61] TRUE TRUE TRUE TRUE TRUE TRUE TRUE TRUE TRUE TRUE TRUE TRUE TRUE TRUE"
            ]
          },
          "metadata": {}
        }
      ]
    },
    {
      "cell_type": "markdown",
      "source": [
        "<h4>Q7.)Calculate the boy-to-girl ratio each year, and store these values in a new variable called prop_boy_girl in the present dataset. Plot these values over time. Which of the following best describes the trend?</h4>"
      ],
      "metadata": {
        "id": "sYbpxj8wXgNx"
      }
    },
    {
      "cell_type": "code",
      "source": [
        "present <- present %>% mutate(prop_boy_girl = boys/girls)\n",
        "ggplot(present, aes(x=year,y=prop_boy_girl)) + geom_line() + geom_point()"
      ],
      "metadata": {
        "colab": {
          "base_uri": "https://localhost:8080/",
          "height": 437
        },
        "id": "ABRTFS-6d8Hl",
        "outputId": "86bb32fa-54be-4343-bdf3-146c2f2a39ab"
      },
      "execution_count": null,
      "outputs": [
        {
          "output_type": "display_data",
          "data": {
            "text/plain": [
              "plot without title"
            ],
            "image/png": "[encoded data removed]"
          },
          "metadata": {
            "image/png": {
              "width": 420,
              "height": 420
            }
          }
        }
      ]
    },
    {
      "cell_type": "markdown",
      "source": [
        "<h4>Q8.)In what year did we see the most total number of births in the U.S.?</h4>"
      ],
      "metadata": {
        "id": "SYbn-nWWXpfO"
      }
    },
    {
      "cell_type": "code",
      "source": [
        "present$year[which.max(present$total)]"
      ],
      "metadata": {
        "colab": {
          "base_uri": "https://localhost:8080/",
          "height": 34
        },
        "id": "OP4aFESjegRZ",
        "outputId": "4ef12da1-9399-471e-e376-5618bb3e6a97"
      },
      "execution_count": null,
      "outputs": [
        {
          "output_type": "display_data",
          "data": {
            "text/html": [
              "2007"
            ],
            "text/markdown": "2007",
            "text/latex": "2007",
            "text/plain": [
              "[1] 2007"
            ]
          },
          "metadata": {}
        }
      ]
    },
    {
      "cell_type": "markdown",
      "source": [
        "<h1>LAB-2. Introduction to data</H1>"
      ],
      "metadata": {
        "id": "qt03q1jFXvK_"
      }
    },
    {
      "cell_type": "markdown",
      "source": [
        "<H2>Load packages<H2<"
      ],
      "metadata": {
        "id": "1yjxM28LYNaN"
      }
    },
    {
      "cell_type": "code",
      "source": [
        "library(statsr)\n",
        "library(dplyr)\n",
        "library(ggplot2)"
      ],
      "metadata": {
        "id": "stUjVU6mYUkZ"
      },
      "execution_count": null,
      "outputs": []
    },
    {
      "cell_type": "markdown",
      "source": [
        "<h2>Importing the dataset</h2>"
      ],
      "metadata": {
        "id": "tOBNy32QYgAm"
      }
    },
    {
      "cell_type": "code",
      "source": [
        "data(nycflights)"
      ],
      "metadata": {
        "id": "1oS0aobKdnbH"
      },
      "execution_count": null,
      "outputs": []
    },
    {
      "cell_type": "code",
      "source": [
        "names(nycflights)"
      ],
      "metadata": {
        "colab": {
          "base_uri": "https://localhost:8080/",
          "height": 34
        },
        "id": "PSuNxrC3eX4h",
        "outputId": "75954cd2-ea31-44f5-e46e-cf5e96091fc3"
      },
      "execution_count": null,
      "outputs": [
        {
          "output_type": "display_data",
          "data": {
            "text/html": [
              "<style>\n",
              ".list-inline {list-style: none; margin:0; padding: 0}\n",
              ".list-inline>li {display: inline-block}\n",
              ".list-inline>li:not(:last-child)::after {content: \"\\00b7\"; padding: 0 .5ex}\n",
              "</style>\n",
              "<ol class=list-inline><li>'year'</li><li>'month'</li><li>'day'</li><li>'dep_time'</li><li>'dep_delay'</li><li>'arr_time'</li><li>'arr_delay'</li><li>'carrier'</li><li>'tailnum'</li><li>'flight'</li><li>'origin'</li><li>'dest'</li><li>'air_time'</li><li>'distance'</li><li>'hour'</li><li>'minute'</li></ol>\n"
            ],
            "text/markdown": "1. 'year'\n2. 'month'\n3. 'day'\n4. 'dep_time'\n5. 'dep_delay'\n6. 'arr_time'\n7. 'arr_delay'\n8. 'carrier'\n9. 'tailnum'\n10. 'flight'\n11. 'origin'\n12. 'dest'\n13. 'air_time'\n14. 'distance'\n15. 'hour'\n16. 'minute'\n\n\n",
            "text/latex": "\\begin{enumerate*}\n\\item 'year'\n\\item 'month'\n\\item 'day'\n\\item 'dep\\_time'\n\\item 'dep\\_delay'\n\\item 'arr\\_time'\n\\item 'arr\\_delay'\n\\item 'carrier'\n\\item 'tailnum'\n\\item 'flight'\n\\item 'origin'\n\\item 'dest'\n\\item 'air\\_time'\n\\item 'distance'\n\\item 'hour'\n\\item 'minute'\n\\end{enumerate*}\n",
            "text/plain": [
              " [1] \"year\"      \"month\"     \"day\"       \"dep_time\"  \"dep_delay\" \"arr_time\" \n",
              " [7] \"arr_delay\" \"carrier\"   \"tailnum\"   \"flight\"    \"origin\"    \"dest\"     \n",
              "[13] \"air_time\"  \"distance\"  \"hour\"      \"minute\"   "
            ]
          },
          "metadata": {}
        }
      ]
    },
    {
      "cell_type": "code",
      "source": [
        "?nycflights"
      ],
      "metadata": {
        "id": "5XfHeq_ufVu8"
      },
      "execution_count": null,
      "outputs": []
    },
    {
      "cell_type": "code",
      "source": [
        "#structure of the dataset\n",
        "\n",
        "str(nycflights)"
      ],
      "metadata": {
        "colab": {
          "base_uri": "https://localhost:8080/"
        },
        "id": "tNyvgNCdfX7a",
        "outputId": "b8345799-4312-490b-9e13-cdb47f55aa49"
      },
      "execution_count": null,
      "outputs": [
        {
          "output_type": "stream",
          "name": "stdout",
          "text": [
            "tibble [32,735 × 16] (S3: tbl_df/data.frame)\n",
            " $ year     : int [1:32735] 2013 2013 2013 2013 2013 2013 2013 2013 2013 2013 ...\n",
            " $ month    : int [1:32735] 6 5 12 5 7 1 12 8 9 4 ...\n",
            " $ day      : int [1:32735] 30 7 8 14 21 1 9 13 26 30 ...\n",
            " $ dep_time : int [1:32735] 940 1657 859 1841 1102 1817 1259 1920 725 1323 ...\n",
            " $ dep_delay: num [1:32735] 15 -3 -1 -4 -3 -3 14 85 -10 62 ...\n",
            " $ arr_time : int [1:32735] 1216 2104 1238 2122 1230 2008 1617 2032 1027 1549 ...\n",
            " $ arr_delay: num [1:32735] -4 10 11 -34 -8 3 22 71 -8 60 ...\n",
            " $ carrier  : chr [1:32735] \"VX\" \"DL\" \"DL\" \"DL\" ...\n",
            " $ tailnum  : chr [1:32735] \"N626VA\" \"N3760C\" \"N712TW\" \"N914DL\" ...\n",
            " $ flight   : int [1:32735] 407 329 422 2391 3652 353 1428 1407 2279 4162 ...\n",
            " $ origin   : chr [1:32735] \"JFK\" \"JFK\" \"JFK\" \"JFK\" ...\n",
            " $ dest     : chr [1:32735] \"LAX\" \"SJU\" \"LAX\" \"TPA\" ...\n",
            " $ air_time : num [1:32735] 313 216 376 135 50 138 240 48 148 110 ...\n",
            " $ distance : num [1:32735] 2475 1598 2475 1005 296 ...\n",
            " $ hour     : num [1:32735] 9 16 8 18 11 18 12 19 7 13 ...\n",
            " $ minute   : num [1:32735] 40 57 59 41 2 17 59 20 25 23 ...\n"
          ]
        }
      ]
    },
    {
      "cell_type": "markdown",
      "source": [
        "<h2>Seven Verbs</h2>\n",
        "<p>The dplyr package offers seven verbs (functions) for basic data manipulation:\n",
        "<li>\n",
        "filter()\n",
        "arrange()\n",
        "select()\n",
        "distinct()\n",
        "mutate()\n",
        "summarise()\n",
        "sample_n()\n",
        "</li>\n",
        "</p>"
      ],
      "metadata": {
        "id": "85G6MH7OYzGG"
      }
    },
    {
      "cell_type": "markdown",
      "source": [
        "###Analysis\n"
      ],
      "metadata": {
        "id": "vbEikKhmZJa9"
      }
    },
    {
      "cell_type": "markdown",
      "source": [
        "<h2>Departure delays in flights to Raleigh-Durham (RDU)</h2>"
      ],
      "metadata": {
        "id": "0Xck-DepZOLj"
      }
    },
    {
      "cell_type": "code",
      "source": [
        "#We can examine the distribution of departure delays of all flights with a histogram.\n",
        "\n",
        "ggplot(data=nycflights, aes(x=dep_delay)) +\n",
        "  geom_histogram()"
      ],
      "metadata": {
        "colab": {
          "base_uri": "https://localhost:8080/",
          "height": 454
        },
        "id": "CqW0P1tTfjk0",
        "outputId": "6d14613c-9ea9-458c-9a3d-b0b1b6acc99c"
      },
      "execution_count": null,
      "outputs": [
        {
          "output_type": "stream",
          "name": "stderr",
          "text": [
            "\u001b[1m\u001b[22m`stat_bin()` using `bins = 30`. Pick better value with `binwidth`.\n"
          ]
        },
        {
          "output_type": "display_data",
          "data": {
            "text/plain": [
              "plot without title"
            ],
            "image/png": "[encoded data removed]"
          },
          "metadata": {
            "image/png": {
              "width": 420,
              "height": 420
            }
          }
        }
      ]
    },
    {
      "cell_type": "code",
      "source": [
        "# You can easily define the binwidth you want to use:\n",
        "\n",
        "ggplot(data=nycflights, aes(x=dep_delay)) +\n",
        "  geom_histogram(binwidth = 15)"
      ],
      "metadata": {
        "colab": {
          "base_uri": "https://localhost:8080/",
          "height": 437
        },
        "id": "IVRXrm1ggdfD",
        "outputId": "7b5e6fa9-6032-47df-a535-b487e0f6aa39"
      },
      "execution_count": null,
      "outputs": [
        {
          "output_type": "display_data",
          "data": {
            "text/plain": [
              "plot without title"
            ],
            "image/png": "[encoded data removed]"
          },
          "metadata": {
            "image/png": {
              "width": 420,
              "height": 420
            }
          }
        }
      ]
    },
    {
      "cell_type": "code",
      "source": [
        "ggplot(data=nycflights, aes(x=dep_delay)) +\n",
        "  geom_histogram(binwidth = 150)"
      ],
      "metadata": {
        "colab": {
          "base_uri": "https://localhost:8080/",
          "height": 437
        },
        "id": "6kdZd327g1uH",
        "outputId": "c5ca7910-ffad-49d1-b0e8-1742d49b260b"
      },
      "execution_count": null,
      "outputs": [
        {
          "output_type": "display_data",
          "data": {
            "text/plain": [
              "plot without title"
            ],
            "image/png": "[encoded data removed]"
          },
          "metadata": {
            "image/png": {
              "width": 420,
              "height": 420
            }
          }
        }
      ]
    },
    {
      "cell_type": "markdown",
      "source": [
        "<h4>Q1.)How do these three histograms with the various binwidths compare?</h4>"
      ],
      "metadata": {
        "id": "ra6Y8VoxZm6A"
      }
    },
    {
      "cell_type": "code",
      "source": [
        "rdu_flights <- nycflights %>%\n",
        "  filter(dest == \"RDU\")\n",
        "\n",
        "ggplot(data=rdu_flights, aes(x = dep_delay)) +\n",
        "  geom_histogram(binwidth = 10)"
      ],
      "metadata": {
        "colab": {
          "base_uri": "https://localhost:8080/",
          "height": 437
        },
        "id": "v7lIv8GDg9R6",
        "outputId": "71854761-5dfb-4795-ae56-ce5fd83b8bf8"
      },
      "execution_count": null,
      "outputs": [
        {
          "output_type": "display_data",
          "data": {
            "text/plain": [
              "plot without title"
            ],
            "image/png": "[encoded data removed]"
          },
          "metadata": {
            "image/png": {
              "width": 420,
              "height": 420
            }
          }
        }
      ]
    },
    {
      "cell_type": "code",
      "source": [
        "#We can also obtain numerical summaries for these flights:\n",
        "\n",
        "rdu_flights %>%\n",
        "  summarise(mean_dd = mean(dep_delay), sd_dd = sd(dep_delay), n = n())"
      ],
      "metadata": {
        "colab": {
          "base_uri": "https://localhost:8080/",
          "height": 129
        },
        "id": "C8h3SxREh9E8",
        "outputId": "bbf49a3c-209b-48fb-f6cb-a7f1cd017e22"
      },
      "execution_count": null,
      "outputs": [
        {
          "output_type": "display_data",
          "data": {
            "text/html": [
              "<table class=\"dataframe\">\n",
              "<caption>A tibble: 1 × 3</caption>\n",
              "<thead>\n",
              "\t<tr><th scope=col>mean_dd</th><th scope=col>sd_dd</th><th scope=col>n</th></tr>\n",
              "\t<tr><th scope=col>&lt;dbl&gt;</th><th scope=col>&lt;dbl&gt;</th><th scope=col>&lt;int&gt;</th></tr>\n",
              "</thead>\n",
              "<tbody>\n",
              "\t<tr><td>11.69913</td><td>35.55567</td><td>801</td></tr>\n",
              "</tbody>\n",
              "</table>\n"
            ],
            "text/markdown": "\nA tibble: 1 × 3\n\n| mean_dd &lt;dbl&gt; | sd_dd &lt;dbl&gt; | n &lt;int&gt; |\n|---|---|---|\n| 11.69913 | 35.55567 | 801 |\n\n",
            "text/latex": "A tibble: 1 × 3\n\\begin{tabular}{lll}\n mean\\_dd & sd\\_dd & n\\\\\n <dbl> & <dbl> & <int>\\\\\n\\hline\n\t 11.69913 & 35.55567 & 801\\\\\n\\end{tabular}\n",
            "text/plain": [
              "  mean_dd  sd_dd    n  \n",
              "1 11.69913 35.55567 801"
            ]
          },
          "metadata": {}
        }
      ]
    },
    {
      "cell_type": "markdown",
      "source": [
        "<h3>Summary statistics:</h3>.\n",
        "<p> Some useful function calls for summary statistics for a single numerical variable are as follows:</p>\n",
        "<l1>\n",
        "mean\n",
        "median\n",
        "sd\n",
        "var\n",
        "IQR\n",
        "range\n",
        "min\n",
        "max\n",
        "</l1>"
      ],
      "metadata": {
        "id": "y-o2ICxbaE2V"
      }
    },
    {
      "cell_type": "code",
      "source": [
        "#We can also filter based on multiple criteria.\n",
        "\n",
        "sfo_feb_flights <- nycflights %>%\n",
        "  filter(dest == \"SFO\", month == 2 )"
      ],
      "metadata": {
        "id": "NSAZ5AmHi7z5"
      },
      "execution_count": null,
      "outputs": []
    },
    {
      "cell_type": "markdown",
      "source": [
        "<h4>Q2.) Create a new data frame that includes flights headed to SFO in February, and save this data frame as sfo_feb_flights. How many flights meet these criteria?</h4>"
      ],
      "metadata": {
        "id": "YHjKKwHnaekE"
      }
    },
    {
      "cell_type": "code",
      "source": [
        "nrow(sfo_feb_flights)"
      ],
      "metadata": {
        "colab": {
          "base_uri": "https://localhost:8080/",
          "height": 34
        },
        "id": "KvOL31u6jN5s",
        "outputId": "26b107ed-8082-4e2b-de53-f379499eb34c"
      },
      "execution_count": null,
      "outputs": [
        {
          "output_type": "display_data",
          "data": {
            "text/html": [
              "68"
            ],
            "text/markdown": "68",
            "text/latex": "68",
            "text/plain": [
              "[1] 68"
            ]
          },
          "metadata": {}
        }
      ]
    },
    {
      "cell_type": "markdown",
      "source": [
        "<h4>Q3.) Make a histogram and calculate appropriate summary statistics for arrival delays of sfo_feb_flights. Which of the following is false?</h4>"
      ],
      "metadata": {
        "id": "5yoPEnXuarcM"
      }
    },
    {
      "cell_type": "code",
      "source": [
        "ggplot(data=sfo_feb_flights, aes(x=arr_delay)) +\n",
        "  geom_histogram()"
      ],
      "metadata": {
        "colab": {
          "base_uri": "https://localhost:8080/",
          "height": 454
        },
        "id": "7dCM33fXjb_D",
        "outputId": "72b7023f-75a3-48aa-8544-a070658fcc0e"
      },
      "execution_count": null,
      "outputs": [
        {
          "output_type": "stream",
          "name": "stderr",
          "text": [
            "\u001b[1m\u001b[22m`stat_bin()` using `bins = 30`. Pick better value with `binwidth`.\n"
          ]
        },
        {
          "output_type": "display_data",
          "data": {
            "text/plain": [
              "plot without title"
            ],
            "image/png": "[encoded data removed]"
          },
          "metadata": {
            "image/png": {
              "width": 420,
              "height": 420
            }
          }
        }
      ]
    },
    {
      "cell_type": "code",
      "source": [
        "#summary statistics of sfo_feb_flights\n",
        "\n",
        "sfo_feb_flights %>%\n",
        "  summarise(mean_ad = mean(arr_delay), sd_ad=sd(arr_delay), n=n(),\n",
        "  min_ad=min(arr_delay), max_ad=max(arr_delay))"
      ],
      "metadata": {
        "colab": {
          "base_uri": "https://localhost:8080/",
          "height": 129
        },
        "id": "Y5VYlaRAkKkS",
        "outputId": "b76bec9c-95b0-47d4-9bb9-bfcf3da55f33"
      },
      "execution_count": null,
      "outputs": [
        {
          "output_type": "display_data",
          "data": {
            "text/html": [
              "<table class=\"dataframe\">\n",
              "<caption>A tibble: 1 × 5</caption>\n",
              "<thead>\n",
              "\t<tr><th scope=col>mean_ad</th><th scope=col>sd_ad</th><th scope=col>n</th><th scope=col>min_ad</th><th scope=col>max_ad</th></tr>\n",
              "\t<tr><th scope=col>&lt;dbl&gt;</th><th scope=col>&lt;dbl&gt;</th><th scope=col>&lt;int&gt;</th><th scope=col>&lt;dbl&gt;</th><th scope=col>&lt;dbl&gt;</th></tr>\n",
              "</thead>\n",
              "<tbody>\n",
              "\t<tr><td>-4.5</td><td>36.28062</td><td>68</td><td>-66</td><td>196</td></tr>\n",
              "</tbody>\n",
              "</table>\n"
            ],
            "text/markdown": "\nA tibble: 1 × 5\n\n| mean_ad &lt;dbl&gt; | sd_ad &lt;dbl&gt; | n &lt;int&gt; | min_ad &lt;dbl&gt; | max_ad &lt;dbl&gt; |\n|---|---|---|---|---|\n| -4.5 | 36.28062 | 68 | -66 | 196 |\n\n",
            "text/latex": "A tibble: 1 × 5\n\\begin{tabular}{lllll}\n mean\\_ad & sd\\_ad & n & min\\_ad & max\\_ad\\\\\n <dbl> & <dbl> & <int> & <dbl> & <dbl>\\\\\n\\hline\n\t -4.5 & 36.28062 & 68 & -66 & 196\\\\\n\\end{tabular}\n",
            "text/plain": [
              "  mean_ad sd_ad    n  min_ad max_ad\n",
              "1 -4.5    36.28062 68 -66    196   "
            ]
          },
          "metadata": {}
        }
      ]
    },
    {
      "cell_type": "code",
      "source": [
        "#Another useful functionality is being able to quickly calculate summary statistics for various groups in your data frame.\n",
        "\n",
        "rdu_flights %>%\n",
        "  group_by(origin) %>%\n",
        "  summarise(mean_dd = mean(dep_delay), sd_dd = sd(dep_delay), n = n())"
      ],
      "metadata": {
        "colab": {
          "base_uri": "https://localhost:8080/",
          "height": 192
        },
        "id": "HfP-nUzokoqe",
        "outputId": "a551d1fa-1399-45e8-b314-2782581084f5"
      },
      "execution_count": null,
      "outputs": [
        {
          "output_type": "display_data",
          "data": {
            "text/html": [
              "<table class=\"dataframe\">\n",
              "<caption>A tibble: 3 × 4</caption>\n",
              "<thead>\n",
              "\t<tr><th scope=col>origin</th><th scope=col>mean_dd</th><th scope=col>sd_dd</th><th scope=col>n</th></tr>\n",
              "\t<tr><th scope=col>&lt;chr&gt;</th><th scope=col>&lt;dbl&gt;</th><th scope=col>&lt;dbl&gt;</th><th scope=col>&lt;int&gt;</th></tr>\n",
              "</thead>\n",
              "<tbody>\n",
              "\t<tr><td>EWR</td><td>13.365517</td><td>32.08492</td><td>145</td></tr>\n",
              "\t<tr><td>JFK</td><td>15.396667</td><td>40.30535</td><td>300</td></tr>\n",
              "\t<tr><td>LGA</td><td> 7.904494</td><td>32.18620</td><td>356</td></tr>\n",
              "</tbody>\n",
              "</table>\n"
            ],
            "text/markdown": "\nA tibble: 3 × 4\n\n| origin &lt;chr&gt; | mean_dd &lt;dbl&gt; | sd_dd &lt;dbl&gt; | n &lt;int&gt; |\n|---|---|---|---|\n| EWR | 13.365517 | 32.08492 | 145 |\n| JFK | 15.396667 | 40.30535 | 300 |\n| LGA |  7.904494 | 32.18620 | 356 |\n\n",
            "text/latex": "A tibble: 3 × 4\n\\begin{tabular}{llll}\n origin & mean\\_dd & sd\\_dd & n\\\\\n <chr> & <dbl> & <dbl> & <int>\\\\\n\\hline\n\t EWR & 13.365517 & 32.08492 & 145\\\\\n\t JFK & 15.396667 & 40.30535 & 300\\\\\n\t LGA &  7.904494 & 32.18620 & 356\\\\\n\\end{tabular}\n",
            "text/plain": [
              "  origin mean_dd   sd_dd    n  \n",
              "1 EWR    13.365517 32.08492 145\n",
              "2 JFK    15.396667 40.30535 300\n",
              "3 LGA     7.904494 32.18620 356"
            ]
          },
          "metadata": {}
        }
      ]
    },
    {
      "cell_type": "markdown",
      "source": [
        "<h4>Q4.) Calculate the median and interquartile range for arr_delays of flights in the sfo_feb_flights data frame, grouped by carrier. Which carrier is the has the hights IQR of arrival delays?</h4>"
      ],
      "metadata": {
        "id": "5Ays2M4ibN29"
      }
    },
    {
      "cell_type": "code",
      "source": [
        "# we first grouped the data by origin, and then calculated the summary statistics.\n",
        "\n",
        "sfo_feb_flights %>%\n",
        "  group_by(carrier) %>%\n",
        "  summarise(median_ad = median(arr_delay), IQR_ad= IQR(arr_delay), n=n())"
      ],
      "metadata": {
        "colab": {
          "base_uri": "https://localhost:8080/",
          "height": 255
        },
        "id": "iQt2SfYSk8_6",
        "outputId": "d6cb24ed-9dc3-41b0-ce6f-a7e94d275184"
      },
      "execution_count": null,
      "outputs": [
        {
          "output_type": "display_data",
          "data": {
            "text/html": [
              "<table class=\"dataframe\">\n",
              "<caption>A tibble: 5 × 4</caption>\n",
              "<thead>\n",
              "\t<tr><th scope=col>carrier</th><th scope=col>median_ad</th><th scope=col>IQR_ad</th><th scope=col>n</th></tr>\n",
              "\t<tr><th scope=col>&lt;chr&gt;</th><th scope=col>&lt;dbl&gt;</th><th scope=col>&lt;dbl&gt;</th><th scope=col>&lt;int&gt;</th></tr>\n",
              "</thead>\n",
              "<tbody>\n",
              "\t<tr><td>AA</td><td>  5.0</td><td>17.50</td><td>10</td></tr>\n",
              "\t<tr><td>B6</td><td>-10.5</td><td>12.25</td><td> 6</td></tr>\n",
              "\t<tr><td>DL</td><td>-15.0</td><td>22.00</td><td>19</td></tr>\n",
              "\t<tr><td>UA</td><td>-10.0</td><td>22.00</td><td>21</td></tr>\n",
              "\t<tr><td>VX</td><td>-22.5</td><td>21.25</td><td>12</td></tr>\n",
              "</tbody>\n",
              "</table>\n"
            ],
            "text/markdown": "\nA tibble: 5 × 4\n\n| carrier &lt;chr&gt; | median_ad &lt;dbl&gt; | IQR_ad &lt;dbl&gt; | n &lt;int&gt; |\n|---|---|---|---|\n| AA |   5.0 | 17.50 | 10 |\n| B6 | -10.5 | 12.25 |  6 |\n| DL | -15.0 | 22.00 | 19 |\n| UA | -10.0 | 22.00 | 21 |\n| VX | -22.5 | 21.25 | 12 |\n\n",
            "text/latex": "A tibble: 5 × 4\n\\begin{tabular}{llll}\n carrier & median\\_ad & IQR\\_ad & n\\\\\n <chr> & <dbl> & <dbl> & <int>\\\\\n\\hline\n\t AA &   5.0 & 17.50 & 10\\\\\n\t B6 & -10.5 & 12.25 &  6\\\\\n\t DL & -15.0 & 22.00 & 19\\\\\n\t UA & -10.0 & 22.00 & 21\\\\\n\t VX & -22.5 & 21.25 & 12\\\\\n\\end{tabular}\n",
            "text/plain": [
              "  carrier median_ad IQR_ad n \n",
              "1 AA        5.0     17.50  10\n",
              "2 B6      -10.5     12.25   6\n",
              "3 DL      -15.0     22.00  19\n",
              "4 UA      -10.0     22.00  21\n",
              "5 VX      -22.5     21.25  12"
            ]
          },
          "metadata": {}
        }
      ]
    },
    {
      "cell_type": "markdown",
      "source": [
        "<h2>Departure delays over months</h2>"
      ],
      "metadata": {
        "id": "8FS3HMo0bbY0"
      }
    },
    {
      "cell_type": "markdown",
      "source": [
        "<h4>Q5.) Which month has the highest average departure delay from an NYC airport?</h4>"
      ],
      "metadata": {
        "id": "u2tcaUEVbkr-"
      }
    },
    {
      "cell_type": "code",
      "source": [
        "nycflights %>%\n",
        "  group_by(month) %>%\n",
        "  summarise(mean_dd = mean(dep_delay)) %>%\n",
        "  arrange(desc(mean_dd))"
      ],
      "metadata": {
        "colab": {
          "base_uri": "https://localhost:8080/",
          "height": 474
        },
        "id": "dL6XCj88ljMk",
        "outputId": "aff1ae76-14cd-4bc0-b807-21fe0d002a60"
      },
      "execution_count": null,
      "outputs": [
        {
          "output_type": "display_data",
          "data": {
            "text/html": [
              "<table class=\"dataframe\">\n",
              "<caption>A tibble: 12 × 2</caption>\n",
              "<thead>\n",
              "\t<tr><th scope=col>month</th><th scope=col>mean_dd</th></tr>\n",
              "\t<tr><th scope=col>&lt;int&gt;</th><th scope=col>&lt;dbl&gt;</th></tr>\n",
              "</thead>\n",
              "<tbody>\n",
              "\t<tr><td> 7</td><td>20.754559</td></tr>\n",
              "\t<tr><td> 6</td><td>20.350293</td></tr>\n",
              "\t<tr><td>12</td><td>17.368189</td></tr>\n",
              "\t<tr><td> 4</td><td>14.554477</td></tr>\n",
              "\t<tr><td> 3</td><td>13.517602</td></tr>\n",
              "\t<tr><td> 5</td><td>13.264800</td></tr>\n",
              "\t<tr><td> 8</td><td>12.619097</td></tr>\n",
              "\t<tr><td> 2</td><td>10.687227</td></tr>\n",
              "\t<tr><td> 1</td><td>10.233333</td></tr>\n",
              "\t<tr><td> 9</td><td> 6.872436</td></tr>\n",
              "\t<tr><td>11</td><td> 6.103183</td></tr>\n",
              "\t<tr><td>10</td><td> 5.880374</td></tr>\n",
              "</tbody>\n",
              "</table>\n"
            ],
            "text/markdown": "\nA tibble: 12 × 2\n\n| month &lt;int&gt; | mean_dd &lt;dbl&gt; |\n|---|---|\n|  7 | 20.754559 |\n|  6 | 20.350293 |\n| 12 | 17.368189 |\n|  4 | 14.554477 |\n|  3 | 13.517602 |\n|  5 | 13.264800 |\n|  8 | 12.619097 |\n|  2 | 10.687227 |\n|  1 | 10.233333 |\n|  9 |  6.872436 |\n| 11 |  6.103183 |\n| 10 |  5.880374 |\n\n",
            "text/latex": "A tibble: 12 × 2\n\\begin{tabular}{ll}\n month & mean\\_dd\\\\\n <int> & <dbl>\\\\\n\\hline\n\t  7 & 20.754559\\\\\n\t  6 & 20.350293\\\\\n\t 12 & 17.368189\\\\\n\t  4 & 14.554477\\\\\n\t  3 & 13.517602\\\\\n\t  5 & 13.264800\\\\\n\t  8 & 12.619097\\\\\n\t  2 & 10.687227\\\\\n\t  1 & 10.233333\\\\\n\t  9 &  6.872436\\\\\n\t 11 &  6.103183\\\\\n\t 10 &  5.880374\\\\\n\\end{tabular}\n",
            "text/plain": [
              "   month mean_dd  \n",
              "1   7    20.754559\n",
              "2   6    20.350293\n",
              "3  12    17.368189\n",
              "4   4    14.554477\n",
              "5   3    13.517602\n",
              "6   5    13.264800\n",
              "7   8    12.619097\n",
              "8   2    10.687227\n",
              "9   1    10.233333\n",
              "10  9     6.872436\n",
              "11 11     6.103183\n",
              "12 10     5.880374"
            ]
          },
          "metadata": {}
        }
      ]
    },
    {
      "cell_type": "markdown",
      "source": [
        "<h4>Q6.) Which month has the highest median departure delay from an NYC airport?</h4>"
      ],
      "metadata": {
        "id": "xsqBXbCtcBy8"
      }
    },
    {
      "cell_type": "code",
      "source": [
        "nycflights %>%\n",
        "  group_by(month) %>%\n",
        "  summarise(median_dd = median(dep_delay)) %>%\n",
        "  arrange(desc(median_dd))"
      ],
      "metadata": {
        "colab": {
          "base_uri": "https://localhost:8080/",
          "height": 474
        },
        "id": "J7E7oKebmUw5",
        "outputId": "48cbc171-9dff-40b3-dcdc-3c5997d5ae27"
      },
      "execution_count": null,
      "outputs": [
        {
          "output_type": "display_data",
          "data": {
            "text/html": [
              "<table class=\"dataframe\">\n",
              "<caption>A tibble: 12 × 2</caption>\n",
              "<thead>\n",
              "\t<tr><th scope=col>month</th><th scope=col>median_dd</th></tr>\n",
              "\t<tr><th scope=col>&lt;int&gt;</th><th scope=col>&lt;dbl&gt;</th></tr>\n",
              "</thead>\n",
              "<tbody>\n",
              "\t<tr><td>12</td><td> 1</td></tr>\n",
              "\t<tr><td> 6</td><td> 0</td></tr>\n",
              "\t<tr><td> 7</td><td> 0</td></tr>\n",
              "\t<tr><td> 3</td><td>-1</td></tr>\n",
              "\t<tr><td> 5</td><td>-1</td></tr>\n",
              "\t<tr><td> 8</td><td>-1</td></tr>\n",
              "\t<tr><td> 1</td><td>-2</td></tr>\n",
              "\t<tr><td> 2</td><td>-2</td></tr>\n",
              "\t<tr><td> 4</td><td>-2</td></tr>\n",
              "\t<tr><td>11</td><td>-2</td></tr>\n",
              "\t<tr><td> 9</td><td>-3</td></tr>\n",
              "\t<tr><td>10</td><td>-3</td></tr>\n",
              "</tbody>\n",
              "</table>\n"
            ],
            "text/markdown": "\nA tibble: 12 × 2\n\n| month &lt;int&gt; | median_dd &lt;dbl&gt; |\n|---|---|\n| 12 |  1 |\n|  6 |  0 |\n|  7 |  0 |\n|  3 | -1 |\n|  5 | -1 |\n|  8 | -1 |\n|  1 | -2 |\n|  2 | -2 |\n|  4 | -2 |\n| 11 | -2 |\n|  9 | -3 |\n| 10 | -3 |\n\n",
            "text/latex": "A tibble: 12 × 2\n\\begin{tabular}{ll}\n month & median\\_dd\\\\\n <int> & <dbl>\\\\\n\\hline\n\t 12 &  1\\\\\n\t  6 &  0\\\\\n\t  7 &  0\\\\\n\t  3 & -1\\\\\n\t  5 & -1\\\\\n\t  8 & -1\\\\\n\t  1 & -2\\\\\n\t  2 & -2\\\\\n\t  4 & -2\\\\\n\t 11 & -2\\\\\n\t  9 & -3\\\\\n\t 10 & -3\\\\\n\\end{tabular}\n",
            "text/plain": [
              "   month median_dd\n",
              "1  12     1       \n",
              "2   6     0       \n",
              "3   7     0       \n",
              "4   3    -1       \n",
              "5   5    -1       \n",
              "6   8    -1       \n",
              "7   1    -2       \n",
              "8   2    -2       \n",
              "9   4    -2       \n",
              "10 11    -2       \n",
              "11  9    -3       \n",
              "12 10    -3       "
            ]
          },
          "metadata": {}
        }
      ]
    },
    {
      "cell_type": "markdown",
      "source": [
        "<h4>Q7.)Is the mean and the median a more reliable measure for deciding which month(s) to avoid flying if you really dislike delayed flights, and why?</h4>"
      ],
      "metadata": {
        "id": "eC6YkA4PcOH7"
      }
    },
    {
      "cell_type": "code",
      "source": [
        "ggplot(nycflights, aes(x = factor(month), y = dep_delay)) +\n",
        "  geom_boxplot()"
      ],
      "metadata": {
        "colab": {
          "base_uri": "https://localhost:8080/",
          "height": 437
        },
        "id": "B7mOQrXUmpX1",
        "outputId": "32e17542-602c-4446-a136-d155c4bbea63"
      },
      "execution_count": null,
      "outputs": [
        {
          "output_type": "display_data",
          "data": {
            "text/plain": [
              "plot without title"
            ],
            "image/png": "[encoded data removed]"
          },
          "metadata": {
            "image/png": {
              "width": 420,
              "height": 420
            }
          }
        }
      ]
    },
    {
      "cell_type": "markdown",
      "source": [
        "<h2>On time departure rate for NYC airports</h2>"
      ],
      "metadata": {
        "id": "LWDCPRpmcWar"
      }
    },
    {
      "cell_type": "code",
      "source": [
        "#Let’s start with classifying each flight as “on time” or “delayed” by creating a new variable with the mutate function.\n",
        "\n",
        "nycflights <- nycflights %>%\n",
        "  mutate(dep_type = ifelse(dep_delay < 5, \"on time\", \"delayed\"))"
      ],
      "metadata": {
        "id": "27NRg3UPn8FN"
      },
      "execution_count": null,
      "outputs": []
    },
    {
      "cell_type": "markdown",
      "source": [
        "<h4>Q8.)If you were selecting an airport simply based on on time departure percentage, which NYC airport would you choose to fly out of?</h4>"
      ],
      "metadata": {
        "id": "n_sIFTfuciKT"
      }
    },
    {
      "cell_type": "code",
      "source": [
        "nycflights %>%\n",
        "  group_by(origin) %>%\n",
        "  summarise(ot_dep_rate = sum(dep_type == \"on time\") / n()) %>%\n",
        "  arrange(desc(ot_dep_rate))"
      ],
      "metadata": {
        "colab": {
          "base_uri": "https://localhost:8080/",
          "height": 192
        },
        "id": "qvAZhn2PoQJi",
        "outputId": "ab04d2ca-f9b8-4160-b5fb-0051949f6360"
      },
      "execution_count": null,
      "outputs": [
        {
          "output_type": "display_data",
          "data": {
            "text/html": [
              "<table class=\"dataframe\">\n",
              "<caption>A tibble: 3 × 2</caption>\n",
              "<thead>\n",
              "\t<tr><th scope=col>origin</th><th scope=col>ot_dep_rate</th></tr>\n",
              "\t<tr><th scope=col>&lt;chr&gt;</th><th scope=col>&lt;dbl&gt;</th></tr>\n",
              "</thead>\n",
              "<tbody>\n",
              "\t<tr><td>LGA</td><td>0.7279229</td></tr>\n",
              "\t<tr><td>JFK</td><td>0.6935854</td></tr>\n",
              "\t<tr><td>EWR</td><td>0.6369892</td></tr>\n",
              "</tbody>\n",
              "</table>\n"
            ],
            "text/markdown": "\nA tibble: 3 × 2\n\n| origin &lt;chr&gt; | ot_dep_rate &lt;dbl&gt; |\n|---|---|\n| LGA | 0.7279229 |\n| JFK | 0.6935854 |\n| EWR | 0.6369892 |\n\n",
            "text/latex": "A tibble: 3 × 2\n\\begin{tabular}{ll}\n origin & ot\\_dep\\_rate\\\\\n <chr> & <dbl>\\\\\n\\hline\n\t LGA & 0.7279229\\\\\n\t JFK & 0.6935854\\\\\n\t EWR & 0.6369892\\\\\n\\end{tabular}\n",
            "text/plain": [
              "  origin ot_dep_rate\n",
              "1 LGA    0.7279229  \n",
              "2 JFK    0.6935854  \n",
              "3 EWR    0.6369892  "
            ]
          },
          "metadata": {}
        }
      ]
    },
    {
      "cell_type": "code",
      "source": [
        "#We can also visualize the distribution of on on time departure rate across the three airports using a segmented bar plot.\n",
        "\n",
        "ggplot(data = nycflights, aes(x = origin, fill = dep_type)) +\n",
        "  geom_bar()"
      ],
      "metadata": {
        "colab": {
          "base_uri": "https://localhost:8080/",
          "height": 437
        },
        "id": "3HaEVjzzoRD-",
        "outputId": "62a4b731-f97b-4fc2-c9c5-fa322e5442bb"
      },
      "execution_count": null,
      "outputs": [
        {
          "output_type": "display_data",
          "data": {
            "text/plain": [
              "plot without title"
            ],
            "image/png": "[encoded data removed]"
          },
          "metadata": {
            "image/png": {
              "width": 420,
              "height": 420
            }
          }
        }
      ]
    },
    {
      "cell_type": "markdown",
      "source": [
        "<h4>Q9.) Mutate the data frame so that it includes a new variable that contains the average speed, avg_speed traveled by the plane for each flight (in mph). What is the tail number of the plane with the fastest avg_speed? Hint: Average speed can be calculated as distance divided by number of hours of travel, and note that air_time is given in minutes. If you just want to show the avg_speed and tailnum and none of the other variables, use the select function at the end of your pipe to select just these two variables with select(avg_speed, tailnum). You can Google this tail number to find out more about the aircraft. </h4>"
      ],
      "metadata": {
        "id": "H7M5upULcxaR"
      }
    },
    {
      "cell_type": "code",
      "source": [
        "nycflights <- nycflights %>%\n",
        "  mutate(avg_speed = (distance*60)/air_time)\n",
        "\n",
        "nycflights %>%\n",
        "  select(avg_speed, tailnum) %>%\n",
        "  arrange(desc(avg_speed))"
      ],
      "metadata": {
        "colab": {
          "base_uri": "https://localhost:8080/",
          "height": 1000
        },
        "id": "8QzfTv3bodTT",
        "outputId": "6e33a937-36b4-4ec9-ab12-a0d7f95450c7"
      },
      "execution_count": null,
      "outputs": [
        {
          "output_type": "display_data",
          "data": {
            "text/html": [
              "<table class=\"dataframe\">\n",
              "<caption>A tibble: 32735 × 2</caption>\n",
              "<thead>\n",
              "\t<tr><th scope=col>avg_speed</th><th scope=col>tailnum</th></tr>\n",
              "\t<tr><th scope=col>&lt;dbl&gt;</th><th scope=col>&lt;chr&gt;</th></tr>\n",
              "</thead>\n",
              "<tbody>\n",
              "\t<tr><td>703.3846</td><td>N666DN</td></tr>\n",
              "\t<tr><td>557.4419</td><td>N779JB</td></tr>\n",
              "\t<tr><td>554.2197</td><td>N571JB</td></tr>\n",
              "\t<tr><td>547.8857</td><td>N568JB</td></tr>\n",
              "\t<tr><td>547.8857</td><td>N5EHAA</td></tr>\n",
              "\t<tr><td>547.8857</td><td>N656JB</td></tr>\n",
              "\t<tr><td>544.7727</td><td>N789JB</td></tr>\n",
              "\t<tr><td>538.6517</td><td>N516JB</td></tr>\n",
              "\t<tr><td>535.6425</td><td>N648JB</td></tr>\n",
              "\t<tr><td>535.6425</td><td>N510JB</td></tr>\n",
              "\t<tr><td>533.0387</td><td>N38268</td></tr>\n",
              "\t<tr><td>533.0387</td><td>N53442</td></tr>\n",
              "\t<tr><td>533.0387</td><td>N75858</td></tr>\n",
              "\t<tr><td>532.6667</td><td>N624JB</td></tr>\n",
              "\t<tr><td>532.6667</td><td>N569JB</td></tr>\n",
              "\t<tr><td>532.6667</td><td>N3749D</td></tr>\n",
              "\t<tr><td>531.2360</td><td>N523JB</td></tr>\n",
              "\t<tr><td>529.7238</td><td>N504JB</td></tr>\n",
              "\t<tr><td>529.7238</td><td>N637JB</td></tr>\n",
              "\t<tr><td>529.7238</td><td>N506JB</td></tr>\n",
              "\t<tr><td>529.1209</td><td>N571UA</td></tr>\n",
              "\t<tr><td>527.2131</td><td>N37267</td></tr>\n",
              "\t<tr><td>526.8132</td><td>N608JB</td></tr>\n",
              "\t<tr><td>526.8132</td><td>N3771K</td></tr>\n",
              "\t<tr><td>526.8132</td><td>N595JB</td></tr>\n",
              "\t<tr><td>526.3784</td><td>N5ETAA</td></tr>\n",
              "\t<tr><td>526.1131</td><td>N76065</td></tr>\n",
              "\t<tr><td>525.4144</td><td>N26208</td></tr>\n",
              "\t<tr><td>525.4144</td><td>N37419</td></tr>\n",
              "\t<tr><td>524.5082</td><td>N439UA</td></tr>\n",
              "\t<tr><td>⋮</td><td>⋮</td></tr>\n",
              "\t<tr><td>148.1481</td><td>N37252</td></tr>\n",
              "\t<tr><td>147.7419</td><td>N828AS</td></tr>\n",
              "\t<tr><td>147.6923</td><td>N950UW</td></tr>\n",
              "\t<tr><td>147.6923</td><td>N713UW</td></tr>\n",
              "\t<tr><td>147.6923</td><td>N950UW</td></tr>\n",
              "\t<tr><td>144.0000</td><td>N756US</td></tr>\n",
              "\t<tr><td>144.0000</td><td>N950UW</td></tr>\n",
              "\t<tr><td>144.0000</td><td>N958UW</td></tr>\n",
              "\t<tr><td>140.4878</td><td>N946UW</td></tr>\n",
              "\t<tr><td>140.4878</td><td>N956UW</td></tr>\n",
              "\t<tr><td>140.4878</td><td>N947UW</td></tr>\n",
              "\t<tr><td>140.4878</td><td>N945UW</td></tr>\n",
              "\t<tr><td>140.2500</td><td>N3FEAA</td></tr>\n",
              "\t<tr><td>137.1429</td><td>N952UW</td></tr>\n",
              "\t<tr><td>137.1429</td><td>N950UW</td></tr>\n",
              "\t<tr><td>137.1429</td><td>N957UW</td></tr>\n",
              "\t<tr><td>133.9535</td><td>N963UW</td></tr>\n",
              "\t<tr><td>133.9535</td><td>N954UW</td></tr>\n",
              "\t<tr><td>131.7526</td><td>N813MQ</td></tr>\n",
              "\t<tr><td>130.4651</td><td>N3DRAA</td></tr>\n",
              "\t<tr><td>128.0000</td><td>N760US</td></tr>\n",
              "\t<tr><td>124.2857</td><td>N13913</td></tr>\n",
              "\t<tr><td>122.6087</td><td>N8943A</td></tr>\n",
              "\t<tr><td>122.5532</td><td>N947UW</td></tr>\n",
              "\t<tr><td>120.0000</td><td>N956UW</td></tr>\n",
              "\t<tr><td>117.5510</td><td>N957UW</td></tr>\n",
              "\t<tr><td>115.2000</td><td>N957UW</td></tr>\n",
              "\t<tr><td>112.8000</td><td>N8623A</td></tr>\n",
              "\t<tr><td>110.7692</td><td>N959UW</td></tr>\n",
              "\t<tr><td> 76.8000</td><td>N755US</td></tr>\n",
              "</tbody>\n",
              "</table>\n"
            ],
            "text/markdown": "\nA tibble: 32735 × 2\n\n| avg_speed &lt;dbl&gt; | tailnum &lt;chr&gt; |\n|---|---|\n| 703.3846 | N666DN |\n| 557.4419 | N779JB |\n| 554.2197 | N571JB |\n| 547.8857 | N568JB |\n| 547.8857 | N5EHAA |\n| 547.8857 | N656JB |\n| 544.7727 | N789JB |\n| 538.6517 | N516JB |\n| 535.6425 | N648JB |\n| 535.6425 | N510JB |\n| 533.0387 | N38268 |\n| 533.0387 | N53442 |\n| 533.0387 | N75858 |\n| 532.6667 | N624JB |\n| 532.6667 | N569JB |\n| 532.6667 | N3749D |\n| 531.2360 | N523JB |\n| 529.7238 | N504JB |\n| 529.7238 | N637JB |\n| 529.7238 | N506JB |\n| 529.1209 | N571UA |\n| 527.2131 | N37267 |\n| 526.8132 | N608JB |\n| 526.8132 | N3771K |\n| 526.8132 | N595JB |\n| 526.3784 | N5ETAA |\n| 526.1131 | N76065 |\n| 525.4144 | N26208 |\n| 525.4144 | N37419 |\n| 524.5082 | N439UA |\n| ⋮ | ⋮ |\n| 148.1481 | N37252 |\n| 147.7419 | N828AS |\n| 147.6923 | N950UW |\n| 147.6923 | N713UW |\n| 147.6923 | N950UW |\n| 144.0000 | N756US |\n| 144.0000 | N950UW |\n| 144.0000 | N958UW |\n| 140.4878 | N946UW |\n| 140.4878 | N956UW |\n| 140.4878 | N947UW |\n| 140.4878 | N945UW |\n| 140.2500 | N3FEAA |\n| 137.1429 | N952UW |\n| 137.1429 | N950UW |\n| 137.1429 | N957UW |\n| 133.9535 | N963UW |\n| 133.9535 | N954UW |\n| 131.7526 | N813MQ |\n| 130.4651 | N3DRAA |\n| 128.0000 | N760US |\n| 124.2857 | N13913 |\n| 122.6087 | N8943A |\n| 122.5532 | N947UW |\n| 120.0000 | N956UW |\n| 117.5510 | N957UW |\n| 115.2000 | N957UW |\n| 112.8000 | N8623A |\n| 110.7692 | N959UW |\n|  76.8000 | N755US |\n\n",
            "text/latex": "A tibble: 32735 × 2\n\\begin{tabular}{ll}\n avg\\_speed & tailnum\\\\\n <dbl> & <chr>\\\\\n\\hline\n\t 703.3846 & N666DN\\\\\n\t 557.4419 & N779JB\\\\\n\t 554.2197 & N571JB\\\\\n\t 547.8857 & N568JB\\\\\n\t 547.8857 & N5EHAA\\\\\n\t 547.8857 & N656JB\\\\\n\t 544.7727 & N789JB\\\\\n\t 538.6517 & N516JB\\\\\n\t 535.6425 & N648JB\\\\\n\t 535.6425 & N510JB\\\\\n\t 533.0387 & N38268\\\\\n\t 533.0387 & N53442\\\\\n\t 533.0387 & N75858\\\\\n\t 532.6667 & N624JB\\\\\n\t 532.6667 & N569JB\\\\\n\t 532.6667 & N3749D\\\\\n\t 531.2360 & N523JB\\\\\n\t 529.7238 & N504JB\\\\\n\t 529.7238 & N637JB\\\\\n\t 529.7238 & N506JB\\\\\n\t 529.1209 & N571UA\\\\\n\t 527.2131 & N37267\\\\\n\t 526.8132 & N608JB\\\\\n\t 526.8132 & N3771K\\\\\n\t 526.8132 & N595JB\\\\\n\t 526.3784 & N5ETAA\\\\\n\t 526.1131 & N76065\\\\\n\t 525.4144 & N26208\\\\\n\t 525.4144 & N37419\\\\\n\t 524.5082 & N439UA\\\\\n\t ⋮ & ⋮\\\\\n\t 148.1481 & N37252\\\\\n\t 147.7419 & N828AS\\\\\n\t 147.6923 & N950UW\\\\\n\t 147.6923 & N713UW\\\\\n\t 147.6923 & N950UW\\\\\n\t 144.0000 & N756US\\\\\n\t 144.0000 & N950UW\\\\\n\t 144.0000 & N958UW\\\\\n\t 140.4878 & N946UW\\\\\n\t 140.4878 & N956UW\\\\\n\t 140.4878 & N947UW\\\\\n\t 140.4878 & N945UW\\\\\n\t 140.2500 & N3FEAA\\\\\n\t 137.1429 & N952UW\\\\\n\t 137.1429 & N950UW\\\\\n\t 137.1429 & N957UW\\\\\n\t 133.9535 & N963UW\\\\\n\t 133.9535 & N954UW\\\\\n\t 131.7526 & N813MQ\\\\\n\t 130.4651 & N3DRAA\\\\\n\t 128.0000 & N760US\\\\\n\t 124.2857 & N13913\\\\\n\t 122.6087 & N8943A\\\\\n\t 122.5532 & N947UW\\\\\n\t 120.0000 & N956UW\\\\\n\t 117.5510 & N957UW\\\\\n\t 115.2000 & N957UW\\\\\n\t 112.8000 & N8623A\\\\\n\t 110.7692 & N959UW\\\\\n\t  76.8000 & N755US\\\\\n\\end{tabular}\n",
            "text/plain": [
              "      avg_speed tailnum\n",
              "1     703.3846  N666DN \n",
              "2     557.4419  N779JB \n",
              "3     554.2197  N571JB \n",
              "4     547.8857  N568JB \n",
              "5     547.8857  N5EHAA \n",
              "6     547.8857  N656JB \n",
              "7     544.7727  N789JB \n",
              "8     538.6517  N516JB \n",
              "9     535.6425  N648JB \n",
              "10    535.6425  N510JB \n",
              "11    533.0387  N38268 \n",
              "12    533.0387  N53442 \n",
              "13    533.0387  N75858 \n",
              "14    532.6667  N624JB \n",
              "15    532.6667  N569JB \n",
              "16    532.6667  N3749D \n",
              "17    531.2360  N523JB \n",
              "18    529.7238  N504JB \n",
              "19    529.7238  N637JB \n",
              "20    529.7238  N506JB \n",
              "21    529.1209  N571UA \n",
              "22    527.2131  N37267 \n",
              "23    526.8132  N608JB \n",
              "24    526.8132  N3771K \n",
              "25    526.8132  N595JB \n",
              "26    526.3784  N5ETAA \n",
              "27    526.1131  N76065 \n",
              "28    525.4144  N26208 \n",
              "29    525.4144  N37419 \n",
              "30    524.5082  N439UA \n",
              "⋮     ⋮         ⋮      \n",
              "32706 148.1481  N37252 \n",
              "32707 147.7419  N828AS \n",
              "32708 147.6923  N950UW \n",
              "32709 147.6923  N713UW \n",
              "32710 147.6923  N950UW \n",
              "32711 144.0000  N756US \n",
              "32712 144.0000  N950UW \n",
              "32713 144.0000  N958UW \n",
              "32714 140.4878  N946UW \n",
              "32715 140.4878  N956UW \n",
              "32716 140.4878  N947UW \n",
              "32717 140.4878  N945UW \n",
              "32718 140.2500  N3FEAA \n",
              "32719 137.1429  N952UW \n",
              "32720 137.1429  N950UW \n",
              "32721 137.1429  N957UW \n",
              "32722 133.9535  N963UW \n",
              "32723 133.9535  N954UW \n",
              "32724 131.7526  N813MQ \n",
              "32725 130.4651  N3DRAA \n",
              "32726 128.0000  N760US \n",
              "32727 124.2857  N13913 \n",
              "32728 122.6087  N8943A \n",
              "32729 122.5532  N947UW \n",
              "32730 120.0000  N956UW \n",
              "32731 117.5510  N957UW \n",
              "32732 115.2000  N957UW \n",
              "32733 112.8000  N8623A \n",
              "32734 110.7692  N959UW \n",
              "32735  76.8000  N755US "
            ]
          },
          "metadata": {}
        }
      ]
    },
    {
      "cell_type": "markdown",
      "source": [
        "<h4>Q10.)Make a scatterplot of avg_speed vs. distance. Which of the following is true about the relationship between average speed and distance.</h4>"
      ],
      "metadata": {
        "id": "o0ljO3f1c_Lr"
      }
    },
    {
      "cell_type": "code",
      "source": [
        "plot(avg_speed ~ distance, data = nycflights)"
      ],
      "metadata": {
        "colab": {
          "base_uri": "https://localhost:8080/",
          "height": 437
        },
        "id": "OHcBJ9nCpEQq",
        "outputId": "72d4dd97-62b2-44c0-bcc0-addc18dba7f5"
      },
      "execution_count": null,
      "outputs": [
        {
          "output_type": "display_data",
          "data": {
            "text/plain": [
              "plot without title"
            ],
            "image/png": "[encoded data removed]"
          },
          "metadata": {
            "image/png": {
              "width": 420,
              "height": 420
            }
          }
        }
      ]
    },
    {
      "cell_type": "markdown",
      "source": [
        "<h4>Q11.) Suppose you define a flight to be “on time” if it gets to the destination on time or earlier than expected, regardless of any departure delays. Mutate the data frame to create a new variable called arr_type with levels \"on time\" and \"delayed\" based on this definition. Then, determine the on time arrival percentage based on whether the flight departed on time or not. What percent of flights that were \"delayed\" departing arrive \"on time\"? [NUMERIC INPUT]</h4>"
      ],
      "metadata": {
        "id": "Bxx1gdF2dNfF"
      }
    },
    {
      "cell_type": "code",
      "source": [
        "nycflights <- nycflights %>%\n",
        "  mutate(arr_type = ifelse(arr_delay <= 0, \"on time\", \"delayed\"))\n",
        "\n",
        "\n",
        "# This gives me correct answer\n",
        "nycflights %>%\n",
        "  group_by(dep_type) %>%\n",
        "  summarise(ot_arr_rate = sum(arr_type == \"on time\") / n()) %>%\n",
        "  arrange(desc(ot_arr_rate))\n",
        "\n"
      ],
      "metadata": {
        "colab": {
          "base_uri": "https://localhost:8080/",
          "height": 160
        },
        "id": "2CPwA10VpLa6",
        "outputId": "ac69fed5-d25b-4498-d7d6-5b98de0e27a5"
      },
      "execution_count": null,
      "outputs": [
        {
          "output_type": "display_data",
          "data": {
            "text/html": [
              "<table class=\"dataframe\">\n",
              "<caption>A tibble: 2 × 2</caption>\n",
              "<thead>\n",
              "\t<tr><th scope=col>dep_type</th><th scope=col>ot_arr_rate</th></tr>\n",
              "\t<tr><th scope=col>&lt;chr&gt;</th><th scope=col>&lt;dbl&gt;</th></tr>\n",
              "</thead>\n",
              "<tbody>\n",
              "\t<tr><td>on time</td><td>0.7762241</td></tr>\n",
              "\t<tr><td>delayed</td><td>0.1833639</td></tr>\n",
              "</tbody>\n",
              "</table>\n"
            ],
            "text/markdown": "\nA tibble: 2 × 2\n\n| dep_type &lt;chr&gt; | ot_arr_rate &lt;dbl&gt; |\n|---|---|\n| on time | 0.7762241 |\n| delayed | 0.1833639 |\n\n",
            "text/latex": "A tibble: 2 × 2\n\\begin{tabular}{ll}\n dep\\_type & ot\\_arr\\_rate\\\\\n <chr> & <dbl>\\\\\n\\hline\n\t on time & 0.7762241\\\\\n\t delayed & 0.1833639\\\\\n\\end{tabular}\n",
            "text/plain": [
              "  dep_type ot_arr_rate\n",
              "1 on time  0.7762241  \n",
              "2 delayed  0.1833639  "
            ]
          },
          "metadata": {}
        }
      ]
    },
    {
      "cell_type": "markdown",
      "source": [
        "<h1>LAB-3. Probability</h1>"
      ],
      "metadata": {
        "id": "U6N23Gz-qThA"
      }
    },
    {
      "cell_type": "markdown",
      "source": [
        "<h2>Getting Started</h2>"
      ],
      "metadata": {
        "id": "rNZ1K0meqj6I"
      }
    },
    {
      "cell_type": "code",
      "source": [
        "install.packages(\"dplyr\")"
      ],
      "metadata": {
        "colab": {
          "base_uri": "https://localhost:8080/"
        },
        "id": "g90vdUI6NKne",
        "outputId": "066ce6aa-131e-4d5c-ac7e-e2a1c92b9375"
      },
      "execution_count": null,
      "outputs": [
        {
          "output_type": "stream",
          "name": "stderr",
          "text": [
            "Installing package into ‘/usr/local/lib/R/site-library’\n",
            "(as ‘lib’ is unspecified)\n",
            "\n"
          ]
        }
      ]
    },
    {
      "cell_type": "code",
      "source": [
        "install.packages(\"ggplot2\")"
      ],
      "metadata": {
        "colab": {
          "base_uri": "https://localhost:8080/"
        },
        "id": "QU4wLg1_NWjd",
        "outputId": "37103513-51f0-49a2-b7d4-8c965a79dd56"
      },
      "execution_count": null,
      "outputs": [
        {
          "output_type": "stream",
          "name": "stderr",
          "text": [
            "Installing package into ‘/usr/local/lib/R/site-library’\n",
            "(as ‘lib’ is unspecified)\n",
            "\n"
          ]
        }
      ]
    },
    {
      "cell_type": "code",
      "source": [
        "install.packages(\"statsr\")"
      ],
      "metadata": {
        "colab": {
          "base_uri": "https://localhost:8080/"
        },
        "id": "TYcOyn9JNmYH",
        "outputId": "a99c631f-336f-48b8-e82a-bf61bb521623"
      },
      "execution_count": null,
      "outputs": [
        {
          "output_type": "stream",
          "name": "stderr",
          "text": [
            "Installing package into ‘/usr/local/lib/R/site-library’\n",
            "(as ‘lib’ is unspecified)\n",
            "\n"
          ]
        }
      ]
    },
    {
      "cell_type": "markdown",
      "source": [
        "<h2>Load packages</h2>"
      ],
      "metadata": {
        "id": "c-nTcH8DqxMe"
      }
    },
    {
      "cell_type": "code",
      "source": [
        "library(dplyr)\n",
        "library(ggplot2)\n",
        "library(statsr)"
      ],
      "metadata": {
        "id": "6moRTiisNszj"
      },
      "execution_count": null,
      "outputs": []
    },
    {
      "cell_type": "markdown",
      "source": [
        "<h2>Data</h2>"
      ],
      "metadata": {
        "id": "qIs4N9nDq8cI"
      }
    },
    {
      "cell_type": "code",
      "source": [
        "data(kobe_basket)"
      ],
      "metadata": {
        "id": "t1028brkPcr-"
      },
      "execution_count": null,
      "outputs": []
    },
    {
      "cell_type": "code",
      "source": [
        "\n",
        "print(kobe_basket) #Example using kobe_basket data frame\n"
      ],
      "metadata": {
        "colab": {
          "base_uri": "https://localhost:8080/"
        },
        "id": "u8XZziAmPhcI",
        "outputId": "76b7116e-4896-4664-e9cc-820636e2cb96"
      },
      "execution_count": null,
      "outputs": [
        {
          "output_type": "stream",
          "name": "stdout",
          "text": [
            "\u001b[90m# A tibble: 133 × 6\u001b[39m\n",
            "   vs     game quarter time  description                                   shot \n",
            "   \u001b[3m\u001b[90m<fct>\u001b[39m\u001b[23m \u001b[3m\u001b[90m<int>\u001b[39m\u001b[23m \u001b[3m\u001b[90m<fct>\u001b[39m\u001b[23m   \u001b[3m\u001b[90m<fct>\u001b[39m\u001b[23m \u001b[3m\u001b[90m<fct>\u001b[39m\u001b[23m                                         \u001b[3m\u001b[90m<chr>\u001b[39m\u001b[23m\n",
            "\u001b[90m 1\u001b[39m ORL       1 1       9:47  Kobe Bryant makes 4-foot two point shot       H    \n",
            "\u001b[90m 2\u001b[39m ORL       1 1       9:07  Kobe Bryant misses jumper                     M    \n",
            "\u001b[90m 3\u001b[39m ORL       1 1       8:11  Kobe Bryant misses 7-foot jumper              M    \n",
            "\u001b[90m 4\u001b[39m ORL       1 1       7:41  Kobe Bryant makes 16-foot jumper (Derek Fish… H    \n",
            "\u001b[90m 5\u001b[39m ORL       1 1       7:03  Kobe Bryant makes driving layup               H    \n",
            "\u001b[90m 6\u001b[39m ORL       1 1       6:01  Kobe Bryant misses jumper                     M    \n",
            "\u001b[90m 7\u001b[39m ORL       1 1       4:07  Kobe Bryant misses 12-foot jumper             M    \n",
            "\u001b[90m 8\u001b[39m ORL       1 1       0:52  Kobe Bryant misses 19-foot jumper             M    \n",
            "\u001b[90m 9\u001b[39m ORL       1 1       0:00  Kobe Bryant misses layup                      M    \n",
            "\u001b[90m10\u001b[39m ORL       1 2       6:35  Kobe Bryant makes jumper                      H    \n",
            "\u001b[90m# ℹ 123 more rows\u001b[39m\n"
          ]
        }
      ]
    },
    {
      "cell_type": "code",
      "source": [
        "#Counting streak lengths manually for all 133 shots would get tedious,\n",
        "#so we’ll use the custom function calc_streak to calculate them,\n",
        "#and store the results in a data frame called kobe_streak as the length variable.'''\n",
        "kobe_streak <- calc_streak(kobe_basket$shot)"
      ],
      "metadata": {
        "id": "SFdWWB6_PunT"
      },
      "execution_count": null,
      "outputs": []
    },
    {
      "cell_type": "markdown",
      "source": [
        "<h4>Q1.) Which of the following is false about the distribution of Kobe’s streak lengths from the 2009 NBA finals.</h4>"
      ],
      "metadata": {
        "id": "LRYsNfcYrmJg"
      }
    },
    {
      "cell_type": "code",
      "source": [
        "#We can then take a look at the distribution of these streak lengths.\n",
        "\n",
        "ggplot(data=kobe_streak, aes(x=length)) +\n",
        "  geom_histogram(binwidth = 1)"
      ],
      "metadata": {
        "colab": {
          "base_uri": "https://localhost:8080/",
          "height": 437
        },
        "id": "7_OQ0ng_P8lW",
        "outputId": "99fe33d4-8bf6-47e8-ac7b-b47e50afd86b"
      },
      "execution_count": null,
      "outputs": [
        {
          "output_type": "display_data",
          "data": {
            "text/plain": [
              "plot without title"
            ],
            "image/png": "[encoded data removed]"
          },
          "metadata": {
            "image/png": {
              "width": 420,
              "height": 420
            }
          }
        }
      ]
    },
    {
      "cell_type": "markdown",
      "source": [
        "<h2>Simulations in R</h2>"
      ],
      "metadata": {
        "id": "UWSKWYNartrQ"
      }
    },
    {
      "cell_type": "code",
      "source": [
        "coin_outcomes <- c(\"tail\",\"head\")\n",
        "sample(coin_outcomes, size=1, replace = TRUE)"
      ],
      "metadata": {
        "id": "RGJ9kHzkQNtl",
        "colab": {
          "base_uri": "https://localhost:8080/",
          "height": 34
        },
        "outputId": "2bea3113-3715-4b25-813c-3ae4d83166b7"
      },
      "execution_count": null,
      "outputs": [
        {
          "output_type": "display_data",
          "data": {
            "text/html": [
              "'head'"
            ],
            "text/markdown": "'head'",
            "text/latex": "'head'",
            "text/plain": [
              "[1] \"head\""
            ]
          },
          "metadata": {}
        }
      ]
    },
    {
      "cell_type": "code",
      "source": [
        "sim_fair_coin = sample(coin_outcomes, size=100, replace=TRUE)"
      ],
      "metadata": {
        "id": "soudaRD1SSUk"
      },
      "execution_count": null,
      "outputs": []
    },
    {
      "cell_type": "code",
      "source": [
        "sim_fair_coin"
      ],
      "metadata": {
        "colab": {
          "base_uri": "https://localhost:8080/",
          "height": 86
        },
        "id": "AhC5V-BfSx08",
        "outputId": "85069ba4-a1d8-4f3c-9cd6-1a6e4d395e94"
      },
      "execution_count": null,
      "outputs": [
        {
          "output_type": "display_data",
          "data": {
            "text/html": [
              "<style>\n",
              ".list-inline {list-style: none; margin:0; padding: 0}\n",
              ".list-inline>li {display: inline-block}\n",
              ".list-inline>li:not(:last-child)::after {content: \"\\00b7\"; padding: 0 .5ex}\n",
              "</style>\n",
              "<ol class=list-inline><li>'head'</li><li>'tail'</li><li>'head'</li><li>'head'</li><li>'head'</li><li>'tail'</li><li>'tail'</li><li>'tail'</li><li>'head'</li><li>'tail'</li><li>'tail'</li><li>'head'</li><li>'tail'</li><li>'tail'</li><li>'head'</li><li>'head'</li><li>'tail'</li><li>'tail'</li><li>'head'</li><li>'tail'</li><li>'head'</li><li>'head'</li><li>'head'</li><li>'tail'</li><li>'tail'</li><li>'head'</li><li>'tail'</li><li>'head'</li><li>'head'</li><li>'tail'</li><li>'head'</li><li>'tail'</li><li>'head'</li><li>'tail'</li><li>'head'</li><li>'head'</li><li>'tail'</li><li>'tail'</li><li>'tail'</li><li>'tail'</li><li>'head'</li><li>'tail'</li><li>'tail'</li><li>'tail'</li><li>'tail'</li><li>'head'</li><li>'head'</li><li>'head'</li><li>'head'</li><li>'head'</li><li>'tail'</li><li>'head'</li><li>'tail'</li><li>'tail'</li><li>'head'</li><li>'head'</li><li>'tail'</li><li>'tail'</li><li>'head'</li><li>'head'</li><li>'head'</li><li>'head'</li><li>'tail'</li><li>'tail'</li><li>'tail'</li><li>'head'</li><li>'head'</li><li>'tail'</li><li>'head'</li><li>'head'</li><li>'tail'</li><li>'tail'</li><li>'tail'</li><li>'tail'</li><li>'head'</li><li>'head'</li><li>'tail'</li><li>'head'</li><li>'head'</li><li>'head'</li><li>'tail'</li><li>'tail'</li><li>'tail'</li><li>'tail'</li><li>'head'</li><li>'tail'</li><li>'tail'</li><li>'tail'</li><li>'tail'</li><li>'tail'</li><li>'head'</li><li>'tail'</li><li>'head'</li><li>'tail'</li><li>'tail'</li><li>'tail'</li><li>'tail'</li><li>'head'</li><li>'head'</li><li>'head'</li></ol>\n"
            ],
            "text/markdown": "1. 'head'\n2. 'tail'\n3. 'head'\n4. 'head'\n5. 'head'\n6. 'tail'\n7. 'tail'\n8. 'tail'\n9. 'head'\n10. 'tail'\n11. 'tail'\n12. 'head'\n13. 'tail'\n14. 'tail'\n15. 'head'\n16. 'head'\n17. 'tail'\n18. 'tail'\n19. 'head'\n20. 'tail'\n21. 'head'\n22. 'head'\n23. 'head'\n24. 'tail'\n25. 'tail'\n26. 'head'\n27. 'tail'\n28. 'head'\n29. 'head'\n30. 'tail'\n31. 'head'\n32. 'tail'\n33. 'head'\n34. 'tail'\n35. 'head'\n36. 'head'\n37. 'tail'\n38. 'tail'\n39. 'tail'\n40. 'tail'\n41. 'head'\n42. 'tail'\n43. 'tail'\n44. 'tail'\n45. 'tail'\n46. 'head'\n47. 'head'\n48. 'head'\n49. 'head'\n50. 'head'\n51. 'tail'\n52. 'head'\n53. 'tail'\n54. 'tail'\n55. 'head'\n56. 'head'\n57. 'tail'\n58. 'tail'\n59. 'head'\n60. 'head'\n61. 'head'\n62. 'head'\n63. 'tail'\n64. 'tail'\n65. 'tail'\n66. 'head'\n67. 'head'\n68. 'tail'\n69. 'head'\n70. 'head'\n71. 'tail'\n72. 'tail'\n73. 'tail'\n74. 'tail'\n75. 'head'\n76. 'head'\n77. 'tail'\n78. 'head'\n79. 'head'\n80. 'head'\n81. 'tail'\n82. 'tail'\n83. 'tail'\n84. 'tail'\n85. 'head'\n86. 'tail'\n87. 'tail'\n88. 'tail'\n89. 'tail'\n90. 'tail'\n91. 'head'\n92. 'tail'\n93. 'head'\n94. 'tail'\n95. 'tail'\n96. 'tail'\n97. 'tail'\n98. 'head'\n99. 'head'\n100. 'head'\n\n\n",
            "text/latex": "\\begin{enumerate*}\n\\item 'head'\n\\item 'tail'\n\\item 'head'\n\\item 'head'\n\\item 'head'\n\\item 'tail'\n\\item 'tail'\n\\item 'tail'\n\\item 'head'\n\\item 'tail'\n\\item 'tail'\n\\item 'head'\n\\item 'tail'\n\\item 'tail'\n\\item 'head'\n\\item 'head'\n\\item 'tail'\n\\item 'tail'\n\\item 'head'\n\\item 'tail'\n\\item 'head'\n\\item 'head'\n\\item 'head'\n\\item 'tail'\n\\item 'tail'\n\\item 'head'\n\\item 'tail'\n\\item 'head'\n\\item 'head'\n\\item 'tail'\n\\item 'head'\n\\item 'tail'\n\\item 'head'\n\\item 'tail'\n\\item 'head'\n\\item 'head'\n\\item 'tail'\n\\item 'tail'\n\\item 'tail'\n\\item 'tail'\n\\item 'head'\n\\item 'tail'\n\\item 'tail'\n\\item 'tail'\n\\item 'tail'\n\\item 'head'\n\\item 'head'\n\\item 'head'\n\\item 'head'\n\\item 'head'\n\\item 'tail'\n\\item 'head'\n\\item 'tail'\n\\item 'tail'\n\\item 'head'\n\\item 'head'\n\\item 'tail'\n\\item 'tail'\n\\item 'head'\n\\item 'head'\n\\item 'head'\n\\item 'head'\n\\item 'tail'\n\\item 'tail'\n\\item 'tail'\n\\item 'head'\n\\item 'head'\n\\item 'tail'\n\\item 'head'\n\\item 'head'\n\\item 'tail'\n\\item 'tail'\n\\item 'tail'\n\\item 'tail'\n\\item 'head'\n\\item 'head'\n\\item 'tail'\n\\item 'head'\n\\item 'head'\n\\item 'head'\n\\item 'tail'\n\\item 'tail'\n\\item 'tail'\n\\item 'tail'\n\\item 'head'\n\\item 'tail'\n\\item 'tail'\n\\item 'tail'\n\\item 'tail'\n\\item 'tail'\n\\item 'head'\n\\item 'tail'\n\\item 'head'\n\\item 'tail'\n\\item 'tail'\n\\item 'tail'\n\\item 'tail'\n\\item 'head'\n\\item 'head'\n\\item 'head'\n\\end{enumerate*}\n",
            "text/plain": [
              "  [1] \"head\" \"tail\" \"head\" \"head\" \"head\" \"tail\" \"tail\" \"tail\" \"head\" \"tail\"\n",
              " [11] \"tail\" \"head\" \"tail\" \"tail\" \"head\" \"head\" \"tail\" \"tail\" \"head\" \"tail\"\n",
              " [21] \"head\" \"head\" \"head\" \"tail\" \"tail\" \"head\" \"tail\" \"head\" \"head\" \"tail\"\n",
              " [31] \"head\" \"tail\" \"head\" \"tail\" \"head\" \"head\" \"tail\" \"tail\" \"tail\" \"tail\"\n",
              " [41] \"head\" \"tail\" \"tail\" \"tail\" \"tail\" \"head\" \"head\" \"head\" \"head\" \"head\"\n",
              " [51] \"tail\" \"head\" \"tail\" \"tail\" \"head\" \"head\" \"tail\" \"tail\" \"head\" \"head\"\n",
              " [61] \"head\" \"head\" \"tail\" \"tail\" \"tail\" \"head\" \"head\" \"tail\" \"head\" \"head\"\n",
              " [71] \"tail\" \"tail\" \"tail\" \"tail\" \"head\" \"head\" \"tail\" \"head\" \"head\" \"head\"\n",
              " [81] \"tail\" \"tail\" \"tail\" \"tail\" \"head\" \"tail\" \"tail\" \"tail\" \"tail\" \"tail\"\n",
              " [91] \"head\" \"tail\" \"head\" \"tail\" \"tail\" \"tail\" \"tail\" \"head\" \"head\" \"head\""
            ]
          },
          "metadata": {}
        }
      ]
    },
    {
      "cell_type": "code",
      "source": [
        "table(sim_fair_coin)"
      ],
      "metadata": {
        "colab": {
          "base_uri": "https://localhost:8080/",
          "height": 69
        },
        "id": "Ddi6ZqUSS0cV",
        "outputId": "73d8feff-828b-4ca5-b1c6-e5a53496ad14"
      },
      "execution_count": null,
      "outputs": [
        {
          "output_type": "display_data",
          "data": {
            "text/plain": [
              "sim_fair_coin\n",
              "head tail \n",
              "  47   53 "
            ]
          },
          "metadata": {}
        }
      ]
    },
    {
      "cell_type": "code",
      "source": [
        "sim_unfair_coin <- sample(coin_outcomes, size=100, replace=TRUE, prob=c(0.2,0.8))"
      ],
      "metadata": {
        "id": "HuUhqdZjS4se"
      },
      "execution_count": null,
      "outputs": []
    },
    {
      "cell_type": "code",
      "source": [
        "sim_unfair_coin"
      ],
      "metadata": {
        "colab": {
          "base_uri": "https://localhost:8080/",
          "height": 104
        },
        "id": "naYOaImhTRLQ",
        "outputId": "0436d0f6-938c-49f6-95f4-0e6153d2d202"
      },
      "execution_count": null,
      "outputs": [
        {
          "output_type": "display_data",
          "data": {
            "text/html": [
              "<style>\n",
              ".list-inline {list-style: none; margin:0; padding: 0}\n",
              ".list-inline>li {display: inline-block}\n",
              ".list-inline>li:not(:last-child)::after {content: \"\\00b7\"; padding: 0 .5ex}\n",
              "</style>\n",
              "<ol class=list-inline><li>'head'</li><li>'tail'</li><li>'head'</li><li>'head'</li><li>'head'</li><li>'head'</li><li>'head'</li><li>'head'</li><li>'head'</li><li>'head'</li><li>'head'</li><li>'head'</li><li>'head'</li><li>'tail'</li><li>'head'</li><li>'head'</li><li>'head'</li><li>'head'</li><li>'tail'</li><li>'tail'</li><li>'head'</li><li>'head'</li><li>'head'</li><li>'tail'</li><li>'head'</li><li>'head'</li><li>'head'</li><li>'head'</li><li>'head'</li><li>'head'</li><li>'head'</li><li>'head'</li><li>'tail'</li><li>'tail'</li><li>'head'</li><li>'tail'</li><li>'head'</li><li>'head'</li><li>'head'</li><li>'tail'</li><li>'head'</li><li>'head'</li><li>'head'</li><li>'head'</li><li>'head'</li><li>'head'</li><li>'head'</li><li>'head'</li><li>'head'</li><li>'head'</li><li>'head'</li><li>'head'</li><li>'head'</li><li>'head'</li><li>'head'</li><li>'head'</li><li>'head'</li><li>'head'</li><li>'head'</li><li>'head'</li><li>'head'</li><li>'head'</li><li>'head'</li><li>'tail'</li><li>'tail'</li><li>'head'</li><li>'head'</li><li>'head'</li><li>'head'</li><li>'head'</li><li>'head'</li><li>'head'</li><li>'tail'</li><li>'tail'</li><li>'head'</li><li>'head'</li><li>'head'</li><li>'head'</li><li>'head'</li><li>'head'</li><li>'head'</li><li>'tail'</li><li>'head'</li><li>'head'</li><li>'tail'</li><li>'head'</li><li>'head'</li><li>'head'</li><li>'head'</li><li>'head'</li><li>'tail'</li><li>'head'</li><li>'head'</li><li>'head'</li><li>'tail'</li><li>'head'</li><li>'head'</li><li>'head'</li><li>'head'</li><li>'head'</li></ol>\n"
            ],
            "text/markdown": "1. 'head'\n2. 'tail'\n3. 'head'\n4. 'head'\n5. 'head'\n6. 'head'\n7. 'head'\n8. 'head'\n9. 'head'\n10. 'head'\n11. 'head'\n12. 'head'\n13. 'head'\n14. 'tail'\n15. 'head'\n16. 'head'\n17. 'head'\n18. 'head'\n19. 'tail'\n20. 'tail'\n21. 'head'\n22. 'head'\n23. 'head'\n24. 'tail'\n25. 'head'\n26. 'head'\n27. 'head'\n28. 'head'\n29. 'head'\n30. 'head'\n31. 'head'\n32. 'head'\n33. 'tail'\n34. 'tail'\n35. 'head'\n36. 'tail'\n37. 'head'\n38. 'head'\n39. 'head'\n40. 'tail'\n41. 'head'\n42. 'head'\n43. 'head'\n44. 'head'\n45. 'head'\n46. 'head'\n47. 'head'\n48. 'head'\n49. 'head'\n50. 'head'\n51. 'head'\n52. 'head'\n53. 'head'\n54. 'head'\n55. 'head'\n56. 'head'\n57. 'head'\n58. 'head'\n59. 'head'\n60. 'head'\n61. 'head'\n62. 'head'\n63. 'head'\n64. 'tail'\n65. 'tail'\n66. 'head'\n67. 'head'\n68. 'head'\n69. 'head'\n70. 'head'\n71. 'head'\n72. 'head'\n73. 'tail'\n74. 'tail'\n75. 'head'\n76. 'head'\n77. 'head'\n78. 'head'\n79. 'head'\n80. 'head'\n81. 'head'\n82. 'tail'\n83. 'head'\n84. 'head'\n85. 'tail'\n86. 'head'\n87. 'head'\n88. 'head'\n89. 'head'\n90. 'head'\n91. 'tail'\n92. 'head'\n93. 'head'\n94. 'head'\n95. 'tail'\n96. 'head'\n97. 'head'\n98. 'head'\n99. 'head'\n100. 'head'\n\n\n",
            "text/latex": "\\begin{enumerate*}\n\\item 'head'\n\\item 'tail'\n\\item 'head'\n\\item 'head'\n\\item 'head'\n\\item 'head'\n\\item 'head'\n\\item 'head'\n\\item 'head'\n\\item 'head'\n\\item 'head'\n\\item 'head'\n\\item 'head'\n\\item 'tail'\n\\item 'head'\n\\item 'head'\n\\item 'head'\n\\item 'head'\n\\item 'tail'\n\\item 'tail'\n\\item 'head'\n\\item 'head'\n\\item 'head'\n\\item 'tail'\n\\item 'head'\n\\item 'head'\n\\item 'head'\n\\item 'head'\n\\item 'head'\n\\item 'head'\n\\item 'head'\n\\item 'head'\n\\item 'tail'\n\\item 'tail'\n\\item 'head'\n\\item 'tail'\n\\item 'head'\n\\item 'head'\n\\item 'head'\n\\item 'tail'\n\\item 'head'\n\\item 'head'\n\\item 'head'\n\\item 'head'\n\\item 'head'\n\\item 'head'\n\\item 'head'\n\\item 'head'\n\\item 'head'\n\\item 'head'\n\\item 'head'\n\\item 'head'\n\\item 'head'\n\\item 'head'\n\\item 'head'\n\\item 'head'\n\\item 'head'\n\\item 'head'\n\\item 'head'\n\\item 'head'\n\\item 'head'\n\\item 'head'\n\\item 'head'\n\\item 'tail'\n\\item 'tail'\n\\item 'head'\n\\item 'head'\n\\item 'head'\n\\item 'head'\n\\item 'head'\n\\item 'head'\n\\item 'head'\n\\item 'tail'\n\\item 'tail'\n\\item 'head'\n\\item 'head'\n\\item 'head'\n\\item 'head'\n\\item 'head'\n\\item 'head'\n\\item 'head'\n\\item 'tail'\n\\item 'head'\n\\item 'head'\n\\item 'tail'\n\\item 'head'\n\\item 'head'\n\\item 'head'\n\\item 'head'\n\\item 'head'\n\\item 'tail'\n\\item 'head'\n\\item 'head'\n\\item 'head'\n\\item 'tail'\n\\item 'head'\n\\item 'head'\n\\item 'head'\n\\item 'head'\n\\item 'head'\n\\end{enumerate*}\n",
            "text/plain": [
              "  [1] \"head\" \"tail\" \"head\" \"head\" \"head\" \"head\" \"head\" \"head\" \"head\" \"head\"\n",
              " [11] \"head\" \"head\" \"head\" \"tail\" \"head\" \"head\" \"head\" \"head\" \"tail\" \"tail\"\n",
              " [21] \"head\" \"head\" \"head\" \"tail\" \"head\" \"head\" \"head\" \"head\" \"head\" \"head\"\n",
              " [31] \"head\" \"head\" \"tail\" \"tail\" \"head\" \"tail\" \"head\" \"head\" \"head\" \"tail\"\n",
              " [41] \"head\" \"head\" \"head\" \"head\" \"head\" \"head\" \"head\" \"head\" \"head\" \"head\"\n",
              " [51] \"head\" \"head\" \"head\" \"head\" \"head\" \"head\" \"head\" \"head\" \"head\" \"head\"\n",
              " [61] \"head\" \"head\" \"head\" \"tail\" \"tail\" \"head\" \"head\" \"head\" \"head\" \"head\"\n",
              " [71] \"head\" \"head\" \"tail\" \"tail\" \"head\" \"head\" \"head\" \"head\" \"head\" \"head\"\n",
              " [81] \"head\" \"tail\" \"head\" \"head\" \"tail\" \"head\" \"head\" \"head\" \"head\" \"head\"\n",
              " [91] \"tail\" \"head\" \"head\" \"head\" \"tail\" \"head\" \"head\" \"head\" \"head\" \"head\""
            ]
          },
          "metadata": {}
        }
      ]
    },
    {
      "cell_type": "markdown",
      "source": [
        "<h2>Simulating the Independent Shooter</h2>"
      ],
      "metadata": {
        "id": "7D9pNH0SsH8L"
      }
    },
    {
      "cell_type": "code",
      "source": [
        "shot_outcomes <- c(\"H\",\"M\")\n",
        "sim_basket <- sample(shot_outcomes, size=133, replace=TRUE, prob = c(0.45,0.55))"
      ],
      "metadata": {
        "id": "F-1z4-k8TTCq"
      },
      "execution_count": null,
      "outputs": []
    },
    {
      "cell_type": "code",
      "source": [
        "print(sim_basket)"
      ],
      "metadata": {
        "colab": {
          "base_uri": "https://localhost:8080/"
        },
        "id": "fOig42R4UD4w",
        "outputId": "5aca910c-c28a-4deb-ac08-b8d12faa643a"
      },
      "execution_count": null,
      "outputs": [
        {
          "output_type": "stream",
          "name": "stdout",
          "text": [
            "  [1] \"H\" \"M\" \"M\" \"H\" \"H\" \"H\" \"M\" \"H\" \"M\" \"M\" \"M\" \"M\" \"M\" \"M\" \"M\" \"M\" \"H\" \"M\"\n",
            " [19] \"H\" \"H\" \"H\" \"M\" \"M\" \"M\" \"M\" \"M\" \"H\" \"H\" \"M\" \"H\" \"M\" \"H\" \"M\" \"H\" \"H\" \"M\"\n",
            " [37] \"H\" \"M\" \"M\" \"H\" \"M\" \"M\" \"H\" \"H\" \"H\" \"H\" \"M\" \"H\" \"M\" \"M\" \"M\" \"H\" \"H\" \"H\"\n",
            " [55] \"M\" \"M\" \"M\" \"H\" \"H\" \"M\" \"M\" \"M\" \"M\" \"H\" \"H\" \"H\" \"M\" \"M\" \"H\" \"H\" \"M\" \"H\"\n",
            " [73] \"M\" \"M\" \"M\" \"M\" \"H\" \"M\" \"M\" \"H\" \"H\" \"H\" \"H\" \"H\" \"M\" \"M\" \"M\" \"H\" \"M\" \"M\"\n",
            " [91] \"M\" \"M\" \"M\" \"H\" \"H\" \"M\" \"M\" \"H\" \"H\" \"H\" \"H\" \"M\" \"M\" \"H\" \"M\" \"M\" \"H\" \"M\"\n",
            "[109] \"H\" \"H\" \"H\" \"M\" \"H\" \"M\" \"H\" \"M\" \"M\" \"M\" \"H\" \"M\" \"H\" \"H\" \"M\" \"H\" \"H\" \"M\"\n",
            "[127] \"M\" \"M\" \"M\" \"M\" \"M\" \"M\" \"H\"\n"
          ]
        }
      ]
    },
    {
      "cell_type": "markdown",
      "source": [
        "<h4>Q2.)What change needs to be made to the sample function so that it reflects a shooting percentage of 45%? Make this adjustment, then run a simulation to sample 133 shots. Assign the output of this simulation to a new object called sim_basket.</h4>"
      ],
      "metadata": {
        "id": "2FDHtoAQsXKc"
      }
    },
    {
      "cell_type": "code",
      "source": [
        "shot_outcomes <- c(\"H\", \"M\")\n",
        "sim_basket <- sample(shot_outcomes, size = 133, replace = TRUE,\n",
        "                      prob = c(0.45, 0.55))"
      ],
      "metadata": {
        "id": "Jl24FvPKUG6j"
      },
      "execution_count": null,
      "outputs": []
    },
    {
      "cell_type": "markdown",
      "source": [
        "<h2>Comparing Kobe Bryant to the Independent Shooter</h2>"
      ],
      "metadata": {
        "id": "3NHA3INIsqL1"
      }
    },
    {
      "cell_type": "markdown",
      "source": [
        "<h4>Q3.)Using calc_streak, compute the streak lengths of sim_basket, and save the results in a data frame called sim_streak. Note that since the sim_streak object is just a vector and not a variable in a data frame, we don’t need to first select it from a data frame like we did earlier when we calculated the streak lengths for Kobe’s shots.</h4>"
      ],
      "metadata": {
        "id": "WcBJhQ7cswc0"
      }
    },
    {
      "cell_type": "code",
      "source": [
        "# type your code for the Exercise here, and Knit\n",
        "sim_streak <-calc_streak(sim_basket)"
      ],
      "metadata": {
        "id": "u6P2DeICssN4"
      },
      "execution_count": null,
      "outputs": []
    },
    {
      "cell_type": "markdown",
      "source": [
        "<h4>Q4.)Make a plot of the distribution of simulated streak lengths of the independent shooter. What is the typical streak length for this simulated independent shooter with a 45% shooting percentage? How long is the player’s longest streak of baskets in 133 shots?</h4>"
      ],
      "metadata": {
        "id": "kmInmpxFs_Bh"
      }
    },
    {
      "cell_type": "code",
      "source": [
        "ggplot(data = sim_streak, aes(x = length)) +\n",
        "  geom_histogram(binwidth = 1)"
      ],
      "metadata": {
        "colab": {
          "base_uri": "https://localhost:8080/",
          "height": 437
        },
        "id": "lysp1sQOs5j3",
        "outputId": "e43d2d61-c8bc-4a17-8fad-7b31019a1152"
      },
      "execution_count": null,
      "outputs": [
        {
          "output_type": "display_data",
          "data": {
            "text/plain": [
              "plot without title"
            ],
            "image/png": "[encoded data removed]"
          },
          "metadata": {
            "image/png": {
              "width": 420,
              "height": 420
            }
          }
        }
      ]
    },
    {
      "cell_type": "code",
      "source": [],
      "metadata": {
        "id": "1TnUJc36tG3l"
      },
      "execution_count": null,
      "outputs": []
    }
  ]
}